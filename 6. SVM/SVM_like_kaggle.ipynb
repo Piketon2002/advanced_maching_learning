{
 "cells": [
  {
   "cell_type": "code",
   "execution_count": 72,
   "id": "4fa76ad6",
   "metadata": {},
   "outputs": [],
   "source": [
    "import pandas as pd\n",
    "import numpy as np\n",
    "import matplotlib.pyplot as plt\n",
    "import seaborn as sns\n",
    "from sklearn.metrics.pairwise import cosine_similarity\n",
    "from sklearn.model_selection import train_test_split\n",
    "from sklearn.svm import SVC\n",
    "from sklearn.model_selection import GridSearchCV\n",
    "from sklearn.decomposition import PCA\n",
    "from sklearn.model_selection import StratifiedKFold, cross_val_score\n",
    "from sklearn.metrics import f1_score, make_scorer"
   ]
  },
  {
   "cell_type": "code",
   "execution_count": 34,
   "id": "18fa2bf0",
   "metadata": {},
   "outputs": [],
   "source": [
    "df_train = pd.read_csv('persons_pics_train.csv')\n",
    "X_test = pd.read_csv('persons_pics_reserved.csv')"
   ]
  },
  {
   "cell_type": "code",
   "execution_count": 35,
   "id": "a13fb5ee",
   "metadata": {},
   "outputs": [],
   "source": [
    "X_train, y_train = df_train.drop(columns=['label']), df_train['label']"
   ]
  },
  {
   "cell_type": "code",
   "execution_count": 9,
   "id": "f66e5fc2",
   "metadata": {},
   "outputs": [],
   "source": [
    "X_tr, X_te, y_tr, y_te = train_test_split(df_train.drop(columns=['label']), df_train['label'], test_size=0.2, \n",
    "                                                        random_state=0, stratify=df_train['label'])"
   ]
  },
  {
   "cell_type": "code",
   "execution_count": 11,
   "id": "c28a66ca",
   "metadata": {},
   "outputs": [
    {
     "data": {
      "text/plain": [
       "SVC(C=1000, class_weight='balanced', gamma=0.0001, random_state=0)"
      ]
     },
     "execution_count": 11,
     "metadata": {},
     "output_type": "execute_result"
    }
   ],
   "source": [
    "model = SVC(kernel='rbf', random_state=0, C=1000, gamma=0.0001, class_weight='balanced')\n",
    "model.fit(X_train, y_train)"
   ]
  },
  {
   "cell_type": "code",
   "execution_count": 13,
   "id": "90981f4c",
   "metadata": {},
   "outputs": [
    {
     "data": {
      "text/plain": [
       "array(['George W Bush', 'Ariel Sharon', 'Jacques Chirac',\n",
       "       'Jacques Chirac', 'Tony Blair', 'Colin Powell', 'Donald Rumsfeld',\n",
       "       'Colin Powell', 'Tony Blair', 'Gerhard Schroeder',\n",
       "       'Donald Rumsfeld', 'Hugo Chavez', 'George W Bush', 'Hugo Chavez',\n",
       "       'Colin Powell', 'George W Bush', 'Ariel Sharon', 'Colin Powell',\n",
       "       'John Ashcroft', 'Gerhard Schroeder', 'Ariel Sharon',\n",
       "       'George W Bush', 'Colin Powell', 'George W Bush', 'George W Bush',\n",
       "       'Donald Rumsfeld', 'Donald Rumsfeld', 'Tony Blair',\n",
       "       'Serena Williams', 'Jean Chretien', 'George W Bush',\n",
       "       'George W Bush', 'George W Bush', 'George W Bush', 'Tony Blair',\n",
       "       'Colin Powell', 'Donald Rumsfeld', 'Jacques Chirac',\n",
       "       'George W Bush', 'Gerhard Schroeder', 'Colin Powell',\n",
       "       'Donald Rumsfeld', 'Gerhard Schroeder', 'George W Bush',\n",
       "       'Tony Blair', 'George W Bush', 'George W Bush', 'Tony Blair',\n",
       "       'Colin Powell', 'Tony Blair', 'Serena Williams', 'Jean Chretien',\n",
       "       'Tony Blair', 'George W Bush', 'Colin Powell', 'George W Bush',\n",
       "       'George W Bush', 'George W Bush', 'George W Bush', 'George W Bush',\n",
       "       'Hugo Chavez', 'Gerhard Schroeder', 'Ariel Sharon',\n",
       "       'Jean Chretien', 'Tony Blair', 'Colin Powell', 'George W Bush',\n",
       "       'George W Bush', 'Hugo Chavez', 'George W Bush', 'John Ashcroft',\n",
       "       'George W Bush', 'George W Bush', 'George W Bush', 'Colin Powell',\n",
       "       'George W Bush', 'George W Bush', 'Colin Powell', 'Colin Powell',\n",
       "       'Donald Rumsfeld', 'Junichiro Koizumi', 'Donald Rumsfeld',\n",
       "       'George W Bush', 'Colin Powell', 'George W Bush',\n",
       "       'Serena Williams', 'Colin Powell', 'Jean Chretien', 'Tony Blair',\n",
       "       'Ariel Sharon', 'Ariel Sharon', 'George W Bush', 'Colin Powell',\n",
       "       'Donald Rumsfeld', 'Jacques Chirac', 'Serena Williams',\n",
       "       'Gerhard Schroeder', 'George W Bush', 'Tony Blair',\n",
       "       'George W Bush', 'Donald Rumsfeld', 'George W Bush',\n",
       "       'George W Bush', 'George W Bush', 'George W Bush', 'Jean Chretien',\n",
       "       'George W Bush', 'George W Bush', 'George W Bush', 'John Ashcroft',\n",
       "       'Serena Williams', 'John Ashcroft', 'Junichiro Koizumi',\n",
       "       'Jacques Chirac', 'George W Bush', 'George W Bush',\n",
       "       'George W Bush', 'Gerhard Schroeder', 'Tony Blair', 'Ariel Sharon',\n",
       "       'George W Bush', 'Donald Rumsfeld', 'Donald Rumsfeld',\n",
       "       'George W Bush', 'Ariel Sharon', 'Serena Williams', 'Colin Powell',\n",
       "       'Jacques Chirac', 'George W Bush', 'Junichiro Koizumi',\n",
       "       'Serena Williams', 'Colin Powell', 'George W Bush', 'Hugo Chavez',\n",
       "       'George W Bush', 'Donald Rumsfeld', 'George W Bush', 'Tony Blair',\n",
       "       'Colin Powell', 'Tony Blair', 'Gerhard Schroeder',\n",
       "       'Jacques Chirac', 'John Ashcroft', 'Gerhard Schroeder',\n",
       "       'George W Bush', 'George W Bush', 'Colin Powell', 'George W Bush',\n",
       "       'Jacques Chirac', 'Tony Blair', 'Tony Blair', 'Colin Powell',\n",
       "       'Tony Blair', 'Jean Chretien', 'Gerhard Schroeder',\n",
       "       'Gerhard Schroeder', 'Donald Rumsfeld', 'George W Bush',\n",
       "       'Jean Chretien', 'George W Bush', 'George W Bush', 'Colin Powell',\n",
       "       'George W Bush', 'George W Bush', 'Colin Powell', 'Colin Powell',\n",
       "       'George W Bush', 'Junichiro Koizumi', 'George W Bush',\n",
       "       'Ariel Sharon', 'George W Bush', 'Tony Blair', 'Donald Rumsfeld',\n",
       "       'Junichiro Koizumi', 'George W Bush', 'Tony Blair', 'Tony Blair',\n",
       "       'Ariel Sharon', 'George W Bush', 'Donald Rumsfeld',\n",
       "       'George W Bush', 'George W Bush', 'Hugo Chavez', 'Colin Powell',\n",
       "       'Gerhard Schroeder', 'Ariel Sharon', 'George W Bush',\n",
       "       'Ariel Sharon', 'Ariel Sharon', 'Donald Rumsfeld',\n",
       "       'Gerhard Schroeder', 'George W Bush', 'Tony Blair',\n",
       "       'George W Bush', 'Hugo Chavez', 'Ariel Sharon', 'Jean Chretien',\n",
       "       'Hugo Chavez', 'Ariel Sharon', 'Colin Powell', 'George W Bush',\n",
       "       'Colin Powell', 'John Ashcroft', 'George W Bush',\n",
       "       'Gerhard Schroeder', 'Donald Rumsfeld', 'John Ashcroft',\n",
       "       'George W Bush', 'Colin Powell', 'Colin Powell', 'Donald Rumsfeld',\n",
       "       'Hugo Chavez', 'George W Bush', 'Gerhard Schroeder',\n",
       "       'Colin Powell', 'George W Bush', 'Tony Blair', 'Tony Blair',\n",
       "       'George W Bush', 'Tony Blair', 'George W Bush', 'George W Bush',\n",
       "       'Tony Blair', 'George W Bush', 'George W Bush', 'George W Bush',\n",
       "       'George W Bush', 'Gerhard Schroeder', 'Colin Powell',\n",
       "       'Colin Powell', 'George W Bush', 'Colin Powell', 'Colin Powell',\n",
       "       'Donald Rumsfeld'], dtype=object)"
      ]
     },
     "execution_count": 13,
     "metadata": {},
     "output_type": "execute_result"
    }
   ],
   "source": [
    "model.predict(X_test)"
   ]
  },
  {
   "cell_type": "markdown",
   "id": "e5ede254",
   "metadata": {},
   "source": [
    "### Маленький score, fuck!"
   ]
  },
  {
   "cell_type": "code",
   "execution_count": null,
   "id": "e50f7a5d",
   "metadata": {},
   "outputs": [],
   "source": []
  },
  {
   "cell_type": "code",
   "execution_count": 36,
   "id": "6950900e",
   "metadata": {},
   "outputs": [],
   "source": [
    "# !pip install hyperopt\n",
    "from hyperopt import hp, fmin, tpe, STATUS_OK, Trials      # для оптимизации гиперпараметров\n",
    "from functools import partial "
   ]
  },
  {
   "cell_type": "code",
   "execution_count": 86,
   "id": "3b298daa",
   "metadata": {},
   "outputs": [],
   "source": [
    "# scorer = make_scorer(f1_score)\n",
    "# # Создаем свою функцию для вычисления F1-score\n",
    "# def my_f1_scoring(y_true,y_pred):\n",
    "#     return f1_score(y_true, y_pred) \n",
    "\n",
    "# my_scorer = make_scorer(my_f1_scoring, greater_is_better=True)"
   ]
  },
  {
   "cell_type": "code",
   "execution_count": 103,
   "id": "b280d163",
   "metadata": {},
   "outputs": [],
   "source": [
    "# функции для подбора гиперпараметров\n",
    "def objective(params, pipeline,  X_train, y_train):\n",
    "    \"\"\"\n",
    "    Кросс-валидация с текущими гиперпараметрами\n",
    "    :params: гиперпараметры\n",
    "    :pipeline: модель\n",
    "    :X_train: матрица признаков\n",
    "    :y_train: вектор меток объектов\n",
    "    :return: значение Loss-функции\n",
    "    \"\"\" \n",
    "\n",
    "    scores=[]  \n",
    "    for i in range(5):\n",
    "        pipeline.set_params(**params)    # задаём модели требуемые параметры\n",
    "        X_tr, X_te, y_tr, y_te = train_test_split(X_train, y_train, test_size=0.2, \n",
    "                                                            random_state=i, stratify=y_train)\n",
    "        pipeline.fit(X_tr, y_tr)\n",
    "        score = f1_score(y_te, pipeline.predict(X_te), average='weighted')\n",
    "        scores.append(score)\n",
    "    mean_score, std_score = np.mean(scores), np.std(scores)    \n",
    "\n",
    "    # возвращаем результаты, которые записываются в Trials()\n",
    "    return   {'loss': -mean_score, 'score': mean_score,'std': std_score, 'params': params, 'status': STATUS_OK}\n",
    "\n",
    "\n",
    "def get_hp_results(pipeline, pipeline_space, max_evals, obj_func=objective, X=X_train, y=y_train):\n",
    "    '''\n",
    "    Подбор оптимальных гиперпараметров с помощью hyperopt, вывод лучших 5 результатов и оптимальной комбинации гиперпараметров\n",
    "    pipeline - пайплайн модели, \n",
    "    pipeline_space - пространство гиперпараметров, \n",
    "    max_evals - число итераций подбора оптимальных гиперпараметров\n",
    "    return: оптимальные гиперпараметры, история подбора гиперпараметров\n",
    "    '''\n",
    "    trials = Trials() # сюда будет сохраняться история поиска\n",
    "    best = fmin( \n",
    "                fn=partial(obj_func, pipeline=pipeline, X_train=X, y_train=y), # функция для оптимизации \n",
    "                space=pipeline_space,   # пространство поиска гиперпараметров\n",
    "                algo=tpe.suggest, # алгоритм поиска (байесовская оптимизация)\n",
    "                max_evals=max_evals,     # число итераций\n",
    "                trials=trials,    # куда сохранять историю поиска\n",
    "                rstate=np.random.default_rng(0), # random state\n",
    "                show_progressbar=True # progressbar\n",
    "            )\n",
    "    \n",
    "    # результаты в виде датафрейма\n",
    "    results = pd.DataFrame([{**x, **x['params']} for x in  trials.results])\n",
    "    results.drop(labels=['status', 'loss'], axis=1, inplace=True)\n",
    "    results.sort_values(by=['score'], ascending=False, inplace=True)\n",
    "    display(results.head())\n",
    "    \n",
    "    #оптимальные значения гиперпараметров\n",
    "    best_params = results.iloc[0]['params'] \n",
    "#     best_params = {key.replace('model__', ''): value for key, value in best_params.items()}\n",
    "    \n",
    "    return  best_params, results"
   ]
  },
  {
   "cell_type": "code",
   "execution_count": 104,
   "id": "c03e67c8",
   "metadata": {},
   "outputs": [],
   "source": [
    "#пространство параметров модели\n",
    "param_space = {\n",
    "    'C': hp.loguniform('C', low=-2*np.log(10), high=4*np.log(10)),  \n",
    "    'kernel': hp.choice('kernel', options =['linear', 'poly', 'rbf', 'sigmoid']), \n",
    "    'gamma': hp.choice('gamma', options=[1e-1, 1e-2, 1e-3, 1e-4, 1e-5]),\n",
    "    'class_weight': hp.choice('class_weight', options=[None, 'balanced'])\n",
    "}"
   ]
  },
  {
   "cell_type": "code",
   "execution_count": 105,
   "id": "00a36be0",
   "metadata": {},
   "outputs": [
    {
     "name": "stdout",
     "output_type": "stream",
     "text": [
      "100%|███████████████████████████████████████████████| 20/20 [04:44<00:00, 14.23s/trial, best loss: -0.7968074662770281]\n"
     ]
    },
    {
     "data": {
      "text/html": [
       "<div>\n",
       "<style scoped>\n",
       "    .dataframe tbody tr th:only-of-type {\n",
       "        vertical-align: middle;\n",
       "    }\n",
       "\n",
       "    .dataframe tbody tr th {\n",
       "        vertical-align: top;\n",
       "    }\n",
       "\n",
       "    .dataframe thead th {\n",
       "        text-align: right;\n",
       "    }\n",
       "</style>\n",
       "<table border=\"1\" class=\"dataframe\">\n",
       "  <thead>\n",
       "    <tr style=\"text-align: right;\">\n",
       "      <th></th>\n",
       "      <th>score</th>\n",
       "      <th>std</th>\n",
       "      <th>params</th>\n",
       "      <th>C</th>\n",
       "      <th>class_weight</th>\n",
       "      <th>gamma</th>\n",
       "      <th>kernel</th>\n",
       "    </tr>\n",
       "  </thead>\n",
       "  <tbody>\n",
       "    <tr>\n",
       "      <th>19</th>\n",
       "      <td>0.796807</td>\n",
       "      <td>0.029439</td>\n",
       "      <td>{'C': 703.9355487403767, 'class_weight': None,...</td>\n",
       "      <td>703.935549</td>\n",
       "      <td>None</td>\n",
       "      <td>0.00100</td>\n",
       "      <td>linear</td>\n",
       "    </tr>\n",
       "    <tr>\n",
       "      <th>3</th>\n",
       "      <td>0.796807</td>\n",
       "      <td>0.029439</td>\n",
       "      <td>{'C': 2390.6049172910034, 'class_weight': None...</td>\n",
       "      <td>2390.604917</td>\n",
       "      <td>None</td>\n",
       "      <td>0.00001</td>\n",
       "      <td>linear</td>\n",
       "    </tr>\n",
       "    <tr>\n",
       "      <th>4</th>\n",
       "      <td>0.796807</td>\n",
       "      <td>0.029439</td>\n",
       "      <td>{'C': 1.7652539117873987, 'class_weight': 'bal...</td>\n",
       "      <td>1.765254</td>\n",
       "      <td>balanced</td>\n",
       "      <td>0.00100</td>\n",
       "      <td>linear</td>\n",
       "    </tr>\n",
       "    <tr>\n",
       "      <th>8</th>\n",
       "      <td>0.796807</td>\n",
       "      <td>0.029439</td>\n",
       "      <td>{'C': 1464.2191293386638, 'class_weight': 'bal...</td>\n",
       "      <td>1464.219129</td>\n",
       "      <td>balanced</td>\n",
       "      <td>0.00100</td>\n",
       "      <td>linear</td>\n",
       "    </tr>\n",
       "    <tr>\n",
       "      <th>11</th>\n",
       "      <td>0.782743</td>\n",
       "      <td>0.019610</td>\n",
       "      <td>{'C': 113.4868517733314, 'class_weight': 'bala...</td>\n",
       "      <td>113.486852</td>\n",
       "      <td>balanced</td>\n",
       "      <td>0.00100</td>\n",
       "      <td>poly</td>\n",
       "    </tr>\n",
       "  </tbody>\n",
       "</table>\n",
       "</div>"
      ],
      "text/plain": [
       "       score       std                                             params  \\\n",
       "19  0.796807  0.029439  {'C': 703.9355487403767, 'class_weight': None,...   \n",
       "3   0.796807  0.029439  {'C': 2390.6049172910034, 'class_weight': None...   \n",
       "4   0.796807  0.029439  {'C': 1.7652539117873987, 'class_weight': 'bal...   \n",
       "8   0.796807  0.029439  {'C': 1464.2191293386638, 'class_weight': 'bal...   \n",
       "11  0.782743  0.019610  {'C': 113.4868517733314, 'class_weight': 'bala...   \n",
       "\n",
       "              C class_weight    gamma  kernel  \n",
       "19   703.935549         None  0.00100  linear  \n",
       "3   2390.604917         None  0.00001  linear  \n",
       "4      1.765254     balanced  0.00100  linear  \n",
       "8   1464.219129     balanced  0.00100  linear  \n",
       "11   113.486852     balanced  0.00100    poly  "
      ]
     },
     "metadata": {},
     "output_type": "display_data"
    }
   ],
   "source": [
    "model = SVC(random_state=0)\n",
    "best_params, history = get_hp_results(model, param_space, max_evals=20)"
   ]
  },
  {
   "cell_type": "code",
   "execution_count": 96,
   "id": "3a78e1d9",
   "metadata": {},
   "outputs": [],
   "source": [
    "# objective({'C':1000, 'class_weight':'balanced', 'gamma':0.0001}, model,  X_train, y_train)"
   ]
  },
  {
   "cell_type": "code",
   "execution_count": 106,
   "id": "dfdfdd0a",
   "metadata": {},
   "outputs": [],
   "source": [
    "best_model = SVC(random_state=0, **best_params)"
   ]
  },
  {
   "cell_type": "code",
   "execution_count": 107,
   "id": "b62442c8",
   "metadata": {},
   "outputs": [
    {
     "data": {
      "text/plain": [
       "SVC(C=703.9355487403767, gamma=0.001, kernel='linear', random_state=0)"
      ]
     },
     "execution_count": 107,
     "metadata": {},
     "output_type": "execute_result"
    }
   ],
   "source": [
    "best_model.fit(X_train, y_train)"
   ]
  },
  {
   "cell_type": "code",
   "execution_count": 108,
   "id": "2cecaac8",
   "metadata": {},
   "outputs": [
    {
     "data": {
      "text/plain": [
       "array(['George W Bush', 'Ariel Sharon', 'Jacques Chirac',\n",
       "       'Jacques Chirac', 'Tony Blair', 'Colin Powell', 'Donald Rumsfeld',\n",
       "       'Colin Powell', 'Tony Blair', 'George W Bush', 'Donald Rumsfeld',\n",
       "       'Hugo Chavez', 'George W Bush', 'Hugo Chavez', 'Colin Powell',\n",
       "       'George W Bush', 'Ariel Sharon', 'Colin Powell', 'John Ashcroft',\n",
       "       'Gerhard Schroeder', 'Ariel Sharon', 'George W Bush',\n",
       "       'Colin Powell', 'George W Bush', 'George W Bush',\n",
       "       'Donald Rumsfeld', 'Donald Rumsfeld', 'Tony Blair',\n",
       "       'Serena Williams', 'Jean Chretien', 'George W Bush',\n",
       "       'George W Bush', 'George W Bush', 'George W Bush', 'George W Bush',\n",
       "       'Colin Powell', 'Donald Rumsfeld', 'Jacques Chirac',\n",
       "       'George W Bush', 'Gerhard Schroeder', 'Colin Powell',\n",
       "       'Donald Rumsfeld', 'Gerhard Schroeder', 'George W Bush',\n",
       "       'Tony Blair', 'George W Bush', 'George W Bush', 'Tony Blair',\n",
       "       'Colin Powell', 'Tony Blair', 'Serena Williams', 'Jean Chretien',\n",
       "       'Tony Blair', 'George W Bush', 'Colin Powell', 'George W Bush',\n",
       "       'George W Bush', 'George W Bush', 'George W Bush', 'George W Bush',\n",
       "       'Hugo Chavez', 'Gerhard Schroeder', 'Ariel Sharon',\n",
       "       'Jean Chretien', 'Tony Blair', 'Ariel Sharon', 'George W Bush',\n",
       "       'George W Bush', 'Hugo Chavez', 'George W Bush', 'John Ashcroft',\n",
       "       'Gerhard Schroeder', 'George W Bush', 'George W Bush',\n",
       "       'Colin Powell', 'George W Bush', 'George W Bush', 'Colin Powell',\n",
       "       'Colin Powell', 'Donald Rumsfeld', 'Junichiro Koizumi',\n",
       "       'Donald Rumsfeld', 'George W Bush', 'Donald Rumsfeld',\n",
       "       'George W Bush', 'Serena Williams', 'Colin Powell',\n",
       "       'Jean Chretien', 'Tony Blair', 'Ariel Sharon', 'Ariel Sharon',\n",
       "       'George W Bush', 'Colin Powell', 'Donald Rumsfeld',\n",
       "       'Jacques Chirac', 'Serena Williams', 'George W Bush',\n",
       "       'George W Bush', 'Tony Blair', 'George W Bush', 'Donald Rumsfeld',\n",
       "       'George W Bush', 'George W Bush', 'George W Bush', 'George W Bush',\n",
       "       'Jean Chretien', 'George W Bush', 'George W Bush', 'George W Bush',\n",
       "       'John Ashcroft', 'Serena Williams', 'John Ashcroft',\n",
       "       'Junichiro Koizumi', 'Jacques Chirac', 'George W Bush',\n",
       "       'John Ashcroft', 'Donald Rumsfeld', 'Gerhard Schroeder',\n",
       "       'Tony Blair', 'Ariel Sharon', 'George W Bush', 'Donald Rumsfeld',\n",
       "       'Donald Rumsfeld', 'George W Bush', 'George W Bush',\n",
       "       'Serena Williams', 'Colin Powell', 'Jacques Chirac',\n",
       "       'George W Bush', 'Junichiro Koizumi', 'Serena Williams',\n",
       "       'Colin Powell', 'George W Bush', 'Hugo Chavez', 'George W Bush',\n",
       "       'Donald Rumsfeld', 'George W Bush', 'Tony Blair', 'Colin Powell',\n",
       "       'Tony Blair', 'Gerhard Schroeder', 'Jacques Chirac',\n",
       "       'John Ashcroft', 'Gerhard Schroeder', 'George W Bush',\n",
       "       'George W Bush', 'Colin Powell', 'George W Bush', 'Jacques Chirac',\n",
       "       'George W Bush', 'Tony Blair', 'Colin Powell', 'Tony Blair',\n",
       "       'Jean Chretien', 'Gerhard Schroeder', 'Gerhard Schroeder',\n",
       "       'George W Bush', 'George W Bush', 'Jean Chretien', 'George W Bush',\n",
       "       'George W Bush', 'Colin Powell', 'George W Bush', 'George W Bush',\n",
       "       'Colin Powell', 'George W Bush', 'George W Bush',\n",
       "       'Junichiro Koizumi', 'George W Bush', 'Ariel Sharon',\n",
       "       'George W Bush', 'Tony Blair', 'Donald Rumsfeld',\n",
       "       'Junichiro Koizumi', 'George W Bush', 'Tony Blair', 'Tony Blair',\n",
       "       'Ariel Sharon', 'George W Bush', 'Donald Rumsfeld',\n",
       "       'George W Bush', 'George W Bush', 'Hugo Chavez', 'Colin Powell',\n",
       "       'Gerhard Schroeder', 'Ariel Sharon', 'George W Bush',\n",
       "       'Ariel Sharon', 'Ariel Sharon', 'Donald Rumsfeld',\n",
       "       'Gerhard Schroeder', 'George W Bush', 'Tony Blair',\n",
       "       'George W Bush', 'Hugo Chavez', 'Ariel Sharon', 'Jean Chretien',\n",
       "       'Hugo Chavez', 'Ariel Sharon', 'Colin Powell', 'George W Bush',\n",
       "       'Colin Powell', 'John Ashcroft', 'George W Bush',\n",
       "       'Gerhard Schroeder', 'George W Bush', 'John Ashcroft',\n",
       "       'George W Bush', 'Colin Powell', 'Colin Powell', 'Donald Rumsfeld',\n",
       "       'Hugo Chavez', 'George W Bush', 'John Ashcroft', 'Colin Powell',\n",
       "       'George W Bush', 'Tony Blair', 'Tony Blair', 'George W Bush',\n",
       "       'Tony Blair', 'George W Bush', 'George W Bush', 'George W Bush',\n",
       "       'George W Bush', 'George W Bush', 'George W Bush', 'George W Bush',\n",
       "       'Gerhard Schroeder', 'Colin Powell', 'Colin Powell',\n",
       "       'George W Bush', 'Colin Powell', 'Colin Powell', 'Donald Rumsfeld'],\n",
       "      dtype=object)"
      ]
     },
     "execution_count": 108,
     "metadata": {},
     "output_type": "execute_result"
    }
   ],
   "source": [
    "best_model.predict(X_test)"
   ]
  },
  {
   "cell_type": "code",
   "execution_count": null,
   "id": "43e70a08",
   "metadata": {},
   "outputs": [],
   "source": []
  }
 ],
 "metadata": {
  "kernelspec": {
   "display_name": "Python 3 (ipykernel)",
   "language": "python",
   "name": "python3"
  },
  "language_info": {
   "codemirror_mode": {
    "name": "ipython",
    "version": 3
   },
   "file_extension": ".py",
   "mimetype": "text/x-python",
   "name": "python",
   "nbconvert_exporter": "python",
   "pygments_lexer": "ipython3",
   "version": "3.9.12"
  },
  "varInspector": {
   "cols": {
    "lenName": 16,
    "lenType": 16,
    "lenVar": 40
   },
   "kernels_config": {
    "python": {
     "delete_cmd_postfix": "",
     "delete_cmd_prefix": "del ",
     "library": "var_list.py",
     "varRefreshCmd": "print(var_dic_list())"
    },
    "r": {
     "delete_cmd_postfix": ") ",
     "delete_cmd_prefix": "rm(",
     "library": "var_list.r",
     "varRefreshCmd": "cat(var_dic_list()) "
    }
   },
   "types_to_exclude": [
    "module",
    "function",
    "builtin_function_or_method",
    "instance",
    "_Feature"
   ],
   "window_display": false
  }
 },
 "nbformat": 4,
 "nbformat_minor": 5
}
