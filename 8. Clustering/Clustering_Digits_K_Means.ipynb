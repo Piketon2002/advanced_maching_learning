{
 "cells": [
  {
   "cell_type": "markdown",
   "metadata": {
    "id": "XoqPdVWuG9_S",
    "pycharm": {
     "name": "#%% md\n"
    }
   },
   "source": [
    "# Кластеризация методом `K-means` для выделения групп объектов"
   ]
  },
  {
   "cell_type": "markdown",
   "metadata": {
    "id": "JVTmols9HK5n",
    "pycharm": {
     "name": "#%% md\n"
    }
   },
   "source": [
    "В этой задаче будет рассмотрен метод кластеризации <code>K-means</code> для решения непосредственно задачи кластеризации — задачи выделения схожих структур в данных. Работать будем с известным набором данных <a href=\"http://yann.lecun.com/exdb/mnist/\"><code>MNIST</code></a>."
   ]
  },
  {
   "cell_type": "markdown",
   "metadata": {
    "id": "atO9HzAJHWgk",
    "pycharm": {
     "name": "#%% md\n"
    }
   },
   "source": [
    "Загрузим набор данных. Будем использовать только тестовую часть оригинального набора, чтобы сократить время обучения моделей."
   ]
  },
  {
   "cell_type": "code",
   "execution_count": 21,
   "metadata": {
    "executionInfo": {
     "elapsed": 6,
     "status": "ok",
     "timestamp": 1698523619265,
     "user": {
      "displayName": "Степан Покатов",
      "userId": "03516253895235195084"
     },
     "user_tz": -180
    },
    "id": "WVMSKjRi2du8"
   },
   "outputs": [],
   "source": [
    "from sklearn.model_selection import train_test_split\n",
    "from sklearn.cluster import KMeans\n",
    "import numpy as np\n",
    "from keras.datasets import mnist\n",
    "from sklearn.metrics import accuracy_score\n",
    "from sklearn.manifold import TSNE\n",
    "import warnings\n",
    "warnings.filterwarnings(\"ignore\")"
   ]
  },
  {
   "cell_type": "code",
   "execution_count": 2,
   "metadata": {
    "colab": {
     "base_uri": "https://localhost:8080/"
    },
    "executionInfo": {
     "elapsed": 1541,
     "status": "ok",
     "timestamp": 1698522871143,
     "user": {
      "displayName": "Степан Покатов",
      "userId": "03516253895235195084"
     },
     "user_tz": -180
    },
    "id": "3nDPHfj1zEMO",
    "outputId": "c9384729-bc4b-45ad-ac04-c2f8666e6351",
    "pycharm": {
     "name": "#%%\n"
    }
   },
   "outputs": [
    {
     "name": "stdout",
     "output_type": "stream",
     "text": [
      "Downloading data from https://storage.googleapis.com/tensorflow/tf-keras-datasets/mnist.npz\n",
      "11490434/11490434 [==============================] - 0s 0us/step\n"
     ]
    }
   ],
   "source": [
    "(_,_), (X, y) = mnist.load_data()"
   ]
  },
  {
   "cell_type": "markdown",
   "metadata": {
    "id": "CDBVilVoHaqp",
    "pycharm": {
     "name": "#%% md\n"
    }
   },
   "source": [
    "Пример вывода нескольких объектов и соответствующих меток классов:"
   ]
  },
  {
   "cell_type": "code",
   "execution_count": 3,
   "metadata": {
    "colab": {
     "base_uri": "https://localhost:8080/",
     "height": 402
    },
    "executionInfo": {
     "elapsed": 1854,
     "status": "ok",
     "timestamp": 1698522873798,
     "user": {
      "displayName": "Степан Покатов",
      "userId": "03516253895235195084"
     },
     "user_tz": -180
    },
    "id": "QMk1_le8zhWm",
    "outputId": "d3f8329e-8a12-491b-cc46-57b33eaf2d67",
    "pycharm": {
     "name": "#%%\n"
    }
   },
   "outputs": [
    {
     "data": {
      "image/png": "[encoded data removed]",
      "text/plain": [
       "<Figure size 640x480 with 15 Axes>"
      ]
     },
     "metadata": {},
     "output_type": "display_data"
    }
   ],
   "source": [
    "import matplotlib.pyplot as plt\n",
    "\n",
    "fig, ax = plt.subplots(3, 5)\n",
    "for i, axi in enumerate(ax.flat):\n",
    "    axi.imshow(X[i], cmap='gray')\n",
    "    axi.set(xticks=[], yticks=[])\n",
    "    axi.set_xlabel(y[i],\n",
    "                   color='black')"
   ]
  },
  {
   "cell_type": "markdown",
   "metadata": {
    "id": "rD01npDAFYhQ"
   },
   "source": [
    "Введите <code>.shape</code> полученного набора данных"
   ]
  },
  {
   "cell_type": "code",
   "execution_count": 4,
   "metadata": {
    "colab": {
     "base_uri": "https://localhost:8080/"
    },
    "executionInfo": {
     "elapsed": 9,
     "status": "ok",
     "timestamp": 1698522877377,
     "user": {
      "displayName": "Степан Покатов",
      "userId": "03516253895235195084"
     },
     "user_tz": -180
    },
    "id": "8p4JfdQBzI_g",
    "outputId": "69ecbf5f-1aa2-4e7a-9120-8f66158a337a",
    "pycharm": {
     "name": "#%%\n"
    }
   },
   "outputs": [
    {
     "data": {
      "text/plain": [
       "(10000, 28, 28)"
      ]
     },
     "execution_count": 4,
     "metadata": {},
     "output_type": "execute_result"
    }
   ],
   "source": [
    "X.shape"
   ]
  },
  {
   "cell_type": "markdown",
   "metadata": {
    "id": "ByQl8PYcJ2Pt"
   },
   "source": [
    "При помощи <code>train_test_split</code> разобейте полученный набор данных на тренеровочную и тестовую выборки с параметрами, указанными в вашем варианте."
   ]
  },
  {
   "cell_type": "code",
   "execution_count": 5,
   "metadata": {
    "executionInfo": {
     "elapsed": 3,
     "status": "ok",
     "timestamp": 1698522878076,
     "user": {
      "displayName": "Степан Покатов",
      "userId": "03516253895235195084"
     },
     "user_tz": -180
    },
    "id": "tdmPQt7CFoDo"
   },
   "outputs": [],
   "source": [
    "# Разбиение на обучающую и тестовую выборки\n",
    "X_train, X_test, y_train, y_test = train_test_split(X, y, test_size=0.2, random_state=33)"
   ]
  },
  {
   "cell_type": "markdown",
   "metadata": {
    "id": "A-7gaAPhH04R",
    "pycharm": {
     "name": "#%% md\n"
    }
   },
   "source": [
    "Давайте, раз речь идет об известном наборе данных, заставим <code>K-means</code> искать $10$ групп объектов.\n",
    "\n",
    "«Распрямите» изображения и обучите алгоритм <a href=\"https://scikit-learn.org/stable/modules/generated/sklearn.cluster.KMeans.html\"><code>KMeans</code></a> с параметрами, указанными в вашем задании."
   ]
  },
  {
   "cell_type": "code",
   "execution_count": 7,
   "metadata": {
    "colab": {
     "base_uri": "https://localhost:8080/",
     "height": 74
    },
    "executionInfo": {
     "elapsed": 27096,
     "status": "ok",
     "timestamp": 1698522990103,
     "user": {
      "displayName": "Степан Покатов",
      "userId": "03516253895235195084"
     },
     "user_tz": -180
    },
    "id": "XjyduSPmH_5K",
    "outputId": "2c854045-92c6-4b48-a47d-ad4d4f75cbff",
    "pycharm": {
     "name": "#%%\n"
    },
    "scrolled": false
   },
   "outputs": [
    {
     "data": {
      "text/html": [
       "<style>#sk-container-id-1 {color: black;background-color: white;}#sk-container-id-1 pre{padding: 0;}#sk-container-id-1 div.sk-toggleable {background-color: white;}#sk-container-id-1 label.sk-toggleable__label {cursor: pointer;display: block;width: 100%;margin-bottom: 0;padding: 0.3em;box-sizing: border-box;text-align: center;}#sk-container-id-1 label.sk-toggleable__label-arrow:before {content: \"▸\";float: left;margin-right: 0.25em;color: #696969;}#sk-container-id-1 label.sk-toggleable__label-arrow:hover:before {color: black;}#sk-container-id-1 div.sk-estimator:hover label.sk-toggleable__label-arrow:before {color: black;}#sk-container-id-1 div.sk-toggleable__content {max-height: 0;max-width: 0;overflow: hidden;text-align: left;background-color: #f0f8ff;}#sk-container-id-1 div.sk-toggleable__content pre {margin: 0.2em;color: black;border-radius: 0.25em;background-color: #f0f8ff;}#sk-container-id-1 input.sk-toggleable__control:checked~div.sk-toggleable__content {max-height: 200px;max-width: 100%;overflow: auto;}#sk-container-id-1 input.sk-toggleable__control:checked~label.sk-toggleable__label-arrow:before {content: \"▾\";}#sk-container-id-1 div.sk-estimator input.sk-toggleable__control:checked~label.sk-toggleable__label {background-color: #d4ebff;}#sk-container-id-1 div.sk-label input.sk-toggleable__control:checked~label.sk-toggleable__label {background-color: #d4ebff;}#sk-container-id-1 input.sk-hidden--visually {border: 0;clip: rect(1px 1px 1px 1px);clip: rect(1px, 1px, 1px, 1px);height: 1px;margin: -1px;overflow: hidden;padding: 0;position: absolute;width: 1px;}#sk-container-id-1 div.sk-estimator {font-family: monospace;background-color: #f0f8ff;border: 1px dotted black;border-radius: 0.25em;box-sizing: border-box;margin-bottom: 0.5em;}#sk-container-id-1 div.sk-estimator:hover {background-color: #d4ebff;}#sk-container-id-1 div.sk-parallel-item::after {content: \"\";width: 100%;border-bottom: 1px solid gray;flex-grow: 1;}#sk-container-id-1 div.sk-label:hover label.sk-toggleable__label {background-color: #d4ebff;}#sk-container-id-1 div.sk-serial::before {content: \"\";position: absolute;border-left: 1px solid gray;box-sizing: border-box;top: 0;bottom: 0;left: 50%;z-index: 0;}#sk-container-id-1 div.sk-serial {display: flex;flex-direction: column;align-items: center;background-color: white;padding-right: 0.2em;padding-left: 0.2em;position: relative;}#sk-container-id-1 div.sk-item {position: relative;z-index: 1;}#sk-container-id-1 div.sk-parallel {display: flex;align-items: stretch;justify-content: center;background-color: white;position: relative;}#sk-container-id-1 div.sk-item::before, #sk-container-id-1 div.sk-parallel-item::before {content: \"\";position: absolute;border-left: 1px solid gray;box-sizing: border-box;top: 0;bottom: 0;left: 50%;z-index: -1;}#sk-container-id-1 div.sk-parallel-item {display: flex;flex-direction: column;z-index: 1;position: relative;background-color: white;}#sk-container-id-1 div.sk-parallel-item:first-child::after {align-self: flex-end;width: 50%;}#sk-container-id-1 div.sk-parallel-item:last-child::after {align-self: flex-start;width: 50%;}#sk-container-id-1 div.sk-parallel-item:only-child::after {width: 0;}#sk-container-id-1 div.sk-dashed-wrapped {border: 1px dashed gray;margin: 0 0.4em 0.5em 0.4em;box-sizing: border-box;padding-bottom: 0.4em;background-color: white;}#sk-container-id-1 div.sk-label label {font-family: monospace;font-weight: bold;display: inline-block;line-height: 1.2em;}#sk-container-id-1 div.sk-label-container {text-align: center;}#sk-container-id-1 div.sk-container {/* jupyter's `normalize.less` sets `[hidden] { display: none; }` but bootstrap.min.css set `[hidden] { display: none !important; }` so we also need the `!important` here to be able to override the default hidden behavior on the sphinx rendered scikit-learn.org. See: https://github.com/scikit-learn/scikit-learn/issues/21755 */display: inline-block !important;position: relative;}#sk-container-id-1 div.sk-text-repr-fallback {display: none;}</style><div id=\"sk-container-id-1\" class=\"sk-top-container\"><div class=\"sk-text-repr-fallback\"><pre>KMeans(n_clusters=10, random_state=33)</pre><b>In a Jupyter environment, please rerun this cell to show the HTML representation or trust the notebook. <br />On GitHub, the HTML representation is unable to render, please try loading this page with nbviewer.org.</b></div><div class=\"sk-container\" hidden><div class=\"sk-item\"><div class=\"sk-estimator sk-toggleable\"><input class=\"sk-toggleable__control sk-hidden--visually\" id=\"sk-estimator-id-1\" type=\"checkbox\" checked><label for=\"sk-estimator-id-1\" class=\"sk-toggleable__label sk-toggleable__label-arrow\">KMeans</label><div class=\"sk-toggleable__content\"><pre>KMeans(n_clusters=10, random_state=33)</pre></div></div></div></div></div>"
      ],
      "text/plain": [
       "KMeans(n_clusters=10, random_state=33)"
      ]
     },
     "execution_count": 7,
     "metadata": {},
     "output_type": "execute_result"
    }
   ],
   "source": [
    "# Преобразование изображений в одномерные массивы\n",
    "X_train_flat = X_train.reshape(X_train.shape[0], -1)\n",
    "X_test_flat = X_test.reshape(X_test.shape[0], -1)\n",
    "\n",
    "# Обучение модели KMeans\n",
    "model = KMeans(n_clusters=10, random_state=33)\n",
    "model.fit(X_train_flat)"
   ]
  },
  {
   "cell_type": "markdown",
   "metadata": {
    "id": "HQXrTo0H0ky0"
   },
   "source": [
    "Определите чило элементов, отнесенных к кластеру, указанному в вашем задании"
   ]
  },
  {
   "cell_type": "code",
   "execution_count": 8,
   "metadata": {
    "colab": {
     "base_uri": "https://localhost:8080/"
    },
    "executionInfo": {
     "elapsed": 289,
     "status": "ok",
     "timestamp": 1698522993603,
     "user": {
      "displayName": "Степан Покатов",
      "userId": "03516253895235195084"
     },
     "user_tz": -180
    },
    "id": "wv84etHwxrFY",
    "outputId": "5fc7429c-0689-460f-9ca6-7032fa2fc3da"
   },
   "outputs": [
    {
     "name": "stdout",
     "output_type": "stream",
     "text": [
      "Число элементов в кластере 5: 660\n"
     ]
    }
   ],
   "source": [
    "# Получение меток кластеров для обучающей выборки\n",
    "cluster_labels = model.labels_\n",
    "\n",
    "# Определение числа элементов, отнесенных к кластеру с меткой 5\n",
    "count_cluster_5 = np.sum(cluster_labels == 5)\n",
    "print(\"Число элементов в кластере 5:\", count_cluster_5)"
   ]
  },
  {
   "cell_type": "markdown",
   "metadata": {
    "id": "z3KJMvB6JFGM",
    "pycharm": {
     "name": "#%% md\n"
    }
   },
   "source": [
    "Постройте изображения, соответствующие центроидам полученных кластеров. Для этого `reshape`ните координаты центроидов до размера $28 \\times 28$ и постройте полученную матрицу, например, в черно-белых оттенках.\n",
    "\n"
   ]
  },
  {
   "cell_type": "code",
   "execution_count": 9,
   "metadata": {
    "colab": {
     "base_uri": "https://localhost:8080/",
     "height": 334
    },
    "executionInfo": {
     "elapsed": 1217,
     "status": "ok",
     "timestamp": 1698523003277,
     "user": {
      "displayName": "Степан Покатов",
      "userId": "03516253895235195084"
     },
     "user_tz": -180
    },
    "id": "9zeRnmdYI60h",
    "outputId": "c91f5ed0-0e02-442d-eb0d-0f861c9b0f88",
    "pycharm": {
     "name": "#%%\n"
    }
   },
   "outputs": [
    {
     "data": {
      "image/png": "[encoded data removed]",
      "text/plain": [
       "<Figure size 800x400 with 10 Axes>"
      ]
     },
     "metadata": {},
     "output_type": "display_data"
    }
   ],
   "source": [
    "# Получение координат центроидов\n",
    "centroids = model.cluster_centers_\n",
    "\n",
    "# Преобразование координат центроидов обратно в размер 28x28\n",
    "centroids_images = centroids.reshape(10, 28, 28)\n",
    "\n",
    "# Построение изображений центроидов\n",
    "plt.figure(figsize=(8, 4))\n",
    "for i in range(10):\n",
    "    plt.subplot(2, 5, i + 1)\n",
    "    plt.imshow(centroids_images[i], cmap='gray')\n",
    "    plt.title(f'Кластер {i}')\n",
    "    plt.axis('off')\n",
    "\n",
    "plt.show()"
   ]
  },
  {
   "cell_type": "markdown",
   "metadata": {
    "id": "HVnIT8vrJl_-",
    "pycharm": {
     "name": "#%% md\n"
    }
   },
   "source": [
    "Можно заметить, что получившиеся картинки весьма походят на рукописные цифры. Впрочем, кластеризация прошла не без накладок. Предположите, какие цифры могут быть перепутаны и каких не хватает."
   ]
  },
  {
   "cell_type": "markdown",
   "metadata": {
    "id": "zeJdDdcBHJJA",
    "pycharm": {
     "name": "#%% md\n"
    }
   },
   "source": [
    "Так как получившиеся кластеры ничего не знают о природе кластеризумых объектов, метки кластеров могут отличаться от «разумных меток». Восстановите правильные метки, используя следующие соображения: кластеру присваивается метка тех цифр, представителей которых в кластере большинство. Действительно ли это помогло восстановить справедливость?"
   ]
  },
  {
   "cell_type": "markdown",
   "metadata": {
    "id": "llsMxk7gQdp3"
   },
   "source": [
    "Введите полученные метки кластеров после преобразования и сравните с ранее построенными изображениями на основе центроидов. Подтверждаются ли ваши догадки фактами?"
   ]
  },
  {
   "cell_type": "code",
   "execution_count": 10,
   "metadata": {
    "colab": {
     "base_uri": "https://localhost:8080/"
    },
    "executionInfo": {
     "elapsed": 334,
     "status": "ok",
     "timestamp": 1698523006922,
     "user": {
      "displayName": "Степан Покатов",
      "userId": "03516253895235195084"
     },
     "user_tz": -180
    },
    "id": "f8jqdsEVJmWT",
    "outputId": "bb213053-6a72-48a1-9fa0-936373d1b8de",
    "pycharm": {
     "name": "#%%\n"
    }
   },
   "outputs": [
    {
     "name": "stdout",
     "output_type": "stream",
     "text": [
      "Метки кластеров после коррекции: [7 0 9 ... 1 3 6]\n"
     ]
    }
   ],
   "source": [
    "# Создадим словарь для отображения меток кластеров на предполагаемые метки цифр\n",
    "cluster_to_digit = {}\n",
    "\n",
    "# Определим предполагаемые метки для каждого кластера\n",
    "for cluster in range(10):\n",
    "    cluster_indices = np.where(cluster_labels == cluster)[0]  # Индексы объектов в кластере\n",
    "    cluster_digit_counts = np.bincount(y_train[cluster_indices])  # Подсчет количества каждой цифры в кластере\n",
    "    most_common_digit = np.argmax(cluster_digit_counts)  # Наиболее часто встречающаяся цифра в кластере\n",
    "    cluster_to_digit[cluster] = most_common_digit\n",
    "\n",
    "# Присвоим правильные метки кластерам\n",
    "corrected_cluster_labels = np.array([cluster_to_digit[cluster] for cluster in cluster_labels])\n",
    "\n",
    "# Выведем метки кластеров после преобразования\n",
    "print(\"Метки кластеров после коррекции:\", corrected_cluster_labels)"
   ]
  },
  {
   "cell_type": "code",
   "execution_count": 11,
   "metadata": {
    "colab": {
     "base_uri": "https://localhost:8080/",
     "height": 334
    },
    "executionInfo": {
     "elapsed": 925,
     "status": "ok",
     "timestamp": 1698523010799,
     "user": {
      "displayName": "Степан Покатов",
      "userId": "03516253895235195084"
     },
     "user_tz": -180
    },
    "id": "6Ix4O4QU2dvO",
    "outputId": "19b4509a-b104-4677-ec3c-30f5408e2883"
   },
   "outputs": [
    {
     "data": {
      "image/png": "[encoded data removed]",
      "text/plain": [
       "<Figure size 800x400 with 10 Axes>"
      ]
     },
     "metadata": {},
     "output_type": "display_data"
    }
   ],
   "source": [
    "# Построим изображения на основе центроидов с правильными метками\n",
    "plt.figure(figsize=(8, 4))\n",
    "for i in range(10):\n",
    "    plt.subplot(2, 5, i + 1)\n",
    "    plt.imshow(centroids_images[i], cmap='gray')\n",
    "    plt.title(f'Метка {cluster_to_digit[i]}')\n",
    "    plt.axis('off')\n",
    "\n",
    "plt.show()"
   ]
  },
  {
   "cell_type": "markdown",
   "metadata": {
    "id": "bsnkLXGCGCWm",
    "pycharm": {
     "name": "#%% md\n"
    }
   },
   "source": [
    "Разумно оценить что-то вроде точности. Считая, что все объекты кластера имеют ту же метку, что и сам кластер, сравните эти метки с истинными метками. Вычислите <code>accuracy</code>. Рекомендуем использовать функцию <a href=\"https://scikit-learn.org/stable/modules/generated/sklearn.metrics.accuracy_score.html\"><code>accuracy_score</code></a> из библиотеки <code>sklearn</code>."
   ]
  },
  {
   "cell_type": "code",
   "execution_count": 12,
   "metadata": {
    "colab": {
     "base_uri": "https://localhost:8080/"
    },
    "executionInfo": {
     "elapsed": 315,
     "status": "ok",
     "timestamp": 1698523014126,
     "user": {
      "displayName": "Степан Покатов",
      "userId": "03516253895235195084"
     },
     "user_tz": -180
    },
    "id": "ELEokXCCHyNl",
    "outputId": "a33cae18-0778-44f4-cf6f-10d93b3d8198",
    "pycharm": {
     "name": "#%%\n"
    }
   },
   "outputs": [
    {
     "name": "stdout",
     "output_type": "stream",
     "text": [
      "Accuracy после коррекции меток кластеров: 0.591375\n"
     ]
    }
   ],
   "source": [
    "# Вычисление accuracy\n",
    "accuracy = accuracy_score(y_train, corrected_cluster_labels)\n",
    "\n",
    "print(\"Accuracy после коррекции меток кластеров:\", accuracy)"
   ]
  },
  {
   "cell_type": "markdown",
   "metadata": {
    "id": "NMz4X1-1IZQa",
    "pycharm": {
     "name": "#%% md\n"
    }
   },
   "source": [
    "При помощи метода <code>.predict()</code> произведите кластеризацию тестовых данных. Переименуйте метки предсказанных кластеров на основе полученного для тренировочного набора данных преобразования."
   ]
  },
  {
   "cell_type": "code",
   "execution_count": 13,
   "metadata": {
    "colab": {
     "base_uri": "https://localhost:8080/"
    },
    "executionInfo": {
     "elapsed": 318,
     "status": "ok",
     "timestamp": 1698523044196,
     "user": {
      "displayName": "Степан Покатов",
      "userId": "03516253895235195084"
     },
     "user_tz": -180
    },
    "id": "UMsUWzd62dvP",
    "outputId": "ee1e3f8d-47c9-4fc3-9599-74b5082d95e5"
   },
   "outputs": [
    {
     "name": "stdout",
     "output_type": "stream",
     "text": [
      "Преобразованные метки кластеров для тестовых данных: [9 0 3 ... 9 1 2]\n"
     ]
    }
   ],
   "source": [
    "# Преобразование изображений тестового набора в одномерные массивы (распрямление)\n",
    "X_test_flat = X_test.reshape(X_test.shape[0], -1)\n",
    "\n",
    "# Кластеризация тестовых данных\n",
    "predicted_cluster_labels = model.predict(X_test_flat)\n",
    "\n",
    "# Преобразование меток кластеров тестовых данных с использованием преобразования для тренировочного набора\n",
    "corrected_predicted_cluster_labels = np.array([cluster_to_digit[cluster] for cluster in predicted_cluster_labels])\n",
    "\n",
    "# Вывод преобразованных меток кластеров для тестовых данных\n",
    "print(\"Преобразованные метки кластеров для тестовых данных:\", corrected_predicted_cluster_labels)"
   ]
  },
  {
   "cell_type": "markdown",
   "metadata": {
    "id": "FG6CITJISsXQ",
    "pycharm": {
     "name": "#%% md\n"
    }
   },
   "source": [
    "Постройте матрицу ошибок."
   ]
  },
  {
   "cell_type": "code",
   "execution_count": 14,
   "metadata": {
    "colab": {
     "base_uri": "https://localhost:8080/",
     "height": 564
    },
    "executionInfo": {
     "elapsed": 865,
     "status": "ok",
     "timestamp": 1698523077681,
     "user": {
      "displayName": "Степан Покатов",
      "userId": "03516253895235195084"
     },
     "user_tz": -180
    },
    "id": "I0CTtjKTOJW3",
    "outputId": "52c12c29-b132-4554-e3b4-c3e74409c489",
    "pycharm": {
     "name": "#%%\n"
    }
   },
   "outputs": [
    {
     "data": {
      "image/png": "[encoded data removed]",
      "text/plain": [
       "<Figure size 800x600 with 1 Axes>"
      ]
     },
     "metadata": {},
     "output_type": "display_data"
    }
   ],
   "source": [
    "from sklearn.metrics import confusion_matrix\n",
    "import seaborn as sns\n",
    "import matplotlib.pyplot as plt\n",
    "\n",
    "# Построение матрицы ошибок\n",
    "confusion = confusion_matrix(y_test, corrected_predicted_cluster_labels)\n",
    "\n",
    "# Визуализация матрицы ошибок\n",
    "plt.figure(figsize=(8, 6))\n",
    "sns.heatmap(confusion, annot=True, fmt='d', cmap='Blues', cbar=False)\n",
    "plt.xlabel('Предсказанные метки')\n",
    "plt.ylabel('Истинные метки')\n",
    "plt.title('Матрица ошибок')\n",
    "plt.show()"
   ]
  },
  {
   "cell_type": "markdown",
   "metadata": {
    "id": "z8NDS8NpaOeO"
   },
   "source": [
    "С какой цифрой построенная модель чаще всего путала цифру, указанную в вашем варианте?"
   ]
  },
  {
   "cell_type": "code",
   "execution_count": null,
   "metadata": {
    "id": "eOPGyYRWZ6SD"
   },
   "outputs": [],
   "source": [
    "# С тройкой"
   ]
  },
  {
   "cell_type": "markdown",
   "metadata": {
    "id": "2UwbcgaMbH_1"
   },
   "source": [
    "Вычислите точность модели на тестовых данных."
   ]
  },
  {
   "cell_type": "code",
   "execution_count": 19,
   "metadata": {
    "colab": {
     "base_uri": "https://localhost:8080/"
    },
    "executionInfo": {
     "elapsed": 234,
     "status": "ok",
     "timestamp": 1698523333621,
     "user": {
      "displayName": "Степан Покатов",
      "userId": "03516253895235195084"
     },
     "user_tz": -180
    },
    "id": "3ZqfYG1sKyBV",
    "outputId": "578fbcd4-59e2-4ffd-ad5d-0d65734b1caf",
    "pycharm": {
     "name": "#%%\n"
    }
   },
   "outputs": [
    {
     "name": "stdout",
     "output_type": "stream",
     "text": [
      "Точность модели на тестовых данных: 0.607\n"
     ]
    }
   ],
   "source": [
    "# Вычисление точности\n",
    "accuracy_test = accuracy_score(y_test, corrected_predicted_cluster_labels)\n",
    "\n",
    "print(\"Точность модели на тестовых данных:\", accuracy_test)"
   ]
  },
  {
   "cell_type": "markdown",
   "metadata": {
    "id": "TI90b-KbL3WV",
    "pycharm": {
     "name": "#%% md\n"
    }
   },
   "source": [
    "Интересно отметить, что мы построили классификатор на основе кластеризации при том, что никакими «правильными ответами» мы не пользовались (разве что для оценки)."
   ]
  },
  {
   "cell_type": "markdown",
   "metadata": {
    "id": "FPapZrhaOQNx",
    "pycharm": {
     "name": "#%% md\n"
    }
   },
   "source": [
    "А сколько кластеров кажется оптимальным количеством, если использовать каменистую осыпь? Постройте график каменистой осыпи для числа кластеров от $7$ до $16$. Можно ли уверенно определить оптимальное число кластеров?"
   ]
  },
  {
   "cell_type": "code",
   "execution_count": 20,
   "metadata": {
    "colab": {
     "base_uri": "https://localhost:8080/",
     "height": 564
    },
    "executionInfo": {
     "elapsed": 162599,
     "status": "ok",
     "timestamp": 1698523619264,
     "user": {
      "displayName": "Степан Покатов",
      "userId": "03516253895235195084"
     },
     "user_tz": -180
    },
    "id": "i74oNTK9Ok-y",
    "outputId": "e32f71be-0238-4361-9040-5dc81c9ad2af",
    "pycharm": {
     "name": "#%%\n"
    }
   },
   "outputs": [
    {
     "data": {
      "image/png": "[encoded data removed]",
      "text/plain": [
       "<Figure size 800x600 with 1 Axes>"
      ]
     },
     "metadata": {},
     "output_type": "display_data"
    }
   ],
   "source": [
    "from sklearn.cluster import KMeans\n",
    "import matplotlib.pyplot as plt\n",
    "\n",
    "# Список для сохранения значений инерции (суммы квадратов расстояний до ближайшего центроида)\n",
    "inertia = []\n",
    "\n",
    "# Попробуем разное число кластеров от 7 до 16\n",
    "for n_clusters in range(7, 17):\n",
    "    kmeans = KMeans(n_clusters=n_clusters, random_state=33)\n",
    "    kmeans.fit(X_train_flat)\n",
    "    inertia.append(kmeans.inertia_)\n",
    "\n",
    "# Построение графика каменистой осыпи\n",
    "plt.figure(figsize=(8, 6))\n",
    "plt.plot(range(7, 17), inertia, marker='o', linestyle='-')\n",
    "plt.xlabel('Число кластеров')\n",
    "plt.ylabel('Инерция (сумма квадратов расстояний)')\n",
    "plt.title('График каменистой осыпи')\n",
    "plt.grid(True)\n",
    "plt.show()"
   ]
  },
  {
   "cell_type": "markdown",
   "metadata": {
    "id": "cPTS3BeQS2Fj",
    "pycharm": {
     "name": "#%% md\n"
    }
   },
   "source": [
    "Все эти обучения черезчур уж долгие. Давайте сделаем «ход конем» и понизим размерность данных, пытаясь сохранять расстояния между объектами. Посмотрим, как это скажется на скорости и точности.\n",
    "\n",
    "Преобразуйте <b>тренировочный набор</b> данных при помощи метода <a href=\"https://scikit-learn.org/stable/modules/generated/sklearn.manifold.TSNE.html\"><code>TSNE</code></a> из библиотеки <code>sklearn</code>. Используйте параметры, указанные в вашем задании."
   ]
  },
  {
   "cell_type": "code",
   "execution_count": 22,
   "metadata": {
    "executionInfo": {
     "elapsed": 83613,
     "status": "ok",
     "timestamp": 1698523729535,
     "user": {
      "displayName": "Степан Покатов",
      "userId": "03516253895235195084"
     },
     "user_tz": -180
    },
    "id": "8xmShbevTILq",
    "pycharm": {
     "name": "#%%\n"
    }
   },
   "outputs": [],
   "source": [
    "# Создание экземпляра t-SNE с указанными параметрами\n",
    "tsne = TSNE(n_components=2, init='random', random_state=33)\n",
    "\n",
    "# Преобразование тренировочных данных\n",
    "X_train_tsne = tsne.fit_transform(X_train_flat)"
   ]
  },
  {
   "cell_type": "markdown",
   "metadata": {
    "id": "Od5ESMz1dNXv"
   },
   "source": [
    "Произведите кластеризацию полученного набора данных при помощи <code>KMeans</code> с параметрами, указанными в вашем задании. Аналогично проделанному раньше переназначьте метки кластеров на основе метки большинства объектов в рамках кластера. Оцените точность модели на <b>тренировочных данных</b>."
   ]
  },
  {
   "cell_type": "code",
   "execution_count": 23,
   "metadata": {
    "executionInfo": {
     "elapsed": 19,
     "status": "ok",
     "timestamp": 1698523729536,
     "user": {
      "displayName": "Степан Покатов",
      "userId": "03516253895235195084"
     },
     "user_tz": -180
    },
    "id": "4qpZi15-THR-",
    "pycharm": {
     "name": "#%%\n"
    }
   },
   "outputs": [],
   "source": [
    "# Кластеризация данных t-SNE\n",
    "kmeans_tsne = KMeans(n_clusters=10, random_state=33)\n",
    "kmeans_tsne.fit(X_train_tsne)\n",
    "\n",
    "# Получение меток кластеров для данных t-SNE\n",
    "cluster_labels_tsne = kmeans_tsne.labels_\n",
    "\n",
    "# Создадим словарь для отображения меток кластеров на предполагаемые метки цифр\n",
    "cluster_to_digit_tsne = {}\n",
    "\n",
    "# Определим предполагаемые метки для каждого кластера\n",
    "for cluster in range(10):\n",
    "    cluster_indices = np.where(cluster_labels_tsne == cluster)[0]  # Индексы объектов в кластере\n",
    "    cluster_digit_counts = np.bincount(y_train[cluster_indices])  # Подсчет количества каждой цифры в кластере\n",
    "    most_common_digit = np.argmax(cluster_digit_counts)  # Наиболее часто встречающаяся цифра в кластере\n",
    "    cluster_to_digit_tsne[cluster] = most_common_digit\n",
    "\n",
    "# Присвоим правильные метки кластерам\n",
    "corrected_cluster_labels_tsne = np.array([cluster_to_digit_tsne[cluster] for cluster in cluster_labels_tsne])"
   ]
  },
  {
   "cell_type": "code",
   "execution_count": 24,
   "metadata": {
    "colab": {
     "base_uri": "https://localhost:8080/"
    },
    "executionInfo": {
     "elapsed": 246,
     "status": "ok",
     "timestamp": 1698523753275,
     "user": {
      "displayName": "Степан Покатов",
      "userId": "03516253895235195084"
     },
     "user_tz": -180
    },
    "id": "Asc4-vBs55mX",
    "outputId": "43e54168-f206-49aa-f868-d6a4e966cff8"
   },
   "outputs": [
    {
     "name": "stdout",
     "output_type": "stream",
     "text": [
      "Точность модели на тренировочных данных (после t-SNE): 0.827125\n"
     ]
    }
   ],
   "source": [
    "# Вычисление точности\n",
    "accuracy_train_tsne = accuracy_score(y_train, corrected_cluster_labels_tsne)\n",
    "\n",
    "print(\"Точность модели на тренировочных данных (после t-SNE):\", accuracy_train_tsne)"
   ]
  },
  {
   "cell_type": "markdown",
   "metadata": {
    "id": "2g4jxPQjXCtO",
    "pycharm": {
     "name": "#%% md\n"
    }
   },
   "source": [
    "Проблема, однако, известна. `t-SNE` — метод, который не дает правила получения проекций многомерного пространства на, например, двумерное. Тем самым, при появлении новых данных, проекции придется искать заново.\n",
    "\n",
    "В то же время, еще раз хочется подчеркнуть, как обучение без учителя позволило построить классификатор, который, как будто бы, является результатом решения задачи обучения с учителем."
   ]
  }
 ],
 "metadata": {
  "colab": {
   "provenance": []
  },
  "kernelspec": {
   "display_name": "Python 3 (ipykernel)",
   "language": "python",
   "name": "python3"
  },
  "language_info": {
   "codemirror_mode": {
    "name": "ipython",
    "version": 3
   },
   "file_extension": ".py",
   "mimetype": "text/x-python",
   "name": "python",
   "nbconvert_exporter": "python",
   "pygments_lexer": "ipython3",
   "version": "3.9.12"
  },
  "varInspector": {
   "cols": {
    "lenName": 16,
    "lenType": 16,
    "lenVar": 40
   },
   "kernels_config": {
    "python": {
     "delete_cmd_postfix": "",
     "delete_cmd_prefix": "del ",
     "library": "var_list.py",
     "varRefreshCmd": "print(var_dic_list())"
    },
    "r": {
     "delete_cmd_postfix": ") ",
     "delete_cmd_prefix": "rm(",
     "library": "var_list.r",
     "varRefreshCmd": "cat(var_dic_list()) "
    }
   },
   "types_to_exclude": [
    "module",
    "function",
    "builtin_function_or_method",
    "instance",
    "_Feature"
   ],
   "window_display": false
  }
 },
 "nbformat": 4,
 "nbformat_minor": 1
}
