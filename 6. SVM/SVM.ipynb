{
 "cells": [
  {
   "cell_type": "markdown",
   "metadata": {
    "id": "x301k4lQYICQ"
   },
   "source": [
    "# Распознавание лиц при помощи SVM и kernel trick"
   ]
  },
  {
   "cell_type": "markdown",
   "metadata": {
    "id": "9B7p1Wl_Ai3R"
   },
   "source": [
    "# Описание набора данных"
   ]
  },
  {
   "cell_type": "markdown",
   "metadata": {
    "id": "bWycMPiv1cuh"
   },
   "source": [
    "В этом задании вам предлагается построить классификатор, обученный на изображениях лиц. Сначала загрузим необходимый набор данных и посмотрим, что он из себя представляет. \n",
    "\n",
    "Таблица содержит \"распрямленные\" представления изображений лиц людей.\n",
    "\n",
    "Изначально каждое изображение — матрица размера $62 \\times 47$, значения которой, предположительно, нормированы к диапазону $[0, 1]$ из диапазона $[0, 255] \\cap \\mathbb Z$. Сами значения отвечают за интенсивность пикселя: чем значение больше, тем пиксель светлее.\n",
    "\n",
    "Обратите внимание, из картинки (или, что то же самое, матрицы) размера $62 \\times 47$ получился вектор длины $2914 = 62 \\cdot 47$.\n",
    "\n",
    "Колонка <code>label</code> отвечает за имя человека, изображенного на картинке."
   ]
  },
  {
   "cell_type": "code",
   "execution_count": 94,
   "metadata": {},
   "outputs": [],
   "source": [
    "import pandas as pd\n",
    "import numpy as np\n",
    "import matplotlib.pyplot as plt\n",
    "import seaborn as sns\n",
    "from sklearn.metrics.pairwise import cosine_similarity\n",
    "from sklearn.model_selection import train_test_split\n",
    "from sklearn.svm import SVC\n",
    "from sklearn.metrics import f1_score\n",
    "from sklearn.model_selection import GridSearchCV\n",
    "from sklearn.decomposition import PCA"
   ]
  },
  {
   "cell_type": "code",
   "execution_count": 4,
   "metadata": {
    "colab": {
     "base_uri": "https://localhost:8080/",
     "height": 382
    },
    "id": "PIn4KHeTYfCb",
    "outputId": "72cfba0e-abe5-4a61-e31b-b928f8ef784f"
   },
   "outputs": [
    {
     "data": {
      "text/html": [
       "<div>\n",
       "<style scoped>\n",
       "    .dataframe tbody tr th:only-of-type {\n",
       "        vertical-align: middle;\n",
       "    }\n",
       "\n",
       "    .dataframe tbody tr th {\n",
       "        vertical-align: top;\n",
       "    }\n",
       "\n",
       "    .dataframe thead th {\n",
       "        text-align: right;\n",
       "    }\n",
       "</style>\n",
       "<table border=\"1\" class=\"dataframe\">\n",
       "  <thead>\n",
       "    <tr style=\"text-align: right;\">\n",
       "      <th></th>\n",
       "      <th>0</th>\n",
       "      <th>1</th>\n",
       "      <th>2</th>\n",
       "      <th>3</th>\n",
       "      <th>4</th>\n",
       "      <th>5</th>\n",
       "      <th>6</th>\n",
       "      <th>7</th>\n",
       "      <th>8</th>\n",
       "      <th>9</th>\n",
       "      <th>...</th>\n",
       "      <th>2905</th>\n",
       "      <th>2906</th>\n",
       "      <th>2907</th>\n",
       "      <th>2908</th>\n",
       "      <th>2909</th>\n",
       "      <th>2910</th>\n",
       "      <th>2911</th>\n",
       "      <th>2912</th>\n",
       "      <th>2913</th>\n",
       "      <th>label</th>\n",
       "    </tr>\n",
       "  </thead>\n",
       "  <tbody>\n",
       "    <tr>\n",
       "      <th>0</th>\n",
       "      <td>0.379085</td>\n",
       "      <td>0.312418</td>\n",
       "      <td>0.352941</td>\n",
       "      <td>0.445752</td>\n",
       "      <td>0.466667</td>\n",
       "      <td>0.473203</td>\n",
       "      <td>0.484967</td>\n",
       "      <td>0.513725</td>\n",
       "      <td>0.545098</td>\n",
       "      <td>0.571242</td>\n",
       "      <td>...</td>\n",
       "      <td>0.597386</td>\n",
       "      <td>0.620915</td>\n",
       "      <td>0.732026</td>\n",
       "      <td>0.852288</td>\n",
       "      <td>0.921569</td>\n",
       "      <td>0.937255</td>\n",
       "      <td>0.941176</td>\n",
       "      <td>0.950327</td>\n",
       "      <td>0.946405</td>\n",
       "      <td>John Ashcroft</td>\n",
       "    </tr>\n",
       "    <tr>\n",
       "      <th>1</th>\n",
       "      <td>0.450980</td>\n",
       "      <td>0.466667</td>\n",
       "      <td>0.512418</td>\n",
       "      <td>0.509804</td>\n",
       "      <td>0.450980</td>\n",
       "      <td>0.458824</td>\n",
       "      <td>0.516340</td>\n",
       "      <td>0.571242</td>\n",
       "      <td>0.607843</td>\n",
       "      <td>0.618301</td>\n",
       "      <td>...</td>\n",
       "      <td>0.430065</td>\n",
       "      <td>0.453595</td>\n",
       "      <td>0.679739</td>\n",
       "      <td>0.934640</td>\n",
       "      <td>0.985621</td>\n",
       "      <td>0.981699</td>\n",
       "      <td>0.963399</td>\n",
       "      <td>0.938562</td>\n",
       "      <td>0.874510</td>\n",
       "      <td>Ariel Sharon</td>\n",
       "    </tr>\n",
       "    <tr>\n",
       "      <th>2</th>\n",
       "      <td>0.589542</td>\n",
       "      <td>0.614379</td>\n",
       "      <td>0.688889</td>\n",
       "      <td>0.729412</td>\n",
       "      <td>0.738562</td>\n",
       "      <td>0.775163</td>\n",
       "      <td>0.789543</td>\n",
       "      <td>0.806536</td>\n",
       "      <td>0.820915</td>\n",
       "      <td>0.837908</td>\n",
       "      <td>...</td>\n",
       "      <td>0.733333</td>\n",
       "      <td>0.854902</td>\n",
       "      <td>0.937255</td>\n",
       "      <td>0.624837</td>\n",
       "      <td>0.128105</td>\n",
       "      <td>0.082353</td>\n",
       "      <td>0.107190</td>\n",
       "      <td>0.095425</td>\n",
       "      <td>0.100654</td>\n",
       "      <td>Colin Powell</td>\n",
       "    </tr>\n",
       "    <tr>\n",
       "      <th>3</th>\n",
       "      <td>0.390850</td>\n",
       "      <td>0.432680</td>\n",
       "      <td>0.499346</td>\n",
       "      <td>0.562091</td>\n",
       "      <td>0.597386</td>\n",
       "      <td>0.644444</td>\n",
       "      <td>0.670588</td>\n",
       "      <td>0.650980</td>\n",
       "      <td>0.637908</td>\n",
       "      <td>0.639216</td>\n",
       "      <td>...</td>\n",
       "      <td>0.713726</td>\n",
       "      <td>0.898039</td>\n",
       "      <td>0.968627</td>\n",
       "      <td>0.959477</td>\n",
       "      <td>0.832680</td>\n",
       "      <td>0.443137</td>\n",
       "      <td>0.266667</td>\n",
       "      <td>0.303268</td>\n",
       "      <td>0.313725</td>\n",
       "      <td>Jean Chretien</td>\n",
       "    </tr>\n",
       "    <tr>\n",
       "      <th>4</th>\n",
       "      <td>0.645752</td>\n",
       "      <td>0.626144</td>\n",
       "      <td>0.605229</td>\n",
       "      <td>0.585621</td>\n",
       "      <td>0.602614</td>\n",
       "      <td>0.664052</td>\n",
       "      <td>0.701961</td>\n",
       "      <td>0.709804</td>\n",
       "      <td>0.733333</td>\n",
       "      <td>0.771242</td>\n",
       "      <td>...</td>\n",
       "      <td>0.115033</td>\n",
       "      <td>0.129412</td>\n",
       "      <td>0.132026</td>\n",
       "      <td>0.129412</td>\n",
       "      <td>0.155556</td>\n",
       "      <td>0.171242</td>\n",
       "      <td>0.167320</td>\n",
       "      <td>0.176471</td>\n",
       "      <td>0.183007</td>\n",
       "      <td>Colin Powell</td>\n",
       "    </tr>\n",
       "  </tbody>\n",
       "</table>\n",
       "<p>5 rows × 2915 columns</p>\n",
       "</div>"
      ],
      "text/plain": [
       "          0         1         2         3         4         5         6  \\\n",
       "0  0.379085  0.312418  0.352941  0.445752  0.466667  0.473203  0.484967   \n",
       "1  0.450980  0.466667  0.512418  0.509804  0.450980  0.458824  0.516340   \n",
       "2  0.589542  0.614379  0.688889  0.729412  0.738562  0.775163  0.789543   \n",
       "3  0.390850  0.432680  0.499346  0.562091  0.597386  0.644444  0.670588   \n",
       "4  0.645752  0.626144  0.605229  0.585621  0.602614  0.664052  0.701961   \n",
       "\n",
       "          7         8         9  ...      2905      2906      2907      2908  \\\n",
       "0  0.513725  0.545098  0.571242  ...  0.597386  0.620915  0.732026  0.852288   \n",
       "1  0.571242  0.607843  0.618301  ...  0.430065  0.453595  0.679739  0.934640   \n",
       "2  0.806536  0.820915  0.837908  ...  0.733333  0.854902  0.937255  0.624837   \n",
       "3  0.650980  0.637908  0.639216  ...  0.713726  0.898039  0.968627  0.959477   \n",
       "4  0.709804  0.733333  0.771242  ...  0.115033  0.129412  0.132026  0.129412   \n",
       "\n",
       "       2909      2910      2911      2912      2913          label  \n",
       "0  0.921569  0.937255  0.941176  0.950327  0.946405  John Ashcroft  \n",
       "1  0.985621  0.981699  0.963399  0.938562  0.874510   Ariel Sharon  \n",
       "2  0.128105  0.082353  0.107190  0.095425  0.100654   Colin Powell  \n",
       "3  0.832680  0.443137  0.266667  0.303268  0.313725  Jean Chretien  \n",
       "4  0.155556  0.171242  0.167320  0.176471  0.183007   Colin Powell  \n",
       "\n",
       "[5 rows x 2915 columns]"
      ]
     },
     "execution_count": 4,
     "metadata": {},
     "output_type": "execute_result"
    }
   ],
   "source": [
    "df = pd.read_csv('persons_pics_train.csv')\n",
    "df.head()"
   ]
  },
  {
   "cell_type": "markdown",
   "metadata": {
    "id": "kspU0Qef11XU"
   },
   "source": [
    "Убедимся в том, что перед нами действительно изображения лиц людей. Возьмем первые $15$ строк из таблицы исходных данных и построим соответствующие им изображения."
   ]
  },
  {
   "cell_type": "code",
   "execution_count": 5,
   "metadata": {
    "id": "hRwvUSbf3D1V"
   },
   "outputs": [],
   "source": [
    "import matplotlib.pyplot as plt\n",
    "\n",
    "def get_img_by_row(row):\n",
    "    return row.drop('label').astype(float).to_numpy().reshape(62,47), row['label']"
   ]
  },
  {
   "cell_type": "code",
   "execution_count": 6,
   "metadata": {
    "colab": {
     "base_uri": "https://localhost:8080/",
     "height": 426
    },
    "id": "UFJb9mct2oWK",
    "outputId": "e130962c-ea98-4d77-a409-88de56cfb16d"
   },
   "outputs": [
    {
     "data": {
      "image/png": "[encoded data removed]",
      "text/plain": [
       "<Figure size 432x288 with 15 Axes>"
      ]
     },
     "metadata": {},
     "output_type": "display_data"
    }
   ],
   "source": [
    "fig, ax = plt.subplots(3, 5)\n",
    "for i, axi in enumerate(ax.flat):\n",
    "    img, lbl = get_img_by_row(df.iloc[i])\n",
    "    axi.imshow(img, cmap='gray')\n",
    "    axi.set(xticks=[], yticks=[],\n",
    "            xlabel=lbl.split()[-1])\n",
    "plt.savefig('persons_pics_img_for_description.png', dpi = 300, bbox_inches='tight')    "
   ]
  },
  {
   "cell_type": "markdown",
   "metadata": {
    "id": "_qkenfcm4-dH"
   },
   "source": [
    "Крупнее"
   ]
  },
  {
   "cell_type": "code",
   "execution_count": 7,
   "metadata": {
    "colab": {
     "base_uri": "https://localhost:8080/",
     "height": 423
    },
    "id": "9XgGPo8h5y78",
    "outputId": "5b624983-77f6-4762-f7b0-f2c65ba140fc"
   },
   "outputs": [
    {
     "data": {
      "text/plain": [
       "(-0.5, 46.5, 61.5, -0.5)"
      ]
     },
     "execution_count": 7,
     "metadata": {},
     "output_type": "execute_result"
    },
    {
     "data": {
      "image/png": "[encoded data removed]",
      "text/plain": [
       "<Figure size 432x288 with 1 Axes>"
      ]
     },
     "metadata": {
      "needs_background": "light"
     },
     "output_type": "display_data"
    }
   ],
   "source": [
    "plt.imshow(df.iloc[0].drop('label').astype(float).to_numpy().reshape(62,47), cmap='gray')\n",
    "plt.axis('off')"
   ]
  },
  {
   "cell_type": "markdown",
   "metadata": {
    "id": "Q4D22CYlAtOh"
   },
   "source": [
    "# Немного озорства"
   ]
  },
  {
   "cell_type": "markdown",
   "metadata": {
    "id": "LpubPEq-E3sQ"
   },
   "source": [
    "Определите число различных людей, фотографии которых содержатся в рассматриваемом наборе данных."
   ]
  },
  {
   "cell_type": "code",
   "execution_count": 9,
   "metadata": {
    "colab": {
     "base_uri": "https://localhost:8080/"
    },
    "id": "bCiWT0FVFHLz",
    "outputId": "c12b3f66-098f-4fca-d0db-87852e1f6997"
   },
   "outputs": [
    {
     "data": {
      "text/plain": [
       "12"
      ]
     },
     "execution_count": 9,
     "metadata": {},
     "output_type": "execute_result"
    }
   ],
   "source": [
    "df['label'].nunique()"
   ]
  },
  {
   "cell_type": "markdown",
   "metadata": {
    "id": "WbEIJ-_S7iqm"
   },
   "source": [
    "Постройте гистограмму распределения объектов по классам и вычислите долю объектов каждого класса. "
   ]
  },
  {
   "cell_type": "code",
   "execution_count": 24,
   "metadata": {},
   "outputs": [],
   "source": [
    "counts = df['label'].value_counts()\n",
    "num_faces = sum(counts)\n",
    "for key, value in counts.items():\n",
    "    counts[key] = value/num_faces"
   ]
  },
  {
   "cell_type": "code",
   "execution_count": 26,
   "metadata": {
    "id": "D78diqZW7vpk"
   },
   "outputs": [
    {
     "data": {
      "image/png": "[encoded data removed]",
      "text/plain": [
       "<Figure size 720x360 with 1 Axes>"
      ]
     },
     "metadata": {
      "needs_background": "light"
     },
     "output_type": "display_data"
    }
   ],
   "source": [
    "fig = plt.figure(figsize=(10, 5)) \n",
    "sns.barplot(counts)\n",
    "plt.xticks(rotation=90)\n",
    "plt.show()"
   ]
  },
  {
   "cell_type": "code",
   "execution_count": 27,
   "metadata": {},
   "outputs": [
    {
     "name": "stdout",
     "output_type": "stream",
     "text": [
      "0.038461538461538464\n"
     ]
    }
   ],
   "source": [
    "print(counts['Junichiro Koizumi'])"
   ]
  },
  {
   "cell_type": "markdown",
   "metadata": {
    "id": "09bpGM5bFRmp"
   },
   "source": [
    "На основе имеющихся данных поставьте в соответствие каждому человеку один вектор, координаты которого являются средним соответствующих координат всех векторов, отождествленных с этим человеком."
   ]
  },
  {
   "cell_type": "code",
   "execution_count": 31,
   "metadata": {
    "id": "FVi6WmHcAsKI"
   },
   "outputs": [
    {
     "data": {
      "text/html": [
       "<div>\n",
       "<style scoped>\n",
       "    .dataframe tbody tr th:only-of-type {\n",
       "        vertical-align: middle;\n",
       "    }\n",
       "\n",
       "    .dataframe tbody tr th {\n",
       "        vertical-align: top;\n",
       "    }\n",
       "\n",
       "    .dataframe thead th {\n",
       "        text-align: right;\n",
       "    }\n",
       "</style>\n",
       "<table border=\"1\" class=\"dataframe\">\n",
       "  <thead>\n",
       "    <tr style=\"text-align: right;\">\n",
       "      <th></th>\n",
       "      <th>0</th>\n",
       "      <th>1</th>\n",
       "      <th>2</th>\n",
       "      <th>3</th>\n",
       "      <th>4</th>\n",
       "      <th>5</th>\n",
       "      <th>6</th>\n",
       "      <th>7</th>\n",
       "      <th>8</th>\n",
       "      <th>9</th>\n",
       "      <th>...</th>\n",
       "      <th>2904</th>\n",
       "      <th>2905</th>\n",
       "      <th>2906</th>\n",
       "      <th>2907</th>\n",
       "      <th>2908</th>\n",
       "      <th>2909</th>\n",
       "      <th>2910</th>\n",
       "      <th>2911</th>\n",
       "      <th>2912</th>\n",
       "      <th>2913</th>\n",
       "    </tr>\n",
       "    <tr>\n",
       "      <th>label</th>\n",
       "      <th></th>\n",
       "      <th></th>\n",
       "      <th></th>\n",
       "      <th></th>\n",
       "      <th></th>\n",
       "      <th></th>\n",
       "      <th></th>\n",
       "      <th></th>\n",
       "      <th></th>\n",
       "      <th></th>\n",
       "      <th></th>\n",
       "      <th></th>\n",
       "      <th></th>\n",
       "      <th></th>\n",
       "      <th></th>\n",
       "      <th></th>\n",
       "      <th></th>\n",
       "      <th></th>\n",
       "      <th></th>\n",
       "      <th></th>\n",
       "      <th></th>\n",
       "    </tr>\n",
       "  </thead>\n",
       "  <tbody>\n",
       "    <tr>\n",
       "      <th>Ariel Sharon</th>\n",
       "      <td>0.501398</td>\n",
       "      <td>0.514811</td>\n",
       "      <td>0.532609</td>\n",
       "      <td>0.551714</td>\n",
       "      <td>0.569754</td>\n",
       "      <td>0.577456</td>\n",
       "      <td>0.581820</td>\n",
       "      <td>0.591835</td>\n",
       "      <td>0.604465</td>\n",
       "      <td>0.612589</td>\n",
       "      <td>...</td>\n",
       "      <td>0.396400</td>\n",
       "      <td>0.433947</td>\n",
       "      <td>0.478291</td>\n",
       "      <td>0.519920</td>\n",
       "      <td>0.532549</td>\n",
       "      <td>0.515656</td>\n",
       "      <td>0.498220</td>\n",
       "      <td>0.486657</td>\n",
       "      <td>0.466928</td>\n",
       "      <td>0.437687</td>\n",
       "    </tr>\n",
       "    <tr>\n",
       "      <th>Colin Powell</th>\n",
       "      <td>0.433512</td>\n",
       "      <td>0.441147</td>\n",
       "      <td>0.456248</td>\n",
       "      <td>0.471947</td>\n",
       "      <td>0.486730</td>\n",
       "      <td>0.513732</td>\n",
       "      <td>0.545157</td>\n",
       "      <td>0.566514</td>\n",
       "      <td>0.581556</td>\n",
       "      <td>0.592924</td>\n",
       "      <td>...</td>\n",
       "      <td>0.437869</td>\n",
       "      <td>0.471798</td>\n",
       "      <td>0.512067</td>\n",
       "      <td>0.534615</td>\n",
       "      <td>0.532176</td>\n",
       "      <td>0.510006</td>\n",
       "      <td>0.477586</td>\n",
       "      <td>0.448119</td>\n",
       "      <td>0.410659</td>\n",
       "      <td>0.379605</td>\n",
       "    </tr>\n",
       "    <tr>\n",
       "      <th>Donald Rumsfeld</th>\n",
       "      <td>0.404810</td>\n",
       "      <td>0.417260</td>\n",
       "      <td>0.442731</td>\n",
       "      <td>0.474028</td>\n",
       "      <td>0.507938</td>\n",
       "      <td>0.541659</td>\n",
       "      <td>0.560112</td>\n",
       "      <td>0.571838</td>\n",
       "      <td>0.585773</td>\n",
       "      <td>0.602386</td>\n",
       "      <td>...</td>\n",
       "      <td>0.494917</td>\n",
       "      <td>0.546837</td>\n",
       "      <td>0.562307</td>\n",
       "      <td>0.558627</td>\n",
       "      <td>0.549426</td>\n",
       "      <td>0.525947</td>\n",
       "      <td>0.500603</td>\n",
       "      <td>0.475550</td>\n",
       "      <td>0.431893</td>\n",
       "      <td>0.391738</td>\n",
       "    </tr>\n",
       "    <tr>\n",
       "      <th>George W Bush</th>\n",
       "      <td>0.348179</td>\n",
       "      <td>0.360263</td>\n",
       "      <td>0.381659</td>\n",
       "      <td>0.416669</td>\n",
       "      <td>0.457154</td>\n",
       "      <td>0.488335</td>\n",
       "      <td>0.515398</td>\n",
       "      <td>0.536075</td>\n",
       "      <td>0.551153</td>\n",
       "      <td>0.565662</td>\n",
       "      <td>...</td>\n",
       "      <td>0.385818</td>\n",
       "      <td>0.414092</td>\n",
       "      <td>0.441074</td>\n",
       "      <td>0.461325</td>\n",
       "      <td>0.470275</td>\n",
       "      <td>0.459067</td>\n",
       "      <td>0.447653</td>\n",
       "      <td>0.430523</td>\n",
       "      <td>0.399620</td>\n",
       "      <td>0.376584</td>\n",
       "    </tr>\n",
       "    <tr>\n",
       "      <th>Gerhard Schroeder</th>\n",
       "      <td>0.210162</td>\n",
       "      <td>0.228210</td>\n",
       "      <td>0.268255</td>\n",
       "      <td>0.328344</td>\n",
       "      <td>0.389332</td>\n",
       "      <td>0.447115</td>\n",
       "      <td>0.495003</td>\n",
       "      <td>0.527655</td>\n",
       "      <td>0.549441</td>\n",
       "      <td>0.569457</td>\n",
       "      <td>...</td>\n",
       "      <td>0.414969</td>\n",
       "      <td>0.430937</td>\n",
       "      <td>0.469281</td>\n",
       "      <td>0.494596</td>\n",
       "      <td>0.496718</td>\n",
       "      <td>0.482550</td>\n",
       "      <td>0.442252</td>\n",
       "      <td>0.428477</td>\n",
       "      <td>0.426875</td>\n",
       "      <td>0.411118</td>\n",
       "    </tr>\n",
       "    <tr>\n",
       "      <th>Hugo Chavez</th>\n",
       "      <td>0.206885</td>\n",
       "      <td>0.205142</td>\n",
       "      <td>0.240828</td>\n",
       "      <td>0.300806</td>\n",
       "      <td>0.370196</td>\n",
       "      <td>0.427712</td>\n",
       "      <td>0.471939</td>\n",
       "      <td>0.512702</td>\n",
       "      <td>0.545251</td>\n",
       "      <td>0.562070</td>\n",
       "      <td>...</td>\n",
       "      <td>0.337647</td>\n",
       "      <td>0.360523</td>\n",
       "      <td>0.372200</td>\n",
       "      <td>0.385926</td>\n",
       "      <td>0.394662</td>\n",
       "      <td>0.392309</td>\n",
       "      <td>0.384989</td>\n",
       "      <td>0.371503</td>\n",
       "      <td>0.372440</td>\n",
       "      <td>0.374052</td>\n",
       "    </tr>\n",
       "    <tr>\n",
       "      <th>Jacques Chirac</th>\n",
       "      <td>0.348010</td>\n",
       "      <td>0.368152</td>\n",
       "      <td>0.405704</td>\n",
       "      <td>0.436988</td>\n",
       "      <td>0.462686</td>\n",
       "      <td>0.498693</td>\n",
       "      <td>0.531135</td>\n",
       "      <td>0.553060</td>\n",
       "      <td>0.574629</td>\n",
       "      <td>0.594029</td>\n",
       "      <td>...</td>\n",
       "      <td>0.453832</td>\n",
       "      <td>0.469935</td>\n",
       "      <td>0.480957</td>\n",
       "      <td>0.486067</td>\n",
       "      <td>0.510933</td>\n",
       "      <td>0.537998</td>\n",
       "      <td>0.542751</td>\n",
       "      <td>0.505853</td>\n",
       "      <td>0.456625</td>\n",
       "      <td>0.434997</td>\n",
       "    </tr>\n",
       "    <tr>\n",
       "      <th>Jean Chretien</th>\n",
       "      <td>0.388958</td>\n",
       "      <td>0.412488</td>\n",
       "      <td>0.446614</td>\n",
       "      <td>0.487637</td>\n",
       "      <td>0.526158</td>\n",
       "      <td>0.563315</td>\n",
       "      <td>0.594827</td>\n",
       "      <td>0.628981</td>\n",
       "      <td>0.665026</td>\n",
       "      <td>0.685774</td>\n",
       "      <td>...</td>\n",
       "      <td>0.526380</td>\n",
       "      <td>0.574190</td>\n",
       "      <td>0.583452</td>\n",
       "      <td>0.555667</td>\n",
       "      <td>0.499764</td>\n",
       "      <td>0.455180</td>\n",
       "      <td>0.426060</td>\n",
       "      <td>0.415353</td>\n",
       "      <td>0.414713</td>\n",
       "      <td>0.397608</td>\n",
       "    </tr>\n",
       "    <tr>\n",
       "      <th>John Ashcroft</th>\n",
       "      <td>0.337894</td>\n",
       "      <td>0.334379</td>\n",
       "      <td>0.337662</td>\n",
       "      <td>0.357037</td>\n",
       "      <td>0.384779</td>\n",
       "      <td>0.397182</td>\n",
       "      <td>0.412375</td>\n",
       "      <td>0.431924</td>\n",
       "      <td>0.449441</td>\n",
       "      <td>0.466986</td>\n",
       "      <td>...</td>\n",
       "      <td>0.472651</td>\n",
       "      <td>0.468468</td>\n",
       "      <td>0.475759</td>\n",
       "      <td>0.489092</td>\n",
       "      <td>0.512999</td>\n",
       "      <td>0.540944</td>\n",
       "      <td>0.534524</td>\n",
       "      <td>0.524415</td>\n",
       "      <td>0.527495</td>\n",
       "      <td>0.527495</td>\n",
       "    </tr>\n",
       "    <tr>\n",
       "      <th>Junichiro Koizumi</th>\n",
       "      <td>0.268384</td>\n",
       "      <td>0.253672</td>\n",
       "      <td>0.249699</td>\n",
       "      <td>0.257875</td>\n",
       "      <td>0.297373</td>\n",
       "      <td>0.352044</td>\n",
       "      <td>0.403306</td>\n",
       "      <td>0.441394</td>\n",
       "      <td>0.470819</td>\n",
       "      <td>0.494656</td>\n",
       "      <td>...</td>\n",
       "      <td>0.505652</td>\n",
       "      <td>0.530437</td>\n",
       "      <td>0.561169</td>\n",
       "      <td>0.558657</td>\n",
       "      <td>0.542304</td>\n",
       "      <td>0.537896</td>\n",
       "      <td>0.532359</td>\n",
       "      <td>0.516750</td>\n",
       "      <td>0.498347</td>\n",
       "      <td>0.509753</td>\n",
       "    </tr>\n",
       "    <tr>\n",
       "      <th>Serena Williams</th>\n",
       "      <td>0.412983</td>\n",
       "      <td>0.390434</td>\n",
       "      <td>0.359091</td>\n",
       "      <td>0.333541</td>\n",
       "      <td>0.337136</td>\n",
       "      <td>0.352852</td>\n",
       "      <td>0.370113</td>\n",
       "      <td>0.384551</td>\n",
       "      <td>0.403743</td>\n",
       "      <td>0.423737</td>\n",
       "      <td>...</td>\n",
       "      <td>0.236215</td>\n",
       "      <td>0.246286</td>\n",
       "      <td>0.261943</td>\n",
       "      <td>0.274302</td>\n",
       "      <td>0.291474</td>\n",
       "      <td>0.308200</td>\n",
       "      <td>0.322460</td>\n",
       "      <td>0.334492</td>\n",
       "      <td>0.348247</td>\n",
       "      <td>0.361854</td>\n",
       "    </tr>\n",
       "    <tr>\n",
       "      <th>Tony Blair</th>\n",
       "      <td>0.327922</td>\n",
       "      <td>0.342955</td>\n",
       "      <td>0.363163</td>\n",
       "      <td>0.401854</td>\n",
       "      <td>0.456177</td>\n",
       "      <td>0.503311</td>\n",
       "      <td>0.551355</td>\n",
       "      <td>0.596078</td>\n",
       "      <td>0.627837</td>\n",
       "      <td>0.647059</td>\n",
       "      <td>...</td>\n",
       "      <td>0.488653</td>\n",
       "      <td>0.500900</td>\n",
       "      <td>0.512108</td>\n",
       "      <td>0.526133</td>\n",
       "      <td>0.541498</td>\n",
       "      <td>0.552277</td>\n",
       "      <td>0.542077</td>\n",
       "      <td>0.516072</td>\n",
       "      <td>0.480853</td>\n",
       "      <td>0.444680</td>\n",
       "    </tr>\n",
       "  </tbody>\n",
       "</table>\n",
       "<p>12 rows × 2914 columns</p>\n",
       "</div>"
      ],
      "text/plain": [
       "                          0         1         2         3         4         5  \\\n",
       "label                                                                           \n",
       "Ariel Sharon       0.501398  0.514811  0.532609  0.551714  0.569754  0.577456   \n",
       "Colin Powell       0.433512  0.441147  0.456248  0.471947  0.486730  0.513732   \n",
       "Donald Rumsfeld    0.404810  0.417260  0.442731  0.474028  0.507938  0.541659   \n",
       "George W Bush      0.348179  0.360263  0.381659  0.416669  0.457154  0.488335   \n",
       "Gerhard Schroeder  0.210162  0.228210  0.268255  0.328344  0.389332  0.447115   \n",
       "Hugo Chavez        0.206885  0.205142  0.240828  0.300806  0.370196  0.427712   \n",
       "Jacques Chirac     0.348010  0.368152  0.405704  0.436988  0.462686  0.498693   \n",
       "Jean Chretien      0.388958  0.412488  0.446614  0.487637  0.526158  0.563315   \n",
       "John Ashcroft      0.337894  0.334379  0.337662  0.357037  0.384779  0.397182   \n",
       "Junichiro Koizumi  0.268384  0.253672  0.249699  0.257875  0.297373  0.352044   \n",
       "Serena Williams    0.412983  0.390434  0.359091  0.333541  0.337136  0.352852   \n",
       "Tony Blair         0.327922  0.342955  0.363163  0.401854  0.456177  0.503311   \n",
       "\n",
       "                          6         7         8         9  ...      2904  \\\n",
       "label                                                      ...             \n",
       "Ariel Sharon       0.581820  0.591835  0.604465  0.612589  ...  0.396400   \n",
       "Colin Powell       0.545157  0.566514  0.581556  0.592924  ...  0.437869   \n",
       "Donald Rumsfeld    0.560112  0.571838  0.585773  0.602386  ...  0.494917   \n",
       "George W Bush      0.515398  0.536075  0.551153  0.565662  ...  0.385818   \n",
       "Gerhard Schroeder  0.495003  0.527655  0.549441  0.569457  ...  0.414969   \n",
       "Hugo Chavez        0.471939  0.512702  0.545251  0.562070  ...  0.337647   \n",
       "Jacques Chirac     0.531135  0.553060  0.574629  0.594029  ...  0.453832   \n",
       "Jean Chretien      0.594827  0.628981  0.665026  0.685774  ...  0.526380   \n",
       "John Ashcroft      0.412375  0.431924  0.449441  0.466986  ...  0.472651   \n",
       "Junichiro Koizumi  0.403306  0.441394  0.470819  0.494656  ...  0.505652   \n",
       "Serena Williams    0.370113  0.384551  0.403743  0.423737  ...  0.236215   \n",
       "Tony Blair         0.551355  0.596078  0.627837  0.647059  ...  0.488653   \n",
       "\n",
       "                       2905      2906      2907      2908      2909      2910  \\\n",
       "label                                                                           \n",
       "Ariel Sharon       0.433947  0.478291  0.519920  0.532549  0.515656  0.498220   \n",
       "Colin Powell       0.471798  0.512067  0.534615  0.532176  0.510006  0.477586   \n",
       "Donald Rumsfeld    0.546837  0.562307  0.558627  0.549426  0.525947  0.500603   \n",
       "George W Bush      0.414092  0.441074  0.461325  0.470275  0.459067  0.447653   \n",
       "Gerhard Schroeder  0.430937  0.469281  0.494596  0.496718  0.482550  0.442252   \n",
       "Hugo Chavez        0.360523  0.372200  0.385926  0.394662  0.392309  0.384989   \n",
       "Jacques Chirac     0.469935  0.480957  0.486067  0.510933  0.537998  0.542751   \n",
       "Jean Chretien      0.574190  0.583452  0.555667  0.499764  0.455180  0.426060   \n",
       "John Ashcroft      0.468468  0.475759  0.489092  0.512999  0.540944  0.534524   \n",
       "Junichiro Koizumi  0.530437  0.561169  0.558657  0.542304  0.537896  0.532359   \n",
       "Serena Williams    0.246286  0.261943  0.274302  0.291474  0.308200  0.322460   \n",
       "Tony Blair         0.500900  0.512108  0.526133  0.541498  0.552277  0.542077   \n",
       "\n",
       "                       2911      2912      2913  \n",
       "label                                            \n",
       "Ariel Sharon       0.486657  0.466928  0.437687  \n",
       "Colin Powell       0.448119  0.410659  0.379605  \n",
       "Donald Rumsfeld    0.475550  0.431893  0.391738  \n",
       "George W Bush      0.430523  0.399620  0.376584  \n",
       "Gerhard Schroeder  0.428477  0.426875  0.411118  \n",
       "Hugo Chavez        0.371503  0.372440  0.374052  \n",
       "Jacques Chirac     0.505853  0.456625  0.434997  \n",
       "Jean Chretien      0.415353  0.414713  0.397608  \n",
       "John Ashcroft      0.524415  0.527495  0.527495  \n",
       "Junichiro Koizumi  0.516750  0.498347  0.509753  \n",
       "Serena Williams    0.334492  0.348247  0.361854  \n",
       "Tony Blair         0.516072  0.480853  0.444680  \n",
       "\n",
       "[12 rows x 2914 columns]"
      ]
     },
     "execution_count": 31,
     "metadata": {},
     "output_type": "execute_result"
    }
   ],
   "source": [
    "df1 = df.groupby('label').mean()\n",
    "df1"
   ]
  },
  {
   "cell_type": "markdown",
   "metadata": {
    "id": "EsOZehSAF1ZE"
   },
   "source": [
    "Вычислите координату с индексом $0$ усредненного вектора, соответствующего человеку из вашего индивидуального задания."
   ]
  },
  {
   "cell_type": "code",
   "execution_count": 34,
   "metadata": {
    "id": "wdOk5XsKGK8s"
   },
   "outputs": [
    {
     "name": "stdout",
     "output_type": "stream",
     "text": [
      "0.20688453581666666\n"
     ]
    }
   ],
   "source": [
    "print(df1['0']['Hugo Chavez'])"
   ]
  },
  {
   "cell_type": "markdown",
   "metadata": {
    "id": "ZFQy6dAcGuHV"
   },
   "source": [
    "Используя усредненные векторы, постройте изображения всех людей из набора данных."
   ]
  },
  {
   "cell_type": "code",
   "execution_count": 54,
   "metadata": {
    "id": "Douh7olbBTZC"
   },
   "outputs": [
    {
     "data": {
      "image/png": "[encoded data removed]",
      "text/plain": [
       "<Figure size 720x360 with 12 Axes>"
      ]
     },
     "metadata": {},
     "output_type": "display_data"
    }
   ],
   "source": [
    "def get_img_by_row(row):\n",
    "    return row.astype(float).to_numpy().reshape(62,47), row.name\n",
    "\n",
    "fig, ax = plt.subplots(3, 4, figsize=(10, 5))\n",
    "for i, axi in enumerate(ax.flat):\n",
    "    img, lbl = get_img_by_row(df1.iloc[i])\n",
    "    axi.imshow(img, cmap='gray')\n",
    "    axi.set(xticks=[], yticks=[],\n",
    "            xlabel=lbl.split()[-1])\n",
    "plt.savefig('persons_pics_img_for_description.png', dpi = 300, bbox_inches='tight')    "
   ]
  },
  {
   "cell_type": "markdown",
   "metadata": {
    "id": "_45zmvOV-TE3"
   },
   "source": [
    "В качестве меры \"схожести\" двух объектов часто используют так называемое [косинусное сходство](https://en.wikipedia.org/wiki/Cosine_similarity). Не следует путать с косинусным расстоянием.\n",
    "\n",
    "Постройте матрицу \"схожести\" объектов на основе их усредненных векторов. Для визуализации рекомендуем использовать тепловую карту, например, [из библиотеки seaborn](https://seaborn.pydata.org/generated/seaborn.heatmap.html)."
   ]
  },
  {
   "cell_type": "code",
   "execution_count": 69,
   "metadata": {
    "id": "ORlwl8MSAsMu"
   },
   "outputs": [],
   "source": [
    "# Вычисление матрицы схожести\n",
    "similarity_matrix = cosine_similarity(df1.values)\n",
    "similarity_matrix = pd.DataFrame(similarity_matrix, index=df1.index, columns=df1.index)"
   ]
  },
  {
   "cell_type": "code",
   "execution_count": 71,
   "metadata": {},
   "outputs": [
    {
     "data": {
      "text/plain": [
       "<Axes: xlabel='label', ylabel='label'>"
      ]
     },
     "execution_count": 71,
     "metadata": {},
     "output_type": "execute_result"
    },
    {
     "data": {
      "image/png": "[encoded data removed]",
      "text/plain": [
       "<Figure size 720x720 with 2 Axes>"
      ]
     },
     "metadata": {
      "needs_background": "light"
     },
     "output_type": "display_data"
    }
   ],
   "source": [
    "fig = plt.figure(figsize=(10, 10)) \n",
    "sns.heatmap(similarity_matrix, annot=True, fmt='.4g')"
   ]
  },
  {
   "cell_type": "markdown",
   "metadata": {
    "id": "dGFwwz85TDPg"
   },
   "source": [
    "Определите косинусное сходство для пары людей из вашего индивидуального задания на основе соответствующих им \"усредненных\" векторов."
   ]
  },
  {
   "cell_type": "code",
   "execution_count": 73,
   "metadata": {
    "id": "fBzdsrkG84PE"
   },
   "outputs": [
    {
     "data": {
      "text/plain": [
       "0.98574773169723"
      ]
     },
     "execution_count": 73,
     "metadata": {},
     "output_type": "execute_result"
    }
   ],
   "source": [
    "# Gerhard Schroeder и Serena Williams - по таблице или так\n",
    "similarity_matrix['Gerhard Schroeder']['Serena Williams']"
   ]
  },
  {
   "cell_type": "markdown",
   "metadata": {
    "id": "fY7TotHYUJqE"
   },
   "source": [
    "# Построение модели"
   ]
  },
  {
   "cell_type": "markdown",
   "metadata": {
    "id": "SCQ0dGV66EUN"
   },
   "source": [
    "При помощи <code>train_test_split()</code> разделите набор данных на тренировочный и тестовый с параметрами, указанными в вашем индивидуальном задании. Используйте стратификацию по колонке <code>label</code>."
   ]
  },
  {
   "cell_type": "code",
   "execution_count": 77,
   "metadata": {
    "id": "pa9Lzhho6KZd"
   },
   "outputs": [],
   "source": [
    "X_train, X_test, y_train, y_test = train_test_split(df.drop(columns=['label']), df['label'], test_size=0.2, \n",
    "                                                        random_state=15, stratify=df['label'])"
   ]
  },
  {
   "cell_type": "markdown",
   "metadata": {
    "id": "zCIM8lSj70Ov"
   },
   "source": [
    "## Первое приближение: базовый SVM классификатор с линейным ядром."
   ]
  },
  {
   "cell_type": "markdown",
   "metadata": {
    "id": "1MFp8jptUyyd"
   },
   "source": [
    "Обучите модель <code>SVC()</code> на тренировочном наборе данных с параметрами, указанными в вашем индивидуальном задании."
   ]
  },
  {
   "cell_type": "code",
   "execution_count": 82,
   "metadata": {
    "id": "4EJTB6GJ76_f"
   },
   "outputs": [
    {
     "data": {
      "text/plain": [
       "SVC(kernel='linear', random_state=15)"
      ]
     },
     "execution_count": 82,
     "metadata": {},
     "output_type": "execute_result"
    }
   ],
   "source": [
    "model = SVC(kernel='linear', random_state=15)\n",
    "model.fit(X_train, y_train)"
   ]
  },
  {
   "cell_type": "markdown",
   "metadata": {
    "id": "ahRow63h-LBm"
   },
   "source": [
    "Оцените модель на тестовых данных. Вычислите <code>f1_score(average='weighted')</code>"
   ]
  },
  {
   "cell_type": "code",
   "execution_count": 83,
   "metadata": {
    "id": "wxCTai-M8nwz"
   },
   "outputs": [
    {
     "data": {
      "text/plain": [
       "0.8027923282543553"
      ]
     },
     "execution_count": 83,
     "metadata": {},
     "output_type": "execute_result"
    }
   ],
   "source": [
    "f1_score(y_test, model.predict(X_test), average='weighted') "
   ]
  },
  {
   "cell_type": "markdown",
   "metadata": {
    "id": "GZlTrsLWWxV_"
   },
   "source": [
    "В целом, достаточно неплохой результат, но имеет смысл попробовать подобрать параметры."
   ]
  },
  {
   "cell_type": "markdown",
   "metadata": {
    "id": "IYIiSBkk_Yrx"
   },
   "source": [
    "## Подбор гиперпараметров"
   ]
  },
  {
   "cell_type": "markdown",
   "metadata": {
    "id": "mrFWhMp8XKLD"
   },
   "source": [
    "Используя <code>GridSearchCV()</code>, осуществите подбор гиперпараметров, указанных в вашем задании. Отдельно обратите внимание на время обучения моделей"
   ]
  },
  {
   "cell_type": "code",
   "execution_count": 86,
   "metadata": {
    "id": "AY8QwPhh_fMF"
   },
   "outputs": [],
   "source": [
    "tuned_parameters = [{'kernel': ['linear', 'poly', 'rbf', 'sigmoid'], 'gamma': [1e-3, 1e-4],\n",
    "                     'C': [1, 10, 100, 1000], 'class_weight': [None, 'balanced'], 'random_state':[15]}]\n",
    "\n",
    "model = SVC()\n",
    "cv = GridSearchCV(model, tuned_parameters, refit=True, verbose=3)"
   ]
  },
  {
   "cell_type": "code",
   "execution_count": 87,
   "metadata": {},
   "outputs": [
    {
     "name": "stdout",
     "output_type": "stream",
     "text": [
      "Fitting 5 folds for each of 64 candidates, totalling 320 fits\n",
      "[CV 1/5] END C=1, class_weight=None, gamma=0.001, kernel=linear, random_state=15;, score=0.759 total time=   1.8s\n",
      "[CV 2/5] END C=1, class_weight=None, gamma=0.001, kernel=linear, random_state=15;, score=0.764 total time=   1.8s\n",
      "[CV 3/5] END C=1, class_weight=None, gamma=0.001, kernel=linear, random_state=15;, score=0.778 total time=   1.9s\n",
      "[CV 4/5] END C=1, class_weight=None, gamma=0.001, kernel=linear, random_state=15;, score=0.797 total time=   1.8s\n",
      "[CV 5/5] END C=1, class_weight=None, gamma=0.001, kernel=linear, random_state=15;, score=0.774 total time=   1.8s\n",
      "[CV 1/5] END C=1, class_weight=None, gamma=0.001, kernel=poly, random_state=15;, score=0.368 total time=   2.3s\n",
      "[CV 2/5] END C=1, class_weight=None, gamma=0.001, kernel=poly, random_state=15;, score=0.358 total time=   2.3s\n",
      "[CV 3/5] END C=1, class_weight=None, gamma=0.001, kernel=poly, random_state=15;, score=0.358 total time=   2.3s\n",
      "[CV 4/5] END C=1, class_weight=None, gamma=0.001, kernel=poly, random_state=15;, score=0.340 total time=   2.4s\n",
      "[CV 5/5] END C=1, class_weight=None, gamma=0.001, kernel=poly, random_state=15;, score=0.349 total time=   2.0s\n",
      "[CV 1/5] END C=1, class_weight=None, gamma=0.001, kernel=rbf, random_state=15;, score=0.396 total time=   2.8s\n",
      "[CV 2/5] END C=1, class_weight=None, gamma=0.001, kernel=rbf, random_state=15;, score=0.406 total time=   3.0s\n",
      "[CV 3/5] END C=1, class_weight=None, gamma=0.001, kernel=rbf, random_state=15;, score=0.392 total time=   2.8s\n",
      "[CV 4/5] END C=1, class_weight=None, gamma=0.001, kernel=rbf, random_state=15;, score=0.387 total time=   2.8s\n",
      "[CV 5/5] END C=1, class_weight=None, gamma=0.001, kernel=rbf, random_state=15;, score=0.382 total time=   2.9s\n",
      "[CV 1/5] END C=1, class_weight=None, gamma=0.001, kernel=sigmoid, random_state=15;, score=0.340 total time=   2.3s\n",
      "[CV 2/5] END C=1, class_weight=None, gamma=0.001, kernel=sigmoid, random_state=15;, score=0.344 total time=   2.6s\n",
      "[CV 3/5] END C=1, class_weight=None, gamma=0.001, kernel=sigmoid, random_state=15;, score=0.340 total time=   2.5s\n",
      "[CV 4/5] END C=1, class_weight=None, gamma=0.001, kernel=sigmoid, random_state=15;, score=0.340 total time=   2.4s\n",
      "[CV 5/5] END C=1, class_weight=None, gamma=0.001, kernel=sigmoid, random_state=15;, score=0.340 total time=   2.2s\n",
      "[CV 1/5] END C=1, class_weight=None, gamma=0.0001, kernel=linear, random_state=15;, score=0.759 total time=   1.8s\n",
      "[CV 2/5] END C=1, class_weight=None, gamma=0.0001, kernel=linear, random_state=15;, score=0.764 total time=   1.9s\n",
      "[CV 3/5] END C=1, class_weight=None, gamma=0.0001, kernel=linear, random_state=15;, score=0.778 total time=   1.9s\n",
      "[CV 4/5] END C=1, class_weight=None, gamma=0.0001, kernel=linear, random_state=15;, score=0.797 total time=   2.0s\n",
      "[CV 5/5] END C=1, class_weight=None, gamma=0.0001, kernel=linear, random_state=15;, score=0.774 total time=   1.8s\n",
      "[CV 1/5] END C=1, class_weight=None, gamma=0.0001, kernel=poly, random_state=15;, score=0.340 total time=   2.0s\n",
      "[CV 2/5] END C=1, class_weight=None, gamma=0.0001, kernel=poly, random_state=15;, score=0.344 total time=   2.1s\n",
      "[CV 3/5] END C=1, class_weight=None, gamma=0.0001, kernel=poly, random_state=15;, score=0.340 total time=   2.0s\n",
      "[CV 4/5] END C=1, class_weight=None, gamma=0.0001, kernel=poly, random_state=15;, score=0.340 total time=   2.1s\n",
      "[CV 5/5] END C=1, class_weight=None, gamma=0.0001, kernel=poly, random_state=15;, score=0.340 total time=   2.1s\n",
      "[CV 1/5] END C=1, class_weight=None, gamma=0.0001, kernel=rbf, random_state=15;, score=0.340 total time=   2.9s\n",
      "[CV 2/5] END C=1, class_weight=None, gamma=0.0001, kernel=rbf, random_state=15;, score=0.344 total time=   3.0s\n",
      "[CV 3/5] END C=1, class_weight=None, gamma=0.0001, kernel=rbf, random_state=15;, score=0.340 total time=   2.8s\n",
      "[CV 4/5] END C=1, class_weight=None, gamma=0.0001, kernel=rbf, random_state=15;, score=0.340 total time=   2.9s\n",
      "[CV 5/5] END C=1, class_weight=None, gamma=0.0001, kernel=rbf, random_state=15;, score=0.340 total time=   2.8s\n",
      "[CV 1/5] END C=1, class_weight=None, gamma=0.0001, kernel=sigmoid, random_state=15;, score=0.340 total time=   2.4s\n",
      "[CV 2/5] END C=1, class_weight=None, gamma=0.0001, kernel=sigmoid, random_state=15;, score=0.344 total time=   2.4s\n",
      "[CV 3/5] END C=1, class_weight=None, gamma=0.0001, kernel=sigmoid, random_state=15;, score=0.340 total time=   2.4s\n",
      "[CV 4/5] END C=1, class_weight=None, gamma=0.0001, kernel=sigmoid, random_state=15;, score=0.340 total time=   2.4s\n",
      "[CV 5/5] END C=1, class_weight=None, gamma=0.0001, kernel=sigmoid, random_state=15;, score=0.340 total time=   2.3s\n",
      "[CV 1/5] END C=1, class_weight=balanced, gamma=0.001, kernel=linear, random_state=15;, score=0.759 total time=   1.9s\n",
      "[CV 2/5] END C=1, class_weight=balanced, gamma=0.001, kernel=linear, random_state=15;, score=0.764 total time=   1.9s\n",
      "[CV 3/5] END C=1, class_weight=balanced, gamma=0.001, kernel=linear, random_state=15;, score=0.778 total time=   1.9s\n",
      "[CV 4/5] END C=1, class_weight=balanced, gamma=0.001, kernel=linear, random_state=15;, score=0.797 total time=   1.8s\n",
      "[CV 5/5] END C=1, class_weight=balanced, gamma=0.001, kernel=linear, random_state=15;, score=0.774 total time=   1.9s\n",
      "[CV 1/5] END C=1, class_weight=balanced, gamma=0.001, kernel=poly, random_state=15;, score=0.340 total time=   3.7s\n",
      "[CV 2/5] END C=1, class_weight=balanced, gamma=0.001, kernel=poly, random_state=15;, score=0.344 total time=   3.9s\n",
      "[CV 3/5] END C=1, class_weight=balanced, gamma=0.001, kernel=poly, random_state=15;, score=0.307 total time=   4.3s\n",
      "[CV 4/5] END C=1, class_weight=balanced, gamma=0.001, kernel=poly, random_state=15;, score=0.307 total time=   3.9s\n",
      "[CV 5/5] END C=1, class_weight=balanced, gamma=0.001, kernel=poly, random_state=15;, score=0.288 total time=   3.7s\n",
      "[CV 1/5] END C=1, class_weight=balanced, gamma=0.001, kernel=rbf, random_state=15;, score=0.316 total time=   4.4s\n",
      "[CV 2/5] END C=1, class_weight=balanced, gamma=0.001, kernel=rbf, random_state=15;, score=0.410 total time=   4.3s\n",
      "[CV 3/5] END C=1, class_weight=balanced, gamma=0.001, kernel=rbf, random_state=15;, score=0.368 total time=   4.3s\n",
      "[CV 4/5] END C=1, class_weight=balanced, gamma=0.001, kernel=rbf, random_state=15;, score=0.368 total time=   4.3s\n",
      "[CV 5/5] END C=1, class_weight=balanced, gamma=0.001, kernel=rbf, random_state=15;, score=0.311 total time=   4.3s\n",
      "[CV 1/5] END C=1, class_weight=balanced, gamma=0.001, kernel=sigmoid, random_state=15;, score=0.094 total time=   4.1s\n",
      "[CV 2/5] END C=1, class_weight=balanced, gamma=0.001, kernel=sigmoid, random_state=15;, score=0.354 total time=   4.0s\n",
      "[CV 3/5] END C=1, class_weight=balanced, gamma=0.001, kernel=sigmoid, random_state=15;, score=0.104 total time=   4.7s\n",
      "[CV 4/5] END C=1, class_weight=balanced, gamma=0.001, kernel=sigmoid, random_state=15;, score=0.090 total time=   4.0s\n",
      "[CV 5/5] END C=1, class_weight=balanced, gamma=0.001, kernel=sigmoid, random_state=15;, score=0.099 total time=   4.1s\n",
      "[CV 1/5] END C=1, class_weight=balanced, gamma=0.0001, kernel=linear, random_state=15;, score=0.759 total time=   1.8s\n",
      "[CV 2/5] END C=1, class_weight=balanced, gamma=0.0001, kernel=linear, random_state=15;, score=0.764 total time=   1.8s\n",
      "[CV 3/5] END C=1, class_weight=balanced, gamma=0.0001, kernel=linear, random_state=15;, score=0.778 total time=   1.9s\n",
      "[CV 4/5] END C=1, class_weight=balanced, gamma=0.0001, kernel=linear, random_state=15;, score=0.797 total time=   1.8s\n",
      "[CV 5/5] END C=1, class_weight=balanced, gamma=0.0001, kernel=linear, random_state=15;, score=0.774 total time=   1.8s\n",
      "[CV 1/5] END C=1, class_weight=balanced, gamma=0.0001, kernel=poly, random_state=15;, score=0.033 total time=   4.1s\n",
      "[CV 2/5] END C=1, class_weight=balanced, gamma=0.0001, kernel=poly, random_state=15;, score=0.344 total time=   4.2s\n",
      "[CV 3/5] END C=1, class_weight=balanced, gamma=0.0001, kernel=poly, random_state=15;, score=0.061 total time=   4.2s\n",
      "[CV 4/5] END C=1, class_weight=balanced, gamma=0.0001, kernel=poly, random_state=15;, score=0.042 total time=   4.0s\n",
      "[CV 5/5] END C=1, class_weight=balanced, gamma=0.0001, kernel=poly, random_state=15;, score=0.033 total time=   4.1s\n",
      "[CV 1/5] END C=1, class_weight=balanced, gamma=0.0001, kernel=rbf, random_state=15;, score=0.061 total time=   4.6s\n"
     ]
    },
    {
     "name": "stdout",
     "output_type": "stream",
     "text": [
      "[CV 2/5] END C=1, class_weight=balanced, gamma=0.0001, kernel=rbf, random_state=15;, score=0.363 total time=   4.6s\n",
      "[CV 3/5] END C=1, class_weight=balanced, gamma=0.0001, kernel=rbf, random_state=15;, score=0.123 total time=   5.5s\n",
      "[CV 4/5] END C=1, class_weight=balanced, gamma=0.0001, kernel=rbf, random_state=15;, score=0.080 total time=   4.7s\n",
      "[CV 5/5] END C=1, class_weight=balanced, gamma=0.0001, kernel=rbf, random_state=15;, score=0.066 total time=   4.7s\n",
      "[CV 1/5] END C=1, class_weight=balanced, gamma=0.0001, kernel=sigmoid, random_state=15;, score=0.047 total time=   4.1s\n",
      "[CV 2/5] END C=1, class_weight=balanced, gamma=0.0001, kernel=sigmoid, random_state=15;, score=0.354 total time=   4.1s\n",
      "[CV 3/5] END C=1, class_weight=balanced, gamma=0.0001, kernel=sigmoid, random_state=15;, score=0.099 total time=   4.2s\n",
      "[CV 4/5] END C=1, class_weight=balanced, gamma=0.0001, kernel=sigmoid, random_state=15;, score=0.061 total time=   4.2s\n",
      "[CV 5/5] END C=1, class_weight=balanced, gamma=0.0001, kernel=sigmoid, random_state=15;, score=0.033 total time=   4.1s\n",
      "[CV 1/5] END C=10, class_weight=None, gamma=0.001, kernel=linear, random_state=15;, score=0.759 total time=   1.8s\n",
      "[CV 2/5] END C=10, class_weight=None, gamma=0.001, kernel=linear, random_state=15;, score=0.764 total time=   1.9s\n",
      "[CV 3/5] END C=10, class_weight=None, gamma=0.001, kernel=linear, random_state=15;, score=0.778 total time=   1.8s\n",
      "[CV 4/5] END C=10, class_weight=None, gamma=0.001, kernel=linear, random_state=15;, score=0.797 total time=   1.8s\n",
      "[CV 5/5] END C=10, class_weight=None, gamma=0.001, kernel=linear, random_state=15;, score=0.774 total time=   1.8s\n",
      "[CV 1/5] END C=10, class_weight=None, gamma=0.001, kernel=poly, random_state=15;, score=0.651 total time=   2.1s\n",
      "[CV 2/5] END C=10, class_weight=None, gamma=0.001, kernel=poly, random_state=15;, score=0.703 total time=   2.1s\n",
      "[CV 3/5] END C=10, class_weight=None, gamma=0.001, kernel=poly, random_state=15;, score=0.698 total time=   2.0s\n",
      "[CV 4/5] END C=10, class_weight=None, gamma=0.001, kernel=poly, random_state=15;, score=0.684 total time=   2.1s\n",
      "[CV 5/5] END C=10, class_weight=None, gamma=0.001, kernel=poly, random_state=15;, score=0.689 total time=   2.1s\n",
      "[CV 1/5] END C=10, class_weight=None, gamma=0.001, kernel=rbf, random_state=15;, score=0.684 total time=   2.4s\n",
      "[CV 2/5] END C=10, class_weight=None, gamma=0.001, kernel=rbf, random_state=15;, score=0.726 total time=   2.4s\n",
      "[CV 3/5] END C=10, class_weight=None, gamma=0.001, kernel=rbf, random_state=15;, score=0.717 total time=   2.4s\n",
      "[CV 4/5] END C=10, class_weight=None, gamma=0.001, kernel=rbf, random_state=15;, score=0.712 total time=   2.3s\n",
      "[CV 5/5] END C=10, class_weight=None, gamma=0.001, kernel=rbf, random_state=15;, score=0.708 total time=   2.4s\n",
      "[CV 1/5] END C=10, class_weight=None, gamma=0.001, kernel=sigmoid, random_state=15;, score=0.396 total time=   2.1s\n",
      "[CV 2/5] END C=10, class_weight=None, gamma=0.001, kernel=sigmoid, random_state=15;, score=0.415 total time=   2.1s\n",
      "[CV 3/5] END C=10, class_weight=None, gamma=0.001, kernel=sigmoid, random_state=15;, score=0.425 total time=   1.9s\n",
      "[CV 4/5] END C=10, class_weight=None, gamma=0.001, kernel=sigmoid, random_state=15;, score=0.439 total time=   2.0s\n",
      "[CV 5/5] END C=10, class_weight=None, gamma=0.001, kernel=sigmoid, random_state=15;, score=0.406 total time=   2.0s\n",
      "[CV 1/5] END C=10, class_weight=None, gamma=0.0001, kernel=linear, random_state=15;, score=0.759 total time=   1.8s\n",
      "[CV 2/5] END C=10, class_weight=None, gamma=0.0001, kernel=linear, random_state=15;, score=0.764 total time=   1.8s\n",
      "[CV 3/5] END C=10, class_weight=None, gamma=0.0001, kernel=linear, random_state=15;, score=0.778 total time=   1.9s\n",
      "[CV 4/5] END C=10, class_weight=None, gamma=0.0001, kernel=linear, random_state=15;, score=0.797 total time=   1.8s\n",
      "[CV 5/5] END C=10, class_weight=None, gamma=0.0001, kernel=linear, random_state=15;, score=0.774 total time=   1.8s\n",
      "[CV 1/5] END C=10, class_weight=None, gamma=0.0001, kernel=poly, random_state=15;, score=0.340 total time=   2.3s\n",
      "[CV 2/5] END C=10, class_weight=None, gamma=0.0001, kernel=poly, random_state=15;, score=0.344 total time=   2.2s\n",
      "[CV 3/5] END C=10, class_weight=None, gamma=0.0001, kernel=poly, random_state=15;, score=0.340 total time=   2.2s\n",
      "[CV 4/5] END C=10, class_weight=None, gamma=0.0001, kernel=poly, random_state=15;, score=0.340 total time=   2.2s\n",
      "[CV 5/5] END C=10, class_weight=None, gamma=0.0001, kernel=poly, random_state=15;, score=0.340 total time=   2.2s\n",
      "[CV 1/5] END C=10, class_weight=None, gamma=0.0001, kernel=rbf, random_state=15;, score=0.392 total time=   2.7s\n",
      "[CV 2/5] END C=10, class_weight=None, gamma=0.0001, kernel=rbf, random_state=15;, score=0.415 total time=   2.8s\n",
      "[CV 3/5] END C=10, class_weight=None, gamma=0.0001, kernel=rbf, random_state=15;, score=0.406 total time=   2.8s\n",
      "[CV 4/5] END C=10, class_weight=None, gamma=0.0001, kernel=rbf, random_state=15;, score=0.396 total time=   2.7s\n",
      "[CV 5/5] END C=10, class_weight=None, gamma=0.0001, kernel=rbf, random_state=15;, score=0.401 total time=   2.9s\n",
      "[CV 1/5] END C=10, class_weight=None, gamma=0.0001, kernel=sigmoid, random_state=15;, score=0.354 total time=   2.4s\n",
      "[CV 2/5] END C=10, class_weight=None, gamma=0.0001, kernel=sigmoid, random_state=15;, score=0.344 total time=   2.4s\n",
      "[CV 3/5] END C=10, class_weight=None, gamma=0.0001, kernel=sigmoid, random_state=15;, score=0.340 total time=   2.3s\n",
      "[CV 4/5] END C=10, class_weight=None, gamma=0.0001, kernel=sigmoid, random_state=15;, score=0.340 total time=   2.3s\n",
      "[CV 5/5] END C=10, class_weight=None, gamma=0.0001, kernel=sigmoid, random_state=15;, score=0.340 total time=   2.3s\n",
      "[CV 1/5] END C=10, class_weight=balanced, gamma=0.001, kernel=linear, random_state=15;, score=0.759 total time=   1.8s\n",
      "[CV 2/5] END C=10, class_weight=balanced, gamma=0.001, kernel=linear, random_state=15;, score=0.764 total time=   1.8s\n",
      "[CV 3/5] END C=10, class_weight=balanced, gamma=0.001, kernel=linear, random_state=15;, score=0.778 total time=   1.9s\n",
      "[CV 4/5] END C=10, class_weight=balanced, gamma=0.001, kernel=linear, random_state=15;, score=0.797 total time=   1.8s\n",
      "[CV 5/5] END C=10, class_weight=balanced, gamma=0.001, kernel=linear, random_state=15;, score=0.774 total time=   1.9s\n",
      "[CV 1/5] END C=10, class_weight=balanced, gamma=0.001, kernel=poly, random_state=15;, score=0.656 total time=   2.5s\n",
      "[CV 2/5] END C=10, class_weight=balanced, gamma=0.001, kernel=poly, random_state=15;, score=0.726 total time=   2.6s\n",
      "[CV 3/5] END C=10, class_weight=balanced, gamma=0.001, kernel=poly, random_state=15;, score=0.726 total time=   2.6s\n",
      "[CV 4/5] END C=10, class_weight=balanced, gamma=0.001, kernel=poly, random_state=15;, score=0.693 total time=   2.6s\n",
      "[CV 5/5] END C=10, class_weight=balanced, gamma=0.001, kernel=poly, random_state=15;, score=0.670 total time=   2.6s\n",
      "[CV 1/5] END C=10, class_weight=balanced, gamma=0.001, kernel=rbf, random_state=15;, score=0.693 total time=   3.0s\n",
      "[CV 2/5] END C=10, class_weight=balanced, gamma=0.001, kernel=rbf, random_state=15;, score=0.759 total time=   3.1s\n",
      "[CV 3/5] END C=10, class_weight=balanced, gamma=0.001, kernel=rbf, random_state=15;, score=0.750 total time=   3.1s\n",
      "[CV 4/5] END C=10, class_weight=balanced, gamma=0.001, kernel=rbf, random_state=15;, score=0.731 total time=   3.0s\n",
      "[CV 5/5] END C=10, class_weight=balanced, gamma=0.001, kernel=rbf, random_state=15;, score=0.708 total time=   3.0s\n",
      "[CV 1/5] END C=10, class_weight=balanced, gamma=0.001, kernel=sigmoid, random_state=15;, score=0.467 total time=   3.4s\n",
      "[CV 2/5] END C=10, class_weight=balanced, gamma=0.001, kernel=sigmoid, random_state=15;, score=0.571 total time=   3.6s\n",
      "[CV 3/5] END C=10, class_weight=balanced, gamma=0.001, kernel=sigmoid, random_state=15;, score=0.495 total time=   3.5s\n",
      "[CV 4/5] END C=10, class_weight=balanced, gamma=0.001, kernel=sigmoid, random_state=15;, score=0.486 total time=   3.4s\n",
      "[CV 5/5] END C=10, class_weight=balanced, gamma=0.001, kernel=sigmoid, random_state=15;, score=0.472 total time=   3.3s\n",
      "[CV 1/5] END C=10, class_weight=balanced, gamma=0.0001, kernel=linear, random_state=15;, score=0.759 total time=   1.8s\n",
      "[CV 2/5] END C=10, class_weight=balanced, gamma=0.0001, kernel=linear, random_state=15;, score=0.764 total time=   1.8s\n"
     ]
    },
    {
     "name": "stdout",
     "output_type": "stream",
     "text": [
      "[CV 3/5] END C=10, class_weight=balanced, gamma=0.0001, kernel=linear, random_state=15;, score=0.778 total time=   1.8s\n",
      "[CV 4/5] END C=10, class_weight=balanced, gamma=0.0001, kernel=linear, random_state=15;, score=0.797 total time=   1.8s\n",
      "[CV 5/5] END C=10, class_weight=balanced, gamma=0.0001, kernel=linear, random_state=15;, score=0.774 total time=   1.9s\n",
      "[CV 1/5] END C=10, class_weight=balanced, gamma=0.0001, kernel=poly, random_state=15;, score=0.156 total time=   4.2s\n",
      "[CV 2/5] END C=10, class_weight=balanced, gamma=0.0001, kernel=poly, random_state=15;, score=0.033 total time=   4.3s\n",
      "[CV 3/5] END C=10, class_weight=balanced, gamma=0.0001, kernel=poly, random_state=15;, score=0.033 total time=   4.3s\n",
      "[CV 4/5] END C=10, class_weight=balanced, gamma=0.0001, kernel=poly, random_state=15;, score=0.033 total time=   4.3s\n",
      "[CV 5/5] END C=10, class_weight=balanced, gamma=0.0001, kernel=poly, random_state=15;, score=0.099 total time=   4.5s\n",
      "[CV 1/5] END C=10, class_weight=balanced, gamma=0.0001, kernel=rbf, random_state=15;, score=0.340 total time=   4.6s\n",
      "[CV 2/5] END C=10, class_weight=balanced, gamma=0.0001, kernel=rbf, random_state=15;, score=0.420 total time=   4.7s\n",
      "[CV 3/5] END C=10, class_weight=balanced, gamma=0.0001, kernel=rbf, random_state=15;, score=0.377 total time=   4.4s\n",
      "[CV 4/5] END C=10, class_weight=balanced, gamma=0.0001, kernel=rbf, random_state=15;, score=0.363 total time=   4.4s\n",
      "[CV 5/5] END C=10, class_weight=balanced, gamma=0.0001, kernel=rbf, random_state=15;, score=0.321 total time=   4.2s\n",
      "[CV 1/5] END C=10, class_weight=balanced, gamma=0.0001, kernel=sigmoid, random_state=15;, score=0.250 total time=   4.2s\n",
      "[CV 2/5] END C=10, class_weight=balanced, gamma=0.0001, kernel=sigmoid, random_state=15;, score=0.259 total time=   4.0s\n",
      "[CV 3/5] END C=10, class_weight=balanced, gamma=0.0001, kernel=sigmoid, random_state=15;, score=0.217 total time=   4.0s\n",
      "[CV 4/5] END C=10, class_weight=balanced, gamma=0.0001, kernel=sigmoid, random_state=15;, score=0.226 total time=   3.9s\n",
      "[CV 5/5] END C=10, class_weight=balanced, gamma=0.0001, kernel=sigmoid, random_state=15;, score=0.255 total time=   4.0s\n",
      "[CV 1/5] END C=100, class_weight=None, gamma=0.001, kernel=linear, random_state=15;, score=0.759 total time=   1.9s\n",
      "[CV 2/5] END C=100, class_weight=None, gamma=0.001, kernel=linear, random_state=15;, score=0.764 total time=   1.8s\n",
      "[CV 3/5] END C=100, class_weight=None, gamma=0.001, kernel=linear, random_state=15;, score=0.778 total time=   1.9s\n",
      "[CV 4/5] END C=100, class_weight=None, gamma=0.001, kernel=linear, random_state=15;, score=0.797 total time=   1.8s\n",
      "[CV 5/5] END C=100, class_weight=None, gamma=0.001, kernel=linear, random_state=15;, score=0.774 total time=   1.8s\n",
      "[CV 1/5] END C=100, class_weight=None, gamma=0.001, kernel=poly, random_state=15;, score=0.736 total time=   1.8s\n",
      "[CV 2/5] END C=100, class_weight=None, gamma=0.001, kernel=poly, random_state=15;, score=0.755 total time=   1.9s\n",
      "[CV 3/5] END C=100, class_weight=None, gamma=0.001, kernel=poly, random_state=15;, score=0.759 total time=   1.9s\n",
      "[CV 4/5] END C=100, class_weight=None, gamma=0.001, kernel=poly, random_state=15;, score=0.764 total time=   1.8s\n",
      "[CV 5/5] END C=100, class_weight=None, gamma=0.001, kernel=poly, random_state=15;, score=0.759 total time=   1.9s\n",
      "[CV 1/5] END C=100, class_weight=None, gamma=0.001, kernel=rbf, random_state=15;, score=0.755 total time=   2.4s\n",
      "[CV 2/5] END C=100, class_weight=None, gamma=0.001, kernel=rbf, random_state=15;, score=0.783 total time=   2.4s\n",
      "[CV 3/5] END C=100, class_weight=None, gamma=0.001, kernel=rbf, random_state=15;, score=0.783 total time=   2.4s\n",
      "[CV 4/5] END C=100, class_weight=None, gamma=0.001, kernel=rbf, random_state=15;, score=0.788 total time=   2.3s\n",
      "[CV 5/5] END C=100, class_weight=None, gamma=0.001, kernel=rbf, random_state=15;, score=0.764 total time=   2.4s\n",
      "[CV 1/5] END C=100, class_weight=None, gamma=0.001, kernel=sigmoid, random_state=15;, score=0.349 total time=   1.6s\n",
      "[CV 2/5] END C=100, class_weight=None, gamma=0.001, kernel=sigmoid, random_state=15;, score=0.425 total time=   1.5s\n",
      "[CV 3/5] END C=100, class_weight=None, gamma=0.001, kernel=sigmoid, random_state=15;, score=0.406 total time=   1.5s\n",
      "[CV 4/5] END C=100, class_weight=None, gamma=0.001, kernel=sigmoid, random_state=15;, score=0.406 total time=   1.5s\n",
      "[CV 5/5] END C=100, class_weight=None, gamma=0.001, kernel=sigmoid, random_state=15;, score=0.434 total time=   1.6s\n",
      "[CV 1/5] END C=100, class_weight=None, gamma=0.0001, kernel=linear, random_state=15;, score=0.759 total time=   1.8s\n",
      "[CV 2/5] END C=100, class_weight=None, gamma=0.0001, kernel=linear, random_state=15;, score=0.764 total time=   2.0s\n",
      "[CV 3/5] END C=100, class_weight=None, gamma=0.0001, kernel=linear, random_state=15;, score=0.778 total time=   1.9s\n",
      "[CV 4/5] END C=100, class_weight=None, gamma=0.0001, kernel=linear, random_state=15;, score=0.797 total time=   1.8s\n",
      "[CV 5/5] END C=100, class_weight=None, gamma=0.0001, kernel=linear, random_state=15;, score=0.774 total time=   1.9s\n",
      "[CV 1/5] END C=100, class_weight=None, gamma=0.0001, kernel=poly, random_state=15;, score=0.340 total time=   2.4s\n",
      "[CV 2/5] END C=100, class_weight=None, gamma=0.0001, kernel=poly, random_state=15;, score=0.344 total time=   2.4s\n",
      "[CV 3/5] END C=100, class_weight=None, gamma=0.0001, kernel=poly, random_state=15;, score=0.340 total time=   2.4s\n",
      "[CV 4/5] END C=100, class_weight=None, gamma=0.0001, kernel=poly, random_state=15;, score=0.340 total time=   2.3s\n",
      "[CV 5/5] END C=100, class_weight=None, gamma=0.0001, kernel=poly, random_state=15;, score=0.340 total time=   2.4s\n",
      "[CV 1/5] END C=100, class_weight=None, gamma=0.0001, kernel=rbf, random_state=15;, score=0.684 total time=   2.5s\n",
      "[CV 2/5] END C=100, class_weight=None, gamma=0.0001, kernel=rbf, random_state=15;, score=0.726 total time=   2.5s\n",
      "[CV 3/5] END C=100, class_weight=None, gamma=0.0001, kernel=rbf, random_state=15;, score=0.722 total time=   2.4s\n",
      "[CV 4/5] END C=100, class_weight=None, gamma=0.0001, kernel=rbf, random_state=15;, score=0.726 total time=   2.4s\n",
      "[CV 5/5] END C=100, class_weight=None, gamma=0.0001, kernel=rbf, random_state=15;, score=0.708 total time=   2.4s\n",
      "[CV 1/5] END C=100, class_weight=None, gamma=0.0001, kernel=sigmoid, random_state=15;, score=0.613 total time=   2.1s\n",
      "[CV 2/5] END C=100, class_weight=None, gamma=0.0001, kernel=sigmoid, random_state=15;, score=0.646 total time=   2.1s\n",
      "[CV 3/5] END C=100, class_weight=None, gamma=0.0001, kernel=sigmoid, random_state=15;, score=0.613 total time=   2.1s\n",
      "[CV 4/5] END C=100, class_weight=None, gamma=0.0001, kernel=sigmoid, random_state=15;, score=0.618 total time=   2.1s\n",
      "[CV 5/5] END C=100, class_weight=None, gamma=0.0001, kernel=sigmoid, random_state=15;, score=0.623 total time=   2.0s\n",
      "[CV 1/5] END C=100, class_weight=balanced, gamma=0.001, kernel=linear, random_state=15;, score=0.759 total time=   1.8s\n",
      "[CV 2/5] END C=100, class_weight=balanced, gamma=0.001, kernel=linear, random_state=15;, score=0.764 total time=   1.8s\n",
      "[CV 3/5] END C=100, class_weight=balanced, gamma=0.001, kernel=linear, random_state=15;, score=0.778 total time=   1.8s\n",
      "[CV 4/5] END C=100, class_weight=balanced, gamma=0.001, kernel=linear, random_state=15;, score=0.797 total time=   1.8s\n",
      "[CV 5/5] END C=100, class_weight=balanced, gamma=0.001, kernel=linear, random_state=15;, score=0.774 total time=   1.9s\n",
      "[CV 1/5] END C=100, class_weight=balanced, gamma=0.001, kernel=poly, random_state=15;, score=0.726 total time=   1.9s\n",
      "[CV 2/5] END C=100, class_weight=balanced, gamma=0.001, kernel=poly, random_state=15;, score=0.792 total time=   1.9s\n",
      "[CV 3/5] END C=100, class_weight=balanced, gamma=0.001, kernel=poly, random_state=15;, score=0.750 total time=   1.9s\n",
      "[CV 4/5] END C=100, class_weight=balanced, gamma=0.001, kernel=poly, random_state=15;, score=0.759 total time=   1.9s\n",
      "[CV 5/5] END C=100, class_weight=balanced, gamma=0.001, kernel=poly, random_state=15;, score=0.755 total time=   1.8s\n",
      "[CV 1/5] END C=100, class_weight=balanced, gamma=0.001, kernel=rbf, random_state=15;, score=0.750 total time=   2.3s\n",
      "[CV 2/5] END C=100, class_weight=balanced, gamma=0.001, kernel=rbf, random_state=15;, score=0.792 total time=   2.4s\n",
      "[CV 3/5] END C=100, class_weight=balanced, gamma=0.001, kernel=rbf, random_state=15;, score=0.797 total time=   2.3s\n"
     ]
    },
    {
     "name": "stdout",
     "output_type": "stream",
     "text": [
      "[CV 4/5] END C=100, class_weight=balanced, gamma=0.001, kernel=rbf, random_state=15;, score=0.797 total time=   2.3s\n",
      "[CV 5/5] END C=100, class_weight=balanced, gamma=0.001, kernel=rbf, random_state=15;, score=0.769 total time=   2.3s\n",
      "[CV 1/5] END C=100, class_weight=balanced, gamma=0.001, kernel=sigmoid, random_state=15;, score=0.283 total time=   1.8s\n",
      "[CV 2/5] END C=100, class_weight=balanced, gamma=0.001, kernel=sigmoid, random_state=15;, score=0.307 total time=   1.8s\n",
      "[CV 3/5] END C=100, class_weight=balanced, gamma=0.001, kernel=sigmoid, random_state=15;, score=0.349 total time=   1.8s\n",
      "[CV 4/5] END C=100, class_weight=balanced, gamma=0.001, kernel=sigmoid, random_state=15;, score=0.307 total time=   1.9s\n",
      "[CV 5/5] END C=100, class_weight=balanced, gamma=0.001, kernel=sigmoid, random_state=15;, score=0.368 total time=   2.0s\n",
      "[CV 1/5] END C=100, class_weight=balanced, gamma=0.0001, kernel=linear, random_state=15;, score=0.759 total time=   1.8s\n",
      "[CV 2/5] END C=100, class_weight=balanced, gamma=0.0001, kernel=linear, random_state=15;, score=0.764 total time=   1.9s\n",
      "[CV 3/5] END C=100, class_weight=balanced, gamma=0.0001, kernel=linear, random_state=15;, score=0.778 total time=   1.9s\n",
      "[CV 4/5] END C=100, class_weight=balanced, gamma=0.0001, kernel=linear, random_state=15;, score=0.797 total time=   1.9s\n",
      "[CV 5/5] END C=100, class_weight=balanced, gamma=0.0001, kernel=linear, random_state=15;, score=0.774 total time=   1.9s\n",
      "[CV 1/5] END C=100, class_weight=balanced, gamma=0.0001, kernel=poly, random_state=15;, score=0.118 total time=   4.1s\n",
      "[CV 2/5] END C=100, class_weight=balanced, gamma=0.0001, kernel=poly, random_state=15;, score=0.075 total time=   4.0s\n",
      "[CV 3/5] END C=100, class_weight=balanced, gamma=0.0001, kernel=poly, random_state=15;, score=0.108 total time=   4.0s\n",
      "[CV 4/5] END C=100, class_weight=balanced, gamma=0.0001, kernel=poly, random_state=15;, score=0.075 total time=   4.1s\n",
      "[CV 5/5] END C=100, class_weight=balanced, gamma=0.0001, kernel=poly, random_state=15;, score=0.061 total time=   3.9s\n",
      "[CV 1/5] END C=100, class_weight=balanced, gamma=0.0001, kernel=rbf, random_state=15;, score=0.679 total time=   3.0s\n",
      "[CV 2/5] END C=100, class_weight=balanced, gamma=0.0001, kernel=rbf, random_state=15;, score=0.759 total time=   3.0s\n",
      "[CV 3/5] END C=100, class_weight=balanced, gamma=0.0001, kernel=rbf, random_state=15;, score=0.745 total time=   3.2s\n",
      "[CV 4/5] END C=100, class_weight=balanced, gamma=0.0001, kernel=rbf, random_state=15;, score=0.717 total time=   3.0s\n",
      "[CV 5/5] END C=100, class_weight=balanced, gamma=0.0001, kernel=rbf, random_state=15;, score=0.726 total time=   3.0s\n",
      "[CV 1/5] END C=100, class_weight=balanced, gamma=0.0001, kernel=sigmoid, random_state=15;, score=0.627 total time=   2.9s\n",
      "[CV 2/5] END C=100, class_weight=balanced, gamma=0.0001, kernel=sigmoid, random_state=15;, score=0.731 total time=   3.0s\n",
      "[CV 3/5] END C=100, class_weight=balanced, gamma=0.0001, kernel=sigmoid, random_state=15;, score=0.693 total time=   2.9s\n",
      "[CV 4/5] END C=100, class_weight=balanced, gamma=0.0001, kernel=sigmoid, random_state=15;, score=0.632 total time=   3.3s\n",
      "[CV 5/5] END C=100, class_weight=balanced, gamma=0.0001, kernel=sigmoid, random_state=15;, score=0.632 total time=   3.0s\n",
      "[CV 1/5] END C=1000, class_weight=None, gamma=0.001, kernel=linear, random_state=15;, score=0.759 total time=   1.8s\n",
      "[CV 2/5] END C=1000, class_weight=None, gamma=0.001, kernel=linear, random_state=15;, score=0.764 total time=   1.9s\n",
      "[CV 3/5] END C=1000, class_weight=None, gamma=0.001, kernel=linear, random_state=15;, score=0.778 total time=   1.9s\n",
      "[CV 4/5] END C=1000, class_weight=None, gamma=0.001, kernel=linear, random_state=15;, score=0.797 total time=   1.9s\n",
      "[CV 5/5] END C=1000, class_weight=None, gamma=0.001, kernel=linear, random_state=15;, score=0.774 total time=   1.8s\n",
      "[CV 1/5] END C=1000, class_weight=None, gamma=0.001, kernel=poly, random_state=15;, score=0.736 total time=   2.0s\n",
      "[CV 2/5] END C=1000, class_weight=None, gamma=0.001, kernel=poly, random_state=15;, score=0.759 total time=   1.9s\n",
      "[CV 3/5] END C=1000, class_weight=None, gamma=0.001, kernel=poly, random_state=15;, score=0.750 total time=   1.9s\n",
      "[CV 4/5] END C=1000, class_weight=None, gamma=0.001, kernel=poly, random_state=15;, score=0.774 total time=   2.0s\n",
      "[CV 5/5] END C=1000, class_weight=None, gamma=0.001, kernel=poly, random_state=15;, score=0.741 total time=   1.8s\n",
      "[CV 1/5] END C=1000, class_weight=None, gamma=0.001, kernel=rbf, random_state=15;, score=0.759 total time=   2.3s\n",
      "[CV 2/5] END C=1000, class_weight=None, gamma=0.001, kernel=rbf, random_state=15;, score=0.783 total time=   2.4s\n",
      "[CV 3/5] END C=1000, class_weight=None, gamma=0.001, kernel=rbf, random_state=15;, score=0.783 total time=   2.4s\n",
      "[CV 4/5] END C=1000, class_weight=None, gamma=0.001, kernel=rbf, random_state=15;, score=0.788 total time=   2.3s\n",
      "[CV 5/5] END C=1000, class_weight=None, gamma=0.001, kernel=rbf, random_state=15;, score=0.774 total time=   2.4s\n",
      "[CV 1/5] END C=1000, class_weight=None, gamma=0.001, kernel=sigmoid, random_state=15;, score=0.325 total time=   1.3s\n",
      "[CV 2/5] END C=1000, class_weight=None, gamma=0.001, kernel=sigmoid, random_state=15;, score=0.311 total time=   1.5s\n",
      "[CV 3/5] END C=1000, class_weight=None, gamma=0.001, kernel=sigmoid, random_state=15;, score=0.358 total time=   1.5s\n",
      "[CV 4/5] END C=1000, class_weight=None, gamma=0.001, kernel=sigmoid, random_state=15;, score=0.363 total time=   1.5s\n",
      "[CV 5/5] END C=1000, class_weight=None, gamma=0.001, kernel=sigmoid, random_state=15;, score=0.363 total time=   1.5s\n",
      "[CV 1/5] END C=1000, class_weight=None, gamma=0.0001, kernel=linear, random_state=15;, score=0.759 total time=   1.8s\n",
      "[CV 2/5] END C=1000, class_weight=None, gamma=0.0001, kernel=linear, random_state=15;, score=0.764 total time=   1.8s\n",
      "[CV 3/5] END C=1000, class_weight=None, gamma=0.0001, kernel=linear, random_state=15;, score=0.778 total time=   1.8s\n",
      "[CV 4/5] END C=1000, class_weight=None, gamma=0.0001, kernel=linear, random_state=15;, score=0.797 total time=   1.8s\n",
      "[CV 5/5] END C=1000, class_weight=None, gamma=0.0001, kernel=linear, random_state=15;, score=0.774 total time=   1.8s\n",
      "[CV 1/5] END C=1000, class_weight=None, gamma=0.0001, kernel=poly, random_state=15;, score=0.368 total time=   2.3s\n",
      "[CV 2/5] END C=1000, class_weight=None, gamma=0.0001, kernel=poly, random_state=15;, score=0.358 total time=   2.5s\n",
      "[CV 3/5] END C=1000, class_weight=None, gamma=0.0001, kernel=poly, random_state=15;, score=0.358 total time=   2.5s\n",
      "[CV 4/5] END C=1000, class_weight=None, gamma=0.0001, kernel=poly, random_state=15;, score=0.340 total time=   2.4s\n",
      "[CV 5/5] END C=1000, class_weight=None, gamma=0.0001, kernel=poly, random_state=15;, score=0.349 total time=   2.6s\n",
      "[CV 1/5] END C=1000, class_weight=None, gamma=0.0001, kernel=rbf, random_state=15;, score=0.759 total time=   2.5s\n",
      "[CV 2/5] END C=1000, class_weight=None, gamma=0.0001, kernel=rbf, random_state=15;, score=0.778 total time=   2.4s\n",
      "[CV 3/5] END C=1000, class_weight=None, gamma=0.0001, kernel=rbf, random_state=15;, score=0.783 total time=   2.5s\n",
      "[CV 4/5] END C=1000, class_weight=None, gamma=0.0001, kernel=rbf, random_state=15;, score=0.797 total time=   2.3s\n",
      "[CV 5/5] END C=1000, class_weight=None, gamma=0.0001, kernel=rbf, random_state=15;, score=0.764 total time=   2.3s\n",
      "[CV 1/5] END C=1000, class_weight=None, gamma=0.0001, kernel=sigmoid, random_state=15;, score=0.755 total time=   2.0s\n",
      "[CV 2/5] END C=1000, class_weight=None, gamma=0.0001, kernel=sigmoid, random_state=15;, score=0.774 total time=   2.1s\n",
      "[CV 3/5] END C=1000, class_weight=None, gamma=0.0001, kernel=sigmoid, random_state=15;, score=0.788 total time=   1.9s\n",
      "[CV 4/5] END C=1000, class_weight=None, gamma=0.0001, kernel=sigmoid, random_state=15;, score=0.792 total time=   2.0s\n",
      "[CV 5/5] END C=1000, class_weight=None, gamma=0.0001, kernel=sigmoid, random_state=15;, score=0.783 total time=   1.9s\n",
      "[CV 1/5] END C=1000, class_weight=balanced, gamma=0.001, kernel=linear, random_state=15;, score=0.759 total time=   1.9s\n",
      "[CV 2/5] END C=1000, class_weight=balanced, gamma=0.001, kernel=linear, random_state=15;, score=0.764 total time=   1.9s\n",
      "[CV 3/5] END C=1000, class_weight=balanced, gamma=0.001, kernel=linear, random_state=15;, score=0.778 total time=   1.9s\n"
     ]
    },
    {
     "name": "stdout",
     "output_type": "stream",
     "text": [
      "[CV 4/5] END C=1000, class_weight=balanced, gamma=0.001, kernel=linear, random_state=15;, score=0.797 total time=   2.0s\n",
      "[CV 5/5] END C=1000, class_weight=balanced, gamma=0.001, kernel=linear, random_state=15;, score=0.774 total time=   2.0s\n",
      "[CV 1/5] END C=1000, class_weight=balanced, gamma=0.001, kernel=poly, random_state=15;, score=0.736 total time=   1.9s\n",
      "[CV 2/5] END C=1000, class_weight=balanced, gamma=0.001, kernel=poly, random_state=15;, score=0.755 total time=   1.9s\n",
      "[CV 3/5] END C=1000, class_weight=balanced, gamma=0.001, kernel=poly, random_state=15;, score=0.755 total time=   2.0s\n",
      "[CV 4/5] END C=1000, class_weight=balanced, gamma=0.001, kernel=poly, random_state=15;, score=0.774 total time=   1.8s\n",
      "[CV 5/5] END C=1000, class_weight=balanced, gamma=0.001, kernel=poly, random_state=15;, score=0.736 total time=   1.8s\n",
      "[CV 1/5] END C=1000, class_weight=balanced, gamma=0.001, kernel=rbf, random_state=15;, score=0.759 total time=   2.4s\n",
      "[CV 2/5] END C=1000, class_weight=balanced, gamma=0.001, kernel=rbf, random_state=15;, score=0.783 total time=   2.3s\n",
      "[CV 3/5] END C=1000, class_weight=balanced, gamma=0.001, kernel=rbf, random_state=15;, score=0.783 total time=   2.5s\n",
      "[CV 4/5] END C=1000, class_weight=balanced, gamma=0.001, kernel=rbf, random_state=15;, score=0.788 total time=   2.4s\n",
      "[CV 5/5] END C=1000, class_weight=balanced, gamma=0.001, kernel=rbf, random_state=15;, score=0.774 total time=   2.4s\n",
      "[CV 1/5] END C=1000, class_weight=balanced, gamma=0.001, kernel=sigmoid, random_state=15;, score=0.245 total time=   1.7s\n",
      "[CV 2/5] END C=1000, class_weight=balanced, gamma=0.001, kernel=sigmoid, random_state=15;, score=0.259 total time=   1.7s\n",
      "[CV 3/5] END C=1000, class_weight=balanced, gamma=0.001, kernel=sigmoid, random_state=15;, score=0.283 total time=   1.7s\n",
      "[CV 4/5] END C=1000, class_weight=balanced, gamma=0.001, kernel=sigmoid, random_state=15;, score=0.245 total time=   1.7s\n",
      "[CV 5/5] END C=1000, class_weight=balanced, gamma=0.001, kernel=sigmoid, random_state=15;, score=0.292 total time=   1.7s\n",
      "[CV 1/5] END C=1000, class_weight=balanced, gamma=0.0001, kernel=linear, random_state=15;, score=0.759 total time=   1.8s\n",
      "[CV 2/5] END C=1000, class_weight=balanced, gamma=0.0001, kernel=linear, random_state=15;, score=0.764 total time=   2.0s\n",
      "[CV 3/5] END C=1000, class_weight=balanced, gamma=0.0001, kernel=linear, random_state=15;, score=0.778 total time=   1.9s\n",
      "[CV 4/5] END C=1000, class_weight=balanced, gamma=0.0001, kernel=linear, random_state=15;, score=0.797 total time=   2.0s\n",
      "[CV 5/5] END C=1000, class_weight=balanced, gamma=0.0001, kernel=linear, random_state=15;, score=0.774 total time=   1.9s\n",
      "[CV 1/5] END C=1000, class_weight=balanced, gamma=0.0001, kernel=poly, random_state=15;, score=0.340 total time=   3.7s\n",
      "[CV 2/5] END C=1000, class_weight=balanced, gamma=0.0001, kernel=poly, random_state=15;, score=0.344 total time=   3.7s\n",
      "[CV 3/5] END C=1000, class_weight=balanced, gamma=0.0001, kernel=poly, random_state=15;, score=0.307 total time=   3.7s\n",
      "[CV 4/5] END C=1000, class_weight=balanced, gamma=0.0001, kernel=poly, random_state=15;, score=0.307 total time=   3.6s\n",
      "[CV 5/5] END C=1000, class_weight=balanced, gamma=0.0001, kernel=poly, random_state=15;, score=0.288 total time=   3.7s\n",
      "[CV 1/5] END C=1000, class_weight=balanced, gamma=0.0001, kernel=rbf, random_state=15;, score=0.731 total time=   2.4s\n",
      "[CV 2/5] END C=1000, class_weight=balanced, gamma=0.0001, kernel=rbf, random_state=15;, score=0.783 total time=   2.4s\n",
      "[CV 3/5] END C=1000, class_weight=balanced, gamma=0.0001, kernel=rbf, random_state=15;, score=0.792 total time=   2.4s\n",
      "[CV 4/5] END C=1000, class_weight=balanced, gamma=0.0001, kernel=rbf, random_state=15;, score=0.792 total time=   2.3s\n",
      "[CV 5/5] END C=1000, class_weight=balanced, gamma=0.0001, kernel=rbf, random_state=15;, score=0.764 total time=   2.3s\n",
      "[CV 1/5] END C=1000, class_weight=balanced, gamma=0.0001, kernel=sigmoid, random_state=15;, score=0.731 total time=   2.0s\n",
      "[CV 2/5] END C=1000, class_weight=balanced, gamma=0.0001, kernel=sigmoid, random_state=15;, score=0.797 total time=   2.1s\n",
      "[CV 3/5] END C=1000, class_weight=balanced, gamma=0.0001, kernel=sigmoid, random_state=15;, score=0.778 total time=   2.0s\n",
      "[CV 4/5] END C=1000, class_weight=balanced, gamma=0.0001, kernel=sigmoid, random_state=15;, score=0.802 total time=   2.1s\n",
      "[CV 5/5] END C=1000, class_weight=balanced, gamma=0.0001, kernel=sigmoid, random_state=15;, score=0.764 total time=   2.1s\n"
     ]
    },
    {
     "data": {
      "text/plain": [
       "GridSearchCV(estimator=SVC(),\n",
       "             param_grid=[{'C': [1, 10, 100, 1000],\n",
       "                          'class_weight': [None, 'balanced'],\n",
       "                          'gamma': [0.001, 0.0001],\n",
       "                          'kernel': ['linear', 'poly', 'rbf', 'sigmoid'],\n",
       "                          'random_state': [15]}],\n",
       "             verbose=3)"
      ]
     },
     "execution_count": 87,
     "metadata": {},
     "output_type": "execute_result"
    }
   ],
   "source": [
    "cv.fit(X_train, y_train)"
   ]
  },
  {
   "cell_type": "markdown",
   "metadata": {
    "id": "YH-ufkYcYoiw"
   },
   "source": [
    "Определите гиперпараметры лучшей полученной модели."
   ]
  },
  {
   "cell_type": "code",
   "execution_count": 88,
   "metadata": {
    "id": "MTHT-HJiFrZz"
   },
   "outputs": [
    {
     "data": {
      "text/plain": [
       "{'C': 100,\n",
       " 'class_weight': 'balanced',\n",
       " 'gamma': 0.001,\n",
       " 'kernel': 'rbf',\n",
       " 'random_state': 15}"
      ]
     },
     "execution_count": 88,
     "metadata": {},
     "output_type": "execute_result"
    }
   ],
   "source": [
    "cv.best_params_"
   ]
  },
  {
   "cell_type": "markdown",
   "metadata": {
    "id": "1owOotVmZi3C"
   },
   "source": [
    "Выполните предсказание для тестовых данных при помощи лучшей полученной модели. Вычислите <code>f1_score(average='weighted')</code>."
   ]
  },
  {
   "cell_type": "code",
   "execution_count": 92,
   "metadata": {},
   "outputs": [
    {
     "data": {
      "text/plain": [
       "0.7955559012883923"
      ]
     },
     "execution_count": 92,
     "metadata": {},
     "output_type": "execute_result"
    }
   ],
   "source": [
    "best_model = cv.best_estimator_\n",
    "f1_score(y_test, best_model.predict(X_test), average='weighted') "
   ]
  },
  {
   "cell_type": "markdown",
   "metadata": {
    "id": "h4hQneoOa4G7"
   },
   "source": [
    "## Уменьшение размерности"
   ]
  },
  {
   "cell_type": "markdown",
   "metadata": {
    "id": "-PwauftDRKh-"
   },
   "source": [
    "Обучение было долгим. Имеет смысл проверить, что будет если уменьшить размерность входных данных, например, при помощи <code>PCA</code>. Обучите модель <code>PCA(svd_solver='full')</code> на тренировочных данных и определите минимальное количество компонент, необходимое для того, чтобы уровень объясненной дисперсии был больше <code>0.95</code>."
   ]
  },
  {
   "cell_type": "code",
   "execution_count": 103,
   "metadata": {
    "id": "VrnHwI3nN4tL"
   },
   "outputs": [
    {
     "data": {
      "text/plain": [
       "PCA(n_components=1060, svd_solver='full')"
      ]
     },
     "execution_count": 103,
     "metadata": {},
     "output_type": "execute_result"
    }
   ],
   "source": [
    "# for n_comp in range(2):\n",
    "#     # будет 3 главные компоненты\n",
    "#     pca = PCA(n_components=n_comp, svd_solver='full')\n",
    "#     pca.fit(X_train)\n",
    "#     print(f'Для {n_comp}: {sum(pca.explained_variance_ratio_)}')\n",
    "\n",
    "pca = PCA(n_components=1060, svd_solver='full')\n",
    "pca.fit(X_train)"
   ]
  },
  {
   "cell_type": "code",
   "execution_count": 118,
   "metadata": {},
   "outputs": [
    {
     "name": "stdout",
     "output_type": "stream",
     "text": [
      "Для 0 компонент уровень объясненной дисперсии: 0\n",
      "Для 1 компонент уровень объясненной дисперсии: 0.23520725745019908\n",
      "Для 2 компонент уровень объясненной дисперсии: 0.3678270241157832\n",
      "Для 3 компонент уровень объясненной дисперсии: 0.43279737532240253\n",
      "Для 4 компонент уровень объясненной дисперсии: 0.48846897626337826\n",
      "Для 5 компонент уровень объясненной дисперсии: 0.5307838471043845\n",
      "Для 6 компонент уровень объясненной дисперсии: 0.5567989957478165\n",
      "Для 7 компонент уровень объясненной дисперсии: 0.5795518186953253\n",
      "Для 8 компонент уровень объясненной дисперсии: 0.5986113668422719\n",
      "Для 9 компонент уровень объясненной дисперсии: 0.6161294598781204\n",
      "Для 10 компонент уровень объясненной дисперсии: 0.6323516595509625\n",
      "Для 11 компонент уровень объясненной дисперсии: 0.6461739500830902\n",
      "Для 12 компонент уровень объясненной дисперсии: 0.6594348234469523\n",
      "Для 13 компонент уровень объясненной дисперсии: 0.6705534338910053\n",
      "Для 14 компонент уровень объясненной дисперсии: 0.6807345360085761\n",
      "Для 15 компонент уровень объясненной дисперсии: 0.6908441248301482\n",
      "Для 16 компонент уровень объясненной дисперсии: 0.7000636330952252\n",
      "Для 17 компонент уровень объясненной дисперсии: 0.7087767390781241\n",
      "Для 18 компонент уровень объясненной дисперсии: 0.7173064646515527\n",
      "Для 19 компонент уровень объясненной дисперсии: 0.7248215576623421\n",
      "Для 20 компонент уровень объясненной дисперсии: 0.7321697935917497\n",
      "Для 21 компонент уровень объясненной дисперсии: 0.7386173104725617\n",
      "Для 22 компонент уровень объясненной дисперсии: 0.7448673639870458\n",
      "Для 23 компонент уровень объясненной дисперсии: 0.7507193762932329\n",
      "Для 24 компонент уровень объясненной дисперсии: 0.7558187289055812\n",
      "Для 25 компонент уровень объясненной дисперсии: 0.7608488267012045\n",
      "Для 26 компонент уровень объясненной дисперсии: 0.7656140180306665\n",
      "Для 27 компонент уровень объясненной дисперсии: 0.7703185420535702\n",
      "Для 28 компонент уровень объясненной дисперсии: 0.774831019711211\n",
      "Для 29 компонент уровень объясненной дисперсии: 0.7790368386182535\n",
      "Для 30 компонент уровень объясненной дисперсии: 0.7829834676653971\n",
      "Для 31 компонент уровень объясненной дисперсии: 0.7867970155280403\n",
      "Для 32 компонент уровень объясненной дисперсии: 0.7904454315066496\n",
      "Для 33 компонент уровень объясненной дисперсии: 0.7938265181577624\n",
      "Для 34 компонент уровень объясненной дисперсии: 0.7971840684048649\n",
      "Для 35 компонент уровень объясненной дисперсии: 0.8004243340145237\n",
      "Для 36 компонент уровень объясненной дисперсии: 0.8035939718671179\n",
      "Для 37 компонент уровень объясненной дисперсии: 0.8066254496877667\n",
      "Для 38 компонент уровень объясненной дисперсии: 0.8095943411324673\n",
      "Для 39 компонент уровень объясненной дисперсии: 0.8125265048067328\n",
      "Для 40 компонент уровень объясненной дисперсии: 0.8154081285792992\n",
      "Для 41 компонент уровень объясненной дисперсии: 0.8181442824079737\n",
      "Для 42 компонент уровень объясненной дисперсии: 0.8207683090428546\n",
      "Для 43 компонент уровень объясненной дисперсии: 0.8233530611912148\n",
      "Для 44 компонент уровень объясненной дисперсии: 0.8259151320535325\n",
      "Для 45 компонент уровень объясненной дисперсии: 0.8283911289240806\n",
      "Для 46 компонент уровень объясненной дисперсии: 0.8307718092107105\n",
      "Для 47 компонент уровень объясненной дисперсии: 0.8331328384078494\n",
      "Для 48 компонент уровень объясненной дисперсии: 0.8354535845084746\n",
      "Для 49 компонент уровень объясненной дисперсии: 0.8377414690783498\n",
      "Для 50 компонент уровень объясненной дисперсии: 0.8399505017239389\n",
      "Для 51 компонент уровень объясненной дисперсии: 0.8421518027494419\n",
      "Для 52 компонент уровень объясненной дисперсии: 0.8442233848748191\n",
      "Для 53 компонент уровень объясненной дисперсии: 0.8462586014410169\n",
      "Для 54 компонент уровень объясненной дисперсии: 0.84822559946651\n",
      "Для 55 компонент уровень объясненной дисперсии: 0.850170388696274\n",
      "Для 56 компонент уровень объясненной дисперсии: 0.8520788746644722\n",
      "Для 57 компонент уровень объясненной дисперсии: 0.8539145412727386\n",
      "Для 58 компонент уровень объясненной дисперсии: 0.8557389235393659\n",
      "Для 59 компонент уровень объясненной дисперсии: 0.8575470617502925\n",
      "Для 60 компонент уровень объясненной дисперсии: 0.859283270622187\n",
      "Для 61 компонент уровень объясненной дисперсии: 0.860982255575829\n",
      "Для 62 компонент уровень объясненной дисперсии: 0.8626591944182824\n",
      "Для 63 компонент уровень объясненной дисперсии: 0.8642896916831344\n",
      "Для 64 компонент уровень объясненной дисперсии: 0.8658977661838809\n",
      "Для 65 компонент уровень объясненной дисперсии: 0.8674925150827841\n",
      "Для 66 компонент уровень объясненной дисперсии: 0.8690329582426304\n",
      "Для 67 компонент уровень объясненной дисперсии: 0.8705359220238194\n",
      "Для 68 компонент уровень объясненной дисперсии: 0.8720245267333537\n",
      "Для 69 компонент уровень объясненной дисперсии: 0.8735016981551442\n",
      "Для 70 компонент уровень объясненной дисперсии: 0.8749645359982556\n",
      "Для 71 компонент уровень объясненной дисперсии: 0.8763860430517979\n",
      "Для 72 компонент уровень объясненной дисперсии: 0.8777731538741697\n",
      "Для 73 компонент уровень объясненной дисперсии: 0.8791460258273954\n",
      "Для 74 компонент уровень объясненной дисперсии: 0.880484905082108\n",
      "Для 75 компонент уровень объясненной дисперсии: 0.8817967713328334\n",
      "Для 76 компонент уровень объясненной дисперсии: 0.8830593502180403\n",
      "Для 77 компонент уровень объясненной дисперсии: 0.8843150992933168\n",
      "Для 78 компонент уровень объясненной дисперсии: 0.8855440125641265\n",
      "Для 79 компонент уровень объясненной дисперсии: 0.886766666458143\n",
      "Для 80 компонент уровень объясненной дисперсии: 0.8879722434059577\n",
      "Для 81 компонент уровень объясненной дисперсии: 0.8891534913544664\n",
      "Для 82 компонент уровень объясненной дисперсии: 0.8903148622227066\n",
      "Для 83 компонент уровень объясненной дисперсии: 0.8914562451701508\n",
      "Для 84 компонент уровень объясненной дисперсии: 0.8925740875371896\n",
      "Для 85 компонент уровень объясненной дисперсии: 0.8936733067289483\n",
      "Для 86 компонент уровень объясненной дисперсии: 0.8947716055860694\n",
      "Для 87 компонент уровень объясненной дисперсии: 0.8958506776594232\n",
      "Для 88 компонент уровень объясненной дисперсии: 0.8969081870078203\n",
      "Для 89 компонент уровень объясненной дисперсии: 0.8979640342652614\n",
      "Для 90 компонент уровень объясненной дисперсии: 0.8990054199558222\n",
      "Для 91 компонент уровень объясненной дисперсии: 0.9000387076546479\n",
      "Для 92 компонент уровень объясненной дисперсии: 0.9010511066270648\n",
      "Для 93 компонент уровень объясненной дисперсии: 0.9020397728798225\n",
      "Для 94 компонент уровень объясненной дисперсии: 0.9030193404490141\n",
      "Для 95 компонент уровень объясненной дисперсии: 0.9039812976972661\n",
      "Для 96 компонент уровень объясненной дисперсии: 0.904930671597011\n",
      "Для 97 компонент уровень объясненной дисперсии: 0.9058674821450476\n",
      "Для 98 компонент уровень объясненной дисперсии: 0.9067918860972348\n",
      "Для 99 компонент уровень объясненной дисперсии: 0.9076838199390154\n",
      "Для 100 компонент уровень объясненной дисперсии: 0.9085581406695865\n",
      "Для 101 компонент уровень объясненной дисперсии: 0.9094190663974424\n",
      "Для 102 компонент уровень объясненной дисперсии: 0.9102759370934462\n",
      "Для 103 компонент уровень объясненной дисперсии: 0.9111304133561113\n",
      "Для 104 компонент уровень объясненной дисперсии: 0.9119543141332285\n",
      "Для 105 компонент уровень объясненной дисперсии: 0.9127621984949195\n",
      "Для 106 компонент уровень объясненной дисперсии: 0.9135589794364829\n",
      "Для 107 компонент уровень объясненной дисперсии: 0.9143429677835988\n",
      "Для 108 компонент уровень объясненной дисперсии: 0.9151191163308122\n",
      "Для 109 компонент уровень объясненной дисперсии: 0.9158879776195947\n",
      "Для 110 компонент уровень объясненной дисперсии: 0.9166510346421716\n",
      "Для 111 компонент уровень объясненной дисперсии: 0.9173991294002026\n",
      "Для 112 компонент уровень объясненной дисперсии: 0.9181436345306053\n",
      "Для 113 компонент уровень объясненной дисперсии: 0.91887299865546\n",
      "Для 114 компонент уровень объясненной дисперсии: 0.9195981885210165\n",
      "Для 115 компонент уровень объясненной дисперсии: 0.9203159223412626\n",
      "Для 116 компонент уровень объясненной дисперсии: 0.9210243060092499\n",
      "Для 117 компонент уровень объясненной дисперсии: 0.9217237562683014\n",
      "Для 118 компонент уровень объясненной дисперсии: 0.9224117986679141\n",
      "Для 119 компонент уровень объясненной дисперсии: 0.9230873264636884\n",
      "Для 120 компонент уровень объясненной дисперсии: 0.9237593615151685\n",
      "Для 121 компонент уровень объясненной дисперсии: 0.9244170901053703\n",
      "Для 122 компонент уровень объясненной дисперсии: 0.9250676466512335\n",
      "Для 123 компонент уровень объясненной дисперсии: 0.925706707039739\n",
      "Для 124 компонент уровень объясненной дисперсии: 0.926339245203037\n",
      "Для 125 компонент уровень объясненной дисперсии: 0.9269649256943132\n",
      "Для 126 компонент уровень объясненной дисперсии: 0.9275831917735202\n",
      "Для 127 компонент уровень объясненной дисперсии: 0.9281958417459685\n",
      "Для 128 компонент уровень объясненной дисперсии: 0.9288033405836323\n",
      "Для 129 компонент уровень объясненной дисперсии: 0.929406653401212\n",
      "Для 130 компонент уровень объясненной дисперсии: 0.9299979634402169\n",
      "Для 131 компонент уровень объясненной дисперсии: 0.9305806370548104\n",
      "Для 132 компонент уровень объясненной дисперсии: 0.9311622750832614\n",
      "Для 133 компонент уровень объясненной дисперсии: 0.9317280845784683\n",
      "Для 134 компонент уровень объясненной дисперсии: 0.9322911293235837\n",
      "Для 135 компонент уровень объясненной дисперсии: 0.9328512914647298\n",
      "Для 136 компонент уровень объясненной дисперсии: 0.9334051126893067\n",
      "Для 137 компонент уровень объясненной дисперсии: 0.9339519502820619\n",
      "Для 138 компонент уровень объясненной дисперсии: 0.9344980102825277\n",
      "Для 139 компонент уровень объясненной дисперсии: 0.9350339157816713\n",
      "Для 140 компонент уровень объясненной дисперсии: 0.9355606441501323\n",
      "Для 141 компонент уровень объясненной дисперсии: 0.9360838400220578\n",
      "Для 142 компонент уровень объясненной дисперсии: 0.9366039129999674\n",
      "Для 143 компонент уровень объясненной дисперсии: 0.9371155506972136\n",
      "Для 144 компонент уровень объясненной дисперсии: 0.937620116684307\n",
      "Для 145 компонент уровень объясненной дисперсии: 0.9381200494294534\n",
      "Для 146 компонент уровень объясненной дисперсии: 0.9386170911947712\n",
      "Для 147 компонент уровень объясненной дисперсии: 0.9391083741380267\n",
      "Для 148 компонент уровень объясненной дисперсии: 0.9395967053189094\n",
      "Для 149 компонент уровень объясненной дисперсии: 0.9400800961711884\n",
      "Для 150 компонент уровень объясненной дисперсии: 0.9405625527024449\n",
      "Для 151 компонент уровень объясненной дисперсии: 0.9410354632976282\n",
      "Для 152 компонент уровень объясненной дисперсии: 0.9414985922065114\n",
      "Для 153 компонент уровень объясненной дисперсии: 0.9419579239298164\n",
      "Для 154 компонент уровень объясненной дисперсии: 0.942413753486255\n",
      "Для 155 компонент уровень объясненной дисперсии: 0.9428632227900762\n",
      "Для 156 компонент уровень объясненной дисперсии: 0.9433098146193374\n",
      "Для 157 компонент уровень объясненной дисперсии: 0.9437474053232943\n",
      "Для 158 компонент уровень объясненной дисперсии: 0.9441834629054394\n",
      "Для 159 компонент уровень объясненной дисперсии: 0.9446166395278749\n",
      "Для 160 компонент уровень объясненной дисперсии: 0.9450421018587377\n",
      "Для 161 компонент уровень объясненной дисперсии: 0.945466257630528\n",
      "Для 162 компонент уровень объясненной дисперсии: 0.9458868691574193\n",
      "Для 163 компонент уровень объясненной дисперсии: 0.9463013698546275\n",
      "Для 164 компонент уровень объясненной дисперсии: 0.9467125803947635\n",
      "Для 165 компонент уровень объясненной дисперсии: 0.947115992815297\n",
      "Для 166 компонент уровень объясненной дисперсии: 0.9475163818291076\n",
      "Для 167 компонент уровень объясненной дисперсии: 0.9479151984676563\n",
      "Для 168 компонент уровень объясненной дисперсии: 0.9483062721888259\n",
      "Для 169 компонент уровень объясненной дисперсии: 0.9486935154812891\n",
      "Для 170 компонент уровень объясненной дисперсии: 0.9490781718091982\n",
      "Для 171 компонент уровень объясненной дисперсии: 0.94945796437247\n",
      "Для 172 компонент уровень объясненной дисперсии: 0.9498332940777386\n",
      "Для 173 компонент уровень объясненной дисперсии: 0.9502042111384142\n"
     ]
    }
   ],
   "source": [
    "for i in range(len(pca.explained_variance_ratio_)):\n",
    "    print(f'Для {i} компонент уровень объясненной дисперсии: {sum(pca.explained_variance_ratio_[:i])}')"
   ]
  },
  {
   "cell_type": "code",
   "execution_count": null,
   "metadata": {},
   "outputs": [],
   "source": []
  },
  {
   "cell_type": "markdown",
   "metadata": {
    "id": "rg9Q0G4ic5HZ"
   },
   "source": [
    "Заново обучите модель <code>PCA(svd_solver='full')</code> на тренировочных данных с использованием полученного числа ГК. Примените полученное преобразование для тренировочных и тестовых данных."
   ]
  },
  {
   "cell_type": "code",
   "execution_count": 119,
   "metadata": {
    "id": "DrFbJeBwPs0B"
   },
   "outputs": [],
   "source": [
    "pca = PCA(n_components=173, svd_solver='full')\n",
    "pca.fit(X_train)\n",
    "X_train_new = pca.transform(X_train)\n",
    "X_test_new = pca.transform(X_test)"
   ]
  },
  {
   "cell_type": "markdown",
   "metadata": {
    "id": "N2NJjCbFdXZW"
   },
   "source": [
    "Для полученных после <code>PCA</code> данных аналогично проделанному ранее, то есть используя <code>GridSearchCV()</code>, осуществите подбор гиперпараметров, указанных в вашем задании. Отдельно обратите внимание на время обучения моделей."
   ]
  },
  {
   "cell_type": "code",
   "execution_count": 120,
   "metadata": {
    "id": "Osdm-hJQP50Q"
   },
   "outputs": [],
   "source": [
    "model_1 = SVC()\n",
    "cv1 = GridSearchCV(model_1, tuned_parameters, refit=True, verbose=3)"
   ]
  },
  {
   "cell_type": "code",
   "execution_count": 121,
   "metadata": {},
   "outputs": [
    {
     "name": "stdout",
     "output_type": "stream",
     "text": [
      "Fitting 5 folds for each of 64 candidates, totalling 320 fits\n",
      "[CV 1/5] END C=1, class_weight=None, gamma=0.001, kernel=linear, random_state=15;, score=0.741 total time=   0.0s\n",
      "[CV 2/5] END C=1, class_weight=None, gamma=0.001, kernel=linear, random_state=15;, score=0.759 total time=   0.0s\n",
      "[CV 3/5] END C=1, class_weight=None, gamma=0.001, kernel=linear, random_state=15;, score=0.741 total time=   0.0s\n",
      "[CV 4/5] END C=1, class_weight=None, gamma=0.001, kernel=linear, random_state=15;, score=0.755 total time=   0.0s\n",
      "[CV 5/5] END C=1, class_weight=None, gamma=0.001, kernel=linear, random_state=15;, score=0.736 total time=   0.0s\n",
      "[CV 1/5] END C=1, class_weight=None, gamma=0.001, kernel=poly, random_state=15;, score=0.340 total time=   0.0s\n",
      "[CV 2/5] END C=1, class_weight=None, gamma=0.001, kernel=poly, random_state=15;, score=0.344 total time=   0.0s\n",
      "[CV 3/5] END C=1, class_weight=None, gamma=0.001, kernel=poly, random_state=15;, score=0.340 total time=   0.0s\n",
      "[CV 4/5] END C=1, class_weight=None, gamma=0.001, kernel=poly, random_state=15;, score=0.340 total time=   0.0s\n",
      "[CV 5/5] END C=1, class_weight=None, gamma=0.001, kernel=poly, random_state=15;, score=0.340 total time=   0.0s\n",
      "[CV 1/5] END C=1, class_weight=None, gamma=0.001, kernel=rbf, random_state=15;, score=0.396 total time=   0.0s\n",
      "[CV 2/5] END C=1, class_weight=None, gamma=0.001, kernel=rbf, random_state=15;, score=0.406 total time=   0.0s\n",
      "[CV 3/5] END C=1, class_weight=None, gamma=0.001, kernel=rbf, random_state=15;, score=0.392 total time=   0.0s\n",
      "[CV 4/5] END C=1, class_weight=None, gamma=0.001, kernel=rbf, random_state=15;, score=0.392 total time=   0.0s\n",
      "[CV 5/5] END C=1, class_weight=None, gamma=0.001, kernel=rbf, random_state=15;, score=0.387 total time=   0.0s\n",
      "[CV 1/5] END C=1, class_weight=None, gamma=0.001, kernel=sigmoid, random_state=15;, score=0.354 total time=   0.0s\n",
      "[CV 2/5] END C=1, class_weight=None, gamma=0.001, kernel=sigmoid, random_state=15;, score=0.344 total time=   0.0s\n",
      "[CV 3/5] END C=1, class_weight=None, gamma=0.001, kernel=sigmoid, random_state=15;, score=0.340 total time=   0.0s\n",
      "[CV 4/5] END C=1, class_weight=None, gamma=0.001, kernel=sigmoid, random_state=15;, score=0.340 total time=   0.0s\n",
      "[CV 5/5] END C=1, class_weight=None, gamma=0.001, kernel=sigmoid, random_state=15;, score=0.340 total time=   0.0s\n",
      "[CV 1/5] END C=1, class_weight=None, gamma=0.0001, kernel=linear, random_state=15;, score=0.741 total time=   0.0s\n",
      "[CV 2/5] END C=1, class_weight=None, gamma=0.0001, kernel=linear, random_state=15;, score=0.759 total time=   0.0s\n",
      "[CV 3/5] END C=1, class_weight=None, gamma=0.0001, kernel=linear, random_state=15;, score=0.741 total time=   0.0s\n",
      "[CV 4/5] END C=1, class_weight=None, gamma=0.0001, kernel=linear, random_state=15;, score=0.755 total time=   0.0s\n",
      "[CV 5/5] END C=1, class_weight=None, gamma=0.0001, kernel=linear, random_state=15;, score=0.736 total time=   0.0s\n",
      "[CV 1/5] END C=1, class_weight=None, gamma=0.0001, kernel=poly, random_state=15;, score=0.340 total time=   0.0s\n",
      "[CV 2/5] END C=1, class_weight=None, gamma=0.0001, kernel=poly, random_state=15;, score=0.344 total time=   0.0s\n",
      "[CV 3/5] END C=1, class_weight=None, gamma=0.0001, kernel=poly, random_state=15;, score=0.340 total time=   0.0s\n",
      "[CV 4/5] END C=1, class_weight=None, gamma=0.0001, kernel=poly, random_state=15;, score=0.340 total time=   0.0s\n",
      "[CV 5/5] END C=1, class_weight=None, gamma=0.0001, kernel=poly, random_state=15;, score=0.340 total time=   0.0s\n",
      "[CV 1/5] END C=1, class_weight=None, gamma=0.0001, kernel=rbf, random_state=15;, score=0.340 total time=   0.0s\n",
      "[CV 2/5] END C=1, class_weight=None, gamma=0.0001, kernel=rbf, random_state=15;, score=0.344 total time=   0.0s\n",
      "[CV 3/5] END C=1, class_weight=None, gamma=0.0001, kernel=rbf, random_state=15;, score=0.340 total time=   0.0s\n",
      "[CV 4/5] END C=1, class_weight=None, gamma=0.0001, kernel=rbf, random_state=15;, score=0.340 total time=   0.0s\n",
      "[CV 5/5] END C=1, class_weight=None, gamma=0.0001, kernel=rbf, random_state=15;, score=0.340 total time=   0.0s\n",
      "[CV 1/5] END C=1, class_weight=None, gamma=0.0001, kernel=sigmoid, random_state=15;, score=0.340 total time=   0.0s\n",
      "[CV 2/5] END C=1, class_weight=None, gamma=0.0001, kernel=sigmoid, random_state=15;, score=0.344 total time=   0.0s\n",
      "[CV 3/5] END C=1, class_weight=None, gamma=0.0001, kernel=sigmoid, random_state=15;, score=0.340 total time=   0.0s\n",
      "[CV 4/5] END C=1, class_weight=None, gamma=0.0001, kernel=sigmoid, random_state=15;, score=0.340 total time=   0.0s\n",
      "[CV 5/5] END C=1, class_weight=None, gamma=0.0001, kernel=sigmoid, random_state=15;, score=0.340 total time=   0.0s\n",
      "[CV 1/5] END C=1, class_weight=balanced, gamma=0.001, kernel=linear, random_state=15;, score=0.741 total time=   0.0s\n",
      "[CV 2/5] END C=1, class_weight=balanced, gamma=0.001, kernel=linear, random_state=15;, score=0.764 total time=   0.0s\n",
      "[CV 3/5] END C=1, class_weight=balanced, gamma=0.001, kernel=linear, random_state=15;, score=0.745 total time=   0.0s\n",
      "[CV 4/5] END C=1, class_weight=balanced, gamma=0.001, kernel=linear, random_state=15;, score=0.755 total time=   0.0s\n",
      "[CV 5/5] END C=1, class_weight=balanced, gamma=0.001, kernel=linear, random_state=15;, score=0.741 total time=   0.0s\n",
      "[CV 1/5] END C=1, class_weight=balanced, gamma=0.001, kernel=poly, random_state=15;, score=0.033 total time=   0.1s\n",
      "[CV 2/5] END C=1, class_weight=balanced, gamma=0.001, kernel=poly, random_state=15;, score=0.344 total time=   0.1s\n",
      "[CV 3/5] END C=1, class_weight=balanced, gamma=0.001, kernel=poly, random_state=15;, score=0.033 total time=   0.1s\n",
      "[CV 4/5] END C=1, class_weight=balanced, gamma=0.001, kernel=poly, random_state=15;, score=0.033 total time=   0.1s\n",
      "[CV 5/5] END C=1, class_weight=balanced, gamma=0.001, kernel=poly, random_state=15;, score=0.033 total time=   0.1s\n",
      "[CV 1/5] END C=1, class_weight=balanced, gamma=0.001, kernel=rbf, random_state=15;, score=0.316 total time=   0.1s\n",
      "[CV 2/5] END C=1, class_weight=balanced, gamma=0.001, kernel=rbf, random_state=15;, score=0.410 total time=   0.1s\n",
      "[CV 3/5] END C=1, class_weight=balanced, gamma=0.001, kernel=rbf, random_state=15;, score=0.368 total time=   0.1s\n",
      "[CV 4/5] END C=1, class_weight=balanced, gamma=0.001, kernel=rbf, random_state=15;, score=0.363 total time=   0.1s\n",
      "[CV 5/5] END C=1, class_weight=balanced, gamma=0.001, kernel=rbf, random_state=15;, score=0.311 total time=   0.1s\n",
      "[CV 1/5] END C=1, class_weight=balanced, gamma=0.001, kernel=sigmoid, random_state=15;, score=0.222 total time=   0.1s\n",
      "[CV 2/5] END C=1, class_weight=balanced, gamma=0.001, kernel=sigmoid, random_state=15;, score=0.297 total time=   0.1s\n",
      "[CV 3/5] END C=1, class_weight=balanced, gamma=0.001, kernel=sigmoid, random_state=15;, score=0.226 total time=   0.1s\n",
      "[CV 4/5] END C=1, class_weight=balanced, gamma=0.001, kernel=sigmoid, random_state=15;, score=0.217 total time=   0.1s\n",
      "[CV 5/5] END C=1, class_weight=balanced, gamma=0.001, kernel=sigmoid, random_state=15;, score=0.264 total time=   0.1s\n",
      "[CV 1/5] END C=1, class_weight=balanced, gamma=0.0001, kernel=linear, random_state=15;, score=0.741 total time=   0.0s\n",
      "[CV 2/5] END C=1, class_weight=balanced, gamma=0.0001, kernel=linear, random_state=15;, score=0.764 total time=   0.0s\n",
      "[CV 3/5] END C=1, class_weight=balanced, gamma=0.0001, kernel=linear, random_state=15;, score=0.745 total time=   0.0s\n",
      "[CV 4/5] END C=1, class_weight=balanced, gamma=0.0001, kernel=linear, random_state=15;, score=0.755 total time=   0.0s\n",
      "[CV 5/5] END C=1, class_weight=balanced, gamma=0.0001, kernel=linear, random_state=15;, score=0.741 total time=   0.0s\n",
      "[CV 1/5] END C=1, class_weight=balanced, gamma=0.0001, kernel=poly, random_state=15;, score=0.033 total time=   0.1s\n",
      "[CV 2/5] END C=1, class_weight=balanced, gamma=0.0001, kernel=poly, random_state=15;, score=0.344 total time=   0.1s\n",
      "[CV 3/5] END C=1, class_weight=balanced, gamma=0.0001, kernel=poly, random_state=15;, score=0.033 total time=   0.1s\n",
      "[CV 4/5] END C=1, class_weight=balanced, gamma=0.0001, kernel=poly, random_state=15;, score=0.033 total time=   0.1s\n",
      "[CV 5/5] END C=1, class_weight=balanced, gamma=0.0001, kernel=poly, random_state=15;, score=0.033 total time=   0.1s\n",
      "[CV 1/5] END C=1, class_weight=balanced, gamma=0.0001, kernel=rbf, random_state=15;, score=0.061 total time=   0.1s\n"
     ]
    },
    {
     "name": "stdout",
     "output_type": "stream",
     "text": [
      "[CV 2/5] END C=1, class_weight=balanced, gamma=0.0001, kernel=rbf, random_state=15;, score=0.363 total time=   0.1s\n",
      "[CV 3/5] END C=1, class_weight=balanced, gamma=0.0001, kernel=rbf, random_state=15;, score=0.123 total time=   0.1s\n",
      "[CV 4/5] END C=1, class_weight=balanced, gamma=0.0001, kernel=rbf, random_state=15;, score=0.080 total time=   0.1s\n",
      "[CV 5/5] END C=1, class_weight=balanced, gamma=0.0001, kernel=rbf, random_state=15;, score=0.066 total time=   0.1s\n",
      "[CV 1/5] END C=1, class_weight=balanced, gamma=0.0001, kernel=sigmoid, random_state=15;, score=0.047 total time=   0.1s\n",
      "[CV 2/5] END C=1, class_weight=balanced, gamma=0.0001, kernel=sigmoid, random_state=15;, score=0.354 total time=   0.1s\n",
      "[CV 3/5] END C=1, class_weight=balanced, gamma=0.0001, kernel=sigmoid, random_state=15;, score=0.099 total time=   0.1s\n",
      "[CV 4/5] END C=1, class_weight=balanced, gamma=0.0001, kernel=sigmoid, random_state=15;, score=0.061 total time=   0.1s\n",
      "[CV 5/5] END C=1, class_weight=balanced, gamma=0.0001, kernel=sigmoid, random_state=15;, score=0.033 total time=   0.1s\n",
      "[CV 1/5] END C=10, class_weight=None, gamma=0.001, kernel=linear, random_state=15;, score=0.741 total time=   0.0s\n",
      "[CV 2/5] END C=10, class_weight=None, gamma=0.001, kernel=linear, random_state=15;, score=0.759 total time=   0.0s\n",
      "[CV 3/5] END C=10, class_weight=None, gamma=0.001, kernel=linear, random_state=15;, score=0.741 total time=   0.0s\n",
      "[CV 4/5] END C=10, class_weight=None, gamma=0.001, kernel=linear, random_state=15;, score=0.755 total time=   0.0s\n",
      "[CV 5/5] END C=10, class_weight=None, gamma=0.001, kernel=linear, random_state=15;, score=0.736 total time=   0.0s\n",
      "[CV 1/5] END C=10, class_weight=None, gamma=0.001, kernel=poly, random_state=15;, score=0.340 total time=   0.0s\n",
      "[CV 2/5] END C=10, class_weight=None, gamma=0.001, kernel=poly, random_state=15;, score=0.344 total time=   0.0s\n",
      "[CV 3/5] END C=10, class_weight=None, gamma=0.001, kernel=poly, random_state=15;, score=0.340 total time=   0.0s\n",
      "[CV 4/5] END C=10, class_weight=None, gamma=0.001, kernel=poly, random_state=15;, score=0.340 total time=   0.0s\n",
      "[CV 5/5] END C=10, class_weight=None, gamma=0.001, kernel=poly, random_state=15;, score=0.340 total time=   0.0s\n",
      "[CV 1/5] END C=10, class_weight=None, gamma=0.001, kernel=rbf, random_state=15;, score=0.675 total time=   0.0s\n",
      "[CV 2/5] END C=10, class_weight=None, gamma=0.001, kernel=rbf, random_state=15;, score=0.731 total time=   0.0s\n",
      "[CV 3/5] END C=10, class_weight=None, gamma=0.001, kernel=rbf, random_state=15;, score=0.712 total time=   0.0s\n",
      "[CV 4/5] END C=10, class_weight=None, gamma=0.001, kernel=rbf, random_state=15;, score=0.712 total time=   0.0s\n",
      "[CV 5/5] END C=10, class_weight=None, gamma=0.001, kernel=rbf, random_state=15;, score=0.703 total time=   0.0s\n",
      "[CV 1/5] END C=10, class_weight=None, gamma=0.001, kernel=sigmoid, random_state=15;, score=0.604 total time=   0.0s\n",
      "[CV 2/5] END C=10, class_weight=None, gamma=0.001, kernel=sigmoid, random_state=15;, score=0.646 total time=   0.0s\n",
      "[CV 3/5] END C=10, class_weight=None, gamma=0.001, kernel=sigmoid, random_state=15;, score=0.608 total time=   0.0s\n",
      "[CV 4/5] END C=10, class_weight=None, gamma=0.001, kernel=sigmoid, random_state=15;, score=0.623 total time=   0.0s\n",
      "[CV 5/5] END C=10, class_weight=None, gamma=0.001, kernel=sigmoid, random_state=15;, score=0.627 total time=   0.0s\n",
      "[CV 1/5] END C=10, class_weight=None, gamma=0.0001, kernel=linear, random_state=15;, score=0.741 total time=   0.0s\n",
      "[CV 2/5] END C=10, class_weight=None, gamma=0.0001, kernel=linear, random_state=15;, score=0.759 total time=   0.0s\n",
      "[CV 3/5] END C=10, class_weight=None, gamma=0.0001, kernel=linear, random_state=15;, score=0.741 total time=   0.0s\n",
      "[CV 4/5] END C=10, class_weight=None, gamma=0.0001, kernel=linear, random_state=15;, score=0.755 total time=   0.0s\n",
      "[CV 5/5] END C=10, class_weight=None, gamma=0.0001, kernel=linear, random_state=15;, score=0.736 total time=   0.0s\n",
      "[CV 1/5] END C=10, class_weight=None, gamma=0.0001, kernel=poly, random_state=15;, score=0.340 total time=   0.0s\n",
      "[CV 2/5] END C=10, class_weight=None, gamma=0.0001, kernel=poly, random_state=15;, score=0.344 total time=   0.0s\n",
      "[CV 3/5] END C=10, class_weight=None, gamma=0.0001, kernel=poly, random_state=15;, score=0.340 total time=   0.0s\n",
      "[CV 4/5] END C=10, class_weight=None, gamma=0.0001, kernel=poly, random_state=15;, score=0.340 total time=   0.0s\n",
      "[CV 5/5] END C=10, class_weight=None, gamma=0.0001, kernel=poly, random_state=15;, score=0.340 total time=   0.0s\n",
      "[CV 1/5] END C=10, class_weight=None, gamma=0.0001, kernel=rbf, random_state=15;, score=0.392 total time=   0.0s\n",
      "[CV 2/5] END C=10, class_weight=None, gamma=0.0001, kernel=rbf, random_state=15;, score=0.415 total time=   0.0s\n",
      "[CV 3/5] END C=10, class_weight=None, gamma=0.0001, kernel=rbf, random_state=15;, score=0.406 total time=   0.0s\n",
      "[CV 4/5] END C=10, class_weight=None, gamma=0.0001, kernel=rbf, random_state=15;, score=0.396 total time=   0.0s\n",
      "[CV 5/5] END C=10, class_weight=None, gamma=0.0001, kernel=rbf, random_state=15;, score=0.401 total time=   0.0s\n",
      "[CV 1/5] END C=10, class_weight=None, gamma=0.0001, kernel=sigmoid, random_state=15;, score=0.354 total time=   0.0s\n",
      "[CV 2/5] END C=10, class_weight=None, gamma=0.0001, kernel=sigmoid, random_state=15;, score=0.344 total time=   0.0s\n",
      "[CV 3/5] END C=10, class_weight=None, gamma=0.0001, kernel=sigmoid, random_state=15;, score=0.340 total time=   0.0s\n",
      "[CV 4/5] END C=10, class_weight=None, gamma=0.0001, kernel=sigmoid, random_state=15;, score=0.340 total time=   0.0s\n",
      "[CV 5/5] END C=10, class_weight=None, gamma=0.0001, kernel=sigmoid, random_state=15;, score=0.340 total time=   0.0s\n",
      "[CV 1/5] END C=10, class_weight=balanced, gamma=0.001, kernel=linear, random_state=15;, score=0.741 total time=   0.0s\n",
      "[CV 2/5] END C=10, class_weight=balanced, gamma=0.001, kernel=linear, random_state=15;, score=0.759 total time=   0.0s\n",
      "[CV 3/5] END C=10, class_weight=balanced, gamma=0.001, kernel=linear, random_state=15;, score=0.741 total time=   0.0s\n",
      "[CV 4/5] END C=10, class_weight=balanced, gamma=0.001, kernel=linear, random_state=15;, score=0.755 total time=   0.0s\n",
      "[CV 5/5] END C=10, class_weight=balanced, gamma=0.001, kernel=linear, random_state=15;, score=0.736 total time=   0.0s\n",
      "[CV 1/5] END C=10, class_weight=balanced, gamma=0.001, kernel=poly, random_state=15;, score=0.170 total time=   0.1s\n",
      "[CV 2/5] END C=10, class_weight=balanced, gamma=0.001, kernel=poly, random_state=15;, score=0.038 total time=   0.1s\n",
      "[CV 3/5] END C=10, class_weight=balanced, gamma=0.001, kernel=poly, random_state=15;, score=0.047 total time=   0.1s\n",
      "[CV 4/5] END C=10, class_weight=balanced, gamma=0.001, kernel=poly, random_state=15;, score=0.033 total time=   0.1s\n",
      "[CV 5/5] END C=10, class_weight=balanced, gamma=0.001, kernel=poly, random_state=15;, score=0.104 total time=   0.1s\n",
      "[CV 1/5] END C=10, class_weight=balanced, gamma=0.001, kernel=rbf, random_state=15;, score=0.693 total time=   0.0s\n",
      "[CV 2/5] END C=10, class_weight=balanced, gamma=0.001, kernel=rbf, random_state=15;, score=0.755 total time=   0.1s\n",
      "[CV 3/5] END C=10, class_weight=balanced, gamma=0.001, kernel=rbf, random_state=15;, score=0.750 total time=   0.0s\n",
      "[CV 4/5] END C=10, class_weight=balanced, gamma=0.001, kernel=rbf, random_state=15;, score=0.717 total time=   0.0s\n",
      "[CV 5/5] END C=10, class_weight=balanced, gamma=0.001, kernel=rbf, random_state=15;, score=0.708 total time=   0.1s\n",
      "[CV 1/5] END C=10, class_weight=balanced, gamma=0.001, kernel=sigmoid, random_state=15;, score=0.618 total time=   0.1s\n",
      "[CV 2/5] END C=10, class_weight=balanced, gamma=0.001, kernel=sigmoid, random_state=15;, score=0.722 total time=   0.0s\n",
      "[CV 3/5] END C=10, class_weight=balanced, gamma=0.001, kernel=sigmoid, random_state=15;, score=0.693 total time=   0.0s\n",
      "[CV 4/5] END C=10, class_weight=balanced, gamma=0.001, kernel=sigmoid, random_state=15;, score=0.618 total time=   0.1s\n",
      "[CV 5/5] END C=10, class_weight=balanced, gamma=0.001, kernel=sigmoid, random_state=15;, score=0.613 total time=   0.1s\n",
      "[CV 1/5] END C=10, class_weight=balanced, gamma=0.0001, kernel=linear, random_state=15;, score=0.741 total time=   0.0s\n",
      "[CV 2/5] END C=10, class_weight=balanced, gamma=0.0001, kernel=linear, random_state=15;, score=0.759 total time=   0.0s\n",
      "[CV 3/5] END C=10, class_weight=balanced, gamma=0.0001, kernel=linear, random_state=15;, score=0.741 total time=   0.0s\n"
     ]
    },
    {
     "name": "stdout",
     "output_type": "stream",
     "text": [
      "[CV 4/5] END C=10, class_weight=balanced, gamma=0.0001, kernel=linear, random_state=15;, score=0.755 total time=   0.0s\n",
      "[CV 5/5] END C=10, class_weight=balanced, gamma=0.0001, kernel=linear, random_state=15;, score=0.736 total time=   0.0s\n",
      "[CV 1/5] END C=10, class_weight=balanced, gamma=0.0001, kernel=poly, random_state=15;, score=0.156 total time=   0.1s\n",
      "[CV 2/5] END C=10, class_weight=balanced, gamma=0.0001, kernel=poly, random_state=15;, score=0.033 total time=   0.1s\n",
      "[CV 3/5] END C=10, class_weight=balanced, gamma=0.0001, kernel=poly, random_state=15;, score=0.033 total time=   0.1s\n",
      "[CV 4/5] END C=10, class_weight=balanced, gamma=0.0001, kernel=poly, random_state=15;, score=0.033 total time=   0.1s\n",
      "[CV 5/5] END C=10, class_weight=balanced, gamma=0.0001, kernel=poly, random_state=15;, score=0.099 total time=   0.1s\n",
      "[CV 1/5] END C=10, class_weight=balanced, gamma=0.0001, kernel=rbf, random_state=15;, score=0.340 total time=   0.1s\n",
      "[CV 2/5] END C=10, class_weight=balanced, gamma=0.0001, kernel=rbf, random_state=15;, score=0.420 total time=   0.1s\n",
      "[CV 3/5] END C=10, class_weight=balanced, gamma=0.0001, kernel=rbf, random_state=15;, score=0.377 total time=   0.1s\n",
      "[CV 4/5] END C=10, class_weight=balanced, gamma=0.0001, kernel=rbf, random_state=15;, score=0.363 total time=   0.1s\n",
      "[CV 5/5] END C=10, class_weight=balanced, gamma=0.0001, kernel=rbf, random_state=15;, score=0.316 total time=   0.1s\n",
      "[CV 1/5] END C=10, class_weight=balanced, gamma=0.0001, kernel=sigmoid, random_state=15;, score=0.274 total time=   0.1s\n",
      "[CV 2/5] END C=10, class_weight=balanced, gamma=0.0001, kernel=sigmoid, random_state=15;, score=0.259 total time=   0.1s\n",
      "[CV 3/5] END C=10, class_weight=balanced, gamma=0.0001, kernel=sigmoid, random_state=15;, score=0.217 total time=   0.1s\n",
      "[CV 4/5] END C=10, class_weight=balanced, gamma=0.0001, kernel=sigmoid, random_state=15;, score=0.236 total time=   0.1s\n",
      "[CV 5/5] END C=10, class_weight=balanced, gamma=0.0001, kernel=sigmoid, random_state=15;, score=0.250 total time=   0.1s\n",
      "[CV 1/5] END C=100, class_weight=None, gamma=0.001, kernel=linear, random_state=15;, score=0.741 total time=   0.0s\n",
      "[CV 2/5] END C=100, class_weight=None, gamma=0.001, kernel=linear, random_state=15;, score=0.759 total time=   0.0s\n",
      "[CV 3/5] END C=100, class_weight=None, gamma=0.001, kernel=linear, random_state=15;, score=0.741 total time=   0.0s\n",
      "[CV 4/5] END C=100, class_weight=None, gamma=0.001, kernel=linear, random_state=15;, score=0.755 total time=   0.0s\n",
      "[CV 5/5] END C=100, class_weight=None, gamma=0.001, kernel=linear, random_state=15;, score=0.736 total time=   0.0s\n",
      "[CV 1/5] END C=100, class_weight=None, gamma=0.001, kernel=poly, random_state=15;, score=0.354 total time=   0.0s\n",
      "[CV 2/5] END C=100, class_weight=None, gamma=0.001, kernel=poly, random_state=15;, score=0.354 total time=   0.0s\n",
      "[CV 3/5] END C=100, class_weight=None, gamma=0.001, kernel=poly, random_state=15;, score=0.363 total time=   0.0s\n",
      "[CV 4/5] END C=100, class_weight=None, gamma=0.001, kernel=poly, random_state=15;, score=0.344 total time=   0.0s\n",
      "[CV 5/5] END C=100, class_weight=None, gamma=0.001, kernel=poly, random_state=15;, score=0.354 total time=   0.1s\n",
      "[CV 1/5] END C=100, class_weight=None, gamma=0.001, kernel=rbf, random_state=15;, score=0.741 total time=   0.0s\n",
      "[CV 2/5] END C=100, class_weight=None, gamma=0.001, kernel=rbf, random_state=15;, score=0.755 total time=   0.0s\n",
      "[CV 3/5] END C=100, class_weight=None, gamma=0.001, kernel=rbf, random_state=15;, score=0.755 total time=   0.0s\n",
      "[CV 4/5] END C=100, class_weight=None, gamma=0.001, kernel=rbf, random_state=15;, score=0.797 total time=   0.0s\n",
      "[CV 5/5] END C=100, class_weight=None, gamma=0.001, kernel=rbf, random_state=15;, score=0.764 total time=   0.0s\n",
      "[CV 1/5] END C=100, class_weight=None, gamma=0.001, kernel=sigmoid, random_state=15;, score=0.750 total time=   0.0s\n",
      "[CV 2/5] END C=100, class_weight=None, gamma=0.001, kernel=sigmoid, random_state=15;, score=0.778 total time=   0.0s\n",
      "[CV 3/5] END C=100, class_weight=None, gamma=0.001, kernel=sigmoid, random_state=15;, score=0.759 total time=   0.0s\n",
      "[CV 4/5] END C=100, class_weight=None, gamma=0.001, kernel=sigmoid, random_state=15;, score=0.792 total time=   0.0s\n",
      "[CV 5/5] END C=100, class_weight=None, gamma=0.001, kernel=sigmoid, random_state=15;, score=0.759 total time=   0.0s\n",
      "[CV 1/5] END C=100, class_weight=None, gamma=0.0001, kernel=linear, random_state=15;, score=0.741 total time=   0.0s\n",
      "[CV 2/5] END C=100, class_weight=None, gamma=0.0001, kernel=linear, random_state=15;, score=0.759 total time=   0.0s\n",
      "[CV 3/5] END C=100, class_weight=None, gamma=0.0001, kernel=linear, random_state=15;, score=0.741 total time=   0.0s\n",
      "[CV 4/5] END C=100, class_weight=None, gamma=0.0001, kernel=linear, random_state=15;, score=0.755 total time=   0.1s\n",
      "[CV 5/5] END C=100, class_weight=None, gamma=0.0001, kernel=linear, random_state=15;, score=0.736 total time=   0.0s\n",
      "[CV 1/5] END C=100, class_weight=None, gamma=0.0001, kernel=poly, random_state=15;, score=0.340 total time=   0.0s\n",
      "[CV 2/5] END C=100, class_weight=None, gamma=0.0001, kernel=poly, random_state=15;, score=0.344 total time=   0.0s\n",
      "[CV 3/5] END C=100, class_weight=None, gamma=0.0001, kernel=poly, random_state=15;, score=0.340 total time=   0.0s\n",
      "[CV 4/5] END C=100, class_weight=None, gamma=0.0001, kernel=poly, random_state=15;, score=0.340 total time=   0.0s\n",
      "[CV 5/5] END C=100, class_weight=None, gamma=0.0001, kernel=poly, random_state=15;, score=0.340 total time=   0.0s\n",
      "[CV 1/5] END C=100, class_weight=None, gamma=0.0001, kernel=rbf, random_state=15;, score=0.684 total time=   0.0s\n",
      "[CV 2/5] END C=100, class_weight=None, gamma=0.0001, kernel=rbf, random_state=15;, score=0.731 total time=   0.0s\n",
      "[CV 3/5] END C=100, class_weight=None, gamma=0.0001, kernel=rbf, random_state=15;, score=0.717 total time=   0.0s\n",
      "[CV 4/5] END C=100, class_weight=None, gamma=0.0001, kernel=rbf, random_state=15;, score=0.717 total time=   0.0s\n",
      "[CV 5/5] END C=100, class_weight=None, gamma=0.0001, kernel=rbf, random_state=15;, score=0.698 total time=   0.0s\n",
      "[CV 1/5] END C=100, class_weight=None, gamma=0.0001, kernel=sigmoid, random_state=15;, score=0.604 total time=   0.0s\n",
      "[CV 2/5] END C=100, class_weight=None, gamma=0.0001, kernel=sigmoid, random_state=15;, score=0.651 total time=   0.0s\n",
      "[CV 3/5] END C=100, class_weight=None, gamma=0.0001, kernel=sigmoid, random_state=15;, score=0.608 total time=   0.0s\n",
      "[CV 4/5] END C=100, class_weight=None, gamma=0.0001, kernel=sigmoid, random_state=15;, score=0.623 total time=   0.0s\n",
      "[CV 5/5] END C=100, class_weight=None, gamma=0.0001, kernel=sigmoid, random_state=15;, score=0.623 total time=   0.0s\n",
      "[CV 1/5] END C=100, class_weight=balanced, gamma=0.001, kernel=linear, random_state=15;, score=0.741 total time=   0.0s\n",
      "[CV 2/5] END C=100, class_weight=balanced, gamma=0.001, kernel=linear, random_state=15;, score=0.759 total time=   0.0s\n",
      "[CV 3/5] END C=100, class_weight=balanced, gamma=0.001, kernel=linear, random_state=15;, score=0.741 total time=   0.0s\n",
      "[CV 4/5] END C=100, class_weight=balanced, gamma=0.001, kernel=linear, random_state=15;, score=0.755 total time=   0.0s\n",
      "[CV 5/5] END C=100, class_weight=balanced, gamma=0.001, kernel=linear, random_state=15;, score=0.736 total time=   0.0s\n",
      "[CV 1/5] END C=100, class_weight=balanced, gamma=0.001, kernel=poly, random_state=15;, score=0.123 total time=   0.1s\n",
      "[CV 2/5] END C=100, class_weight=balanced, gamma=0.001, kernel=poly, random_state=15;, score=0.085 total time=   0.1s\n",
      "[CV 3/5] END C=100, class_weight=balanced, gamma=0.001, kernel=poly, random_state=15;, score=0.127 total time=   0.1s\n",
      "[CV 4/5] END C=100, class_weight=balanced, gamma=0.001, kernel=poly, random_state=15;, score=0.071 total time=   0.1s\n",
      "[CV 5/5] END C=100, class_weight=balanced, gamma=0.001, kernel=poly, random_state=15;, score=0.099 total time=   0.1s\n",
      "[CV 1/5] END C=100, class_weight=balanced, gamma=0.001, kernel=rbf, random_state=15;, score=0.741 total time=   0.0s\n",
      "[CV 2/5] END C=100, class_weight=balanced, gamma=0.001, kernel=rbf, random_state=15;, score=0.788 total time=   0.0s\n",
      "[CV 3/5] END C=100, class_weight=balanced, gamma=0.001, kernel=rbf, random_state=15;, score=0.783 total time=   0.0s\n",
      "[CV 4/5] END C=100, class_weight=balanced, gamma=0.001, kernel=rbf, random_state=15;, score=0.788 total time=   0.0s\n"
     ]
    },
    {
     "name": "stdout",
     "output_type": "stream",
     "text": [
      "[CV 5/5] END C=100, class_weight=balanced, gamma=0.001, kernel=rbf, random_state=15;, score=0.755 total time=   0.1s\n",
      "[CV 1/5] END C=100, class_weight=balanced, gamma=0.001, kernel=sigmoid, random_state=15;, score=0.722 total time=   0.0s\n",
      "[CV 2/5] END C=100, class_weight=balanced, gamma=0.001, kernel=sigmoid, random_state=15;, score=0.816 total time=   0.0s\n",
      "[CV 3/5] END C=100, class_weight=balanced, gamma=0.001, kernel=sigmoid, random_state=15;, score=0.755 total time=   0.0s\n",
      "[CV 4/5] END C=100, class_weight=balanced, gamma=0.001, kernel=sigmoid, random_state=15;, score=0.792 total time=   0.0s\n",
      "[CV 5/5] END C=100, class_weight=balanced, gamma=0.001, kernel=sigmoid, random_state=15;, score=0.750 total time=   0.0s\n",
      "[CV 1/5] END C=100, class_weight=balanced, gamma=0.0001, kernel=linear, random_state=15;, score=0.741 total time=   0.0s\n",
      "[CV 2/5] END C=100, class_weight=balanced, gamma=0.0001, kernel=linear, random_state=15;, score=0.759 total time=   0.0s\n",
      "[CV 3/5] END C=100, class_weight=balanced, gamma=0.0001, kernel=linear, random_state=15;, score=0.741 total time=   0.0s\n",
      "[CV 4/5] END C=100, class_weight=balanced, gamma=0.0001, kernel=linear, random_state=15;, score=0.755 total time=   0.0s\n",
      "[CV 5/5] END C=100, class_weight=balanced, gamma=0.0001, kernel=linear, random_state=15;, score=0.736 total time=   0.0s\n",
      "[CV 1/5] END C=100, class_weight=balanced, gamma=0.0001, kernel=poly, random_state=15;, score=0.052 total time=   0.1s\n",
      "[CV 2/5] END C=100, class_weight=balanced, gamma=0.0001, kernel=poly, random_state=15;, score=0.052 total time=   0.1s\n",
      "[CV 3/5] END C=100, class_weight=balanced, gamma=0.0001, kernel=poly, random_state=15;, score=0.038 total time=   0.1s\n",
      "[CV 4/5] END C=100, class_weight=balanced, gamma=0.0001, kernel=poly, random_state=15;, score=0.042 total time=   0.1s\n",
      "[CV 5/5] END C=100, class_weight=balanced, gamma=0.0001, kernel=poly, random_state=15;, score=0.042 total time=   0.1s\n",
      "[CV 1/5] END C=100, class_weight=balanced, gamma=0.0001, kernel=rbf, random_state=15;, score=0.684 total time=   0.1s\n",
      "[CV 2/5] END C=100, class_weight=balanced, gamma=0.0001, kernel=rbf, random_state=15;, score=0.759 total time=   0.0s\n",
      "[CV 3/5] END C=100, class_weight=balanced, gamma=0.0001, kernel=rbf, random_state=15;, score=0.736 total time=   0.0s\n",
      "[CV 4/5] END C=100, class_weight=balanced, gamma=0.0001, kernel=rbf, random_state=15;, score=0.717 total time=   0.0s\n",
      "[CV 5/5] END C=100, class_weight=balanced, gamma=0.0001, kernel=rbf, random_state=15;, score=0.717 total time=   0.0s\n",
      "[CV 1/5] END C=100, class_weight=balanced, gamma=0.0001, kernel=sigmoid, random_state=15;, score=0.618 total time=   0.1s\n",
      "[CV 2/5] END C=100, class_weight=balanced, gamma=0.0001, kernel=sigmoid, random_state=15;, score=0.726 total time=   0.0s\n",
      "[CV 3/5] END C=100, class_weight=balanced, gamma=0.0001, kernel=sigmoid, random_state=15;, score=0.698 total time=   0.1s\n",
      "[CV 4/5] END C=100, class_weight=balanced, gamma=0.0001, kernel=sigmoid, random_state=15;, score=0.618 total time=   0.1s\n",
      "[CV 5/5] END C=100, class_weight=balanced, gamma=0.0001, kernel=sigmoid, random_state=15;, score=0.613 total time=   0.0s\n",
      "[CV 1/5] END C=1000, class_weight=None, gamma=0.001, kernel=linear, random_state=15;, score=0.741 total time=   0.0s\n",
      "[CV 2/5] END C=1000, class_weight=None, gamma=0.001, kernel=linear, random_state=15;, score=0.759 total time=   0.0s\n",
      "[CV 3/5] END C=1000, class_weight=None, gamma=0.001, kernel=linear, random_state=15;, score=0.741 total time=   0.0s\n",
      "[CV 4/5] END C=1000, class_weight=None, gamma=0.001, kernel=linear, random_state=15;, score=0.755 total time=   0.0s\n",
      "[CV 5/5] END C=1000, class_weight=None, gamma=0.001, kernel=linear, random_state=15;, score=0.736 total time=   0.0s\n",
      "[CV 1/5] END C=1000, class_weight=None, gamma=0.001, kernel=poly, random_state=15;, score=0.363 total time=   0.0s\n",
      "[CV 2/5] END C=1000, class_weight=None, gamma=0.001, kernel=poly, random_state=15;, score=0.396 total time=   0.1s\n",
      "[CV 3/5] END C=1000, class_weight=None, gamma=0.001, kernel=poly, random_state=15;, score=0.382 total time=   0.1s\n",
      "[CV 4/5] END C=1000, class_weight=None, gamma=0.001, kernel=poly, random_state=15;, score=0.368 total time=   0.0s\n",
      "[CV 5/5] END C=1000, class_weight=None, gamma=0.001, kernel=poly, random_state=15;, score=0.373 total time=   0.0s\n",
      "[CV 1/5] END C=1000, class_weight=None, gamma=0.001, kernel=rbf, random_state=15;, score=0.741 total time=   0.0s\n",
      "[CV 2/5] END C=1000, class_weight=None, gamma=0.001, kernel=rbf, random_state=15;, score=0.764 total time=   0.0s\n",
      "[CV 3/5] END C=1000, class_weight=None, gamma=0.001, kernel=rbf, random_state=15;, score=0.769 total time=   0.0s\n",
      "[CV 4/5] END C=1000, class_weight=None, gamma=0.001, kernel=rbf, random_state=15;, score=0.764 total time=   0.0s\n",
      "[CV 5/5] END C=1000, class_weight=None, gamma=0.001, kernel=rbf, random_state=15;, score=0.741 total time=   0.0s\n",
      "[CV 1/5] END C=1000, class_weight=None, gamma=0.001, kernel=sigmoid, random_state=15;, score=0.731 total time=   0.0s\n",
      "[CV 2/5] END C=1000, class_weight=None, gamma=0.001, kernel=sigmoid, random_state=15;, score=0.759 total time=   0.0s\n",
      "[CV 3/5] END C=1000, class_weight=None, gamma=0.001, kernel=sigmoid, random_state=15;, score=0.736 total time=   0.0s\n",
      "[CV 4/5] END C=1000, class_weight=None, gamma=0.001, kernel=sigmoid, random_state=15;, score=0.759 total time=   0.0s\n",
      "[CV 5/5] END C=1000, class_weight=None, gamma=0.001, kernel=sigmoid, random_state=15;, score=0.741 total time=   0.0s\n",
      "[CV 1/5] END C=1000, class_weight=None, gamma=0.0001, kernel=linear, random_state=15;, score=0.741 total time=   0.0s\n",
      "[CV 2/5] END C=1000, class_weight=None, gamma=0.0001, kernel=linear, random_state=15;, score=0.759 total time=   0.0s\n",
      "[CV 3/5] END C=1000, class_weight=None, gamma=0.0001, kernel=linear, random_state=15;, score=0.741 total time=   0.0s\n",
      "[CV 4/5] END C=1000, class_weight=None, gamma=0.0001, kernel=linear, random_state=15;, score=0.755 total time=   0.0s\n",
      "[CV 5/5] END C=1000, class_weight=None, gamma=0.0001, kernel=linear, random_state=15;, score=0.736 total time=   0.0s\n",
      "[CV 1/5] END C=1000, class_weight=None, gamma=0.0001, kernel=poly, random_state=15;, score=0.340 total time=   0.0s\n",
      "[CV 2/5] END C=1000, class_weight=None, gamma=0.0001, kernel=poly, random_state=15;, score=0.344 total time=   0.0s\n",
      "[CV 3/5] END C=1000, class_weight=None, gamma=0.0001, kernel=poly, random_state=15;, score=0.340 total time=   0.0s\n",
      "[CV 4/5] END C=1000, class_weight=None, gamma=0.0001, kernel=poly, random_state=15;, score=0.340 total time=   0.0s\n",
      "[CV 5/5] END C=1000, class_weight=None, gamma=0.0001, kernel=poly, random_state=15;, score=0.340 total time=   0.0s\n",
      "[CV 1/5] END C=1000, class_weight=None, gamma=0.0001, kernel=rbf, random_state=15;, score=0.750 total time=   0.0s\n",
      "[CV 2/5] END C=1000, class_weight=None, gamma=0.0001, kernel=rbf, random_state=15;, score=0.755 total time=   0.0s\n",
      "[CV 3/5] END C=1000, class_weight=None, gamma=0.0001, kernel=rbf, random_state=15;, score=0.769 total time=   0.0s\n",
      "[CV 4/5] END C=1000, class_weight=None, gamma=0.0001, kernel=rbf, random_state=15;, score=0.783 total time=   0.0s\n",
      "[CV 5/5] END C=1000, class_weight=None, gamma=0.0001, kernel=rbf, random_state=15;, score=0.759 total time=   0.0s\n",
      "[CV 1/5] END C=1000, class_weight=None, gamma=0.0001, kernel=sigmoid, random_state=15;, score=0.750 total time=   0.0s\n",
      "[CV 2/5] END C=1000, class_weight=None, gamma=0.0001, kernel=sigmoid, random_state=15;, score=0.788 total time=   0.0s\n",
      "[CV 3/5] END C=1000, class_weight=None, gamma=0.0001, kernel=sigmoid, random_state=15;, score=0.755 total time=   0.0s\n",
      "[CV 4/5] END C=1000, class_weight=None, gamma=0.0001, kernel=sigmoid, random_state=15;, score=0.797 total time=   0.0s\n",
      "[CV 5/5] END C=1000, class_weight=None, gamma=0.0001, kernel=sigmoid, random_state=15;, score=0.759 total time=   0.0s\n",
      "[CV 1/5] END C=1000, class_weight=balanced, gamma=0.001, kernel=linear, random_state=15;, score=0.741 total time=   0.0s\n",
      "[CV 2/5] END C=1000, class_weight=balanced, gamma=0.001, kernel=linear, random_state=15;, score=0.759 total time=   0.0s\n",
      "[CV 3/5] END C=1000, class_weight=balanced, gamma=0.001, kernel=linear, random_state=15;, score=0.741 total time=   0.0s\n",
      "[CV 4/5] END C=1000, class_weight=balanced, gamma=0.001, kernel=linear, random_state=15;, score=0.755 total time=   0.0s\n",
      "[CV 5/5] END C=1000, class_weight=balanced, gamma=0.001, kernel=linear, random_state=15;, score=0.736 total time=   0.0s\n"
     ]
    },
    {
     "name": "stdout",
     "output_type": "stream",
     "text": [
      "[CV 1/5] END C=1000, class_weight=balanced, gamma=0.001, kernel=poly, random_state=15;, score=0.382 total time=   0.1s\n",
      "[CV 2/5] END C=1000, class_weight=balanced, gamma=0.001, kernel=poly, random_state=15;, score=0.443 total time=   0.1s\n",
      "[CV 3/5] END C=1000, class_weight=balanced, gamma=0.001, kernel=poly, random_state=15;, score=0.472 total time=   0.1s\n",
      "[CV 4/5] END C=1000, class_weight=balanced, gamma=0.001, kernel=poly, random_state=15;, score=0.406 total time=   0.0s\n",
      "[CV 5/5] END C=1000, class_weight=balanced, gamma=0.001, kernel=poly, random_state=15;, score=0.429 total time=   0.0s\n",
      "[CV 1/5] END C=1000, class_weight=balanced, gamma=0.001, kernel=rbf, random_state=15;, score=0.741 total time=   0.0s\n",
      "[CV 2/5] END C=1000, class_weight=balanced, gamma=0.001, kernel=rbf, random_state=15;, score=0.764 total time=   0.0s\n",
      "[CV 3/5] END C=1000, class_weight=balanced, gamma=0.001, kernel=rbf, random_state=15;, score=0.769 total time=   0.0s\n",
      "[CV 4/5] END C=1000, class_weight=balanced, gamma=0.001, kernel=rbf, random_state=15;, score=0.764 total time=   0.0s\n",
      "[CV 5/5] END C=1000, class_weight=balanced, gamma=0.001, kernel=rbf, random_state=15;, score=0.741 total time=   0.0s\n",
      "[CV 1/5] END C=1000, class_weight=balanced, gamma=0.001, kernel=sigmoid, random_state=15;, score=0.731 total time=   0.0s\n",
      "[CV 2/5] END C=1000, class_weight=balanced, gamma=0.001, kernel=sigmoid, random_state=15;, score=0.759 total time=   0.0s\n",
      "[CV 3/5] END C=1000, class_weight=balanced, gamma=0.001, kernel=sigmoid, random_state=15;, score=0.741 total time=   0.0s\n",
      "[CV 4/5] END C=1000, class_weight=balanced, gamma=0.001, kernel=sigmoid, random_state=15;, score=0.764 total time=   0.0s\n",
      "[CV 5/5] END C=1000, class_weight=balanced, gamma=0.001, kernel=sigmoid, random_state=15;, score=0.741 total time=   0.0s\n",
      "[CV 1/5] END C=1000, class_weight=balanced, gamma=0.0001, kernel=linear, random_state=15;, score=0.741 total time=   0.0s\n",
      "[CV 2/5] END C=1000, class_weight=balanced, gamma=0.0001, kernel=linear, random_state=15;, score=0.759 total time=   0.0s\n",
      "[CV 3/5] END C=1000, class_weight=balanced, gamma=0.0001, kernel=linear, random_state=15;, score=0.741 total time=   0.1s\n",
      "[CV 4/5] END C=1000, class_weight=balanced, gamma=0.0001, kernel=linear, random_state=15;, score=0.755 total time=   0.0s\n",
      "[CV 5/5] END C=1000, class_weight=balanced, gamma=0.0001, kernel=linear, random_state=15;, score=0.736 total time=   0.0s\n",
      "[CV 1/5] END C=1000, class_weight=balanced, gamma=0.0001, kernel=poly, random_state=15;, score=0.033 total time=   0.1s\n",
      "[CV 2/5] END C=1000, class_weight=balanced, gamma=0.0001, kernel=poly, random_state=15;, score=0.052 total time=   0.1s\n",
      "[CV 3/5] END C=1000, class_weight=balanced, gamma=0.0001, kernel=poly, random_state=15;, score=0.151 total time=   0.1s\n",
      "[CV 4/5] END C=1000, class_weight=balanced, gamma=0.0001, kernel=poly, random_state=15;, score=0.151 total time=   0.1s\n",
      "[CV 5/5] END C=1000, class_weight=balanced, gamma=0.0001, kernel=poly, random_state=15;, score=0.033 total time=   0.1s\n",
      "[CV 1/5] END C=1000, class_weight=balanced, gamma=0.0001, kernel=rbf, random_state=15;, score=0.755 total time=   0.0s\n",
      "[CV 2/5] END C=1000, class_weight=balanced, gamma=0.0001, kernel=rbf, random_state=15;, score=0.783 total time=   0.0s\n",
      "[CV 3/5] END C=1000, class_weight=balanced, gamma=0.0001, kernel=rbf, random_state=15;, score=0.769 total time=   0.0s\n",
      "[CV 4/5] END C=1000, class_weight=balanced, gamma=0.0001, kernel=rbf, random_state=15;, score=0.802 total time=   0.0s\n",
      "[CV 5/5] END C=1000, class_weight=balanced, gamma=0.0001, kernel=rbf, random_state=15;, score=0.750 total time=   0.0s\n",
      "[CV 1/5] END C=1000, class_weight=balanced, gamma=0.0001, kernel=sigmoid, random_state=15;, score=0.726 total time=   0.1s\n",
      "[CV 2/5] END C=1000, class_weight=balanced, gamma=0.0001, kernel=sigmoid, random_state=15;, score=0.816 total time=   0.1s\n",
      "[CV 3/5] END C=1000, class_weight=balanced, gamma=0.0001, kernel=sigmoid, random_state=15;, score=0.755 total time=   0.0s\n",
      "[CV 4/5] END C=1000, class_weight=balanced, gamma=0.0001, kernel=sigmoid, random_state=15;, score=0.792 total time=   0.0s\n",
      "[CV 5/5] END C=1000, class_weight=balanced, gamma=0.0001, kernel=sigmoid, random_state=15;, score=0.750 total time=   0.0s\n"
     ]
    },
    {
     "data": {
      "text/plain": [
       "GridSearchCV(estimator=SVC(),\n",
       "             param_grid=[{'C': [1, 10, 100, 1000],\n",
       "                          'class_weight': [None, 'balanced'],\n",
       "                          'gamma': [0.001, 0.0001],\n",
       "                          'kernel': ['linear', 'poly', 'rbf', 'sigmoid'],\n",
       "                          'random_state': [15]}],\n",
       "             verbose=3)"
      ]
     },
     "execution_count": 121,
     "metadata": {},
     "output_type": "execute_result"
    }
   ],
   "source": [
    "cv1.fit(X_train_new, y_train)"
   ]
  },
  {
   "cell_type": "markdown",
   "metadata": {
    "id": "bC8S2mixeBsg"
   },
   "source": [
    "Определите гиперпараметры лучшей полученной модели."
   ]
  },
  {
   "cell_type": "code",
   "execution_count": 122,
   "metadata": {
    "id": "-0rlhTDgQboM"
   },
   "outputs": [
    {
     "data": {
      "text/plain": [
       "{'C': 1000,\n",
       " 'class_weight': 'balanced',\n",
       " 'gamma': 0.0001,\n",
       " 'kernel': 'rbf',\n",
       " 'random_state': 15}"
      ]
     },
     "execution_count": 122,
     "metadata": {},
     "output_type": "execute_result"
    }
   ],
   "source": [
    "cv1.best_params_"
   ]
  },
  {
   "cell_type": "markdown",
   "metadata": {
    "id": "tgC9qKkBeP7p"
   },
   "source": [
    "Выполните предсказание для тестовых данных при помощи лучшей полученной модели. Вычислите <code>f1_score(average='weighted')</code>"
   ]
  },
  {
   "cell_type": "code",
   "execution_count": 123,
   "metadata": {
    "id": "JFpgqCfRQiir"
   },
   "outputs": [
    {
     "data": {
      "text/plain": [
       "0.7972071968887497"
      ]
     },
     "execution_count": 123,
     "metadata": {},
     "output_type": "execute_result"
    }
   ],
   "source": [
    "best_model1 = cv1.best_estimator_\n",
    "f1_score(y_test, best_model1.predict(X_test_new), average='weighted') "
   ]
  },
  {
   "cell_type": "markdown",
   "metadata": {
    "id": "Pn3w9DtNe6ii"
   },
   "source": [
    "Видно, что качество модели изменилось незначительно, при этом время обучения существенно сократилось."
   ]
  }
 ],
 "metadata": {
  "colab": {
   "provenance": []
  },
  "kernelspec": {
   "display_name": "Python 3 (ipykernel)",
   "language": "python",
   "name": "python3"
  },
  "language_info": {
   "codemirror_mode": {
    "name": "ipython",
    "version": 3
   },
   "file_extension": ".py",
   "mimetype": "text/x-python",
   "name": "python",
   "nbconvert_exporter": "python",
   "pygments_lexer": "ipython3",
   "version": "3.9.12"
  },
  "varInspector": {
   "cols": {
    "lenName": 16,
    "lenType": 16,
    "lenVar": 40
   },
   "kernels_config": {
    "python": {
     "delete_cmd_postfix": "",
     "delete_cmd_prefix": "del ",
     "library": "var_list.py",
     "varRefreshCmd": "print(var_dic_list())"
    },
    "r": {
     "delete_cmd_postfix": ") ",
     "delete_cmd_prefix": "rm(",
     "library": "var_list.r",
     "varRefreshCmd": "cat(var_dic_list()) "
    }
   },
   "types_to_exclude": [
    "module",
    "function",
    "builtin_function_or_method",
    "instance",
    "_Feature"
   ],
   "window_display": false
  }
 },
 "nbformat": 4,
 "nbformat_minor": 1
}
