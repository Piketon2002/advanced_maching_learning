{
 "cells": [
  {
   "cell_type": "code",
   "execution_count": 12,
   "id": "86a47746",
   "metadata": {},
   "outputs": [],
   "source": [
    "from sklearn.neighbors import KNeighborsClassifier, NearestNeighbors\n",
    "import pandas as pd\n",
    "import numpy as np\n",
    "import matplotlib.pyplot as plt"
   ]
  },
  {
   "cell_type": "code",
   "execution_count": 19,
   "id": "90a5e56e",
   "metadata": {},
   "outputs": [],
   "source": [
    "df = pd.read_csv('data.txt', index_col=0)"
   ]
  },
  {
   "cell_type": "code",
   "execution_count": 20,
   "id": "119736fb",
   "metadata": {},
   "outputs": [
    {
     "data": {
      "text/html": [
       "<div>\n",
       "<style scoped>\n",
       "    .dataframe tbody tr th:only-of-type {\n",
       "        vertical-align: middle;\n",
       "    }\n",
       "\n",
       "    .dataframe tbody tr th {\n",
       "        vertical-align: top;\n",
       "    }\n",
       "\n",
       "    .dataframe thead th {\n",
       "        text-align: right;\n",
       "    }\n",
       "</style>\n",
       "<table border=\"1\" class=\"dataframe\">\n",
       "  <thead>\n",
       "    <tr style=\"text-align: right;\">\n",
       "      <th></th>\n",
       "      <th>X</th>\n",
       "      <th>Y</th>\n",
       "      <th>Class</th>\n",
       "    </tr>\n",
       "    <tr>\n",
       "      <th>id</th>\n",
       "      <th></th>\n",
       "      <th></th>\n",
       "      <th></th>\n",
       "    </tr>\n",
       "  </thead>\n",
       "  <tbody>\n",
       "    <tr>\n",
       "      <th>1</th>\n",
       "      <td>19</td>\n",
       "      <td>73</td>\n",
       "      <td>1</td>\n",
       "    </tr>\n",
       "    <tr>\n",
       "      <th>2</th>\n",
       "      <td>68</td>\n",
       "      <td>94</td>\n",
       "      <td>1</td>\n",
       "    </tr>\n",
       "    <tr>\n",
       "      <th>3</th>\n",
       "      <td>34</td>\n",
       "      <td>33</td>\n",
       "      <td>0</td>\n",
       "    </tr>\n",
       "    <tr>\n",
       "      <th>4</th>\n",
       "      <td>76</td>\n",
       "      <td>69</td>\n",
       "      <td>1</td>\n",
       "    </tr>\n",
       "    <tr>\n",
       "      <th>5</th>\n",
       "      <td>37</td>\n",
       "      <td>71</td>\n",
       "      <td>0</td>\n",
       "    </tr>\n",
       "    <tr>\n",
       "      <th>6</th>\n",
       "      <td>45</td>\n",
       "      <td>79</td>\n",
       "      <td>0</td>\n",
       "    </tr>\n",
       "    <tr>\n",
       "      <th>7</th>\n",
       "      <td>20</td>\n",
       "      <td>30</td>\n",
       "      <td>0</td>\n",
       "    </tr>\n",
       "    <tr>\n",
       "      <th>8</th>\n",
       "      <td>91</td>\n",
       "      <td>42</td>\n",
       "      <td>0</td>\n",
       "    </tr>\n",
       "    <tr>\n",
       "      <th>9</th>\n",
       "      <td>33</td>\n",
       "      <td>82</td>\n",
       "      <td>1</td>\n",
       "    </tr>\n",
       "    <tr>\n",
       "      <th>10</th>\n",
       "      <td>66</td>\n",
       "      <td>23</td>\n",
       "      <td>0</td>\n",
       "    </tr>\n",
       "  </tbody>\n",
       "</table>\n",
       "</div>"
      ],
      "text/plain": [
       "     X   Y  Class\n",
       "id               \n",
       "1   19  73      1\n",
       "2   68  94      1\n",
       "3   34  33      0\n",
       "4   76  69      1\n",
       "5   37  71      0\n",
       "6   45  79      0\n",
       "7   20  30      0\n",
       "8   91  42      0\n",
       "9   33  82      1\n",
       "10  66  23      0"
      ]
     },
     "execution_count": 20,
     "metadata": {},
     "output_type": "execute_result"
    }
   ],
   "source": [
    "df"
   ]
  },
  {
   "cell_type": "code",
   "execution_count": 21,
   "id": "052228d6",
   "metadata": {},
   "outputs": [
    {
     "name": "stdout",
     "output_type": "stream",
     "text": [
      "(array([[10.63014581]]), array([[7]], dtype=int64))\n"
     ]
    }
   ],
   "source": [
    "# нужно найти ближайший элемент к (99, 49) \n",
    "df_test = pd.DataFrame({'X': [99], 'Y': [49]})\n",
    "\n",
    "neigh = NearestNeighbors(n_neighbors=1)\n",
    "neigh.fit(df[['X', 'Y']])\n",
    "\n",
    "print(neigh.kneighbors(df_test)) # первое число это расстояние, второе номер элемента (нумерация с 0)"
   ]
  },
  {
   "cell_type": "code",
   "execution_count": 25,
   "id": "3e248bc9",
   "metadata": {},
   "outputs": [
    {
     "name": "stdout",
     "output_type": "stream",
     "text": [
      "(array([[10.63014581, 30.47950131, 42.01190308]]), array([[7, 3, 9]], dtype=int64))\n"
     ]
    }
   ],
   "source": [
    "# 3 ближайших\n",
    "neigh = NearestNeighbors(n_neighbors=3)\n",
    "neigh.fit(df[['X', 'Y']])\n",
    "\n",
    "print(neigh.kneighbors(df_test)) # первое число это расстояние, второе номер элемента (нумерация с 0)"
   ]
  },
  {
   "cell_type": "code",
   "execution_count": 26,
   "id": "0139121f",
   "metadata": {},
   "outputs": [
    {
     "data": {
      "text/plain": [
       "array([0], dtype=int64)"
      ]
     },
     "execution_count": 26,
     "metadata": {},
     "output_type": "execute_result"
    }
   ],
   "source": [
    "# класс для объекта (99,49)\n",
    "\n",
    "neigh = KNeighborsClassifier(n_neighbors=3)\n",
    "neigh.fit(df.drop(columns='Class'), df['Class'])\n",
    "\n",
    "neigh.predict(df_test)"
   ]
  },
  {
   "cell_type": "code",
   "execution_count": 27,
   "id": "8b967ba6",
   "metadata": {},
   "outputs": [
    {
     "name": "stdout",
     "output_type": "stream",
     "text": [
      "(array([[15.]]), array([[7]], dtype=int64))\n"
     ]
    }
   ],
   "source": [
    "# расстояние до ближайшего соседа по манхэттену\n",
    "\n",
    "neigh = NearestNeighbors(n_neighbors=1, p=1)\n",
    "neigh.fit(df[['X', 'Y']])\n",
    "\n",
    "print(neigh.kneighbors(df_test)) # первое число это расстояние, второе номер элемента (нумерация с 0)"
   ]
  },
  {
   "cell_type": "code",
   "execution_count": 28,
   "id": "88f1b3d7",
   "metadata": {},
   "outputs": [
    {
     "name": "stdout",
     "output_type": "stream",
     "text": [
      "(array([[15., 43., 59.]]), array([[7, 3, 9]], dtype=int64))\n"
     ]
    }
   ],
   "source": [
    "# 3 ближайших по манхэттену\n",
    "neigh = NearestNeighbors(n_neighbors=3, p=1)\n",
    "neigh.fit(df[['X', 'Y']])\n",
    "\n",
    "print(neigh.kneighbors(df_test)) # первое число это расстояние, второе номер элемента (нумерация с 0)"
   ]
  },
  {
   "cell_type": "code",
   "execution_count": 29,
   "id": "07be5518",
   "metadata": {},
   "outputs": [
    {
     "data": {
      "text/plain": [
       "array([0], dtype=int64)"
      ]
     },
     "execution_count": 29,
     "metadata": {},
     "output_type": "execute_result"
    }
   ],
   "source": [
    "# класс для объекта (99,49) по манхэттену\n",
    "\n",
    "neigh = KNeighborsClassifier(n_neighbors=3, p=1)\n",
    "neigh.fit(df.drop(columns='Class'), df['Class'])\n",
    "\n",
    "neigh.predict(df_test)"
   ]
  },
  {
   "cell_type": "code",
   "execution_count": null,
   "id": "387dbfa5",
   "metadata": {},
   "outputs": [],
   "source": []
  },
  {
   "cell_type": "code",
   "execution_count": null,
   "id": "9d053ba6",
   "metadata": {},
   "outputs": [],
   "source": []
  }
 ],
 "metadata": {
  "kernelspec": {
   "display_name": "Python 3 (ipykernel)",
   "language": "python",
   "name": "python3"
  },
  "language_info": {
   "codemirror_mode": {
    "name": "ipython",
    "version": 3
   },
   "file_extension": ".py",
   "mimetype": "text/x-python",
   "name": "python",
   "nbconvert_exporter": "python",
   "pygments_lexer": "ipython3",
   "version": "3.9.12"
  },
  "varInspector": {
   "cols": {
    "lenName": 16,
    "lenType": 16,
    "lenVar": 40
   },
   "kernels_config": {
    "python": {
     "delete_cmd_postfix": "",
     "delete_cmd_prefix": "del ",
     "library": "var_list.py",
     "varRefreshCmd": "print(var_dic_list())"
    },
    "r": {
     "delete_cmd_postfix": ") ",
     "delete_cmd_prefix": "rm(",
     "library": "var_list.r",
     "varRefreshCmd": "cat(var_dic_list()) "
    }
   },
   "types_to_exclude": [
    "module",
    "function",
    "builtin_function_or_method",
    "instance",
    "_Feature"
   ],
   "window_display": false
  }
 },
 "nbformat": 4,
 "nbformat_minor": 5
}
