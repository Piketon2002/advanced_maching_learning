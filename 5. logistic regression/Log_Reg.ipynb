{
 "cells": [
  {
   "cell_type": "markdown",
   "metadata": {
    "id": "S2Zv-8wrSmbU"
   },
   "source": [
    "# Применение логистической регрессии для решения задачи классификации"
   ]
  },
  {
   "cell_type": "markdown",
   "metadata": {
    "id": "Fsaq3T7JS9Ox"
   },
   "source": [
    "# Описание набора данных"
   ]
  },
  {
   "cell_type": "markdown",
   "metadata": {
    "id": "ekwIM8kmTAx5"
   },
   "source": [
    "Данный набор содержит информацию о пассажирах корабля «Титаник», затонувшего в ночь на 15-е апреля 1912 года. Некоторое количество пассажиров спаслось, чему способствовало множество различных факторов, включая их пол, возраст, на какой палубе находилась их кабина, социальный статус, и т.д.\n",
    "\n",
    "Набор данных состоит из различных признаков, описывающих информацию о пассажирах. Каждая строка таблицы — отдельный пассажир, вся информация о нем содержится в его строке. \n",
    "\n",
    "Описание датасета:\n",
    "- **Survived** (целевой признак): выжил ли пассажир (0 = Нет, 1 = Да);\n",
    "- **Pclass**: класс каюты (1 = 1st, 2 = 2nd, 3 = 3rd);\n",
    "- **Sex**: пол (female или male)\t\n",
    "- **Age**: возраст в годах\n",
    "- **SibSp**: количество братьев, сестёр (в том числе сводных) и супругов на борту\t\n",
    "- **Parch**: количество детей и родителей на борту\n",
    "- **Ticket**: номер билета\t\n",
    "- **Fare**: стоимость проезда пассажира\t\n",
    "- **Cabin**: номер каюты\t\n",
    "- **Embarked**: порт посадки пассажира (C = Cherbourg, Q = Queenstown, S = Southampton).\n",
    "\n",
    "Необходимо решить задачу классификации и научиться предсказывать целовой признак **Survived** — выживет ли пассажир — по соответсвующим ему нецелевым признакам.\n"
   ]
  },
  {
   "cell_type": "markdown",
   "metadata": {
    "id": "SjI-Ub1GYbKX"
   },
   "source": [
    "# Подготовка и первичный анализ данных"
   ]
  },
  {
   "cell_type": "code",
   "execution_count": 172,
   "metadata": {
    "id": "a_MzT3cKTuR9"
   },
   "outputs": [],
   "source": [
    "import numpy as np \n",
    "import pandas as pd\n",
    "import matplotlib.pyplot as plt\n",
    "import seaborn as sns\n",
    "from sklearn.linear_model import LogisticRegression\n",
    "from sklearn.metrics import f1_score\n",
    "from sklearn.metrics import classification_report\n",
    "from sklearn.model_selection import train_test_split"
   ]
  },
  {
   "cell_type": "markdown",
   "metadata": {
    "id": "KY4ZYwUuUNwx"
   },
   "source": [
    "Установите количество пропущенных значений поля <code>age</code>:"
   ]
  },
  {
   "cell_type": "code",
   "execution_count": 173,
   "metadata": {},
   "outputs": [
    {
     "data": {
      "text/html": [
       "<div>\n",
       "<style scoped>\n",
       "    .dataframe tbody tr th:only-of-type {\n",
       "        vertical-align: middle;\n",
       "    }\n",
       "\n",
       "    .dataframe tbody tr th {\n",
       "        vertical-align: top;\n",
       "    }\n",
       "\n",
       "    .dataframe thead th {\n",
       "        text-align: right;\n",
       "    }\n",
       "</style>\n",
       "<table border=\"1\" class=\"dataframe\">\n",
       "  <thead>\n",
       "    <tr style=\"text-align: right;\">\n",
       "      <th></th>\n",
       "      <th>pclass</th>\n",
       "      <th>survived</th>\n",
       "      <th>name</th>\n",
       "      <th>sex</th>\n",
       "      <th>age</th>\n",
       "      <th>sibsp</th>\n",
       "      <th>parch</th>\n",
       "      <th>ticket</th>\n",
       "      <th>fare</th>\n",
       "      <th>cabin</th>\n",
       "      <th>embarked</th>\n",
       "      <th>home.dest</th>\n",
       "    </tr>\n",
       "  </thead>\n",
       "  <tbody>\n",
       "    <tr>\n",
       "      <th>0</th>\n",
       "      <td>3</td>\n",
       "      <td>1</td>\n",
       "      <td>Smyth, Miss. Julia</td>\n",
       "      <td>female</td>\n",
       "      <td>NaN</td>\n",
       "      <td>0</td>\n",
       "      <td>0</td>\n",
       "      <td>335432</td>\n",
       "      <td>7.7333</td>\n",
       "      <td>NaN</td>\n",
       "      <td>Q</td>\n",
       "      <td>NaN</td>\n",
       "    </tr>\n",
       "    <tr>\n",
       "      <th>1</th>\n",
       "      <td>3</td>\n",
       "      <td>1</td>\n",
       "      <td>Glynn, Miss. Mary Agatha</td>\n",
       "      <td>female</td>\n",
       "      <td>NaN</td>\n",
       "      <td>0</td>\n",
       "      <td>0</td>\n",
       "      <td>335677</td>\n",
       "      <td>7.7500</td>\n",
       "      <td>NaN</td>\n",
       "      <td>Q</td>\n",
       "      <td>Co Clare, Ireland Washington, DC</td>\n",
       "    </tr>\n",
       "    <tr>\n",
       "      <th>2</th>\n",
       "      <td>3</td>\n",
       "      <td>1</td>\n",
       "      <td>Whabee, Mrs. George Joseph (Shawneene Abi-Saab)</td>\n",
       "      <td>female</td>\n",
       "      <td>38.0</td>\n",
       "      <td>0</td>\n",
       "      <td>0</td>\n",
       "      <td>2688</td>\n",
       "      <td>7.2292</td>\n",
       "      <td>NaN</td>\n",
       "      <td>C</td>\n",
       "      <td>NaN</td>\n",
       "    </tr>\n",
       "    <tr>\n",
       "      <th>3</th>\n",
       "      <td>3</td>\n",
       "      <td>0</td>\n",
       "      <td>Vovk, Mr. Janko</td>\n",
       "      <td>male</td>\n",
       "      <td>22.0</td>\n",
       "      <td>0</td>\n",
       "      <td>0</td>\n",
       "      <td>349252</td>\n",
       "      <td>7.8958</td>\n",
       "      <td>NaN</td>\n",
       "      <td>S</td>\n",
       "      <td>NaN</td>\n",
       "    </tr>\n",
       "    <tr>\n",
       "      <th>4</th>\n",
       "      <td>3</td>\n",
       "      <td>0</td>\n",
       "      <td>de Pelsmaeker, Mr. Alfons</td>\n",
       "      <td>male</td>\n",
       "      <td>16.0</td>\n",
       "      <td>0</td>\n",
       "      <td>0</td>\n",
       "      <td>345778</td>\n",
       "      <td>9.5000</td>\n",
       "      <td>NaN</td>\n",
       "      <td>S</td>\n",
       "      <td>NaN</td>\n",
       "    </tr>\n",
       "    <tr>\n",
       "      <th>...</th>\n",
       "      <td>...</td>\n",
       "      <td>...</td>\n",
       "      <td>...</td>\n",
       "      <td>...</td>\n",
       "      <td>...</td>\n",
       "      <td>...</td>\n",
       "      <td>...</td>\n",
       "      <td>...</td>\n",
       "      <td>...</td>\n",
       "      <td>...</td>\n",
       "      <td>...</td>\n",
       "      <td>...</td>\n",
       "    </tr>\n",
       "    <tr>\n",
       "      <th>976</th>\n",
       "      <td>3</td>\n",
       "      <td>1</td>\n",
       "      <td>Howard, Miss. May Elizabeth</td>\n",
       "      <td>female</td>\n",
       "      <td>NaN</td>\n",
       "      <td>0</td>\n",
       "      <td>0</td>\n",
       "      <td>A. 2. 39186</td>\n",
       "      <td>8.0500</td>\n",
       "      <td>NaN</td>\n",
       "      <td>S</td>\n",
       "      <td>NaN</td>\n",
       "    </tr>\n",
       "    <tr>\n",
       "      <th>977</th>\n",
       "      <td>3</td>\n",
       "      <td>1</td>\n",
       "      <td>Dorking, Mr. Edward Arthur</td>\n",
       "      <td>male</td>\n",
       "      <td>19.0</td>\n",
       "      <td>0</td>\n",
       "      <td>0</td>\n",
       "      <td>A/5. 10482</td>\n",
       "      <td>8.0500</td>\n",
       "      <td>NaN</td>\n",
       "      <td>S</td>\n",
       "      <td>England Oglesby, IL</td>\n",
       "    </tr>\n",
       "    <tr>\n",
       "      <th>978</th>\n",
       "      <td>2</td>\n",
       "      <td>0</td>\n",
       "      <td>Gillespie, Mr. William Henry</td>\n",
       "      <td>male</td>\n",
       "      <td>34.0</td>\n",
       "      <td>0</td>\n",
       "      <td>0</td>\n",
       "      <td>12233</td>\n",
       "      <td>13.0000</td>\n",
       "      <td>NaN</td>\n",
       "      <td>S</td>\n",
       "      <td>Vancouver, BC</td>\n",
       "    </tr>\n",
       "    <tr>\n",
       "      <th>979</th>\n",
       "      <td>3</td>\n",
       "      <td>0</td>\n",
       "      <td>Barton, Mr. David John</td>\n",
       "      <td>male</td>\n",
       "      <td>22.0</td>\n",
       "      <td>0</td>\n",
       "      <td>0</td>\n",
       "      <td>324669</td>\n",
       "      <td>8.0500</td>\n",
       "      <td>NaN</td>\n",
       "      <td>S</td>\n",
       "      <td>England New York, NY</td>\n",
       "    </tr>\n",
       "    <tr>\n",
       "      <th>980</th>\n",
       "      <td>1</td>\n",
       "      <td>0</td>\n",
       "      <td>Allison, Miss. Helen Loraine</td>\n",
       "      <td>female</td>\n",
       "      <td>2.0</td>\n",
       "      <td>1</td>\n",
       "      <td>2</td>\n",
       "      <td>113781</td>\n",
       "      <td>151.5500</td>\n",
       "      <td>C22 C26</td>\n",
       "      <td>S</td>\n",
       "      <td>Montreal, PQ / Chesterville, ON</td>\n",
       "    </tr>\n",
       "  </tbody>\n",
       "</table>\n",
       "<p>981 rows × 12 columns</p>\n",
       "</div>"
      ],
      "text/plain": [
       "     pclass  survived                                             name  \\\n",
       "0         3         1                               Smyth, Miss. Julia   \n",
       "1         3         1                         Glynn, Miss. Mary Agatha   \n",
       "2         3         1  Whabee, Mrs. George Joseph (Shawneene Abi-Saab)   \n",
       "3         3         0                                  Vovk, Mr. Janko   \n",
       "4         3         0                        de Pelsmaeker, Mr. Alfons   \n",
       "..      ...       ...                                              ...   \n",
       "976       3         1                      Howard, Miss. May Elizabeth   \n",
       "977       3         1                       Dorking, Mr. Edward Arthur   \n",
       "978       2         0                     Gillespie, Mr. William Henry   \n",
       "979       3         0                           Barton, Mr. David John   \n",
       "980       1         0                     Allison, Miss. Helen Loraine   \n",
       "\n",
       "        sex   age  sibsp  parch       ticket      fare    cabin embarked  \\\n",
       "0    female   NaN      0      0       335432    7.7333      NaN        Q   \n",
       "1    female   NaN      0      0       335677    7.7500      NaN        Q   \n",
       "2    female  38.0      0      0         2688    7.2292      NaN        C   \n",
       "3      male  22.0      0      0       349252    7.8958      NaN        S   \n",
       "4      male  16.0      0      0       345778    9.5000      NaN        S   \n",
       "..      ...   ...    ...    ...          ...       ...      ...      ...   \n",
       "976  female   NaN      0      0  A. 2. 39186    8.0500      NaN        S   \n",
       "977    male  19.0      0      0   A/5. 10482    8.0500      NaN        S   \n",
       "978    male  34.0      0      0        12233   13.0000      NaN        S   \n",
       "979    male  22.0      0      0       324669    8.0500      NaN        S   \n",
       "980  female   2.0      1      2       113781  151.5500  C22 C26        S   \n",
       "\n",
       "                            home.dest  \n",
       "0                                 NaN  \n",
       "1    Co Clare, Ireland Washington, DC  \n",
       "2                                 NaN  \n",
       "3                                 NaN  \n",
       "4                                 NaN  \n",
       "..                                ...  \n",
       "976                               NaN  \n",
       "977               England Oglesby, IL  \n",
       "978                     Vancouver, BC  \n",
       "979              England New York, NY  \n",
       "980   Montreal, PQ / Chesterville, ON  \n",
       "\n",
       "[981 rows x 12 columns]"
      ]
     },
     "execution_count": 173,
     "metadata": {},
     "output_type": "execute_result"
    }
   ],
   "source": [
    "df_train = pd.read_csv('titanic_train.csv')\n",
    "df_train"
   ]
  },
  {
   "cell_type": "code",
   "execution_count": 174,
   "metadata": {
    "id": "Ii5ITpGJUShn"
   },
   "outputs": [
    {
     "name": "stdout",
     "output_type": "stream",
     "text": [
      "199\n"
     ]
    }
   ],
   "source": [
    "print(sum(df_train['age'].isna()))"
   ]
  },
  {
   "cell_type": "markdown",
   "metadata": {
    "id": "gOqnpfJkU6Ll"
   },
   "source": [
    "Определите долю выживших"
   ]
  },
  {
   "cell_type": "code",
   "execution_count": 175,
   "metadata": {
    "id": "dHdTN-odVAIb"
   },
   "outputs": [
    {
     "data": {
      "text/plain": [
       "<Axes: xlabel='survived', ylabel='Count'>"
      ]
     },
     "execution_count": 175,
     "metadata": {},
     "output_type": "execute_result"
    },
    {
     "data": {
      "image/png": "[encoded data removed]",
      "text/plain": [
       "<Figure size 432x288 with 1 Axes>"
      ]
     },
     "metadata": {
      "needs_background": "light"
     },
     "output_type": "display_data"
    }
   ],
   "source": [
    "sns.histplot(df_train['survived'], discrete=True)"
   ]
  },
  {
   "cell_type": "code",
   "execution_count": 176,
   "metadata": {},
   "outputs": [
    {
     "name": "stdout",
     "output_type": "stream",
     "text": [
      "0.382262996941896\n"
     ]
    }
   ],
   "source": [
    "counts = df_train['survived'].value_counts()\n",
    "print(counts[1]/sum(counts))"
   ]
  },
  {
   "cell_type": "markdown",
   "metadata": {
    "id": "MJS0wozuVoWt"
   },
   "source": [
    "Определите долю пропущенных значений в рамках каждого признака и избавьтесь от тех признаков, где доля пропусков больше трети. Также удалите колонку <code>ticket</code>, вряд ли эта информация будет полезной."
   ]
  },
  {
   "cell_type": "code",
   "execution_count": 177,
   "metadata": {
    "id": "43ptqUREVz-t"
   },
   "outputs": [
    {
     "data": {
      "text/plain": [
       "pclass       0.000000\n",
       "survived     0.000000\n",
       "name         0.000000\n",
       "sex          0.000000\n",
       "age          0.202854\n",
       "sibsp        0.000000\n",
       "parch        0.000000\n",
       "ticket       0.000000\n",
       "fare         0.000000\n",
       "cabin        0.783894\n",
       "embarked     0.000000\n",
       "home.dest    0.422018\n",
       "dtype: float64"
      ]
     },
     "metadata": {},
     "output_type": "display_data"
    }
   ],
   "source": [
    "missing_values = df_train.isnull().mean()\n",
    "display(missing_values)\n",
    "\n",
    "threshold = 1/3\n",
    "columns_to_drop = missing_values[missing_values > threshold].index\n",
    "df_train.drop(columns_to_drop, axis=1, inplace=True)\n",
    "df_train.drop(['ticket'], axis=1, inplace=True)"
   ]
  },
  {
   "cell_type": "markdown",
   "metadata": {
    "id": "5Porb6vGmpke"
   },
   "source": [
    "Из описания набора данных видно, что колонки <code>sibsp</code> и <code>parch</code> по сути отвечают за размер семьи. Замените эти две колонки на колонку <code>fam_size</code>, значения которой будут вычисляться как сумма соответствующих значений в колонках <code>sibsp</code> и <code>parch</code>. "
   ]
  },
  {
   "cell_type": "code",
   "execution_count": 178,
   "metadata": {
    "id": "knvpyHMrm4f-"
   },
   "outputs": [
    {
     "data": {
      "text/html": [
       "<div>\n",
       "<style scoped>\n",
       "    .dataframe tbody tr th:only-of-type {\n",
       "        vertical-align: middle;\n",
       "    }\n",
       "\n",
       "    .dataframe tbody tr th {\n",
       "        vertical-align: top;\n",
       "    }\n",
       "\n",
       "    .dataframe thead th {\n",
       "        text-align: right;\n",
       "    }\n",
       "</style>\n",
       "<table border=\"1\" class=\"dataframe\">\n",
       "  <thead>\n",
       "    <tr style=\"text-align: right;\">\n",
       "      <th></th>\n",
       "      <th>pclass</th>\n",
       "      <th>survived</th>\n",
       "      <th>name</th>\n",
       "      <th>sex</th>\n",
       "      <th>age</th>\n",
       "      <th>fare</th>\n",
       "      <th>embarked</th>\n",
       "      <th>fam_size</th>\n",
       "    </tr>\n",
       "  </thead>\n",
       "  <tbody>\n",
       "    <tr>\n",
       "      <th>0</th>\n",
       "      <td>3</td>\n",
       "      <td>1</td>\n",
       "      <td>Smyth, Miss. Julia</td>\n",
       "      <td>female</td>\n",
       "      <td>NaN</td>\n",
       "      <td>7.7333</td>\n",
       "      <td>Q</td>\n",
       "      <td>0</td>\n",
       "    </tr>\n",
       "    <tr>\n",
       "      <th>1</th>\n",
       "      <td>3</td>\n",
       "      <td>1</td>\n",
       "      <td>Glynn, Miss. Mary Agatha</td>\n",
       "      <td>female</td>\n",
       "      <td>NaN</td>\n",
       "      <td>7.7500</td>\n",
       "      <td>Q</td>\n",
       "      <td>0</td>\n",
       "    </tr>\n",
       "    <tr>\n",
       "      <th>2</th>\n",
       "      <td>3</td>\n",
       "      <td>1</td>\n",
       "      <td>Whabee, Mrs. George Joseph (Shawneene Abi-Saab)</td>\n",
       "      <td>female</td>\n",
       "      <td>38.0</td>\n",
       "      <td>7.2292</td>\n",
       "      <td>C</td>\n",
       "      <td>0</td>\n",
       "    </tr>\n",
       "    <tr>\n",
       "      <th>3</th>\n",
       "      <td>3</td>\n",
       "      <td>0</td>\n",
       "      <td>Vovk, Mr. Janko</td>\n",
       "      <td>male</td>\n",
       "      <td>22.0</td>\n",
       "      <td>7.8958</td>\n",
       "      <td>S</td>\n",
       "      <td>0</td>\n",
       "    </tr>\n",
       "    <tr>\n",
       "      <th>4</th>\n",
       "      <td>3</td>\n",
       "      <td>0</td>\n",
       "      <td>de Pelsmaeker, Mr. Alfons</td>\n",
       "      <td>male</td>\n",
       "      <td>16.0</td>\n",
       "      <td>9.5000</td>\n",
       "      <td>S</td>\n",
       "      <td>0</td>\n",
       "    </tr>\n",
       "    <tr>\n",
       "      <th>...</th>\n",
       "      <td>...</td>\n",
       "      <td>...</td>\n",
       "      <td>...</td>\n",
       "      <td>...</td>\n",
       "      <td>...</td>\n",
       "      <td>...</td>\n",
       "      <td>...</td>\n",
       "      <td>...</td>\n",
       "    </tr>\n",
       "    <tr>\n",
       "      <th>976</th>\n",
       "      <td>3</td>\n",
       "      <td>1</td>\n",
       "      <td>Howard, Miss. May Elizabeth</td>\n",
       "      <td>female</td>\n",
       "      <td>NaN</td>\n",
       "      <td>8.0500</td>\n",
       "      <td>S</td>\n",
       "      <td>0</td>\n",
       "    </tr>\n",
       "    <tr>\n",
       "      <th>977</th>\n",
       "      <td>3</td>\n",
       "      <td>1</td>\n",
       "      <td>Dorking, Mr. Edward Arthur</td>\n",
       "      <td>male</td>\n",
       "      <td>19.0</td>\n",
       "      <td>8.0500</td>\n",
       "      <td>S</td>\n",
       "      <td>0</td>\n",
       "    </tr>\n",
       "    <tr>\n",
       "      <th>978</th>\n",
       "      <td>2</td>\n",
       "      <td>0</td>\n",
       "      <td>Gillespie, Mr. William Henry</td>\n",
       "      <td>male</td>\n",
       "      <td>34.0</td>\n",
       "      <td>13.0000</td>\n",
       "      <td>S</td>\n",
       "      <td>0</td>\n",
       "    </tr>\n",
       "    <tr>\n",
       "      <th>979</th>\n",
       "      <td>3</td>\n",
       "      <td>0</td>\n",
       "      <td>Barton, Mr. David John</td>\n",
       "      <td>male</td>\n",
       "      <td>22.0</td>\n",
       "      <td>8.0500</td>\n",
       "      <td>S</td>\n",
       "      <td>0</td>\n",
       "    </tr>\n",
       "    <tr>\n",
       "      <th>980</th>\n",
       "      <td>1</td>\n",
       "      <td>0</td>\n",
       "      <td>Allison, Miss. Helen Loraine</td>\n",
       "      <td>female</td>\n",
       "      <td>2.0</td>\n",
       "      <td>151.5500</td>\n",
       "      <td>S</td>\n",
       "      <td>3</td>\n",
       "    </tr>\n",
       "  </tbody>\n",
       "</table>\n",
       "<p>981 rows × 8 columns</p>\n",
       "</div>"
      ],
      "text/plain": [
       "     pclass  survived                                             name  \\\n",
       "0         3         1                               Smyth, Miss. Julia   \n",
       "1         3         1                         Glynn, Miss. Mary Agatha   \n",
       "2         3         1  Whabee, Mrs. George Joseph (Shawneene Abi-Saab)   \n",
       "3         3         0                                  Vovk, Mr. Janko   \n",
       "4         3         0                        de Pelsmaeker, Mr. Alfons   \n",
       "..      ...       ...                                              ...   \n",
       "976       3         1                      Howard, Miss. May Elizabeth   \n",
       "977       3         1                       Dorking, Mr. Edward Arthur   \n",
       "978       2         0                     Gillespie, Mr. William Henry   \n",
       "979       3         0                           Barton, Mr. David John   \n",
       "980       1         0                     Allison, Miss. Helen Loraine   \n",
       "\n",
       "        sex   age      fare embarked  fam_size  \n",
       "0    female   NaN    7.7333        Q         0  \n",
       "1    female   NaN    7.7500        Q         0  \n",
       "2    female  38.0    7.2292        C         0  \n",
       "3      male  22.0    7.8958        S         0  \n",
       "4      male  16.0    9.5000        S         0  \n",
       "..      ...   ...       ...      ...       ...  \n",
       "976  female   NaN    8.0500        S         0  \n",
       "977    male  19.0    8.0500        S         0  \n",
       "978    male  34.0   13.0000        S         0  \n",
       "979    male  22.0    8.0500        S         0  \n",
       "980  female   2.0  151.5500        S         3  \n",
       "\n",
       "[981 rows x 8 columns]"
      ]
     },
     "execution_count": 178,
     "metadata": {},
     "output_type": "execute_result"
    }
   ],
   "source": [
    "df_train['fam_size'] = df_train['sibsp'] + df_train['parch']\n",
    "df_train.drop(columns=['sibsp', 'parch'], inplace=True)\n",
    "df_train"
   ]
  },
  {
   "cell_type": "code",
   "execution_count": 179,
   "metadata": {},
   "outputs": [
    {
     "name": "stdout",
     "output_type": "stream",
     "text": [
      "0.8664627930682977\n"
     ]
    }
   ],
   "source": [
    "# выборочное среднее fam_size\n",
    "print(np.mean(df_train['fam_size']))"
   ]
  },
  {
   "cell_type": "markdown",
   "metadata": {
    "id": "X9Cmdl5fmyoi"
   },
   "source": [
    "Полученный датасет будем называть **исходным** (выброшенные на этом этапе признаки не нужно возвращать ни на одном из последующих этапов выполнения задания). Вычислите полученное число предикторов."
   ]
  },
  {
   "cell_type": "code",
   "execution_count": 180,
   "metadata": {
    "id": "XdpdKkEBUT52"
   },
   "outputs": [
    {
     "name": "stdout",
     "output_type": "stream",
     "text": [
      "7\n"
     ]
    }
   ],
   "source": [
    "print(len(df_train.columns)-1)"
   ]
  },
  {
   "cell_type": "markdown",
   "metadata": {
    "id": "wQOvPyj8Vx00"
   },
   "source": [
    "На основе имеющейся статистики оцените вероятность выжить если пассажир -- представитель определенной категории (указана в вашем индивидуальном задании)"
   ]
  },
  {
   "cell_type": "code",
   "execution_count": null,
   "metadata": {},
   "outputs": [],
   "source": []
  },
  {
   "cell_type": "code",
   "execution_count": 184,
   "metadata": {
    "id": "hFpZp4LaeS9Q"
   },
   "outputs": [
    {
     "data": {
      "text/plain": [
       "0.9711538461538461"
      ]
     },
     "execution_count": 184,
     "metadata": {},
     "output_type": "execute_result"
    }
   ],
   "source": [
    "len(df_train.query('sex == \"female\" & pclass == 1 & survived ==1'))/len(df_train.query('sex == \"female\" & pclass == 1'))"
   ]
  },
  {
   "cell_type": "markdown",
   "metadata": {
    "id": "sXxprQtFhSy4"
   },
   "source": [
    "Постройте гистограммы выжиших и невыживших по возрастам."
   ]
  },
  {
   "cell_type": "code",
   "execution_count": 147,
   "metadata": {},
   "outputs": [
    {
     "data": {
      "text/plain": [
       "<Axes: xlabel='age', ylabel='Count'>"
      ]
     },
     "execution_count": 147,
     "metadata": {},
     "output_type": "execute_result"
    },
    {
     "data": {
      "image/png": "[encoded data removed]",
      "text/plain": [
       "<Figure size 432x288 with 1 Axes>"
      ]
     },
     "metadata": {
      "needs_background": "light"
     },
     "output_type": "display_data"
    }
   ],
   "source": [
    "sns.histplot(data=df_train.query('survived == 0'), x='age')"
   ]
  },
  {
   "cell_type": "code",
   "execution_count": 148,
   "metadata": {
    "id": "K3wHT2Uzr3nb"
   },
   "outputs": [
    {
     "data": {
      "text/plain": [
       "<Axes: xlabel='age', ylabel='Count'>"
      ]
     },
     "execution_count": 148,
     "metadata": {},
     "output_type": "execute_result"
    },
    {
     "data": {
      "image/png": "[encoded data removed]",
      "text/plain": [
       "<Figure size 432x288 with 1 Axes>"
      ]
     },
     "metadata": {
      "needs_background": "light"
     },
     "output_type": "display_data"
    }
   ],
   "source": [
    "sns.histplot(data=df_train.query('survived == 1'), x='age')"
   ]
  },
  {
   "cell_type": "markdown",
   "metadata": {
    "id": "u_bO7O9v0ovG"
   },
   "source": [
    "# Модель на основе числовых признаков"
   ]
  },
  {
   "cell_type": "markdown",
   "metadata": {
    "id": "VJPhFX8M38SF"
   },
   "source": [
    "## Удаление строк с пропусками"
   ]
  },
  {
   "cell_type": "markdown",
   "metadata": {
    "id": "kAO1Bd2Q0qZr"
   },
   "source": [
    "В качестве базовой модели имеет смысл построить модель с минимальными трудозатратами.\n",
    "\n",
    "Из исходного датасета удалите все категориальные признаки, а также строки, содержащие пропуски.\n",
    "\n",
    "При помощи <code>train_test_split()</code> разбейте набор данных на обучающую и тестовую выборки<b> с параметрами, указанными в вашем задании</b>. Используйте стратификацию по колонке <code>survived</code>.\n",
    "\n",
    "Обучите модель <code>LogisticRegression()</code> <b>с параметрами, указанными в вашем задании</b>, на тренировочных данных, оцените на тестовых.\n",
    "\n",
    "Вычислите <code>f1_score</code> модели на тестовых данных (рекомендуем использовать <a href=\"https://scikit-learn.org/stable/modules/generated/sklearn.metrics.f1_score.html\">соответствующую функцию</a> с параметрами по умолчанию.\n",
    "\n"
   ]
  },
  {
   "cell_type": "code",
   "execution_count": 149,
   "metadata": {
    "id": "8JJ6qQT618Uz"
   },
   "outputs": [],
   "source": [
    "numeric_cols = df_train.select_dtypes(include='number').columns\n",
    "df1 = df_train[numeric_cols]\n",
    "df1 = df1.dropna()"
   ]
  },
  {
   "cell_type": "code",
   "execution_count": 150,
   "metadata": {},
   "outputs": [],
   "source": [
    "X_train, X_test, y_train, y_test = train_test_split(df1.drop(columns=['survived']), df1['survived'], test_size=0.2, random_state=11, stratify=df1['survived'])"
   ]
  },
  {
   "cell_type": "code",
   "execution_count": 151,
   "metadata": {},
   "outputs": [
    {
     "data": {
      "text/plain": [
       "0.5471698113207547"
      ]
     },
     "execution_count": 151,
     "metadata": {},
     "output_type": "execute_result"
    }
   ],
   "source": [
    "model = LogisticRegression(random_state=11, max_iter=1000)\n",
    "model.fit(X_train, y_train)\n",
    "f1_score(y_test, model.predict(X_test))"
   ]
  },
  {
   "cell_type": "code",
   "execution_count": null,
   "metadata": {},
   "outputs": [],
   "source": []
  },
  {
   "cell_type": "markdown",
   "metadata": {
    "id": "UL6H4BxE3y-f"
   },
   "source": [
    "## Заполнение пропусков средним"
   ]
  },
  {
   "cell_type": "markdown",
   "metadata": {
    "id": "vD6NntW04OJF"
   },
   "source": [
    "Качество полученной модели оставляет желать лучшего. Имеет смысл попробовать заполнить пропуски. Из исходного набора данных удалите категориальные признаки, а пропуски заполните средним по столбцу. Далее аналогично: разделение, обучение, оценка.\n",
    "\n",
    "Вычислите <code>f1_score</code> модели на тестовых данных"
   ]
  },
  {
   "cell_type": "code",
   "execution_count": 152,
   "metadata": {
    "id": "zMYFLiWZ4Gw-"
   },
   "outputs": [
    {
     "name": "stdout",
     "output_type": "stream",
     "text": [
      "<class 'pandas.core.frame.DataFrame'>\n",
      "RangeIndex: 981 entries, 0 to 980\n",
      "Data columns (total 5 columns):\n",
      " #   Column    Non-Null Count  Dtype  \n",
      "---  ------    --------------  -----  \n",
      " 0   pclass    981 non-null    int64  \n",
      " 1   survived  981 non-null    int64  \n",
      " 2   age       782 non-null    float64\n",
      " 3   fare      981 non-null    float64\n",
      " 4   fam_size  981 non-null    int64  \n",
      "dtypes: float64(2), int64(3)\n",
      "memory usage: 38.4 KB\n"
     ]
    }
   ],
   "source": [
    "numeric_cols = df_train.select_dtypes(include='number').columns\n",
    "df2 = df_train[numeric_cols]\n",
    "df2.info()"
   ]
  },
  {
   "cell_type": "code",
   "execution_count": 153,
   "metadata": {},
   "outputs": [
    {
     "name": "stdout",
     "output_type": "stream",
     "text": [
      "<class 'pandas.core.frame.DataFrame'>\n",
      "RangeIndex: 981 entries, 0 to 980\n",
      "Data columns (total 5 columns):\n",
      " #   Column    Non-Null Count  Dtype  \n",
      "---  ------    --------------  -----  \n",
      " 0   pclass    981 non-null    int64  \n",
      " 1   survived  981 non-null    int64  \n",
      " 2   age       981 non-null    float64\n",
      " 3   fare      981 non-null    float64\n",
      " 4   fam_size  981 non-null    int64  \n",
      "dtypes: float64(2), int64(3)\n",
      "memory usage: 38.4 KB\n"
     ]
    }
   ],
   "source": [
    "df2 = df2.fillna(np.mean(df2['age']))\n",
    "df2.info()"
   ]
  },
  {
   "cell_type": "code",
   "execution_count": 154,
   "metadata": {},
   "outputs": [
    {
     "data": {
      "text/plain": [
       "0.4297520661157025"
      ]
     },
     "execution_count": 154,
     "metadata": {},
     "output_type": "execute_result"
    }
   ],
   "source": [
    "X_train, X_test, y_train, y_test = train_test_split(df2.drop(columns=['survived']), df2['survived'], test_size=0.2, random_state=11, stratify=df2['survived'])\n",
    "model = LogisticRegression(random_state=11, max_iter=1000)\n",
    "model.fit(X_train, y_train)\n",
    "f1_score(y_test, model.predict(X_test))"
   ]
  },
  {
   "cell_type": "markdown",
   "metadata": {
    "id": "dxuJDvb1_p_e"
   },
   "source": [
    "## Заполнение пропусков на основе обращения"
   ]
  },
  {
   "cell_type": "markdown",
   "metadata": {
    "id": "9ew5okxzKdLh"
   },
   "source": [
    "\n",
    "Очевидно, что заполнение пропусков в колонке <code>age</code> средним — не самая разумная идея. Возможно, стоит выполнить эту процедуру как-то более интеллектуально, например, с оглядкой на обращение к человеку. \n",
    "\n",
    "Можно заметить, что исходный датасет в столбце <code>name</code> содержит информацию о социальном статусе пассажира, а именно присутсвуют обращения <code>Mr., Mrs., Dr.</code> и т.д. На основе этой информации можно попробовать сделать предположение о возрасте пассажира.\n",
    "\n",
    "Верните в рассмотрение колонку <code>name</code>. Создайте отдельную колонку <code>honorific</code> и поместите туда значения обращений.\n",
    "\n",
    "Вычислите число уникальных обращений."
   ]
  },
  {
   "cell_type": "code",
   "execution_count": 155,
   "metadata": {
    "id": "fMbYRoa-DArO"
   },
   "outputs": [],
   "source": [
    "import re\n",
    "# Определяем функцию для поиска обращений в имени\n",
    "def extract_title(name):\n",
    "    title_search = re.search(r'([A-Z][a-z]+\\.)', name)\n",
    "    if title_search:\n",
    "        return title_search.group()[:-1]  # Исключаем последнюю точку\n",
    "    else:\n",
    "        return None\n",
    "\n",
    "# Создаем новый столбец 'title' и применяем функцию extract_title к столбцу 'name'\n",
    "df_train['honorific'] = df_train['name'].apply(extract_title)"
   ]
  },
  {
   "cell_type": "code",
   "execution_count": 156,
   "metadata": {},
   "outputs": [
    {
     "name": "stdout",
     "output_type": "stream",
     "text": [
      "['Miss' 'Mrs' 'Mr' 'Master' 'Mlle' 'Rev' 'Ms' 'Col' 'Dona' 'Dr' 'Countess'\n",
      " 'Major' 'Don' 'Capt']\n",
      "14\n"
     ]
    }
   ],
   "source": [
    "print(df_train['honorific'].unique())\n",
    "print(df_train['honorific'].nunique())"
   ]
  },
  {
   "cell_type": "markdown",
   "metadata": {
    "id": "6HNMeGu9GJWN"
   },
   "source": [
    "Скорее всего имеет смысл сократить число обращений, добавив малочисленные группы к более многочисленным, так как принципиальной разницы между, например, <code>Don</code> и <code>Mr</code>, видимо, нет. Отметим, что <code>Master</code> — это прежнее обращение к ребенку, с этим обращением будем работать отдельно.\n",
    "\n",
    "\n",
    "\n",
    "\n",
    "Выполните следующие замены:\n",
    "\n",
    "<code>Mr</code> $\\leftarrow$ <code>['Rev', 'Col', 'Dr', 'Major', 'Don', 'Capt']</code>\n",
    "\n",
    "<code>Mrs</code> $\\leftarrow$ <code> ['Dona', 'Countess']</code>\n",
    "\n",
    "<code>Miss</code> $\\leftarrow$ <code> ['Mlle', 'Ms']</code>"
   ]
  },
  {
   "cell_type": "code",
   "execution_count": 157,
   "metadata": {
    "id": "jiQBH3_8G0SF"
   },
   "outputs": [],
   "source": [
    "Mr, Mrs, Miss = ['Rev', 'Col', 'Dr', 'Major', 'Don', 'Capt'], ['Dona', 'Countess'], ['Mlle', 'Ms']\n",
    "\n",
    "def change_name(name):\n",
    "    if name in Mr:\n",
    "        return 'Mr'\n",
    "    elif name in Mrs:\n",
    "        return 'Mrs'\n",
    "    elif name in Miss:\n",
    "        return 'Miss'\n",
    "    else:\n",
    "        return name\n",
    "    \n",
    "    \n",
    "df_train['honorific'] = df_train['honorific'].apply(change_name)    "
   ]
  },
  {
   "cell_type": "code",
   "execution_count": null,
   "metadata": {},
   "outputs": [],
   "source": []
  },
  {
   "cell_type": "markdown",
   "metadata": {
    "id": "qh-KpfttKxYD"
   },
   "source": [
    "Вычислите долю строк со значением <code>Master</code> относительно числа всех мужчин"
   ]
  },
  {
   "cell_type": "code",
   "execution_count": 158,
   "metadata": {
    "id": "2g2fHrAGK_CA"
   },
   "outputs": [
    {
     "data": {
      "text/plain": [
       "0.07232704402515723"
      ]
     },
     "execution_count": 158,
     "metadata": {},
     "output_type": "execute_result"
    }
   ],
   "source": [
    "len(df_train[df_train['honorific']=='Master'])/len(df_train[df_train['sex']=='male'])"
   ]
  },
  {
   "cell_type": "markdown",
   "metadata": {
    "id": "XD7hs0k7L77K"
   },
   "source": [
    "Вычислите средний возраст категории, указанной в вашем индивидуальном задании"
   ]
  },
  {
   "cell_type": "code",
   "execution_count": 159,
   "metadata": {
    "id": "stKBPTCQMGlf"
   },
   "outputs": [
    {
     "data": {
      "text/plain": [
       "22.00576540880503"
      ]
     },
     "execution_count": 159,
     "metadata": {},
     "output_type": "execute_result"
    }
   ],
   "source": [
    "np.mean(df_train[df_train['honorific']=='Miss']['age'])"
   ]
  },
  {
   "cell_type": "markdown",
   "metadata": {
    "id": "cQ4Z0tKNLk_B"
   },
   "source": [
    "Заполните пропуски в колонке <code>age</code> средним, соответствующим среднему категории <code>honorific</code>.\n",
    "\n",
    "Избавьтесь от нечисловых признаков. Далее аналогично: разделение, обучение, оценка.\n",
    "\n",
    "Вычислите <code>f1_score</code> модели на тестовых данных"
   ]
  },
  {
   "cell_type": "code",
   "execution_count": 161,
   "metadata": {
    "id": "B5c_i_6HN3aA"
   },
   "outputs": [],
   "source": [
    "mean_miss = np.mean(df_train[df_train['honorific']=='Miss']['age'])\n",
    "mean_master = np.mean(df_train[df_train['honorific']=='Master']['age'])\n",
    "mean_mr = np.mean(df_train[df_train['honorific']=='Mr']['age'])\n",
    "mean_mrs = np.mean(df_train[df_train['honorific']=='Mrs']['age'])"
   ]
  },
  {
   "cell_type": "code",
   "execution_count": 162,
   "metadata": {},
   "outputs": [],
   "source": [
    "df_train['age'] = df_train.apply(lambda row: mean_miss if row['honorific'] == 'Miss' and pd.isnull(row['age']) else\n",
    "                                  mean_master if row['honorific'] == 'Master' and pd.isnull(row['age']) else\n",
    "                                  mean_mr if row['honorific'] == 'Mr' and pd.isnull(row['age']) else\n",
    "                                  mean_mrs if row['honorific'] == 'Mrs' and pd.isnull(row['age']) else\n",
    "                                  row['age'], axis=1)\n",
    "\n",
    "df_train"
   ]
  },
  {
   "cell_type": "code",
   "execution_count": 164,
   "metadata": {},
   "outputs": [
    {
     "name": "stdout",
     "output_type": "stream",
     "text": [
      "<class 'pandas.core.frame.DataFrame'>\n",
      "RangeIndex: 981 entries, 0 to 980\n",
      "Data columns (total 5 columns):\n",
      " #   Column    Non-Null Count  Dtype  \n",
      "---  ------    --------------  -----  \n",
      " 0   pclass    981 non-null    int64  \n",
      " 1   survived  981 non-null    int64  \n",
      " 2   age       981 non-null    float64\n",
      " 3   fare      981 non-null    float64\n",
      " 4   fam_size  981 non-null    int64  \n",
      "dtypes: float64(2), int64(3)\n",
      "memory usage: 38.4 KB\n"
     ]
    }
   ],
   "source": [
    "numeric_cols = df_train.select_dtypes(include='number').columns\n",
    "df3 = df_train[numeric_cols]\n",
    "df3.info()"
   ]
  },
  {
   "cell_type": "code",
   "execution_count": 165,
   "metadata": {},
   "outputs": [
    {
     "data": {
      "text/plain": [
       "0.43902439024390244"
      ]
     },
     "execution_count": 165,
     "metadata": {},
     "output_type": "execute_result"
    }
   ],
   "source": [
    "X_train, X_test, y_train, y_test = train_test_split(df3.drop(columns=['survived']), df3['survived'], test_size=0.2, random_state=11, stratify=df3['survived'])\n",
    "model = LogisticRegression(random_state=11, max_iter=1000)\n",
    "model.fit(X_train, y_train)\n",
    "f1_score(y_test, model.predict(X_test))"
   ]
  },
  {
   "cell_type": "markdown",
   "metadata": {
    "id": "YGCBn1fiSbjG"
   },
   "source": [
    "# Модель с использование категориальных признаков"
   ]
  },
  {
   "cell_type": "markdown",
   "metadata": {
    "id": "BlILajPNTMgL"
   },
   "source": [
    "В исходном наборе данных заполните пропуски колонки <code>age</code> значениями на основе обращений (как в предыдущем пункте).\n",
    "\n",
    "Не используйте признаки <code>name</code> и <code>honorific</code>. Они свою функцию выполнили.\n",
    "\n",
    "Произведите <code>one-hot</code> кодировние нечисловых признаков, например, с помощью <code>pd.get_dummies(drop_first=True)</code>. Далее по знакомой схеме: разделение, обучение, оценка.\n",
    "\n",
    "Вычислите <code>f1_score</code> модели на тестовых данных"
   ]
  },
  {
   "cell_type": "code",
   "execution_count": 169,
   "metadata": {
    "id": "AiRm3GIdUsVt"
   },
   "outputs": [],
   "source": [
    "df_train = pd.get_dummies(df_train.drop(columns=['name', 'honorific']), drop_first=True)"
   ]
  },
  {
   "cell_type": "code",
   "execution_count": 170,
   "metadata": {},
   "outputs": [
    {
     "data": {
      "text/plain": [
       "0.6575342465753424"
      ]
     },
     "execution_count": 170,
     "metadata": {},
     "output_type": "execute_result"
    }
   ],
   "source": [
    "X_train, X_test, y_train, y_test = train_test_split(df_train.drop(columns=['survived']), df_train['survived'], test_size=0.2, random_state=11, stratify=df_train['survived'])\n",
    "model = LogisticRegression(random_state=11, max_iter=1000)\n",
    "model.fit(X_train, y_train)\n",
    "f1_score(y_test, model.predict(X_test))"
   ]
  },
  {
   "cell_type": "code",
   "execution_count": null,
   "metadata": {},
   "outputs": [],
   "source": []
  },
  {
   "cell_type": "code",
   "execution_count": null,
   "metadata": {},
   "outputs": [],
   "source": []
  },
  {
   "cell_type": "code",
   "execution_count": null,
   "metadata": {},
   "outputs": [],
   "source": []
  }
 ],
 "metadata": {
  "colab": {
   "provenance": []
  },
  "kernelspec": {
   "display_name": "Python 3 (ipykernel)",
   "language": "python",
   "name": "python3"
  },
  "language_info": {
   "codemirror_mode": {
    "name": "ipython",
    "version": 3
   },
   "file_extension": ".py",
   "mimetype": "text/x-python",
   "name": "python",
   "nbconvert_exporter": "python",
   "pygments_lexer": "ipython3",
   "version": "3.9.12"
  },
  "varInspector": {
   "cols": {
    "lenName": 16,
    "lenType": 16,
    "lenVar": 40
   },
   "kernels_config": {
    "python": {
     "delete_cmd_postfix": "",
     "delete_cmd_prefix": "del ",
     "library": "var_list.py",
     "varRefreshCmd": "print(var_dic_list())"
    },
    "r": {
     "delete_cmd_postfix": ") ",
     "delete_cmd_prefix": "rm(",
     "library": "var_list.r",
     "varRefreshCmd": "cat(var_dic_list()) "
    }
   },
   "types_to_exclude": [
    "module",
    "function",
    "builtin_function_or_method",
    "instance",
    "_Feature"
   ],
   "window_display": false
  }
 },
 "nbformat": 4,
 "nbformat_minor": 1
}
