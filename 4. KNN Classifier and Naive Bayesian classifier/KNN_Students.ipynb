{
 "cells": [
  {
   "cell_type": "markdown",
   "metadata": {
    "id": "PE0EVRPW7SWx"
   },
   "source": [
    "# 0. Применение метода KNN для решения задачи классификации"
   ]
  },
  {
   "cell_type": "markdown",
   "metadata": {
    "id": "cZnGWUYq7X3a"
   },
   "source": [
    "Набор данных получен в результате переписи населения 1994 года и содержит информацию о некотором количестве людей, проживающих в США. Задача состоит в том, чтобы предсказать, зарабатывает человек более $50к в год или нет. Список признаков:\n",
    "\n",
    "*   <b>age</b>: возраст человека.\n",
    "*   <b>workclass</b>: статус занятости.\n",
    "*   <b>fnlwgt</b>: количество людей, которое, по мнению переписи, представляет запись.\n",
    "*   <b>education</b>: высший уровень образования, достигнутый человеком.\n",
    "*   <b>education-num</b>: высший уровень образования, достигнутый человеком в числовой форме.\n",
    "*   <b>marital-status</b>: семейное положение человека.\n",
    "*   <b>occupation</b>: общий род занятий человека.\n",
    "*   <b>relationship</b>: представляет то, чем этот человек является по отношению к другим (перекликается с признаком <b>marital-status</b>).\n",
    "*   <b>race</b>: раса.\n",
    "*   <b>sex</b>: пол.\n",
    "*   <b>capital-gain</b>: прирост капитала.\n",
    "*   <b>capital-loss</b>: убыток капитала.\n",
    "*   <b>hours-per-week</b>: число рабочих часов в неделю.\n",
    "*   <b>native-country</b>: страна происхождения.\n",
    "*   <b>the label</b>: отклик -- зарабатывает больше $50к или меньше.\n",
    "\n"
   ]
  },
  {
   "cell_type": "markdown",
   "metadata": {
    "id": "E_2svR-wBNHY"
   },
   "source": [
    "## Немного про метрики качества модели"
   ]
  },
  {
   "cell_type": "markdown",
   "metadata": {
    "id": "NwNdoJiD9h1S"
   },
   "source": [
    "Для начала рассмотрим так называемую матрицу ошибок (confusion matrix)\n",
    "-- способ разделить объекты на $4$ группы в зависимости от комбинации\n",
    "истинного класса и ответа классификатора:\n",
    "\n",
    "-   TP (True Positives) -- верно классифицированные объекты, исходно     относящиеся к классу \"$+1$\";\n",
    "\n",
    "-   TN (True Negatives) -- верно классифицированные объекты, исходно     относящиеся к классу \"$-1$\";\n",
    "\n",
    "-   FN (False Negatives) -- неверно классифицированные объекты, исходно     относящиеся к классу \"$+1$\" (ошибка I рода);\n",
    "\n",
    "-   FP (False Positives) -- неверно классифицированные объекты, исходно     относящиеся к классу \"$-1$\" (ошибка II рода).\n",
    "\n",
    "Обычно, конечно, оперируют не абсолютными показателями, а относительными\n",
    "-- долями (rates), находящимися в диапазоне от $0$ до $1$:\n",
    "\n",
    "-   доля правильных ответов классификатора (иногда -- точность): $$\\mathsf{Accuracy} = \\frac{TP + TN}{TP + FP + FN + TN}.$$ Эта величина показывает отношение количества верно классифицированных объектов к общему количеству классифицируемых объектов и, грубо говоря, оценивает вероятность случайному объекту быть правильно классифицированным.\n",
    "\n",
    "-   доля истинно положительных примеров -- True Positives Rate (TPR) или     Sensitivity (чувствительность) или Recall: $$\\mathsf{T P R}=\\frac{T P}{T P+F N}.$$ Эта величина показывает отношение количества верно классифицированных объектов, относящихся к классу \"$+1$\", к общему количеству объектов класса \"$+1$\". Иными словами -- это оценка вероятности, что объект, относящийся к классу \"$+1$\" будет классифицирован корректно.\n",
    "\n",
    "-   доля ложно положительных примеров обозначается как -- False Positives Rate (FPR): $$\\mathsf{F P R}=\\frac{F P}{FP + TN}.$$ Величина показывает отношение количества неверно классифицированных объектов, относящихся к классу \"$-1$\", к общему количеству объектов класса \"$-1$\", или оценивает вероятность, что объект, относящийся к классу \"$-1$\", будет классифицирован неверно.\n",
    "\n",
    "-   Специфичность (Specificity) или True Negatives Rate (TNR): $$\\mathsf{TNR} = 1 - \\mathsf{F P R} =\\frac{T N}{T N+F P}.$$ Величина показывает отношение количества верно классифицированных объектов, относящихся к классу \"$-1$\", к общему количеству объектов класса \"$-1$\", или оценивает вероятность, что объект, относящийся к классу \"$-1$\", будет классифицирован верно.\n",
    "\n",
    "-   Precision (точность): $$\\mathsf{Precision} =\\frac{TP}{TP + FP}.$$ Величина показывает, какая доля объектов, отнесенных классификатором к классу \"$+1$\", действительно относится к этому классу.\n",
    "\n",
    "Естественно возникает вопрос, нет ли какого-то обобщающего критерия,\n",
    "который может характеризовать качество построенной модели. Один из них --\n",
    "так называемая $F$-мера ($F_1$-мера, $F$ score, $F_1$ score)\n",
    "определяется следующим соотношением:\n",
    "$$F = F_1 = 2 \\cdot \\frac{\\mathsf{Precision} \\cdot \\mathsf{Recall}}{\\mathsf{Precision} + \\mathsf{Recall}}.$$\n",
    "\n",
    "**Замечание**. *$F$-мера является средним гармоническим величин\n",
    "$\\mathsf{Precision}$ и $\\mathsf{Recall}$ и заключена в диапазоне\n",
    "$[0, 1]$. Среднее гармоническое обладает важным свойством: оно близко к\n",
    "нулю, если хотя бы один из аргументов близок к нулю. Поэтому оно является\n",
    "куда более предпочтительным, чем, скажем, среднее арифметическое: если\n",
    "алгоритм относит все объекты к положительному классу, то\n",
    "$\\mathsf{Recall}= 1$, а $\\mathsf{Precision}$, скорее всего, будет\n",
    "небольшим. Но тогда среднее арифметическое будет больше, чем $0.5$, что,\n",
    "конечно, никуда не годится.*"
   ]
  },
  {
   "cell_type": "markdown",
   "metadata": {
    "id": "OsSYNyaoBEsR"
   },
   "source": [
    "## Импорт библиотек и чтение набора данных"
   ]
  },
  {
   "cell_type": "code",
   "execution_count": 100,
   "metadata": {
    "id": "Enk9Zp1O_Bxb"
   },
   "outputs": [],
   "source": [
    "import pandas as pd\n",
    "import numpy as np\n",
    "from sklearn.model_selection import train_test_split\n",
    "from sklearn.neighbors import KNeighborsClassifier\n",
    "from sklearn.preprocessing import MinMaxScaler\n",
    "from sklearn.preprocessing import StandardScaler\n",
    "from sklearn.metrics import f1_score\n",
    "from sklearn.metrics import classification_report\n",
    "from sklearn.impute import SimpleImputer \n",
    "import seaborn as sns\n",
    "from matplotlib import pyplot as plt"
   ]
  },
  {
   "cell_type": "markdown",
   "metadata": {
    "id": "_G1PuXfscIZ8"
   },
   "source": [
    "Считайте набор данных в датафрейм. Исходя из описания признаков можно сразу избавиться от признаков <code>education</code> и <code>marital-status</code>. Удалите соответствующие колонки из набора данных."
   ]
  },
  {
   "cell_type": "code",
   "execution_count": 128,
   "metadata": {
    "id": "rl7nNNPHcJdK"
   },
   "outputs": [
    {
     "data": {
      "text/html": [
       "<div>\n",
       "<style scoped>\n",
       "    .dataframe tbody tr th:only-of-type {\n",
       "        vertical-align: middle;\n",
       "    }\n",
       "\n",
       "    .dataframe tbody tr th {\n",
       "        vertical-align: top;\n",
       "    }\n",
       "\n",
       "    .dataframe thead th {\n",
       "        text-align: right;\n",
       "    }\n",
       "</style>\n",
       "<table border=\"1\" class=\"dataframe\">\n",
       "  <thead>\n",
       "    <tr style=\"text-align: right;\">\n",
       "      <th></th>\n",
       "      <th>age</th>\n",
       "      <th>workclass</th>\n",
       "      <th>fnlwgt</th>\n",
       "      <th>education-num</th>\n",
       "      <th>occupation</th>\n",
       "      <th>relationship</th>\n",
       "      <th>race</th>\n",
       "      <th>sex</th>\n",
       "      <th>capital-gain</th>\n",
       "      <th>capital-loss</th>\n",
       "      <th>hours-per-week</th>\n",
       "      <th>native-country</th>\n",
       "      <th>label</th>\n",
       "    </tr>\n",
       "  </thead>\n",
       "  <tbody>\n",
       "    <tr>\n",
       "      <th>0</th>\n",
       "      <td>32</td>\n",
       "      <td>Private</td>\n",
       "      <td>37210</td>\n",
       "      <td>13</td>\n",
       "      <td>Exec-managerial</td>\n",
       "      <td>Husband</td>\n",
       "      <td>White</td>\n",
       "      <td>Male</td>\n",
       "      <td>0</td>\n",
       "      <td>0</td>\n",
       "      <td>45</td>\n",
       "      <td>United-States</td>\n",
       "      <td>1</td>\n",
       "    </tr>\n",
       "    <tr>\n",
       "      <th>1</th>\n",
       "      <td>43</td>\n",
       "      <td>Private</td>\n",
       "      <td>101950</td>\n",
       "      <td>14</td>\n",
       "      <td>Exec-managerial</td>\n",
       "      <td>Not-in-family</td>\n",
       "      <td>White</td>\n",
       "      <td>Female</td>\n",
       "      <td>0</td>\n",
       "      <td>0</td>\n",
       "      <td>45</td>\n",
       "      <td>United-States</td>\n",
       "      <td>0</td>\n",
       "    </tr>\n",
       "    <tr>\n",
       "      <th>2</th>\n",
       "      <td>20</td>\n",
       "      <td>NaN</td>\n",
       "      <td>122244</td>\n",
       "      <td>9</td>\n",
       "      <td>NaN</td>\n",
       "      <td>Not-in-family</td>\n",
       "      <td>White</td>\n",
       "      <td>Female</td>\n",
       "      <td>0</td>\n",
       "      <td>0</td>\n",
       "      <td>28</td>\n",
       "      <td>United-States</td>\n",
       "      <td>0</td>\n",
       "    </tr>\n",
       "    <tr>\n",
       "      <th>3</th>\n",
       "      <td>40</td>\n",
       "      <td>Local-gov</td>\n",
       "      <td>24763</td>\n",
       "      <td>10</td>\n",
       "      <td>Transport-moving</td>\n",
       "      <td>Unmarried</td>\n",
       "      <td>White</td>\n",
       "      <td>Male</td>\n",
       "      <td>6849</td>\n",
       "      <td>0</td>\n",
       "      <td>40</td>\n",
       "      <td>United-States</td>\n",
       "      <td>0</td>\n",
       "    </tr>\n",
       "    <tr>\n",
       "      <th>4</th>\n",
       "      <td>24</td>\n",
       "      <td>Private</td>\n",
       "      <td>113936</td>\n",
       "      <td>13</td>\n",
       "      <td>Prof-specialty</td>\n",
       "      <td>Own-child</td>\n",
       "      <td>White</td>\n",
       "      <td>Male</td>\n",
       "      <td>0</td>\n",
       "      <td>0</td>\n",
       "      <td>40</td>\n",
       "      <td>United-States</td>\n",
       "      <td>0</td>\n",
       "    </tr>\n",
       "  </tbody>\n",
       "</table>\n",
       "</div>"
      ],
      "text/plain": [
       "   age  workclass  fnlwgt  education-num        occupation   relationship  \\\n",
       "0   32    Private   37210             13   Exec-managerial        Husband   \n",
       "1   43    Private  101950             14   Exec-managerial  Not-in-family   \n",
       "2   20        NaN  122244              9               NaN  Not-in-family   \n",
       "3   40  Local-gov   24763             10  Transport-moving      Unmarried   \n",
       "4   24    Private  113936             13    Prof-specialty      Own-child   \n",
       "\n",
       "    race     sex  capital-gain  capital-loss  hours-per-week native-country  \\\n",
       "0  White    Male             0             0              45  United-States   \n",
       "1  White  Female             0             0              45  United-States   \n",
       "2  White  Female             0             0              28  United-States   \n",
       "3  White    Male          6849             0              40  United-States   \n",
       "4  White    Male             0             0              40  United-States   \n",
       "\n",
       "   label  \n",
       "0      1  \n",
       "1      0  \n",
       "2      0  \n",
       "3      0  \n",
       "4      0  "
      ]
     },
     "execution_count": 128,
     "metadata": {},
     "output_type": "execute_result"
    }
   ],
   "source": [
    "df = pd.read_csv('adult_data_train.csv', na_values={'?'})\n",
    "df = df.drop(columns=['education', 'marital-status'])\n",
    "df.head()"
   ]
  },
  {
   "cell_type": "markdown",
   "metadata": {
    "id": "accrQdXa_pbH"
   },
   "source": [
    "Определите количество числовых и нечисловых признаков."
   ]
  },
  {
   "cell_type": "code",
   "execution_count": 129,
   "metadata": {
    "id": "NF67lPph_xBJ"
   },
   "outputs": [
    {
     "name": "stdout",
     "output_type": "stream",
     "text": [
      "Числовые признаки: 6\n",
      "Нечисловые признаки: 6\n"
     ]
    }
   ],
   "source": [
    "numeric_cols = df.select_dtypes(include='number').columns\n",
    "num_numeric_cols = len(numeric_cols) - 1 # -1, т.к. label это не признак\n",
    "print(f\"Числовые признаки: {num_numeric_cols}\")\n",
    "\n",
    "non_numeric_cols = df.select_dtypes(exclude='number').columns\n",
    "num_non_numeric_cols = len(non_numeric_cols)\n",
    "print(f\"Нечисловые признаки: {num_non_numeric_cols}\")"
   ]
  },
  {
   "cell_type": "markdown",
   "metadata": {
    "id": "EcE85lviBatz"
   },
   "source": [
    "Постройте гистограмму распределения объектов по классам. Вычислите долю объектов класса $0$."
   ]
  },
  {
   "cell_type": "code",
   "execution_count": 130,
   "metadata": {
    "id": "gujxc3m2BtVh"
   },
   "outputs": [
    {
     "data": {
      "image/png": "[encoded data removed]",
      "text/plain": [
       "<Figure size 432x288 with 1 Axes>"
      ]
     },
     "metadata": {
      "needs_background": "light"
     },
     "output_type": "display_data"
    },
    {
     "data": {
      "text/plain": [
       "0.7591753685503686"
      ]
     },
     "execution_count": 130,
     "metadata": {},
     "output_type": "execute_result"
    }
   ],
   "source": [
    "sns.histplot(df['label'])\n",
    "plt.show()\n",
    "\n",
    "counts = df['label'].value_counts()\n",
    "counts[0]/(counts[0]+counts[1])"
   ]
  },
  {
   "cell_type": "markdown",
   "metadata": {
    "id": "owFlxSBa_XfB"
   },
   "source": [
    "# 1. Построение базовой модели\n",
    "\n",
    "В качестве первого приближения имеет смысл построить модель классификации, опираясь исключительно на числовые признаки.\n",
    "\n",
    "Отберите из набора данных только числовые признаки. При помощи <code>train_test_split()</code> разбейте набор данных на обучающую и тестовую выборки <b>с параметрами, указанными в вашем задании</b>. Используйте стратификацию по колонке <code>label</code>.\n",
    "\n",
    "Вычислите выборочное среднее колонки <code>fnlwgt</code> тренировочного набора данных.\n",
    "\n",
    "Обучите модель <code>KNeighborsClassifier()</code> с параметрами по умолчанию на тренировочных данных. \n",
    "\n",
    "Как видно из предыдущего пункта, в наборе данных наблюдается явный дисбаланс представителей классов. Это следует учесть при оценке модели. Вычислите <code>f1_score</code> модели на тестовых данных (рекомендуем использовать <a href=\"https://scikit-learn.org/stable/modules/generated/sklearn.metrics.f1_score.html\">соответствующую функцию</a> с параметрами по умолчанию.\n",
    "\n",
    "В качестве альтернативы можно использовать так называемый <a href = \"https://scikit-learn.org/stable/modules/generated/sklearn.metrics.classification_report.html\"><code>classification_report()</code></a>, где приведены сразу несколько метрик (не стоит забывать про параметр <code>digits</code>)."
   ]
  },
  {
   "cell_type": "code",
   "execution_count": 131,
   "metadata": {
    "id": "2jC-5-dhBAij"
   },
   "outputs": [],
   "source": [
    "df1 = df[numeric_cols]\n",
    "X_train1, X_test1, y_train1, y_test1 = train_test_split(df1.drop(columns=['label']), df1['label'], test_size=0.2, random_state=41, stratify=df1['label'])"
   ]
  },
  {
   "cell_type": "code",
   "execution_count": 132,
   "metadata": {},
   "outputs": [
    {
     "data": {
      "text/plain": [
       "190199.1213648143"
      ]
     },
     "execution_count": 132,
     "metadata": {},
     "output_type": "execute_result"
    }
   ],
   "source": [
    "# выборочное среднее\n",
    "np.mean(X_train1['fnlwgt'])"
   ]
  },
  {
   "cell_type": "code",
   "execution_count": 133,
   "metadata": {},
   "outputs": [
    {
     "data": {
      "text/plain": [
       "0.3786557208825039"
      ]
     },
     "execution_count": 133,
     "metadata": {},
     "output_type": "execute_result"
    }
   ],
   "source": [
    "neigh = KNeighborsClassifier()\n",
    "neigh.fit(X_train1, y_train1)\n",
    "# f1 скор на параметрах по умолчанию\n",
    "f1_score(y_test1, neigh.predict(X_test1))"
   ]
  },
  {
   "cell_type": "markdown",
   "metadata": {
    "id": "Q3yYPF5CFD0C"
   },
   "source": [
    "Стоит помнить, что KNN является метрическим классификатором, поэтому значения признаков перед обучением модели следует нормировать.\n",
    "\n",
    "Обучите преобразование <code>MinMaxScaler()</code> на тренировочном наборе данных и примените его для тренировочных и тестовых данных.\n",
    "\n",
    "Вычислите выборочное среднее колонки <code>fnlwgt</code> тренировочного набора данных после нормировки.\n",
    "\n",
    "Заново обучите и оцените модель на преобразованных данных. Вычислите <code>f1_score()</code> модели."
   ]
  },
  {
   "cell_type": "code",
   "execution_count": 134,
   "metadata": {
    "id": "jdhQDnYNGlSb"
   },
   "outputs": [],
   "source": [
    "scaler = MinMaxScaler()\n",
    "X_train1_scaled = pd.DataFrame(scaler.fit_transform(X_train1), columns=X_train1.columns, index=X_train1.index)\n",
    "X_test1_scaled = pd.DataFrame(scaler.transform(X_test1), columns=X_test1.columns, index=X_test1.index)"
   ]
  },
  {
   "cell_type": "code",
   "execution_count": 135,
   "metadata": {},
   "outputs": [
    {
     "data": {
      "text/plain": [
       "0.12083109531574812"
      ]
     },
     "execution_count": 135,
     "metadata": {},
     "output_type": "execute_result"
    }
   ],
   "source": [
    "np.mean(X_train1_scaled['fnlwgt'])"
   ]
  },
  {
   "cell_type": "code",
   "execution_count": 136,
   "metadata": {},
   "outputs": [
    {
     "data": {
      "text/plain": [
       "0.504655493482309"
      ]
     },
     "execution_count": 136,
     "metadata": {},
     "output_type": "execute_result"
    }
   ],
   "source": [
    "neigh = KNeighborsClassifier()\n",
    "neigh.fit(X_train1_scaled, y_train1)\n",
    "# f1 скор на параметрах по умолчанию\n",
    "f1_score(y_test1, neigh.predict(X_test1_scaled))"
   ]
  },
  {
   "cell_type": "markdown",
   "metadata": {
    "id": "FXNb8sWVHlQn"
   },
   "source": [
    "Видно, что после линейной нормировки качество выросло. \n",
    "\n",
    "<b>Важно: </b>На дальнейших этапах подразумевается использование линейной нормировки непосредственно перед обучением без дополнительных напоминаний."
   ]
  },
  {
   "cell_type": "markdown",
   "metadata": {
    "id": "e_kLHKu2B9lZ"
   },
   "source": [
    "# 2. Работа с нечисловыми признаками"
   ]
  },
  {
   "cell_type": "markdown",
   "metadata": {
    "id": "VFVVV6TJL1YU"
   },
   "source": [
    "## Визуализация\n",
    "\n",
    "Для дальнейшего улучшения качества модели имеет смысл задействовать нечисловые признаки исходного датасета (без колонок <code>education</code> и <code>marital-status</code>). \n",
    "\n",
    "Постройте гистограммы, иллюстрирующие частоту того или иного значения по каждому нечисловому признаку, например, при помощи <code>sns.barplot()</code>."
   ]
  },
  {
   "cell_type": "code",
   "execution_count": 137,
   "metadata": {
    "id": "XEkIN_UBDeAx"
   },
   "outputs": [],
   "source": [
    "X_train, X_test, y_train, y_test = train_test_split(df.drop(columns=['label']), df['label'], test_size=0.2, \n",
    "                                                        random_state=41, stratify=df['label'])"
   ]
  },
  {
   "cell_type": "code",
   "execution_count": 138,
   "metadata": {},
   "outputs": [
    {
     "data": {
      "text/html": [
       "<div>\n",
       "<style scoped>\n",
       "    .dataframe tbody tr th:only-of-type {\n",
       "        vertical-align: middle;\n",
       "    }\n",
       "\n",
       "    .dataframe tbody tr th {\n",
       "        vertical-align: top;\n",
       "    }\n",
       "\n",
       "    .dataframe thead th {\n",
       "        text-align: right;\n",
       "    }\n",
       "</style>\n",
       "<table border=\"1\" class=\"dataframe\">\n",
       "  <thead>\n",
       "    <tr style=\"text-align: right;\">\n",
       "      <th></th>\n",
       "      <th>workclass</th>\n",
       "      <th>occupation</th>\n",
       "      <th>relationship</th>\n",
       "      <th>race</th>\n",
       "      <th>sex</th>\n",
       "      <th>native-country</th>\n",
       "    </tr>\n",
       "  </thead>\n",
       "  <tbody>\n",
       "    <tr>\n",
       "      <th>4236</th>\n",
       "      <td>Private</td>\n",
       "      <td>Craft-repair</td>\n",
       "      <td>Own-child</td>\n",
       "      <td>White</td>\n",
       "      <td>Male</td>\n",
       "      <td>El-Salvador</td>\n",
       "    </tr>\n",
       "    <tr>\n",
       "      <th>14636</th>\n",
       "      <td>NaN</td>\n",
       "      <td>NaN</td>\n",
       "      <td>Not-in-family</td>\n",
       "      <td>Black</td>\n",
       "      <td>Male</td>\n",
       "      <td>United-States</td>\n",
       "    </tr>\n",
       "    <tr>\n",
       "      <th>11353</th>\n",
       "      <td>NaN</td>\n",
       "      <td>NaN</td>\n",
       "      <td>Husband</td>\n",
       "      <td>White</td>\n",
       "      <td>Male</td>\n",
       "      <td>United-States</td>\n",
       "    </tr>\n",
       "    <tr>\n",
       "      <th>11715</th>\n",
       "      <td>Private</td>\n",
       "      <td>Craft-repair</td>\n",
       "      <td>Husband</td>\n",
       "      <td>White</td>\n",
       "      <td>Male</td>\n",
       "      <td>United-States</td>\n",
       "    </tr>\n",
       "    <tr>\n",
       "      <th>10105</th>\n",
       "      <td>Local-gov</td>\n",
       "      <td>Prof-specialty</td>\n",
       "      <td>Not-in-family</td>\n",
       "      <td>White</td>\n",
       "      <td>Female</td>\n",
       "      <td>United-States</td>\n",
       "    </tr>\n",
       "    <tr>\n",
       "      <th>...</th>\n",
       "      <td>...</td>\n",
       "      <td>...</td>\n",
       "      <td>...</td>\n",
       "      <td>...</td>\n",
       "      <td>...</td>\n",
       "      <td>...</td>\n",
       "    </tr>\n",
       "    <tr>\n",
       "      <th>16105</th>\n",
       "      <td>NaN</td>\n",
       "      <td>NaN</td>\n",
       "      <td>Own-child</td>\n",
       "      <td>White</td>\n",
       "      <td>Female</td>\n",
       "      <td>United-States</td>\n",
       "    </tr>\n",
       "    <tr>\n",
       "      <th>7227</th>\n",
       "      <td>Private</td>\n",
       "      <td>Prof-specialty</td>\n",
       "      <td>Other-relative</td>\n",
       "      <td>White</td>\n",
       "      <td>Female</td>\n",
       "      <td>United-States</td>\n",
       "    </tr>\n",
       "    <tr>\n",
       "      <th>21529</th>\n",
       "      <td>Private</td>\n",
       "      <td>Transport-moving</td>\n",
       "      <td>Husband</td>\n",
       "      <td>White</td>\n",
       "      <td>Male</td>\n",
       "      <td>United-States</td>\n",
       "    </tr>\n",
       "    <tr>\n",
       "      <th>3475</th>\n",
       "      <td>Private</td>\n",
       "      <td>Farming-fishing</td>\n",
       "      <td>Husband</td>\n",
       "      <td>White</td>\n",
       "      <td>Male</td>\n",
       "      <td>United-States</td>\n",
       "    </tr>\n",
       "    <tr>\n",
       "      <th>20038</th>\n",
       "      <td>NaN</td>\n",
       "      <td>NaN</td>\n",
       "      <td>Unmarried</td>\n",
       "      <td>White</td>\n",
       "      <td>Female</td>\n",
       "      <td>United-States</td>\n",
       "    </tr>\n",
       "  </tbody>\n",
       "</table>\n",
       "<p>20838 rows × 6 columns</p>\n",
       "</div>"
      ],
      "text/plain": [
       "       workclass        occupation    relationship   race     sex  \\\n",
       "4236     Private      Craft-repair       Own-child  White    Male   \n",
       "14636        NaN               NaN   Not-in-family  Black    Male   \n",
       "11353        NaN               NaN         Husband  White    Male   \n",
       "11715    Private      Craft-repair         Husband  White    Male   \n",
       "10105  Local-gov    Prof-specialty   Not-in-family  White  Female   \n",
       "...          ...               ...             ...    ...     ...   \n",
       "16105        NaN               NaN       Own-child  White  Female   \n",
       "7227     Private    Prof-specialty  Other-relative  White  Female   \n",
       "21529    Private  Transport-moving         Husband  White    Male   \n",
       "3475     Private   Farming-fishing         Husband  White    Male   \n",
       "20038        NaN               NaN       Unmarried  White  Female   \n",
       "\n",
       "      native-country  \n",
       "4236     El-Salvador  \n",
       "14636  United-States  \n",
       "11353  United-States  \n",
       "11715  United-States  \n",
       "10105  United-States  \n",
       "...              ...  \n",
       "16105  United-States  \n",
       "7227   United-States  \n",
       "21529  United-States  \n",
       "3475   United-States  \n",
       "20038  United-States  \n",
       "\n",
       "[20838 rows x 6 columns]"
      ]
     },
     "execution_count": 138,
     "metadata": {},
     "output_type": "execute_result"
    }
   ],
   "source": [
    "non_numeric_cols = df.select_dtypes(exclude='number').columns\n",
    "X_train[non_numeric_cols]"
   ]
  },
  {
   "cell_type": "code",
   "execution_count": 139,
   "metadata": {
    "scrolled": false
   },
   "outputs": [
    {
     "data": {
      "image/png": "[encoded data removed]",
      "text/plain": [
       "<Figure size 720x360 with 1 Axes>"
      ]
     },
     "metadata": {
      "needs_background": "light"
     },
     "output_type": "display_data"
    },
    {
     "data": {
      "image/png": "[encoded data removed]",
      "text/plain": [
       "<Figure size 720x360 with 1 Axes>"
      ]
     },
     "metadata": {
      "needs_background": "light"
     },
     "output_type": "display_data"
    },
    {
     "data": {
      "image/png": "[encoded data removed]",
      "text/plain": [
       "<Figure size 720x360 with 1 Axes>"
      ]
     },
     "metadata": {
      "needs_background": "light"
     },
     "output_type": "display_data"
    },
    {
     "data": {
      "image/png": "[encoded data removed]",
      "text/plain": [
       "<Figure size 720x360 with 1 Axes>"
      ]
     },
     "metadata": {
      "needs_background": "light"
     },
     "output_type": "display_data"
    },
    {
     "data": {
      "image/png": "[encoded data removed]",
      "text/plain": [
       "<Figure size 720x360 with 1 Axes>"
      ]
     },
     "metadata": {
      "needs_background": "light"
     },
     "output_type": "display_data"
    },
    {
     "data": {
      "image/png": "[encoded data removed]",
      "text/plain": [
       "<Figure size 720x360 with 1 Axes>"
      ]
     },
     "metadata": {
      "needs_background": "light"
     },
     "output_type": "display_data"
    }
   ],
   "source": [
    "for col in non_numeric_cols:\n",
    "    fig = plt.figure(figsize=(10, 5)) \n",
    "    ax = sns.histplot(X_train, x=col) \n",
    "    plt.xticks(rotation=90)"
   ]
  },
  {
   "cell_type": "markdown",
   "metadata": {
    "id": "TlJGKMfqF5RQ"
   },
   "source": [
    "## Удаление пропущенных значений\n",
    "\n",
    "Определите число строк исходного набора данных (без колонок <code>education</code> и <code>marital-status</code>), в которых присутствует хотя бы одно пропущенное значение."
   ]
  },
  {
   "cell_type": "code",
   "execution_count": 140,
   "metadata": {
    "id": "Pyur9pDvHFoc"
   },
   "outputs": [
    {
     "data": {
      "text/plain": [
       "1914"
      ]
     },
     "execution_count": 140,
     "metadata": {},
     "output_type": "execute_result"
    }
   ],
   "source": [
    "len(df[df.isna().any(axis=1)])"
   ]
  },
  {
   "cell_type": "code",
   "execution_count": 141,
   "metadata": {},
   "outputs": [],
   "source": [
    "df1 = df.dropna()"
   ]
  },
  {
   "cell_type": "markdown",
   "metadata": {
    "id": "l7IkfsKoHlza"
   },
   "source": [
    "Видно, что в датасете содержится менее 10% строк, содержащих пропуски. Выкидывать такое количество строк — не очень хорошее дело, но почему бы не попробовать обойтись без них. \n",
    "\n",
    "Удалите строки, содеражащие пропуски. Произведите <code>one-hot</code> кодировние нечисловых признаков, например, с помощью <code>pd.get_dummies(drop_first=True)</code>.\n",
    "\n",
    "Введите число полученных признаков."
   ]
  },
  {
   "cell_type": "code",
   "execution_count": 142,
   "metadata": {
    "id": "8zBk0YF9I7co"
   },
   "outputs": [
    {
     "data": {
      "text/plain": [
       "75"
      ]
     },
     "execution_count": 142,
     "metadata": {},
     "output_type": "execute_result"
    }
   ],
   "source": [
    "df1 = pd.get_dummies(df1, drop_first=True)\n",
    "len(df1.columns)-1"
   ]
  },
  {
   "cell_type": "markdown",
   "metadata": {
    "id": "ntH0eA3JLAp1"
   },
   "source": [
    "Обучите модель классификации аналогично тому, как это было проделано для базовой модели. Вычислите <code>f1_score()</code> модели.\n",
    "\n"
   ]
  },
  {
   "cell_type": "code",
   "execution_count": 143,
   "metadata": {
    "id": "cfvX8LFwLS2-"
   },
   "outputs": [],
   "source": [
    "X_train, X_test, y_train, y_test = train_test_split(df1.drop(columns=['label']), df1['label'], test_size=0.2, \n",
    "                                                        random_state=41, stratify=df1['label'])"
   ]
  },
  {
   "cell_type": "code",
   "execution_count": 144,
   "metadata": {},
   "outputs": [],
   "source": [
    "scaler = MinMaxScaler()\n",
    "X_train_scaled = pd.DataFrame(scaler.fit_transform(X_train), columns=X_train.columns, index=X_train.index)\n",
    "X_test_scaled = pd.DataFrame(scaler.transform(X_test), columns=X_test.columns, index=X_test.index)"
   ]
  },
  {
   "cell_type": "code",
   "execution_count": 145,
   "metadata": {},
   "outputs": [
    {
     "data": {
      "text/plain": [
       "0.6001838235294118"
      ]
     },
     "execution_count": 145,
     "metadata": {},
     "output_type": "execute_result"
    }
   ],
   "source": [
    "neigh = KNeighborsClassifier()\n",
    "neigh.fit(X_train_scaled, y_train)\n",
    "# f1 скор на параметрах по умолчанию\n",
    "f1_score(y_test, neigh.predict(X_test_scaled))"
   ]
  },
  {
   "cell_type": "markdown",
   "metadata": {
    "id": "YEQxNYjQL7lv"
   },
   "source": [
    "Точность модели увеличилась по сравнению с моделью, которая использовала только числовые признаки."
   ]
  },
  {
   "cell_type": "markdown",
   "metadata": {
    "id": "t9-DCq5wMHj9"
   },
   "source": [
    "## Заполнение пропущенных значений\n",
    "\n",
    "Возможно точность еще повысится, если задействовать строки с пропущенными значениями. Используя исходный датасет (без колонок <code>education</code> и <code>marital-status</code>), заполните пропуски самым часто встречающимся значением в рамках столбца."
   ]
  },
  {
   "cell_type": "code",
   "execution_count": 147,
   "metadata": {
    "id": "oTetZAB6OVXK"
   },
   "outputs": [],
   "source": [
    "columns_with_na = ['workclass', 'occupation', 'native-country']\n",
    "for col in columns_with_na:\n",
    "    most_frequent_value = df[col].mode()[0]\n",
    "    df[col].fillna(most_frequent_value, inplace=True)"
   ]
  },
  {
   "cell_type": "markdown",
   "metadata": {
    "id": "HCSjgKyTPl_A"
   },
   "source": [
    "Далее по уже знакомому сценарию: <code>one-hot</code>, <code>split</code>, <code>scaling</code>, обучение и оценка.\n",
    "\n",
    "Вычислите <code>f1_score()</code> модели."
   ]
  },
  {
   "cell_type": "code",
   "execution_count": 149,
   "metadata": {
    "id": "pSvtbFdxQOqp"
   },
   "outputs": [
    {
     "data": {
      "text/plain": [
       "0.6099532113994045"
      ]
     },
     "execution_count": 149,
     "metadata": {},
     "output_type": "execute_result"
    }
   ],
   "source": [
    "df = pd.get_dummies(df, drop_first=True)\n",
    "X_train, X_test, y_train, y_test = train_test_split(df.drop(columns=['label']), df['label'], test_size=0.2, \n",
    "                                                        random_state=41, stratify=df['label'])\n",
    "scaler = MinMaxScaler()\n",
    "X_train_scaled = pd.DataFrame(scaler.fit_transform(X_train), columns=X_train.columns, index=X_train.index)\n",
    "X_test_scaled = pd.DataFrame(scaler.transform(X_test), columns=X_test.columns, index=X_test.index)\n",
    "\n",
    "neigh = KNeighborsClassifier()\n",
    "neigh.fit(X_train_scaled, y_train)\n",
    "# f1 скор на параметрах по умолчанию\n",
    "f1_score(y_test, neigh.predict(X_test_scaled))"
   ]
  },
  {
   "cell_type": "markdown",
   "metadata": {
    "id": "tI6RqgHARXWS"
   },
   "source": [
    "## Проклятие размерности\n",
    "\n",
    "В последнем пункте был получен набор данных, содержащий 76 признаков (кстати, попробуйте объяснить, почему в случае удаления строк число признаков в итоге оказалось равным 75), что является достаточным для того, чтобы столкнуться с так называемым проклятием размерности.\n",
    "\n",
    "Для того, чтобы классификатор давал более качественные результаты, имеет смысл более внимательно и вдумчиво поработать с признаками с учетом проклятия размерности. Например, вернуть в рассмотрение признаки <code>education-num</code> и <code>marital-status</code>. А также более глубоко вникнуть в саму природу признаков."
   ]
  }
 ],
 "metadata": {
  "colab": {
   "provenance": []
  },
  "kernelspec": {
   "display_name": "Python 3 (ipykernel)",
   "language": "python",
   "name": "python3"
  },
  "language_info": {
   "codemirror_mode": {
    "name": "ipython",
    "version": 3
   },
   "file_extension": ".py",
   "mimetype": "text/x-python",
   "name": "python",
   "nbconvert_exporter": "python",
   "pygments_lexer": "ipython3",
   "version": "3.9.12"
  },
  "varInspector": {
   "cols": {
    "lenName": 16,
    "lenType": 16,
    "lenVar": 40
   },
   "kernels_config": {
    "python": {
     "delete_cmd_postfix": "",
     "delete_cmd_prefix": "del ",
     "library": "var_list.py",
     "varRefreshCmd": "print(var_dic_list())"
    },
    "r": {
     "delete_cmd_postfix": ") ",
     "delete_cmd_prefix": "rm(",
     "library": "var_list.r",
     "varRefreshCmd": "cat(var_dic_list()) "
    }
   },
   "types_to_exclude": [
    "module",
    "function",
    "builtin_function_or_method",
    "instance",
    "_Feature"
   ],
   "window_display": false
  }
 },
 "nbformat": 4,
 "nbformat_minor": 1
}
