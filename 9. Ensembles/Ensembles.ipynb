{
 "cells": [
  {
   "cell_type": "markdown",
   "metadata": {
    "id": "FkbP5g9IOwKf"
   },
   "source": [
    "---\n",
    "\n",
    "# Ансамбли моделей"
   ]
  },
  {
   "cell_type": "markdown",
   "metadata": {
    "id": "7cfqqTD-OwKg"
   },
   "source": [
    "В этой работе мы рассмотрим применение некоторых классических и хорошо себя показавших алгоритмов-ансамблей. Демонстрировать работу этих алгоритмов будем на данных о потреблении электричества."
   ]
  },
  {
   "cell_type": "markdown",
   "metadata": {
    "id": "SnV_mUTS1yY9"
   },
   "source": [
    "# Описание набора данных"
   ]
  },
  {
   "cell_type": "markdown",
   "metadata": {
    "id": "EnfByH4SuGGM"
   },
   "source": [
    "**Author**: M. Harries, J. Gama, A. Bifet  \n",
    "**Source**: [Joao Gama](http://www.inescporto.pt/~jgama/ales/ales_5.html) - 2009  \n",
    "**Please cite**: None  \n",
    "\n",
    "**Electricity** is a widely used dataset described by M. Harries and analyzed by J. Gama (see papers below). This data was collected from the Australian New South Wales Electricity Market. In this market, prices are not fixed and are affected by demand and supply of the market. They are set every five minutes. Electricity transfers to/from the neighboring state of Victoria were done to alleviate fluctuations.\n",
    "\n",
    "The dataset (originally named ELEC2) contains 45,312 instances dated from 7 May 1996 to 5 December 1998. Each example of the dataset refers to a period of 30 minutes, i.e. there are 48 instances for each time period of one day. Each example on the dataset has 5 fields, the day of week, the time stamp, the New South Wales electricity demand, the Victoria electricity demand, the scheduled electricity transfer between states and the class label. The class label identifies the change of the price (UP or DOWN) in New South Wales relative to a moving average of the last 24 hours (and removes the impact of longer term price trends). \n",
    "\n",
    "The data was normalized by A. Bifet.\n",
    "\n",
    "### Attribute information  \n",
    "* Date: date between 7 May 1996 to 5 December 1998. Here normalized between 0 and 1\n",
    "* Day: day of the week (1-7)\n",
    "* Period: time of the measurement (1-48) in half hour intervals over 24 hours. Here normalized between 0 and 1\n",
    "* NSWprice: New South Wales electricity price, normalized between 0 and 1\n",
    "* NSWdemand: New South Wales electricity demand, normalized between 0 and 1\n",
    "* VICprice: Victoria electricity price, normalized between 0 and 1\n",
    "* VICdemand: Victoria electricity demand, normalized between 0 and 1\n",
    "* transfer: scheduled electricity transfer between both states, normalized between 0 and 1\n",
    "\n",
    "### Relevant papers  \n",
    "M. Harries. Splice-2 comparative evaluation: Electricity pricing. Technical report, The University of South Wales, 1999.  \n",
    "J. Gama, P. Medas, G. Castillo, and P. Rodrigues. Learning with drift detection. In SBIA Brazilian Symposium on Artificial Intelligence, pages 286–295, 2004."
   ]
  },
  {
   "cell_type": "code",
   "execution_count": 48,
   "metadata": {},
   "outputs": [],
   "source": [
    "import pandas as pd\n",
    "import numpy as np\n",
    "import matplotlib.pyplot as plt\n",
    "import seaborn as sns\n",
    "from sklearn.metrics import accuracy_score\n",
    "from sklearn.model_selection import train_test_split\n",
    "from sklearn.ensemble import RandomForestClassifier\n",
    "from sklearn.metrics import classification_report\n",
    "from sklearn.metrics import f1_score\n",
    "from sklearn.model_selection import GridSearchCV\n",
    "from sklearn.ensemble import VotingClassifier\n",
    "from sklearn.linear_model import LogisticRegression\n",
    "from sklearn.linear_model import SGDClassifier\n",
    "from sklearn.svm import SVC\n",
    "from sklearn.ensemble import BaggingClassifier\n",
    "from sklearn.tree import DecisionTreeClassifier\n",
    "from sklearn.ensemble import GradientBoostingClassifier\n",
    "from sklearn.ensemble import AdaBoostClassifier\n",
    "from sklearn.ensemble import StackingClassifier\n",
    "from catboost import CatBoostClassifier"
   ]
  },
  {
   "cell_type": "markdown",
   "metadata": {
    "id": "iF1Dq_b5OwKh"
   },
   "source": [
    "# Разведочный анализ данных"
   ]
  },
  {
   "cell_type": "markdown",
   "metadata": {
    "id": "JiuUwJN52OFV"
   },
   "source": [
    "Считайте набор данных в датафрейм"
   ]
  },
  {
   "cell_type": "code",
   "execution_count": 2,
   "metadata": {
    "id": "ZDPVa8Dut_qJ"
   },
   "outputs": [],
   "source": [
    "data = pd.read_csv('electricity_train.csv')"
   ]
  },
  {
   "cell_type": "markdown",
   "metadata": {
    "id": "7gPhTkzt2vey"
   },
   "source": [
    "При помощи метода <code>.describe()</code> изучите набор данных «с высоты птичьего полета»."
   ]
  },
  {
   "cell_type": "code",
   "execution_count": 3,
   "metadata": {
    "id": "MUO2PzGE2vC3"
   },
   "outputs": [
    {
     "data": {
      "text/html": [
       "<div>\n",
       "<style scoped>\n",
       "    .dataframe tbody tr th:only-of-type {\n",
       "        vertical-align: middle;\n",
       "    }\n",
       "\n",
       "    .dataframe tbody tr th {\n",
       "        vertical-align: top;\n",
       "    }\n",
       "\n",
       "    .dataframe thead th {\n",
       "        text-align: right;\n",
       "    }\n",
       "</style>\n",
       "<table border=\"1\" class=\"dataframe\">\n",
       "  <thead>\n",
       "    <tr style=\"text-align: right;\">\n",
       "      <th></th>\n",
       "      <th>date</th>\n",
       "      <th>day</th>\n",
       "      <th>period</th>\n",
       "      <th>nswprice</th>\n",
       "      <th>nswdemand</th>\n",
       "      <th>vicprice</th>\n",
       "      <th>vicdemand</th>\n",
       "      <th>transfer</th>\n",
       "      <th>class</th>\n",
       "    </tr>\n",
       "  </thead>\n",
       "  <tbody>\n",
       "    <tr>\n",
       "      <th>count</th>\n",
       "      <td>36249.000000</td>\n",
       "      <td>36249.000000</td>\n",
       "      <td>36249.000000</td>\n",
       "      <td>36249.000000</td>\n",
       "      <td>36249.000000</td>\n",
       "      <td>36249.000000</td>\n",
       "      <td>36249.000000</td>\n",
       "      <td>36249.000000</td>\n",
       "      <td>36249.000000</td>\n",
       "    </tr>\n",
       "    <tr>\n",
       "      <th>mean</th>\n",
       "      <td>0.498293</td>\n",
       "      <td>4.006566</td>\n",
       "      <td>0.500560</td>\n",
       "      <td>0.057828</td>\n",
       "      <td>0.425939</td>\n",
       "      <td>0.003455</td>\n",
       "      <td>0.423024</td>\n",
       "      <td>0.500243</td>\n",
       "      <td>0.424536</td>\n",
       "    </tr>\n",
       "    <tr>\n",
       "      <th>std</th>\n",
       "      <td>0.339907</td>\n",
       "      <td>1.993551</td>\n",
       "      <td>0.294998</td>\n",
       "      <td>0.039052</td>\n",
       "      <td>0.163390</td>\n",
       "      <td>0.010175</td>\n",
       "      <td>0.120600</td>\n",
       "      <td>0.153098</td>\n",
       "      <td>0.494279</td>\n",
       "    </tr>\n",
       "    <tr>\n",
       "      <th>min</th>\n",
       "      <td>0.000000</td>\n",
       "      <td>1.000000</td>\n",
       "      <td>0.000000</td>\n",
       "      <td>0.000000</td>\n",
       "      <td>0.000000</td>\n",
       "      <td>0.000000</td>\n",
       "      <td>0.000000</td>\n",
       "      <td>0.000000</td>\n",
       "      <td>0.000000</td>\n",
       "    </tr>\n",
       "    <tr>\n",
       "      <th>25%</th>\n",
       "      <td>0.031945</td>\n",
       "      <td>2.000000</td>\n",
       "      <td>0.255319</td>\n",
       "      <td>0.035187</td>\n",
       "      <td>0.309729</td>\n",
       "      <td>0.002283</td>\n",
       "      <td>0.373382</td>\n",
       "      <td>0.414912</td>\n",
       "      <td>0.000000</td>\n",
       "    </tr>\n",
       "    <tr>\n",
       "      <th>50%</th>\n",
       "      <td>0.456263</td>\n",
       "      <td>4.000000</td>\n",
       "      <td>0.510638</td>\n",
       "      <td>0.048787</td>\n",
       "      <td>0.444213</td>\n",
       "      <td>0.003467</td>\n",
       "      <td>0.422915</td>\n",
       "      <td>0.414912</td>\n",
       "      <td>0.000000</td>\n",
       "    </tr>\n",
       "    <tr>\n",
       "      <th>75%</th>\n",
       "      <td>0.880492</td>\n",
       "      <td>6.000000</td>\n",
       "      <td>0.765957</td>\n",
       "      <td>0.074457</td>\n",
       "      <td>0.536745</td>\n",
       "      <td>0.003467</td>\n",
       "      <td>0.468669</td>\n",
       "      <td>0.605263</td>\n",
       "      <td>1.000000</td>\n",
       "    </tr>\n",
       "    <tr>\n",
       "      <th>max</th>\n",
       "      <td>1.000000</td>\n",
       "      <td>7.000000</td>\n",
       "      <td>1.000000</td>\n",
       "      <td>1.000000</td>\n",
       "      <td>0.980809</td>\n",
       "      <td>1.000000</td>\n",
       "      <td>1.000000</td>\n",
       "      <td>0.959211</td>\n",
       "      <td>1.000000</td>\n",
       "    </tr>\n",
       "  </tbody>\n",
       "</table>\n",
       "</div>"
      ],
      "text/plain": [
       "               date           day        period      nswprice     nswdemand  \\\n",
       "count  36249.000000  36249.000000  36249.000000  36249.000000  36249.000000   \n",
       "mean       0.498293      4.006566      0.500560      0.057828      0.425939   \n",
       "std        0.339907      1.993551      0.294998      0.039052      0.163390   \n",
       "min        0.000000      1.000000      0.000000      0.000000      0.000000   \n",
       "25%        0.031945      2.000000      0.255319      0.035187      0.309729   \n",
       "50%        0.456263      4.000000      0.510638      0.048787      0.444213   \n",
       "75%        0.880492      6.000000      0.765957      0.074457      0.536745   \n",
       "max        1.000000      7.000000      1.000000      1.000000      0.980809   \n",
       "\n",
       "           vicprice     vicdemand      transfer         class  \n",
       "count  36249.000000  36249.000000  36249.000000  36249.000000  \n",
       "mean       0.003455      0.423024      0.500243      0.424536  \n",
       "std        0.010175      0.120600      0.153098      0.494279  \n",
       "min        0.000000      0.000000      0.000000      0.000000  \n",
       "25%        0.002283      0.373382      0.414912      0.000000  \n",
       "50%        0.003467      0.422915      0.414912      0.000000  \n",
       "75%        0.003467      0.468669      0.605263      1.000000  \n",
       "max        1.000000      1.000000      0.959211      1.000000  "
      ]
     },
     "execution_count": 3,
     "metadata": {},
     "output_type": "execute_result"
    }
   ],
   "source": [
    "data.describe()"
   ]
  },
  {
   "cell_type": "markdown",
   "metadata": {
    "id": "e8Dbk1K-3iho"
   },
   "source": [
    "Убедитесь в отсутствии пропусков. Имеет смысл проверить сбалансированность классов. Введите долю элементов класса $1$."
   ]
  },
  {
   "cell_type": "code",
   "execution_count": 4,
   "metadata": {
    "id": "dyCm4K_F3xP0"
   },
   "outputs": [
    {
     "name": "stdout",
     "output_type": "stream",
     "text": [
      "<class 'pandas.core.frame.DataFrame'>\n",
      "RangeIndex: 36249 entries, 0 to 36248\n",
      "Data columns (total 9 columns):\n",
      " #   Column     Non-Null Count  Dtype  \n",
      "---  ------     --------------  -----  \n",
      " 0   date       36249 non-null  float64\n",
      " 1   day        36249 non-null  int64  \n",
      " 2   period     36249 non-null  float64\n",
      " 3   nswprice   36249 non-null  float64\n",
      " 4   nswdemand  36249 non-null  float64\n",
      " 5   vicprice   36249 non-null  float64\n",
      " 6   vicdemand  36249 non-null  float64\n",
      " 7   transfer   36249 non-null  float64\n",
      " 8   class      36249 non-null  int64  \n",
      "dtypes: float64(7), int64(2)\n",
      "memory usage: 2.5 MB\n"
     ]
    }
   ],
   "source": [
    "data.info()"
   ]
  },
  {
   "cell_type": "code",
   "execution_count": 6,
   "metadata": {},
   "outputs": [
    {
     "name": "stdout",
     "output_type": "stream",
     "text": [
      "0.4245358492648073\n"
     ]
    }
   ],
   "source": [
    "# task 1\n",
    "print(len(data[data['class'] == 1])/len(data))"
   ]
  },
  {
   "cell_type": "markdown",
   "metadata": {
    "id": "9yAaZWOE4Ufo"
   },
   "source": [
    "Постройте матрицу корреляций. Определите пару наиболее коррелированных признаков."
   ]
  },
  {
   "cell_type": "code",
   "execution_count": 7,
   "metadata": {
    "id": "TflVyF8U4a4d"
   },
   "outputs": [
    {
     "data": {
      "image/png": "[encoded data removed]",
      "text/plain": [
       "<Figure size 600x600 with 2 Axes>"
      ]
     },
     "metadata": {},
     "output_type": "display_data"
    }
   ],
   "source": [
    "# task 2\n",
    "correlation_matrix = data.drop(columns=['class']).corr()\n",
    "plt.figure(figsize=(6, 6))\n",
    "sns.heatmap(correlation_matrix, annot=True)\n",
    "plt.show()"
   ]
  },
  {
   "cell_type": "code",
   "execution_count": null,
   "metadata": {},
   "outputs": [],
   "source": [
    "# видно, что это nswdemand и vicdemand"
   ]
  },
  {
   "cell_type": "markdown",
   "metadata": {
    "id": "p86olWnORJrC"
   },
   "source": [
    "Постройте гистограммы распределений признаков."
   ]
  },
  {
   "cell_type": "code",
   "execution_count": 8,
   "metadata": {
    "id": "LIZiSMpV6Dmf"
   },
   "outputs": [
    {
     "data": {
      "image/png": "[encoded data removed]",
      "text/plain": [
       "<Figure size 2000x300 with 8 Axes>"
      ]
     },
     "metadata": {},
     "output_type": "display_data"
    }
   ],
   "source": [
    "# task 3\n",
    "plt.figure(figsize=(20, 3))\n",
    "for i, predictor in enumerate(data.columns[:-1]):\n",
    "    plt.subplot(1, len(data.columns[:-1]), i + 1)\n",
    "    plt.hist(data[predictor], bins=20)\n",
    "    plt.title(predictor)\n",
    "plt.tight_layout()\n",
    "plt.show()"
   ]
  },
  {
   "cell_type": "markdown",
   "metadata": {
    "id": "48Oaj77P6C3a"
   },
   "source": [
    "Из полученных иллюстраций видно, что в данных, скорее всего, как и ожидалось, есть некоторая периодичность. Более того, похоже, за нас уже поработали над заполнением пропусков или обработкой выбросов"
   ]
  },
  {
   "cell_type": "markdown",
   "metadata": {
    "id": "r9lr36io3K2H"
   },
   "source": [
    "При помощи <code>train_test_split</code> разобейте полученный набор данных на тренеровочную и тестовую выборки с параметрами, указанными в вашем варианте."
   ]
  },
  {
   "cell_type": "code",
   "execution_count": 10,
   "metadata": {
    "id": "G50KT0CVOwKk"
   },
   "outputs": [],
   "source": [
    "X_train, X_test, y_train, y_test = train_test_split(data.drop(columns=['class']), data['class'], test_size=0.2, random_state=41)"
   ]
  },
  {
   "cell_type": "markdown",
   "metadata": {
    "id": "tEh9OYuWOwKp"
   },
   "source": [
    "# Random Forests Classifier"
   ]
  },
  {
   "cell_type": "markdown",
   "metadata": {
    "id": "L_QEkgd9AFO4"
   },
   "source": [
    "Обучите модель <code>sklearn.ensemble.RandomForestClassifier</code> на тренировочных данных с параметрами, указанными в вашем индивидуальном задании. "
   ]
  },
  {
   "cell_type": "code",
   "execution_count": 12,
   "metadata": {
    "id": "Y4WCECt8OwKq"
   },
   "outputs": [
    {
     "name": "stdout",
     "output_type": "stream",
     "text": [
      "RandomForest 1.0\n"
     ]
    }
   ],
   "source": [
    "model = RandomForestClassifier(random_state=21)\n",
    "model = model.fit(X_train, y_train)\n",
    "print('RandomForest', round(accuracy_score(y_train, model.predict(X_train)), 3))"
   ]
  },
  {
   "cell_type": "markdown",
   "metadata": {
    "id": "1Ci-_Ba4AlE9"
   },
   "source": [
    "Постройте <code>classification_report</code> полученной модели на **тренировочных данных**. Введите значение точности модели на **тренировочных данных**."
   ]
  },
  {
   "cell_type": "code",
   "execution_count": 13,
   "metadata": {
    "id": "TBX0d57TCTSL"
   },
   "outputs": [
    {
     "name": "stdout",
     "output_type": "stream",
     "text": [
      "              precision    recall  f1-score   support\n",
      "\n",
      "           0       1.00      1.00      1.00     16685\n",
      "           1       1.00      1.00      1.00     12314\n",
      "\n",
      "    accuracy                           1.00     28999\n",
      "   macro avg       1.00      1.00      1.00     28999\n",
      "weighted avg       1.00      1.00      1.00     28999\n",
      "\n"
     ]
    }
   ],
   "source": [
    "print(classification_report(y_train, model.predict(X_train)))"
   ]
  },
  {
   "cell_type": "markdown",
   "metadata": {
    "id": "0OlkNY98OwKs"
   },
   "source": [
    "Получили переобучение. Что же, еще раз можно ответить, что деревья принятия решений весьма склонны к переобучению."
   ]
  },
  {
   "cell_type": "markdown",
   "metadata": {
    "id": "cPfEnIs8OwKs"
   },
   "source": [
    "## Добавление к лесу деревьев GridSearchCV"
   ]
  },
  {
   "cell_type": "markdown",
   "metadata": {
    "id": "RyjHh8_vD2A-"
   },
   "source": [
    "При помощи <code>sklearn.model_selection.GridSearchCV</code> обучите <code>RandomForestClassifier</code> на тренировочных данных c параметрами, указанными в вашем индивидуальном задании. \n",
    "\n",
    "Подбираемые параметры: \n",
    "\n",
    "<code>{'n_estimators': [100,300,500], 'max_leaf_nodes': list(range(6,10)), 'min_samples_leaf': [1,2,3]}</code>"
   ]
  },
  {
   "cell_type": "code",
   "execution_count": 14,
   "metadata": {},
   "outputs": [],
   "source": [
    "params_grid = {'n_estimators': [100,300,500],\n",
    "               'max_leaf_nodes': list(range(6,10)),\n",
    "               'min_samples_leaf': [1,2,3]}"
   ]
  },
  {
   "cell_type": "code",
   "execution_count": 15,
   "metadata": {
    "id": "5UZ-3wuyOwKs"
   },
   "outputs": [
    {
     "name": "stdout",
     "output_type": "stream",
     "text": [
      "Fitting 3 folds for each of 36 candidates, totalling 108 fits\n",
      "[CV 1/3] END max_leaf_nodes=6, min_samples_leaf=1, n_estimators=100;, score=0.771 total time=   2.3s\n",
      "[CV 2/3] END max_leaf_nodes=6, min_samples_leaf=1, n_estimators=100;, score=0.771 total time=   0.4s\n",
      "[CV 3/3] END max_leaf_nodes=6, min_samples_leaf=1, n_estimators=100;, score=0.768 total time=   0.4s\n",
      "[CV 1/3] END max_leaf_nodes=6, min_samples_leaf=1, n_estimators=300;, score=0.771 total time=   1.4s\n",
      "[CV 2/3] END max_leaf_nodes=6, min_samples_leaf=1, n_estimators=300;, score=0.772 total time=   1.4s\n",
      "[CV 3/3] END max_leaf_nodes=6, min_samples_leaf=1, n_estimators=300;, score=0.767 total time=   1.3s\n",
      "[CV 1/3] END max_leaf_nodes=6, min_samples_leaf=1, n_estimators=500;, score=0.771 total time=   4.2s\n",
      "[CV 2/3] END max_leaf_nodes=6, min_samples_leaf=1, n_estimators=500;, score=0.773 total time=   4.2s\n",
      "[CV 3/3] END max_leaf_nodes=6, min_samples_leaf=1, n_estimators=500;, score=0.768 total time=   4.2s\n",
      "[CV 1/3] END max_leaf_nodes=6, min_samples_leaf=2, n_estimators=100;, score=0.771 total time=   0.8s\n",
      "[CV 2/3] END max_leaf_nodes=6, min_samples_leaf=2, n_estimators=100;, score=0.771 total time=   0.9s\n",
      "[CV 3/3] END max_leaf_nodes=6, min_samples_leaf=2, n_estimators=100;, score=0.768 total time=   0.9s\n",
      "[CV 1/3] END max_leaf_nodes=6, min_samples_leaf=2, n_estimators=300;, score=0.771 total time=   2.4s\n",
      "[CV 2/3] END max_leaf_nodes=6, min_samples_leaf=2, n_estimators=300;, score=0.772 total time=   2.2s\n",
      "[CV 3/3] END max_leaf_nodes=6, min_samples_leaf=2, n_estimators=300;, score=0.767 total time=   2.5s\n",
      "[CV 1/3] END max_leaf_nodes=6, min_samples_leaf=2, n_estimators=500;, score=0.771 total time=   4.0s\n",
      "[CV 2/3] END max_leaf_nodes=6, min_samples_leaf=2, n_estimators=500;, score=0.773 total time=   3.8s\n",
      "[CV 3/3] END max_leaf_nodes=6, min_samples_leaf=2, n_estimators=500;, score=0.768 total time=   3.8s\n",
      "[CV 1/3] END max_leaf_nodes=6, min_samples_leaf=3, n_estimators=100;, score=0.771 total time=   0.8s\n",
      "[CV 2/3] END max_leaf_nodes=6, min_samples_leaf=3, n_estimators=100;, score=0.771 total time=   0.9s\n",
      "[CV 3/3] END max_leaf_nodes=6, min_samples_leaf=3, n_estimators=100;, score=0.768 total time=   0.9s\n",
      "[CV 1/3] END max_leaf_nodes=6, min_samples_leaf=3, n_estimators=300;, score=0.771 total time=   2.4s\n",
      "[CV 2/3] END max_leaf_nodes=6, min_samples_leaf=3, n_estimators=300;, score=0.772 total time=   2.4s\n",
      "[CV 3/3] END max_leaf_nodes=6, min_samples_leaf=3, n_estimators=300;, score=0.767 total time=   2.5s\n",
      "[CV 1/3] END max_leaf_nodes=6, min_samples_leaf=3, n_estimators=500;, score=0.771 total time=   4.0s\n",
      "[CV 2/3] END max_leaf_nodes=6, min_samples_leaf=3, n_estimators=500;, score=0.773 total time=   3.7s\n",
      "[CV 3/3] END max_leaf_nodes=6, min_samples_leaf=3, n_estimators=500;, score=0.768 total time=   4.0s\n",
      "[CV 1/3] END max_leaf_nodes=7, min_samples_leaf=1, n_estimators=100;, score=0.776 total time=   0.9s\n",
      "[CV 2/3] END max_leaf_nodes=7, min_samples_leaf=1, n_estimators=100;, score=0.778 total time=   0.8s\n",
      "[CV 3/3] END max_leaf_nodes=7, min_samples_leaf=1, n_estimators=100;, score=0.774 total time=   0.8s\n",
      "[CV 1/3] END max_leaf_nodes=7, min_samples_leaf=1, n_estimators=300;, score=0.776 total time=   2.5s\n",
      "[CV 2/3] END max_leaf_nodes=7, min_samples_leaf=1, n_estimators=300;, score=0.779 total time=   2.6s\n",
      "[CV 3/3] END max_leaf_nodes=7, min_samples_leaf=1, n_estimators=300;, score=0.771 total time=   2.7s\n",
      "[CV 1/3] END max_leaf_nodes=7, min_samples_leaf=1, n_estimators=500;, score=0.775 total time=   4.2s\n",
      "[CV 2/3] END max_leaf_nodes=7, min_samples_leaf=1, n_estimators=500;, score=0.778 total time=   3.9s\n",
      "[CV 3/3] END max_leaf_nodes=7, min_samples_leaf=1, n_estimators=500;, score=0.771 total time=   4.0s\n",
      "[CV 1/3] END max_leaf_nodes=7, min_samples_leaf=2, n_estimators=100;, score=0.776 total time=   0.9s\n",
      "[CV 2/3] END max_leaf_nodes=7, min_samples_leaf=2, n_estimators=100;, score=0.778 total time=   0.8s\n",
      "[CV 3/3] END max_leaf_nodes=7, min_samples_leaf=2, n_estimators=100;, score=0.774 total time=   0.9s\n",
      "[CV 1/3] END max_leaf_nodes=7, min_samples_leaf=2, n_estimators=300;, score=0.776 total time=   2.4s\n",
      "[CV 2/3] END max_leaf_nodes=7, min_samples_leaf=2, n_estimators=300;, score=0.779 total time=   2.7s\n",
      "[CV 3/3] END max_leaf_nodes=7, min_samples_leaf=2, n_estimators=300;, score=0.771 total time=   2.6s\n",
      "[CV 1/3] END max_leaf_nodes=7, min_samples_leaf=2, n_estimators=500;, score=0.775 total time=   4.1s\n",
      "[CV 2/3] END max_leaf_nodes=7, min_samples_leaf=2, n_estimators=500;, score=0.778 total time=   4.3s\n",
      "[CV 3/3] END max_leaf_nodes=7, min_samples_leaf=2, n_estimators=500;, score=0.771 total time=   4.3s\n",
      "[CV 1/3] END max_leaf_nodes=7, min_samples_leaf=3, n_estimators=100;, score=0.776 total time=   0.9s\n",
      "[CV 2/3] END max_leaf_nodes=7, min_samples_leaf=3, n_estimators=100;, score=0.778 total time=   0.9s\n",
      "[CV 3/3] END max_leaf_nodes=7, min_samples_leaf=3, n_estimators=100;, score=0.774 total time=   0.9s\n",
      "[CV 1/3] END max_leaf_nodes=7, min_samples_leaf=3, n_estimators=300;, score=0.776 total time=   2.5s\n",
      "[CV 2/3] END max_leaf_nodes=7, min_samples_leaf=3, n_estimators=300;, score=0.779 total time=   2.5s\n",
      "[CV 3/3] END max_leaf_nodes=7, min_samples_leaf=3, n_estimators=300;, score=0.771 total time=   2.4s\n",
      "[CV 1/3] END max_leaf_nodes=7, min_samples_leaf=3, n_estimators=500;, score=0.775 total time=   4.2s\n",
      "[CV 2/3] END max_leaf_nodes=7, min_samples_leaf=3, n_estimators=500;, score=0.778 total time=   4.0s\n",
      "[CV 3/3] END max_leaf_nodes=7, min_samples_leaf=3, n_estimators=500;, score=0.771 total time=   4.5s\n",
      "[CV 1/3] END max_leaf_nodes=8, min_samples_leaf=1, n_estimators=100;, score=0.779 total time=   0.9s\n",
      "[CV 2/3] END max_leaf_nodes=8, min_samples_leaf=1, n_estimators=100;, score=0.782 total time=   0.9s\n",
      "[CV 3/3] END max_leaf_nodes=8, min_samples_leaf=1, n_estimators=100;, score=0.778 total time=   1.0s\n",
      "[CV 1/3] END max_leaf_nodes=8, min_samples_leaf=1, n_estimators=300;, score=0.782 total time=   2.8s\n",
      "[CV 2/3] END max_leaf_nodes=8, min_samples_leaf=1, n_estimators=300;, score=0.784 total time=   2.7s\n",
      "[CV 3/3] END max_leaf_nodes=8, min_samples_leaf=1, n_estimators=300;, score=0.778 total time=   2.6s\n",
      "[CV 1/3] END max_leaf_nodes=8, min_samples_leaf=1, n_estimators=500;, score=0.783 total time=   4.4s\n",
      "[CV 2/3] END max_leaf_nodes=8, min_samples_leaf=1, n_estimators=500;, score=0.786 total time=   4.4s\n",
      "[CV 3/3] END max_leaf_nodes=8, min_samples_leaf=1, n_estimators=500;, score=0.780 total time=   4.5s\n",
      "[CV 1/3] END max_leaf_nodes=8, min_samples_leaf=2, n_estimators=100;, score=0.779 total time=   0.9s\n",
      "[CV 2/3] END max_leaf_nodes=8, min_samples_leaf=2, n_estimators=100;, score=0.782 total time=   0.9s\n",
      "[CV 3/3] END max_leaf_nodes=8, min_samples_leaf=2, n_estimators=100;, score=0.778 total time=   0.9s\n",
      "[CV 1/3] END max_leaf_nodes=8, min_samples_leaf=2, n_estimators=300;, score=0.782 total time=   2.6s\n",
      "[CV 2/3] END max_leaf_nodes=8, min_samples_leaf=2, n_estimators=300;, score=0.784 total time=   2.6s\n",
      "[CV 3/3] END max_leaf_nodes=8, min_samples_leaf=2, n_estimators=300;, score=0.778 total time=   2.6s\n",
      "[CV 1/3] END max_leaf_nodes=8, min_samples_leaf=2, n_estimators=500;, score=0.783 total time=   4.3s\n",
      "[CV 2/3] END max_leaf_nodes=8, min_samples_leaf=2, n_estimators=500;, score=0.786 total time=   4.5s\n",
      "[CV 3/3] END max_leaf_nodes=8, min_samples_leaf=2, n_estimators=500;, score=0.780 total time=   4.6s\n",
      "[CV 1/3] END max_leaf_nodes=8, min_samples_leaf=3, n_estimators=100;, score=0.779 total time=   0.8s\n",
      "[CV 2/3] END max_leaf_nodes=8, min_samples_leaf=3, n_estimators=100;, score=0.782 total time=   0.9s\n",
      "[CV 3/3] END max_leaf_nodes=8, min_samples_leaf=3, n_estimators=100;, score=0.778 total time=   0.8s\n",
      "[CV 1/3] END max_leaf_nodes=8, min_samples_leaf=3, n_estimators=300;, score=0.782 total time=   2.7s\n",
      "[CV 2/3] END max_leaf_nodes=8, min_samples_leaf=3, n_estimators=300;, score=0.784 total time=   2.8s\n",
      "[CV 3/3] END max_leaf_nodes=8, min_samples_leaf=3, n_estimators=300;, score=0.778 total time=   2.7s\n",
      "[CV 1/3] END max_leaf_nodes=8, min_samples_leaf=3, n_estimators=500;, score=0.783 total time=   4.8s\n",
      "[CV 2/3] END max_leaf_nodes=8, min_samples_leaf=3, n_estimators=500;, score=0.786 total time=   4.7s\n",
      "[CV 3/3] END max_leaf_nodes=8, min_samples_leaf=3, n_estimators=500;, score=0.780 total time=   4.6s\n"
     ]
    },
    {
     "name": "stdout",
     "output_type": "stream",
     "text": [
      "[CV 1/3] END max_leaf_nodes=9, min_samples_leaf=1, n_estimators=100;, score=0.784 total time=   1.0s\n",
      "[CV 2/3] END max_leaf_nodes=9, min_samples_leaf=1, n_estimators=100;, score=0.786 total time=   0.9s\n",
      "[CV 3/3] END max_leaf_nodes=9, min_samples_leaf=1, n_estimators=100;, score=0.782 total time=   0.9s\n",
      "[CV 1/3] END max_leaf_nodes=9, min_samples_leaf=1, n_estimators=300;, score=0.785 total time=   2.9s\n",
      "[CV 2/3] END max_leaf_nodes=9, min_samples_leaf=1, n_estimators=300;, score=0.788 total time=   2.6s\n",
      "[CV 3/3] END max_leaf_nodes=9, min_samples_leaf=1, n_estimators=300;, score=0.781 total time=   2.7s\n",
      "[CV 1/3] END max_leaf_nodes=9, min_samples_leaf=1, n_estimators=500;, score=0.785 total time=   4.6s\n",
      "[CV 2/3] END max_leaf_nodes=9, min_samples_leaf=1, n_estimators=500;, score=0.788 total time=   4.2s\n",
      "[CV 3/3] END max_leaf_nodes=9, min_samples_leaf=1, n_estimators=500;, score=0.782 total time=   5.1s\n",
      "[CV 1/3] END max_leaf_nodes=9, min_samples_leaf=2, n_estimators=100;, score=0.784 total time=   1.0s\n",
      "[CV 2/3] END max_leaf_nodes=9, min_samples_leaf=2, n_estimators=100;, score=0.786 total time=   1.0s\n",
      "[CV 3/3] END max_leaf_nodes=9, min_samples_leaf=2, n_estimators=100;, score=0.782 total time=   0.9s\n",
      "[CV 1/3] END max_leaf_nodes=9, min_samples_leaf=2, n_estimators=300;, score=0.785 total time=   2.7s\n",
      "[CV 2/3] END max_leaf_nodes=9, min_samples_leaf=2, n_estimators=300;, score=0.788 total time=   2.7s\n",
      "[CV 3/3] END max_leaf_nodes=9, min_samples_leaf=2, n_estimators=300;, score=0.781 total time=   2.8s\n",
      "[CV 1/3] END max_leaf_nodes=9, min_samples_leaf=2, n_estimators=500;, score=0.785 total time=   5.0s\n",
      "[CV 2/3] END max_leaf_nodes=9, min_samples_leaf=2, n_estimators=500;, score=0.788 total time=   7.3s\n",
      "[CV 3/3] END max_leaf_nodes=9, min_samples_leaf=2, n_estimators=500;, score=0.782 total time=   9.4s\n",
      "[CV 1/3] END max_leaf_nodes=9, min_samples_leaf=3, n_estimators=100;, score=0.784 total time=   1.8s\n",
      "[CV 2/3] END max_leaf_nodes=9, min_samples_leaf=3, n_estimators=100;, score=0.786 total time=   2.1s\n",
      "[CV 3/3] END max_leaf_nodes=9, min_samples_leaf=3, n_estimators=100;, score=0.782 total time=   2.0s\n",
      "[CV 1/3] END max_leaf_nodes=9, min_samples_leaf=3, n_estimators=300;, score=0.785 total time=   5.8s\n",
      "[CV 2/3] END max_leaf_nodes=9, min_samples_leaf=3, n_estimators=300;, score=0.788 total time=   6.0s\n",
      "[CV 3/3] END max_leaf_nodes=9, min_samples_leaf=3, n_estimators=300;, score=0.781 total time=   5.7s\n",
      "[CV 1/3] END max_leaf_nodes=9, min_samples_leaf=3, n_estimators=500;, score=0.785 total time=   9.1s\n",
      "[CV 2/3] END max_leaf_nodes=9, min_samples_leaf=3, n_estimators=500;, score=0.788 total time=   9.4s\n",
      "[CV 3/3] END max_leaf_nodes=9, min_samples_leaf=3, n_estimators=500;, score=0.782 total time=   9.5s\n"
     ]
    },
    {
     "data": {
      "text/html": [
       "<style>#sk-container-id-1 {color: black;}#sk-container-id-1 pre{padding: 0;}#sk-container-id-1 div.sk-toggleable {background-color: white;}#sk-container-id-1 label.sk-toggleable__label {cursor: pointer;display: block;width: 100%;margin-bottom: 0;padding: 0.3em;box-sizing: border-box;text-align: center;}#sk-container-id-1 label.sk-toggleable__label-arrow:before {content: \"▸\";float: left;margin-right: 0.25em;color: #696969;}#sk-container-id-1 label.sk-toggleable__label-arrow:hover:before {color: black;}#sk-container-id-1 div.sk-estimator:hover label.sk-toggleable__label-arrow:before {color: black;}#sk-container-id-1 div.sk-toggleable__content {max-height: 0;max-width: 0;overflow: hidden;text-align: left;background-color: #f0f8ff;}#sk-container-id-1 div.sk-toggleable__content pre {margin: 0.2em;color: black;border-radius: 0.25em;background-color: #f0f8ff;}#sk-container-id-1 input.sk-toggleable__control:checked~div.sk-toggleable__content {max-height: 200px;max-width: 100%;overflow: auto;}#sk-container-id-1 input.sk-toggleable__control:checked~label.sk-toggleable__label-arrow:before {content: \"▾\";}#sk-container-id-1 div.sk-estimator input.sk-toggleable__control:checked~label.sk-toggleable__label {background-color: #d4ebff;}#sk-container-id-1 div.sk-label input.sk-toggleable__control:checked~label.sk-toggleable__label {background-color: #d4ebff;}#sk-container-id-1 input.sk-hidden--visually {border: 0;clip: rect(1px 1px 1px 1px);clip: rect(1px, 1px, 1px, 1px);height: 1px;margin: -1px;overflow: hidden;padding: 0;position: absolute;width: 1px;}#sk-container-id-1 div.sk-estimator {font-family: monospace;background-color: #f0f8ff;border: 1px dotted black;border-radius: 0.25em;box-sizing: border-box;margin-bottom: 0.5em;}#sk-container-id-1 div.sk-estimator:hover {background-color: #d4ebff;}#sk-container-id-1 div.sk-parallel-item::after {content: \"\";width: 100%;border-bottom: 1px solid gray;flex-grow: 1;}#sk-container-id-1 div.sk-label:hover label.sk-toggleable__label {background-color: #d4ebff;}#sk-container-id-1 div.sk-serial::before {content: \"\";position: absolute;border-left: 1px solid gray;box-sizing: border-box;top: 0;bottom: 0;left: 50%;z-index: 0;}#sk-container-id-1 div.sk-serial {display: flex;flex-direction: column;align-items: center;background-color: white;padding-right: 0.2em;padding-left: 0.2em;position: relative;}#sk-container-id-1 div.sk-item {position: relative;z-index: 1;}#sk-container-id-1 div.sk-parallel {display: flex;align-items: stretch;justify-content: center;background-color: white;position: relative;}#sk-container-id-1 div.sk-item::before, #sk-container-id-1 div.sk-parallel-item::before {content: \"\";position: absolute;border-left: 1px solid gray;box-sizing: border-box;top: 0;bottom: 0;left: 50%;z-index: -1;}#sk-container-id-1 div.sk-parallel-item {display: flex;flex-direction: column;z-index: 1;position: relative;background-color: white;}#sk-container-id-1 div.sk-parallel-item:first-child::after {align-self: flex-end;width: 50%;}#sk-container-id-1 div.sk-parallel-item:last-child::after {align-self: flex-start;width: 50%;}#sk-container-id-1 div.sk-parallel-item:only-child::after {width: 0;}#sk-container-id-1 div.sk-dashed-wrapped {border: 1px dashed gray;margin: 0 0.4em 0.5em 0.4em;box-sizing: border-box;padding-bottom: 0.4em;background-color: white;}#sk-container-id-1 div.sk-label label {font-family: monospace;font-weight: bold;display: inline-block;line-height: 1.2em;}#sk-container-id-1 div.sk-label-container {text-align: center;}#sk-container-id-1 div.sk-container {/* jupyter's `normalize.less` sets `[hidden] { display: none; }` but bootstrap.min.css set `[hidden] { display: none !important; }` so we also need the `!important` here to be able to override the default hidden behavior on the sphinx rendered scikit-learn.org. See: https://github.com/scikit-learn/scikit-learn/issues/21755 */display: inline-block !important;position: relative;}#sk-container-id-1 div.sk-text-repr-fallback {display: none;}</style><div id=\"sk-container-id-1\" class=\"sk-top-container\"><div class=\"sk-text-repr-fallback\"><pre>GridSearchCV(cv=3,\n",
       "             estimator=RandomForestClassifier(bootstrap=False,\n",
       "                                              class_weight=&#x27;balanced&#x27;,\n",
       "                                              n_jobs=-1, random_state=41),\n",
       "             param_grid={&#x27;max_leaf_nodes&#x27;: [6, 7, 8, 9],\n",
       "                         &#x27;min_samples_leaf&#x27;: [1, 2, 3],\n",
       "                         &#x27;n_estimators&#x27;: [100, 300, 500]},\n",
       "             verbose=4)</pre><b>In a Jupyter environment, please rerun this cell to show the HTML representation or trust the notebook. <br />On GitHub, the HTML representation is unable to render, please try loading this page with nbviewer.org.</b></div><div class=\"sk-container\" hidden><div class=\"sk-item sk-dashed-wrapped\"><div class=\"sk-label-container\"><div class=\"sk-label sk-toggleable\"><input class=\"sk-toggleable__control sk-hidden--visually\" id=\"sk-estimator-id-1\" type=\"checkbox\" ><label for=\"sk-estimator-id-1\" class=\"sk-toggleable__label sk-toggleable__label-arrow\">GridSearchCV</label><div class=\"sk-toggleable__content\"><pre>GridSearchCV(cv=3,\n",
       "             estimator=RandomForestClassifier(bootstrap=False,\n",
       "                                              class_weight=&#x27;balanced&#x27;,\n",
       "                                              n_jobs=-1, random_state=41),\n",
       "             param_grid={&#x27;max_leaf_nodes&#x27;: [6, 7, 8, 9],\n",
       "                         &#x27;min_samples_leaf&#x27;: [1, 2, 3],\n",
       "                         &#x27;n_estimators&#x27;: [100, 300, 500]},\n",
       "             verbose=4)</pre></div></div></div><div class=\"sk-parallel\"><div class=\"sk-parallel-item\"><div class=\"sk-item\"><div class=\"sk-label-container\"><div class=\"sk-label sk-toggleable\"><input class=\"sk-toggleable__control sk-hidden--visually\" id=\"sk-estimator-id-2\" type=\"checkbox\" ><label for=\"sk-estimator-id-2\" class=\"sk-toggleable__label sk-toggleable__label-arrow\">estimator: RandomForestClassifier</label><div class=\"sk-toggleable__content\"><pre>RandomForestClassifier(bootstrap=False, class_weight=&#x27;balanced&#x27;, n_jobs=-1,\n",
       "                       random_state=41)</pre></div></div></div><div class=\"sk-serial\"><div class=\"sk-item\"><div class=\"sk-estimator sk-toggleable\"><input class=\"sk-toggleable__control sk-hidden--visually\" id=\"sk-estimator-id-3\" type=\"checkbox\" ><label for=\"sk-estimator-id-3\" class=\"sk-toggleable__label sk-toggleable__label-arrow\">RandomForestClassifier</label><div class=\"sk-toggleable__content\"><pre>RandomForestClassifier(bootstrap=False, class_weight=&#x27;balanced&#x27;, n_jobs=-1,\n",
       "                       random_state=41)</pre></div></div></div></div></div></div></div></div></div></div>"
      ],
      "text/plain": [
       "GridSearchCV(cv=3,\n",
       "             estimator=RandomForestClassifier(bootstrap=False,\n",
       "                                              class_weight='balanced',\n",
       "                                              n_jobs=-1, random_state=41),\n",
       "             param_grid={'max_leaf_nodes': [6, 7, 8, 9],\n",
       "                         'min_samples_leaf': [1, 2, 3],\n",
       "                         'n_estimators': [100, 300, 500]},\n",
       "             verbose=4)"
      ]
     },
     "execution_count": 15,
     "metadata": {},
     "output_type": "execute_result"
    }
   ],
   "source": [
    "clf = GridSearchCV(RandomForestClassifier(\n",
    "    bootstrap=False,\n",
    "    class_weight='balanced',\n",
    "    n_jobs=-1,\n",
    "    max_features='sqrt',\n",
    "    random_state=41),\n",
    "    params_grid,\n",
    "    verbose=4,\n",
    "    cv=3)\n",
    "clf.fit(X_train, y_train)  "
   ]
  },
  {
   "cell_type": "markdown",
   "metadata": {
    "id": "zZwCpNp3KS5y"
   },
   "source": [
    "Выберите лучшую модель. Рекомендуем использовать поле <code>best_estimator_</code> объекта класса <code>grid_search</code>. В поле <code>best_params_</code> этого же объекта можно найти параметры лучшей модели. "
   ]
  },
  {
   "cell_type": "code",
   "execution_count": 16,
   "metadata": {
    "id": "k55iDQNWOwKt"
   },
   "outputs": [
    {
     "data": {
      "text/plain": [
       "{'max_leaf_nodes': 9, 'min_samples_leaf': 1, 'n_estimators': 500}"
      ]
     },
     "execution_count": 16,
     "metadata": {},
     "output_type": "execute_result"
    }
   ],
   "source": [
    "clf.best_params_"
   ]
  },
  {
   "cell_type": "markdown",
   "metadata": {
    "id": "d3GLyploOwKt"
   },
   "source": [
    "Постройте <code>classification_report</code> полученной модели на **тренировочных данных**. Введите значение точности модели на **тренировочных данных**."
   ]
  },
  {
   "cell_type": "code",
   "execution_count": 19,
   "metadata": {
    "id": "R_LdKm8COwKt"
   },
   "outputs": [
    {
     "name": "stdout",
     "output_type": "stream",
     "text": [
      "Grid_train 0.789\n",
      "              precision    recall  f1-score   support\n",
      "\n",
      "           0      0.782     0.878     0.827     16685\n",
      "           1      0.802     0.668     0.729     12314\n",
      "\n",
      "    accuracy                          0.789     28999\n",
      "   macro avg      0.792     0.773     0.778     28999\n",
      "weighted avg      0.790     0.789     0.786     28999\n",
      "\n"
     ]
    }
   ],
   "source": [
    "print('Grid_train', round(accuracy_score(y_train, clf.best_estimator_.predict(X_train)), 3))\n",
    "print(classification_report(y_train, clf.best_estimator_.predict(X_train), digits=3))"
   ]
  },
  {
   "cell_type": "markdown",
   "metadata": {
    "id": "0uhEO7qrOwKu"
   },
   "source": [
    "Постройте <code>classification_report</code> полученной модели на **тестовых данных**. Введите значение точности модели на **тестовых данных**."
   ]
  },
  {
   "cell_type": "code",
   "execution_count": 20,
   "metadata": {
    "id": "xpfw580-OwKu"
   },
   "outputs": [
    {
     "name": "stdout",
     "output_type": "stream",
     "text": [
      "Grid_test 0.79\n",
      "              precision    recall  f1-score   support\n",
      "\n",
      "           0      0.783     0.880     0.829      4175\n",
      "           1      0.804     0.669     0.730      3075\n",
      "\n",
      "    accuracy                          0.790      7250\n",
      "   macro avg      0.793     0.774     0.779      7250\n",
      "weighted avg      0.792     0.790     0.787      7250\n",
      "\n"
     ]
    }
   ],
   "source": [
    "print('Grid_test', round(accuracy_score(y_test, clf.best_estimator_.predict(X_test)), 3))\n",
    "print(classification_report(y_test, clf.best_estimator_.predict(X_test), digits=3))"
   ]
  },
  {
   "cell_type": "markdown",
   "metadata": {
    "id": "3XQw9dQ_OwKv"
   },
   "source": [
    "От переобучения избавились, но точность кажется низкой.\n",
    "\n",
    "Один из плюсов случайного леса — можно посмотреть на важность признаков при классификации (обратная задача). Значения важности можно найти в поле <code>feature_importances_</code> модели. Определите название самого важного признака модели."
   ]
  },
  {
   "cell_type": "code",
   "execution_count": 24,
   "metadata": {
    "id": "-5Auo3oaOwKv"
   },
   "outputs": [
    {
     "data": {
      "text/plain": [
       "'nswprice'"
      ]
     },
     "execution_count": 24,
     "metadata": {},
     "output_type": "execute_result"
    }
   ],
   "source": [
    "data.columns[np.argmax(clf.best_estimator_.feature_importances_)]"
   ]
  },
  {
   "cell_type": "markdown",
   "metadata": {
    "id": "QcUnr6t-OwKw"
   },
   "source": [
    "Попробуем улучшить результаты, используя другие виды ансамблей."
   ]
  },
  {
   "cell_type": "markdown",
   "metadata": {
    "id": "HVu9rFLOOwKw"
   },
   "source": [
    "# Voting Classifier"
   ]
  },
  {
   "cell_type": "markdown",
   "metadata": {
    "id": "kbojfuNbOwKx"
   },
   "source": [
    "Обучает все модели, поданные на вход, и предсказывает финальный результат либо по большему числу одинаковых ответов, которые дали модели (hard), либо вычисляет вероятность отнесения объектов к классам по всем моделям и берет argmax."
   ]
  },
  {
   "cell_type": "markdown",
   "metadata": {
    "id": "o3d4ywmw1LyT"
   },
   "source": [
    "Используйте объект <code>sklearn.ensemble.VotingClassifier</code> с параметром <code>voting='hard'</code>. В качестве базовых алгоритмов используйте классификаторы с соответствующими параметрами, указанными в вашем индивидуальном задании. Обучите модель на тренировочных данных"
   ]
  },
  {
   "cell_type": "code",
   "execution_count": 26,
   "metadata": {
    "id": "1DAjKsI9OwKy"
   },
   "outputs": [
    {
     "data": {
      "text/html": [
       "<style>#sk-container-id-2 {color: black;}#sk-container-id-2 pre{padding: 0;}#sk-container-id-2 div.sk-toggleable {background-color: white;}#sk-container-id-2 label.sk-toggleable__label {cursor: pointer;display: block;width: 100%;margin-bottom: 0;padding: 0.3em;box-sizing: border-box;text-align: center;}#sk-container-id-2 label.sk-toggleable__label-arrow:before {content: \"▸\";float: left;margin-right: 0.25em;color: #696969;}#sk-container-id-2 label.sk-toggleable__label-arrow:hover:before {color: black;}#sk-container-id-2 div.sk-estimator:hover label.sk-toggleable__label-arrow:before {color: black;}#sk-container-id-2 div.sk-toggleable__content {max-height: 0;max-width: 0;overflow: hidden;text-align: left;background-color: #f0f8ff;}#sk-container-id-2 div.sk-toggleable__content pre {margin: 0.2em;color: black;border-radius: 0.25em;background-color: #f0f8ff;}#sk-container-id-2 input.sk-toggleable__control:checked~div.sk-toggleable__content {max-height: 200px;max-width: 100%;overflow: auto;}#sk-container-id-2 input.sk-toggleable__control:checked~label.sk-toggleable__label-arrow:before {content: \"▾\";}#sk-container-id-2 div.sk-estimator input.sk-toggleable__control:checked~label.sk-toggleable__label {background-color: #d4ebff;}#sk-container-id-2 div.sk-label input.sk-toggleable__control:checked~label.sk-toggleable__label {background-color: #d4ebff;}#sk-container-id-2 input.sk-hidden--visually {border: 0;clip: rect(1px 1px 1px 1px);clip: rect(1px, 1px, 1px, 1px);height: 1px;margin: -1px;overflow: hidden;padding: 0;position: absolute;width: 1px;}#sk-container-id-2 div.sk-estimator {font-family: monospace;background-color: #f0f8ff;border: 1px dotted black;border-radius: 0.25em;box-sizing: border-box;margin-bottom: 0.5em;}#sk-container-id-2 div.sk-estimator:hover {background-color: #d4ebff;}#sk-container-id-2 div.sk-parallel-item::after {content: \"\";width: 100%;border-bottom: 1px solid gray;flex-grow: 1;}#sk-container-id-2 div.sk-label:hover label.sk-toggleable__label {background-color: #d4ebff;}#sk-container-id-2 div.sk-serial::before {content: \"\";position: absolute;border-left: 1px solid gray;box-sizing: border-box;top: 0;bottom: 0;left: 50%;z-index: 0;}#sk-container-id-2 div.sk-serial {display: flex;flex-direction: column;align-items: center;background-color: white;padding-right: 0.2em;padding-left: 0.2em;position: relative;}#sk-container-id-2 div.sk-item {position: relative;z-index: 1;}#sk-container-id-2 div.sk-parallel {display: flex;align-items: stretch;justify-content: center;background-color: white;position: relative;}#sk-container-id-2 div.sk-item::before, #sk-container-id-2 div.sk-parallel-item::before {content: \"\";position: absolute;border-left: 1px solid gray;box-sizing: border-box;top: 0;bottom: 0;left: 50%;z-index: -1;}#sk-container-id-2 div.sk-parallel-item {display: flex;flex-direction: column;z-index: 1;position: relative;background-color: white;}#sk-container-id-2 div.sk-parallel-item:first-child::after {align-self: flex-end;width: 50%;}#sk-container-id-2 div.sk-parallel-item:last-child::after {align-self: flex-start;width: 50%;}#sk-container-id-2 div.sk-parallel-item:only-child::after {width: 0;}#sk-container-id-2 div.sk-dashed-wrapped {border: 1px dashed gray;margin: 0 0.4em 0.5em 0.4em;box-sizing: border-box;padding-bottom: 0.4em;background-color: white;}#sk-container-id-2 div.sk-label label {font-family: monospace;font-weight: bold;display: inline-block;line-height: 1.2em;}#sk-container-id-2 div.sk-label-container {text-align: center;}#sk-container-id-2 div.sk-container {/* jupyter's `normalize.less` sets `[hidden] { display: none; }` but bootstrap.min.css set `[hidden] { display: none !important; }` so we also need the `!important` here to be able to override the default hidden behavior on the sphinx rendered scikit-learn.org. See: https://github.com/scikit-learn/scikit-learn/issues/21755 */display: inline-block !important;position: relative;}#sk-container-id-2 div.sk-text-repr-fallback {display: none;}</style><div id=\"sk-container-id-2\" class=\"sk-top-container\"><div class=\"sk-text-repr-fallback\"><pre>VotingClassifier(estimators=[(&#x27;log&#x27;,\n",
       "                              LogisticRegression(random_state=41,\n",
       "                                                 solver=&#x27;liblinear&#x27;)),\n",
       "                             (&#x27;svc&#x27;, SVC(random_state=41)),\n",
       "                             (&#x27;sgd&#x27;, SGDClassifier(random_state=41))])</pre><b>In a Jupyter environment, please rerun this cell to show the HTML representation or trust the notebook. <br />On GitHub, the HTML representation is unable to render, please try loading this page with nbviewer.org.</b></div><div class=\"sk-container\" hidden><div class=\"sk-item sk-dashed-wrapped\"><div class=\"sk-label-container\"><div class=\"sk-label sk-toggleable\"><input class=\"sk-toggleable__control sk-hidden--visually\" id=\"sk-estimator-id-4\" type=\"checkbox\" ><label for=\"sk-estimator-id-4\" class=\"sk-toggleable__label sk-toggleable__label-arrow\">VotingClassifier</label><div class=\"sk-toggleable__content\"><pre>VotingClassifier(estimators=[(&#x27;log&#x27;,\n",
       "                              LogisticRegression(random_state=41,\n",
       "                                                 solver=&#x27;liblinear&#x27;)),\n",
       "                             (&#x27;svc&#x27;, SVC(random_state=41)),\n",
       "                             (&#x27;sgd&#x27;, SGDClassifier(random_state=41))])</pre></div></div></div><div class=\"sk-parallel\"><div class=\"sk-parallel-item\"><div class=\"sk-item\"><div class=\"sk-label-container\"><div class=\"sk-label sk-toggleable\"><label>log</label></div></div><div class=\"sk-serial\"><div class=\"sk-item\"><div class=\"sk-estimator sk-toggleable\"><input class=\"sk-toggleable__control sk-hidden--visually\" id=\"sk-estimator-id-5\" type=\"checkbox\" ><label for=\"sk-estimator-id-5\" class=\"sk-toggleable__label sk-toggleable__label-arrow\">LogisticRegression</label><div class=\"sk-toggleable__content\"><pre>LogisticRegression(random_state=41, solver=&#x27;liblinear&#x27;)</pre></div></div></div></div></div></div><div class=\"sk-parallel-item\"><div class=\"sk-item\"><div class=\"sk-label-container\"><div class=\"sk-label sk-toggleable\"><label>svc</label></div></div><div class=\"sk-serial\"><div class=\"sk-item\"><div class=\"sk-estimator sk-toggleable\"><input class=\"sk-toggleable__control sk-hidden--visually\" id=\"sk-estimator-id-6\" type=\"checkbox\" ><label for=\"sk-estimator-id-6\" class=\"sk-toggleable__label sk-toggleable__label-arrow\">SVC</label><div class=\"sk-toggleable__content\"><pre>SVC(random_state=41)</pre></div></div></div></div></div></div><div class=\"sk-parallel-item\"><div class=\"sk-item\"><div class=\"sk-label-container\"><div class=\"sk-label sk-toggleable\"><label>sgd</label></div></div><div class=\"sk-serial\"><div class=\"sk-item\"><div class=\"sk-estimator sk-toggleable\"><input class=\"sk-toggleable__control sk-hidden--visually\" id=\"sk-estimator-id-7\" type=\"checkbox\" ><label for=\"sk-estimator-id-7\" class=\"sk-toggleable__label sk-toggleable__label-arrow\">SGDClassifier</label><div class=\"sk-toggleable__content\"><pre>SGDClassifier(random_state=41)</pre></div></div></div></div></div></div></div></div></div></div>"
      ],
      "text/plain": [
       "VotingClassifier(estimators=[('log',\n",
       "                              LogisticRegression(random_state=41,\n",
       "                                                 solver='liblinear')),\n",
       "                             ('svc', SVC(random_state=41)),\n",
       "                             ('sgd', SGDClassifier(random_state=41))])"
      ]
     },
     "execution_count": 26,
     "metadata": {},
     "output_type": "execute_result"
    }
   ],
   "source": [
    "estimators = [('log', LogisticRegression(solver='liblinear', random_state=41)), \n",
    "              ('svc', SVC(random_state=41)), \n",
    "              ('sgd', SGDClassifier(random_state=41))\n",
    "             ]\n",
    "vote_model = VotingClassifier(estimators = estimators, voting='hard')\n",
    "vote_model.fit(X_train, y_train)"
   ]
  },
  {
   "cell_type": "markdown",
   "metadata": {
    "id": "J_39w5oz2fKJ"
   },
   "source": [
    "Вычислите точность модели на **тренировочных данных**"
   ]
  },
  {
   "cell_type": "code",
   "execution_count": 27,
   "metadata": {
    "id": "C30hbtqHOwK0"
   },
   "outputs": [
    {
     "name": "stdout",
     "output_type": "stream",
     "text": [
      "vote_model_train 0.743\n",
      "              precision    recall  f1-score   support\n",
      "\n",
      "           0      0.714     0.925     0.806     16685\n",
      "           1      0.830     0.497     0.622     12314\n",
      "\n",
      "    accuracy                          0.743     28999\n",
      "   macro avg      0.772     0.711     0.714     28999\n",
      "weighted avg      0.763     0.743     0.728     28999\n",
      "\n"
     ]
    }
   ],
   "source": [
    "print('vote_model_train', round(accuracy_score(y_train, vote_model.predict(X_train)), 3))\n",
    "print(classification_report(y_train, vote_model.predict(X_train), digits=3))"
   ]
  },
  {
   "cell_type": "markdown",
   "metadata": {
    "id": "A_N2EDoZ2oOZ"
   },
   "source": [
    "Вычислите точность модели на **тестовых данных**"
   ]
  },
  {
   "cell_type": "code",
   "execution_count": 28,
   "metadata": {
    "id": "AR1KVgWyOwK0"
   },
   "outputs": [
    {
     "name": "stdout",
     "output_type": "stream",
     "text": [
      "vote_model_test 0.743\n",
      "              precision    recall  f1-score   support\n",
      "\n",
      "           0      0.714     0.923     0.805      4175\n",
      "           1      0.827     0.498     0.621      3075\n",
      "\n",
      "    accuracy                          0.743      7250\n",
      "   macro avg      0.770     0.710     0.713      7250\n",
      "weighted avg      0.762     0.743     0.727      7250\n",
      "\n"
     ]
    }
   ],
   "source": [
    "print('vote_model_test', round(accuracy_score(y_test, vote_model.predict(X_test)), 3))\n",
    "print(classification_report(y_test, vote_model.predict(X_test), digits=3))"
   ]
  },
  {
   "cell_type": "markdown",
   "metadata": {
    "id": "Ws7He2W9OwK1"
   },
   "source": [
    "# Bagging Classifier"
   ]
  },
  {
   "cell_type": "markdown",
   "metadata": {
    "id": "-YsVZtnuOwK1"
   },
   "source": [
    "Создает несколько объектов одного класса (несколько моделей) и обучает их на непересекающихся подмножествах тренировочных данных, а дальше усредняет ответы."
   ]
  },
  {
   "cell_type": "markdown",
   "metadata": {
    "id": "doGMIkccPlk0"
   },
   "source": [
    "На основе <code>sklearn.ensemble.BaggingClassifier</code>, используя <code>DecisionTreeClassifier</code> обучите модель с параметрами, указанными в вашем индивидуальном задании на тренировочных данных."
   ]
  },
  {
   "cell_type": "code",
   "execution_count": 30,
   "metadata": {
    "id": "dxzRPukwOwK1"
   },
   "outputs": [
    {
     "data": {
      "text/html": [
       "<style>#sk-container-id-3 {color: black;}#sk-container-id-3 pre{padding: 0;}#sk-container-id-3 div.sk-toggleable {background-color: white;}#sk-container-id-3 label.sk-toggleable__label {cursor: pointer;display: block;width: 100%;margin-bottom: 0;padding: 0.3em;box-sizing: border-box;text-align: center;}#sk-container-id-3 label.sk-toggleable__label-arrow:before {content: \"▸\";float: left;margin-right: 0.25em;color: #696969;}#sk-container-id-3 label.sk-toggleable__label-arrow:hover:before {color: black;}#sk-container-id-3 div.sk-estimator:hover label.sk-toggleable__label-arrow:before {color: black;}#sk-container-id-3 div.sk-toggleable__content {max-height: 0;max-width: 0;overflow: hidden;text-align: left;background-color: #f0f8ff;}#sk-container-id-3 div.sk-toggleable__content pre {margin: 0.2em;color: black;border-radius: 0.25em;background-color: #f0f8ff;}#sk-container-id-3 input.sk-toggleable__control:checked~div.sk-toggleable__content {max-height: 200px;max-width: 100%;overflow: auto;}#sk-container-id-3 input.sk-toggleable__control:checked~label.sk-toggleable__label-arrow:before {content: \"▾\";}#sk-container-id-3 div.sk-estimator input.sk-toggleable__control:checked~label.sk-toggleable__label {background-color: #d4ebff;}#sk-container-id-3 div.sk-label input.sk-toggleable__control:checked~label.sk-toggleable__label {background-color: #d4ebff;}#sk-container-id-3 input.sk-hidden--visually {border: 0;clip: rect(1px 1px 1px 1px);clip: rect(1px, 1px, 1px, 1px);height: 1px;margin: -1px;overflow: hidden;padding: 0;position: absolute;width: 1px;}#sk-container-id-3 div.sk-estimator {font-family: monospace;background-color: #f0f8ff;border: 1px dotted black;border-radius: 0.25em;box-sizing: border-box;margin-bottom: 0.5em;}#sk-container-id-3 div.sk-estimator:hover {background-color: #d4ebff;}#sk-container-id-3 div.sk-parallel-item::after {content: \"\";width: 100%;border-bottom: 1px solid gray;flex-grow: 1;}#sk-container-id-3 div.sk-label:hover label.sk-toggleable__label {background-color: #d4ebff;}#sk-container-id-3 div.sk-serial::before {content: \"\";position: absolute;border-left: 1px solid gray;box-sizing: border-box;top: 0;bottom: 0;left: 50%;z-index: 0;}#sk-container-id-3 div.sk-serial {display: flex;flex-direction: column;align-items: center;background-color: white;padding-right: 0.2em;padding-left: 0.2em;position: relative;}#sk-container-id-3 div.sk-item {position: relative;z-index: 1;}#sk-container-id-3 div.sk-parallel {display: flex;align-items: stretch;justify-content: center;background-color: white;position: relative;}#sk-container-id-3 div.sk-item::before, #sk-container-id-3 div.sk-parallel-item::before {content: \"\";position: absolute;border-left: 1px solid gray;box-sizing: border-box;top: 0;bottom: 0;left: 50%;z-index: -1;}#sk-container-id-3 div.sk-parallel-item {display: flex;flex-direction: column;z-index: 1;position: relative;background-color: white;}#sk-container-id-3 div.sk-parallel-item:first-child::after {align-self: flex-end;width: 50%;}#sk-container-id-3 div.sk-parallel-item:last-child::after {align-self: flex-start;width: 50%;}#sk-container-id-3 div.sk-parallel-item:only-child::after {width: 0;}#sk-container-id-3 div.sk-dashed-wrapped {border: 1px dashed gray;margin: 0 0.4em 0.5em 0.4em;box-sizing: border-box;padding-bottom: 0.4em;background-color: white;}#sk-container-id-3 div.sk-label label {font-family: monospace;font-weight: bold;display: inline-block;line-height: 1.2em;}#sk-container-id-3 div.sk-label-container {text-align: center;}#sk-container-id-3 div.sk-container {/* jupyter's `normalize.less` sets `[hidden] { display: none; }` but bootstrap.min.css set `[hidden] { display: none !important; }` so we also need the `!important` here to be able to override the default hidden behavior on the sphinx rendered scikit-learn.org. See: https://github.com/scikit-learn/scikit-learn/issues/21755 */display: inline-block !important;position: relative;}#sk-container-id-3 div.sk-text-repr-fallback {display: none;}</style><div id=\"sk-container-id-3\" class=\"sk-top-container\"><div class=\"sk-text-repr-fallback\"><pre>BaggingClassifier(bootstrap=False,\n",
       "                  estimator=DecisionTreeClassifier(class_weight=&#x27;balanced&#x27;),\n",
       "                  max_features=0.5, max_samples=0.5, random_state=41)</pre><b>In a Jupyter environment, please rerun this cell to show the HTML representation or trust the notebook. <br />On GitHub, the HTML representation is unable to render, please try loading this page with nbviewer.org.</b></div><div class=\"sk-container\" hidden><div class=\"sk-item sk-dashed-wrapped\"><div class=\"sk-label-container\"><div class=\"sk-label sk-toggleable\"><input class=\"sk-toggleable__control sk-hidden--visually\" id=\"sk-estimator-id-8\" type=\"checkbox\" ><label for=\"sk-estimator-id-8\" class=\"sk-toggleable__label sk-toggleable__label-arrow\">BaggingClassifier</label><div class=\"sk-toggleable__content\"><pre>BaggingClassifier(bootstrap=False,\n",
       "                  estimator=DecisionTreeClassifier(class_weight=&#x27;balanced&#x27;),\n",
       "                  max_features=0.5, max_samples=0.5, random_state=41)</pre></div></div></div><div class=\"sk-parallel\"><div class=\"sk-parallel-item\"><div class=\"sk-item\"><div class=\"sk-label-container\"><div class=\"sk-label sk-toggleable\"><input class=\"sk-toggleable__control sk-hidden--visually\" id=\"sk-estimator-id-9\" type=\"checkbox\" ><label for=\"sk-estimator-id-9\" class=\"sk-toggleable__label sk-toggleable__label-arrow\">estimator: DecisionTreeClassifier</label><div class=\"sk-toggleable__content\"><pre>DecisionTreeClassifier(class_weight=&#x27;balanced&#x27;)</pre></div></div></div><div class=\"sk-serial\"><div class=\"sk-item\"><div class=\"sk-estimator sk-toggleable\"><input class=\"sk-toggleable__control sk-hidden--visually\" id=\"sk-estimator-id-10\" type=\"checkbox\" ><label for=\"sk-estimator-id-10\" class=\"sk-toggleable__label sk-toggleable__label-arrow\">DecisionTreeClassifier</label><div class=\"sk-toggleable__content\"><pre>DecisionTreeClassifier(class_weight=&#x27;balanced&#x27;)</pre></div></div></div></div></div></div></div></div></div></div>"
      ],
      "text/plain": [
       "BaggingClassifier(bootstrap=False,\n",
       "                  estimator=DecisionTreeClassifier(class_weight='balanced'),\n",
       "                  max_features=0.5, max_samples=0.5, random_state=41)"
      ]
     },
     "execution_count": 30,
     "metadata": {},
     "output_type": "execute_result"
    }
   ],
   "source": [
    "beg_model = BaggingClassifier(DecisionTreeClassifier(class_weight='balanced'), \n",
    "                              max_samples=0.5, max_features=0.5, bootstrap=False, random_state=41)\n",
    "\n",
    "beg_model.fit(X_train, y_train)"
   ]
  },
  {
   "cell_type": "markdown",
   "metadata": {
    "id": "JLZKP6o2QXX7"
   },
   "source": [
    "Вычислите точность модели на **тренировочных данных**"
   ]
  },
  {
   "cell_type": "code",
   "execution_count": 31,
   "metadata": {
    "id": "jLdkYxo4OwK2"
   },
   "outputs": [
    {
     "name": "stdout",
     "output_type": "stream",
     "text": [
      "beg_model_train 0.976\n",
      "              precision    recall  f1-score   support\n",
      "\n",
      "           0      0.969     0.989     0.979     16685\n",
      "           1      0.984     0.958     0.971     12314\n",
      "\n",
      "    accuracy                          0.976     28999\n",
      "   macro avg      0.977     0.973     0.975     28999\n",
      "weighted avg      0.976     0.976     0.976     28999\n",
      "\n"
     ]
    }
   ],
   "source": [
    "print('beg_model_train', round(accuracy_score(y_train, beg_model.predict(X_train)), 3))\n",
    "print(classification_report(y_train, beg_model.predict(X_train), digits=3))"
   ]
  },
  {
   "cell_type": "markdown",
   "metadata": {
    "id": "n_ffcNRAQdYN"
   },
   "source": [
    "Вычислите точность модели на **тестовых данных**"
   ]
  },
  {
   "cell_type": "code",
   "execution_count": 32,
   "metadata": {
    "id": "hIhBFyh2OwK2"
   },
   "outputs": [
    {
     "name": "stdout",
     "output_type": "stream",
     "text": [
      "beg_model_test 0.85\n",
      "              precision    recall  f1-score   support\n",
      "\n",
      "           0      0.841     0.912     0.875      4175\n",
      "           1      0.865     0.767     0.813      3075\n",
      "\n",
      "    accuracy                          0.850      7250\n",
      "   macro avg      0.853     0.839     0.844      7250\n",
      "weighted avg      0.851     0.850     0.849      7250\n",
      "\n"
     ]
    }
   ],
   "source": [
    "print('beg_model_test', round(accuracy_score(y_test, beg_model.predict(X_test)), 3))\n",
    "print(classification_report(y_test, beg_model.predict(X_test), digits=3))"
   ]
  },
  {
   "cell_type": "markdown",
   "metadata": {
    "id": "Ls9MVZA_OwK3"
   },
   "source": [
    "# Gradient Boosting Classifier"
   ]
  },
  {
   "cell_type": "markdown",
   "metadata": {
    "id": "pgfdAw9DOwK3"
   },
   "source": [
    "Градиентный бустинг работает примерно так: создается несколько объектов класса (несколько моделей), они выстраиваются в цепочку так, чтобы каждый следующий пытался исправить ошибки предыдущего. Склонен к переобучению.\n",
    "\n",
    "Обучите модель на основе <code>sklearn.ensemble.GradientBoostingClassifier</code> с параметрами, указанными в вашем индивидуальном задании на тренировочных данных."
   ]
  },
  {
   "cell_type": "code",
   "execution_count": 34,
   "metadata": {
    "id": "V0vooqAZOwK4"
   },
   "outputs": [
    {
     "data": {
      "text/html": [
       "<style>#sk-container-id-4 {color: black;}#sk-container-id-4 pre{padding: 0;}#sk-container-id-4 div.sk-toggleable {background-color: white;}#sk-container-id-4 label.sk-toggleable__label {cursor: pointer;display: block;width: 100%;margin-bottom: 0;padding: 0.3em;box-sizing: border-box;text-align: center;}#sk-container-id-4 label.sk-toggleable__label-arrow:before {content: \"▸\";float: left;margin-right: 0.25em;color: #696969;}#sk-container-id-4 label.sk-toggleable__label-arrow:hover:before {color: black;}#sk-container-id-4 div.sk-estimator:hover label.sk-toggleable__label-arrow:before {color: black;}#sk-container-id-4 div.sk-toggleable__content {max-height: 0;max-width: 0;overflow: hidden;text-align: left;background-color: #f0f8ff;}#sk-container-id-4 div.sk-toggleable__content pre {margin: 0.2em;color: black;border-radius: 0.25em;background-color: #f0f8ff;}#sk-container-id-4 input.sk-toggleable__control:checked~div.sk-toggleable__content {max-height: 200px;max-width: 100%;overflow: auto;}#sk-container-id-4 input.sk-toggleable__control:checked~label.sk-toggleable__label-arrow:before {content: \"▾\";}#sk-container-id-4 div.sk-estimator input.sk-toggleable__control:checked~label.sk-toggleable__label {background-color: #d4ebff;}#sk-container-id-4 div.sk-label input.sk-toggleable__control:checked~label.sk-toggleable__label {background-color: #d4ebff;}#sk-container-id-4 input.sk-hidden--visually {border: 0;clip: rect(1px 1px 1px 1px);clip: rect(1px, 1px, 1px, 1px);height: 1px;margin: -1px;overflow: hidden;padding: 0;position: absolute;width: 1px;}#sk-container-id-4 div.sk-estimator {font-family: monospace;background-color: #f0f8ff;border: 1px dotted black;border-radius: 0.25em;box-sizing: border-box;margin-bottom: 0.5em;}#sk-container-id-4 div.sk-estimator:hover {background-color: #d4ebff;}#sk-container-id-4 div.sk-parallel-item::after {content: \"\";width: 100%;border-bottom: 1px solid gray;flex-grow: 1;}#sk-container-id-4 div.sk-label:hover label.sk-toggleable__label {background-color: #d4ebff;}#sk-container-id-4 div.sk-serial::before {content: \"\";position: absolute;border-left: 1px solid gray;box-sizing: border-box;top: 0;bottom: 0;left: 50%;z-index: 0;}#sk-container-id-4 div.sk-serial {display: flex;flex-direction: column;align-items: center;background-color: white;padding-right: 0.2em;padding-left: 0.2em;position: relative;}#sk-container-id-4 div.sk-item {position: relative;z-index: 1;}#sk-container-id-4 div.sk-parallel {display: flex;align-items: stretch;justify-content: center;background-color: white;position: relative;}#sk-container-id-4 div.sk-item::before, #sk-container-id-4 div.sk-parallel-item::before {content: \"\";position: absolute;border-left: 1px solid gray;box-sizing: border-box;top: 0;bottom: 0;left: 50%;z-index: -1;}#sk-container-id-4 div.sk-parallel-item {display: flex;flex-direction: column;z-index: 1;position: relative;background-color: white;}#sk-container-id-4 div.sk-parallel-item:first-child::after {align-self: flex-end;width: 50%;}#sk-container-id-4 div.sk-parallel-item:last-child::after {align-self: flex-start;width: 50%;}#sk-container-id-4 div.sk-parallel-item:only-child::after {width: 0;}#sk-container-id-4 div.sk-dashed-wrapped {border: 1px dashed gray;margin: 0 0.4em 0.5em 0.4em;box-sizing: border-box;padding-bottom: 0.4em;background-color: white;}#sk-container-id-4 div.sk-label label {font-family: monospace;font-weight: bold;display: inline-block;line-height: 1.2em;}#sk-container-id-4 div.sk-label-container {text-align: center;}#sk-container-id-4 div.sk-container {/* jupyter's `normalize.less` sets `[hidden] { display: none; }` but bootstrap.min.css set `[hidden] { display: none !important; }` so we also need the `!important` here to be able to override the default hidden behavior on the sphinx rendered scikit-learn.org. See: https://github.com/scikit-learn/scikit-learn/issues/21755 */display: inline-block !important;position: relative;}#sk-container-id-4 div.sk-text-repr-fallback {display: none;}</style><div id=\"sk-container-id-4\" class=\"sk-top-container\"><div class=\"sk-text-repr-fallback\"><pre>GradientBoostingClassifier(learning_rate=0.8, max_depth=2, n_estimators=500,\n",
       "                           random_state=41)</pre><b>In a Jupyter environment, please rerun this cell to show the HTML representation or trust the notebook. <br />On GitHub, the HTML representation is unable to render, please try loading this page with nbviewer.org.</b></div><div class=\"sk-container\" hidden><div class=\"sk-item\"><div class=\"sk-estimator sk-toggleable\"><input class=\"sk-toggleable__control sk-hidden--visually\" id=\"sk-estimator-id-11\" type=\"checkbox\" checked><label for=\"sk-estimator-id-11\" class=\"sk-toggleable__label sk-toggleable__label-arrow\">GradientBoostingClassifier</label><div class=\"sk-toggleable__content\"><pre>GradientBoostingClassifier(learning_rate=0.8, max_depth=2, n_estimators=500,\n",
       "                           random_state=41)</pre></div></div></div></div></div>"
      ],
      "text/plain": [
       "GradientBoostingClassifier(learning_rate=0.8, max_depth=2, n_estimators=500,\n",
       "                           random_state=41)"
      ]
     },
     "execution_count": 34,
     "metadata": {},
     "output_type": "execute_result"
    }
   ],
   "source": [
    "grad_model = GradientBoostingClassifier(n_estimators=500, learning_rate=0.8, random_state=41, max_depth=2)\n",
    "grad_model.fit(X_train, y_train)"
   ]
  },
  {
   "cell_type": "markdown",
   "metadata": {
    "id": "GG6FsM-MQ4zD"
   },
   "source": [
    "Вычислите точность модели на **тренировочных данных**"
   ]
  },
  {
   "cell_type": "code",
   "execution_count": 36,
   "metadata": {
    "id": "lFeF1QwPOwK4"
   },
   "outputs": [
    {
     "name": "stdout",
     "output_type": "stream",
     "text": [
      "              precision    recall  f1-score   support\n",
      "\n",
      "           0      0.934     0.947     0.941     16685\n",
      "           1      0.927     0.910     0.918     12314\n",
      "\n",
      "    accuracy                          0.931     28999\n",
      "   macro avg      0.931     0.929     0.930     28999\n",
      "weighted avg      0.931     0.931     0.931     28999\n",
      "\n"
     ]
    }
   ],
   "source": [
    "print(classification_report(y_train, grad_model.predict(X_train), digits=3))"
   ]
  },
  {
   "cell_type": "markdown",
   "metadata": {
    "id": "bOelcde2Q7ci"
   },
   "source": [
    "Вычислите точность модели на **тестовых данных**"
   ]
  },
  {
   "cell_type": "code",
   "execution_count": 37,
   "metadata": {
    "id": "JwE39g4NOwK5"
   },
   "outputs": [
    {
     "name": "stdout",
     "output_type": "stream",
     "text": [
      "              precision    recall  f1-score   support\n",
      "\n",
      "           0      0.910     0.914     0.912      4175\n",
      "           1      0.882     0.877     0.880      3075\n",
      "\n",
      "    accuracy                          0.898      7250\n",
      "   macro avg      0.896     0.895     0.896      7250\n",
      "weighted avg      0.898     0.898     0.898      7250\n",
      "\n"
     ]
    }
   ],
   "source": [
    "print(classification_report(y_test, grad_model.predict(X_test), digits=3))"
   ]
  },
  {
   "cell_type": "markdown",
   "metadata": {
    "id": "3R2nbMJpOwK5"
   },
   "source": [
    "# AdaBoost Classifier"
   ]
  },
  {
   "cell_type": "markdown",
   "metadata": {
    "id": "pJHU89IuOwK5"
   },
   "source": [
    "Работает похожим на градиентный бустинг образом, только последующие модели не пытаются исправить ошибку предыдущих: сначала первый объект обучается на всем датасете, а следующий на основе опыта предыдущего обновляет свои веса так, чтобы исправлять ошибочные предсказания.\n",
    "\n",
    "На основе <code>sklearn.ensemble.AdaBoostClassifier</code>, используя <code>DecisionTreeClassifier</code> обучите модель с параметрами, указанными в вашем индивидуальном задании на тренировочных данных."
   ]
  },
  {
   "cell_type": "code",
   "execution_count": 38,
   "metadata": {
    "id": "ohHflb2gOwK6"
   },
   "outputs": [
    {
     "data": {
      "text/html": [
       "<style>#sk-container-id-5 {color: black;}#sk-container-id-5 pre{padding: 0;}#sk-container-id-5 div.sk-toggleable {background-color: white;}#sk-container-id-5 label.sk-toggleable__label {cursor: pointer;display: block;width: 100%;margin-bottom: 0;padding: 0.3em;box-sizing: border-box;text-align: center;}#sk-container-id-5 label.sk-toggleable__label-arrow:before {content: \"▸\";float: left;margin-right: 0.25em;color: #696969;}#sk-container-id-5 label.sk-toggleable__label-arrow:hover:before {color: black;}#sk-container-id-5 div.sk-estimator:hover label.sk-toggleable__label-arrow:before {color: black;}#sk-container-id-5 div.sk-toggleable__content {max-height: 0;max-width: 0;overflow: hidden;text-align: left;background-color: #f0f8ff;}#sk-container-id-5 div.sk-toggleable__content pre {margin: 0.2em;color: black;border-radius: 0.25em;background-color: #f0f8ff;}#sk-container-id-5 input.sk-toggleable__control:checked~div.sk-toggleable__content {max-height: 200px;max-width: 100%;overflow: auto;}#sk-container-id-5 input.sk-toggleable__control:checked~label.sk-toggleable__label-arrow:before {content: \"▾\";}#sk-container-id-5 div.sk-estimator input.sk-toggleable__control:checked~label.sk-toggleable__label {background-color: #d4ebff;}#sk-container-id-5 div.sk-label input.sk-toggleable__control:checked~label.sk-toggleable__label {background-color: #d4ebff;}#sk-container-id-5 input.sk-hidden--visually {border: 0;clip: rect(1px 1px 1px 1px);clip: rect(1px, 1px, 1px, 1px);height: 1px;margin: -1px;overflow: hidden;padding: 0;position: absolute;width: 1px;}#sk-container-id-5 div.sk-estimator {font-family: monospace;background-color: #f0f8ff;border: 1px dotted black;border-radius: 0.25em;box-sizing: border-box;margin-bottom: 0.5em;}#sk-container-id-5 div.sk-estimator:hover {background-color: #d4ebff;}#sk-container-id-5 div.sk-parallel-item::after {content: \"\";width: 100%;border-bottom: 1px solid gray;flex-grow: 1;}#sk-container-id-5 div.sk-label:hover label.sk-toggleable__label {background-color: #d4ebff;}#sk-container-id-5 div.sk-serial::before {content: \"\";position: absolute;border-left: 1px solid gray;box-sizing: border-box;top: 0;bottom: 0;left: 50%;z-index: 0;}#sk-container-id-5 div.sk-serial {display: flex;flex-direction: column;align-items: center;background-color: white;padding-right: 0.2em;padding-left: 0.2em;position: relative;}#sk-container-id-5 div.sk-item {position: relative;z-index: 1;}#sk-container-id-5 div.sk-parallel {display: flex;align-items: stretch;justify-content: center;background-color: white;position: relative;}#sk-container-id-5 div.sk-item::before, #sk-container-id-5 div.sk-parallel-item::before {content: \"\";position: absolute;border-left: 1px solid gray;box-sizing: border-box;top: 0;bottom: 0;left: 50%;z-index: -1;}#sk-container-id-5 div.sk-parallel-item {display: flex;flex-direction: column;z-index: 1;position: relative;background-color: white;}#sk-container-id-5 div.sk-parallel-item:first-child::after {align-self: flex-end;width: 50%;}#sk-container-id-5 div.sk-parallel-item:last-child::after {align-self: flex-start;width: 50%;}#sk-container-id-5 div.sk-parallel-item:only-child::after {width: 0;}#sk-container-id-5 div.sk-dashed-wrapped {border: 1px dashed gray;margin: 0 0.4em 0.5em 0.4em;box-sizing: border-box;padding-bottom: 0.4em;background-color: white;}#sk-container-id-5 div.sk-label label {font-family: monospace;font-weight: bold;display: inline-block;line-height: 1.2em;}#sk-container-id-5 div.sk-label-container {text-align: center;}#sk-container-id-5 div.sk-container {/* jupyter's `normalize.less` sets `[hidden] { display: none; }` but bootstrap.min.css set `[hidden] { display: none !important; }` so we also need the `!important` here to be able to override the default hidden behavior on the sphinx rendered scikit-learn.org. See: https://github.com/scikit-learn/scikit-learn/issues/21755 */display: inline-block !important;position: relative;}#sk-container-id-5 div.sk-text-repr-fallback {display: none;}</style><div id=\"sk-container-id-5\" class=\"sk-top-container\"><div class=\"sk-text-repr-fallback\"><pre>AdaBoostClassifier(estimator=DecisionTreeClassifier(class_weight=&#x27;balanced&#x27;,\n",
       "                                                    max_depth=3),\n",
       "                   learning_rate=0.5, n_estimators=300, random_state=41)</pre><b>In a Jupyter environment, please rerun this cell to show the HTML representation or trust the notebook. <br />On GitHub, the HTML representation is unable to render, please try loading this page with nbviewer.org.</b></div><div class=\"sk-container\" hidden><div class=\"sk-item sk-dashed-wrapped\"><div class=\"sk-label-container\"><div class=\"sk-label sk-toggleable\"><input class=\"sk-toggleable__control sk-hidden--visually\" id=\"sk-estimator-id-12\" type=\"checkbox\" ><label for=\"sk-estimator-id-12\" class=\"sk-toggleable__label sk-toggleable__label-arrow\">AdaBoostClassifier</label><div class=\"sk-toggleable__content\"><pre>AdaBoostClassifier(estimator=DecisionTreeClassifier(class_weight=&#x27;balanced&#x27;,\n",
       "                                                    max_depth=3),\n",
       "                   learning_rate=0.5, n_estimators=300, random_state=41)</pre></div></div></div><div class=\"sk-parallel\"><div class=\"sk-parallel-item\"><div class=\"sk-item\"><div class=\"sk-label-container\"><div class=\"sk-label sk-toggleable\"><input class=\"sk-toggleable__control sk-hidden--visually\" id=\"sk-estimator-id-13\" type=\"checkbox\" ><label for=\"sk-estimator-id-13\" class=\"sk-toggleable__label sk-toggleable__label-arrow\">estimator: DecisionTreeClassifier</label><div class=\"sk-toggleable__content\"><pre>DecisionTreeClassifier(class_weight=&#x27;balanced&#x27;, max_depth=3)</pre></div></div></div><div class=\"sk-serial\"><div class=\"sk-item\"><div class=\"sk-estimator sk-toggleable\"><input class=\"sk-toggleable__control sk-hidden--visually\" id=\"sk-estimator-id-14\" type=\"checkbox\" ><label for=\"sk-estimator-id-14\" class=\"sk-toggleable__label sk-toggleable__label-arrow\">DecisionTreeClassifier</label><div class=\"sk-toggleable__content\"><pre>DecisionTreeClassifier(class_weight=&#x27;balanced&#x27;, max_depth=3)</pre></div></div></div></div></div></div></div></div></div></div>"
      ],
      "text/plain": [
       "AdaBoostClassifier(estimator=DecisionTreeClassifier(class_weight='balanced',\n",
       "                                                    max_depth=3),\n",
       "                   learning_rate=0.5, n_estimators=300, random_state=41)"
      ]
     },
     "execution_count": 38,
     "metadata": {},
     "output_type": "execute_result"
    }
   ],
   "source": [
    "ada_model = AdaBoostClassifier(estimator=DecisionTreeClassifier(max_depth=3, class_weight='balanced'),\n",
    "                               n_estimators=300, learning_rate=0.5, random_state=41)\n",
    "\n",
    "ada_model.fit(X_train, y_train)"
   ]
  },
  {
   "cell_type": "markdown",
   "metadata": {
    "id": "AuTJlmRYRsUY"
   },
   "source": [
    "Вычислите точность модели на **тренировочных данных**"
   ]
  },
  {
   "cell_type": "code",
   "execution_count": 39,
   "metadata": {
    "id": "IAG_PMTYOwK6"
   },
   "outputs": [
    {
     "name": "stdout",
     "output_type": "stream",
     "text": [
      "              precision    recall  f1-score   support\n",
      "\n",
      "           0      0.960     0.933     0.947     16685\n",
      "           1      0.913     0.947     0.930     12314\n",
      "\n",
      "    accuracy                          0.939     28999\n",
      "   macro avg      0.937     0.940     0.938     28999\n",
      "weighted avg      0.940     0.939     0.940     28999\n",
      "\n"
     ]
    }
   ],
   "source": [
    "print(classification_report(y_train, ada_model.predict(X_train), digits=3))"
   ]
  },
  {
   "cell_type": "markdown",
   "metadata": {
    "id": "6GpNu-JGRuch"
   },
   "source": [
    "Вычислите точность модели на **тестовых данных**"
   ]
  },
  {
   "cell_type": "code",
   "execution_count": 40,
   "metadata": {
    "id": "SVKSXjJ_OwK6"
   },
   "outputs": [
    {
     "name": "stdout",
     "output_type": "stream",
     "text": [
      "              precision    recall  f1-score   support\n",
      "\n",
      "           0      0.927     0.897     0.912      4175\n",
      "           1      0.866     0.904     0.884      3075\n",
      "\n",
      "    accuracy                          0.900      7250\n",
      "   macro avg      0.896     0.900     0.898      7250\n",
      "weighted avg      0.901     0.900     0.900      7250\n",
      "\n"
     ]
    }
   ],
   "source": [
    "print(classification_report(y_test, ada_model.predict(X_test), digits=3))"
   ]
  },
  {
   "cell_type": "markdown",
   "metadata": {
    "id": "HO-fMJpWOwK7"
   },
   "source": [
    "# Stacking Classifier"
   ]
  },
  {
   "cell_type": "markdown",
   "metadata": {
    "id": "jwt8PrAhOwK7"
   },
   "source": [
    "Обучает несколько объектов класса (несколько моделей) на всем наборе данных, а после — обучает отдельный классификатор на метданных — ответах, полученных обученными ранее моделями.\n",
    "\n",
    "Используйте объект <code>sklearn.ensemble.StackingClassifier</code>. Базовые алгоритмы и решающий, а также соответствующие параметры указанны в вашем индивидуальном задании. Обучите модель на тренировочных данных."
   ]
  },
  {
   "cell_type": "code",
   "execution_count": 42,
   "metadata": {
    "id": "rBblioH9OwK7"
   },
   "outputs": [
    {
     "data": {
      "text/html": [
       "<style>#sk-container-id-6 {color: black;}#sk-container-id-6 pre{padding: 0;}#sk-container-id-6 div.sk-toggleable {background-color: white;}#sk-container-id-6 label.sk-toggleable__label {cursor: pointer;display: block;width: 100%;margin-bottom: 0;padding: 0.3em;box-sizing: border-box;text-align: center;}#sk-container-id-6 label.sk-toggleable__label-arrow:before {content: \"▸\";float: left;margin-right: 0.25em;color: #696969;}#sk-container-id-6 label.sk-toggleable__label-arrow:hover:before {color: black;}#sk-container-id-6 div.sk-estimator:hover label.sk-toggleable__label-arrow:before {color: black;}#sk-container-id-6 div.sk-toggleable__content {max-height: 0;max-width: 0;overflow: hidden;text-align: left;background-color: #f0f8ff;}#sk-container-id-6 div.sk-toggleable__content pre {margin: 0.2em;color: black;border-radius: 0.25em;background-color: #f0f8ff;}#sk-container-id-6 input.sk-toggleable__control:checked~div.sk-toggleable__content {max-height: 200px;max-width: 100%;overflow: auto;}#sk-container-id-6 input.sk-toggleable__control:checked~label.sk-toggleable__label-arrow:before {content: \"▾\";}#sk-container-id-6 div.sk-estimator input.sk-toggleable__control:checked~label.sk-toggleable__label {background-color: #d4ebff;}#sk-container-id-6 div.sk-label input.sk-toggleable__control:checked~label.sk-toggleable__label {background-color: #d4ebff;}#sk-container-id-6 input.sk-hidden--visually {border: 0;clip: rect(1px 1px 1px 1px);clip: rect(1px, 1px, 1px, 1px);height: 1px;margin: -1px;overflow: hidden;padding: 0;position: absolute;width: 1px;}#sk-container-id-6 div.sk-estimator {font-family: monospace;background-color: #f0f8ff;border: 1px dotted black;border-radius: 0.25em;box-sizing: border-box;margin-bottom: 0.5em;}#sk-container-id-6 div.sk-estimator:hover {background-color: #d4ebff;}#sk-container-id-6 div.sk-parallel-item::after {content: \"\";width: 100%;border-bottom: 1px solid gray;flex-grow: 1;}#sk-container-id-6 div.sk-label:hover label.sk-toggleable__label {background-color: #d4ebff;}#sk-container-id-6 div.sk-serial::before {content: \"\";position: absolute;border-left: 1px solid gray;box-sizing: border-box;top: 0;bottom: 0;left: 50%;z-index: 0;}#sk-container-id-6 div.sk-serial {display: flex;flex-direction: column;align-items: center;background-color: white;padding-right: 0.2em;padding-left: 0.2em;position: relative;}#sk-container-id-6 div.sk-item {position: relative;z-index: 1;}#sk-container-id-6 div.sk-parallel {display: flex;align-items: stretch;justify-content: center;background-color: white;position: relative;}#sk-container-id-6 div.sk-item::before, #sk-container-id-6 div.sk-parallel-item::before {content: \"\";position: absolute;border-left: 1px solid gray;box-sizing: border-box;top: 0;bottom: 0;left: 50%;z-index: -1;}#sk-container-id-6 div.sk-parallel-item {display: flex;flex-direction: column;z-index: 1;position: relative;background-color: white;}#sk-container-id-6 div.sk-parallel-item:first-child::after {align-self: flex-end;width: 50%;}#sk-container-id-6 div.sk-parallel-item:last-child::after {align-self: flex-start;width: 50%;}#sk-container-id-6 div.sk-parallel-item:only-child::after {width: 0;}#sk-container-id-6 div.sk-dashed-wrapped {border: 1px dashed gray;margin: 0 0.4em 0.5em 0.4em;box-sizing: border-box;padding-bottom: 0.4em;background-color: white;}#sk-container-id-6 div.sk-label label {font-family: monospace;font-weight: bold;display: inline-block;line-height: 1.2em;}#sk-container-id-6 div.sk-label-container {text-align: center;}#sk-container-id-6 div.sk-container {/* jupyter's `normalize.less` sets `[hidden] { display: none; }` but bootstrap.min.css set `[hidden] { display: none !important; }` so we also need the `!important` here to be able to override the default hidden behavior on the sphinx rendered scikit-learn.org. See: https://github.com/scikit-learn/scikit-learn/issues/21755 */display: inline-block !important;position: relative;}#sk-container-id-6 div.sk-text-repr-fallback {display: none;}</style><div id=\"sk-container-id-6\" class=\"sk-top-container\"><div class=\"sk-text-repr-fallback\"><pre>StackingClassifier(estimators=[(&#x27;for&#x27;, RandomForestClassifier(random_state=41)),\n",
       "                               (&#x27;svc&#x27;, SVC(random_state=41))],\n",
       "                   final_estimator=LogisticRegression(random_state=41))</pre><b>In a Jupyter environment, please rerun this cell to show the HTML representation or trust the notebook. <br />On GitHub, the HTML representation is unable to render, please try loading this page with nbviewer.org.</b></div><div class=\"sk-container\" hidden><div class=\"sk-item sk-dashed-wrapped\"><div class=\"sk-label-container\"><div class=\"sk-label sk-toggleable\"><input class=\"sk-toggleable__control sk-hidden--visually\" id=\"sk-estimator-id-15\" type=\"checkbox\" ><label for=\"sk-estimator-id-15\" class=\"sk-toggleable__label sk-toggleable__label-arrow\">StackingClassifier</label><div class=\"sk-toggleable__content\"><pre>StackingClassifier(estimators=[(&#x27;for&#x27;, RandomForestClassifier(random_state=41)),\n",
       "                               (&#x27;svc&#x27;, SVC(random_state=41))],\n",
       "                   final_estimator=LogisticRegression(random_state=41))</pre></div></div></div><div class=\"sk-serial\"><div class=\"sk-item\"><div class=\"sk-parallel\"><div class=\"sk-parallel-item\"><div class=\"sk-item\"><div class=\"sk-label-container\"><div class=\"sk-label sk-toggleable\"><label>for</label></div></div><div class=\"sk-serial\"><div class=\"sk-item\"><div class=\"sk-estimator sk-toggleable\"><input class=\"sk-toggleable__control sk-hidden--visually\" id=\"sk-estimator-id-16\" type=\"checkbox\" ><label for=\"sk-estimator-id-16\" class=\"sk-toggleable__label sk-toggleable__label-arrow\">RandomForestClassifier</label><div class=\"sk-toggleable__content\"><pre>RandomForestClassifier(random_state=41)</pre></div></div></div></div></div></div><div class=\"sk-parallel-item\"><div class=\"sk-item\"><div class=\"sk-label-container\"><div class=\"sk-label sk-toggleable\"><label>svc</label></div></div><div class=\"sk-serial\"><div class=\"sk-item\"><div class=\"sk-estimator sk-toggleable\"><input class=\"sk-toggleable__control sk-hidden--visually\" id=\"sk-estimator-id-17\" type=\"checkbox\" ><label for=\"sk-estimator-id-17\" class=\"sk-toggleable__label sk-toggleable__label-arrow\">SVC</label><div class=\"sk-toggleable__content\"><pre>SVC(random_state=41)</pre></div></div></div></div></div></div></div></div><div class=\"sk-item\"><div class=\"sk-parallel\"><div class=\"sk-parallel-item\"><div class=\"sk-item\"><div class=\"sk-label-container\"><div class=\"sk-label sk-toggleable\"><label>final_estimator</label></div></div><div class=\"sk-serial\"><div class=\"sk-item\"><div class=\"sk-estimator sk-toggleable\"><input class=\"sk-toggleable__control sk-hidden--visually\" id=\"sk-estimator-id-18\" type=\"checkbox\" ><label for=\"sk-estimator-id-18\" class=\"sk-toggleable__label sk-toggleable__label-arrow\">LogisticRegression</label><div class=\"sk-toggleable__content\"><pre>LogisticRegression(random_state=41)</pre></div></div></div></div></div></div></div></div></div></div></div></div>"
      ],
      "text/plain": [
       "StackingClassifier(estimators=[('for', RandomForestClassifier(random_state=41)),\n",
       "                               ('svc', SVC(random_state=41))],\n",
       "                   final_estimator=LogisticRegression(random_state=41))"
      ]
     },
     "execution_count": 42,
     "metadata": {},
     "output_type": "execute_result"
    }
   ],
   "source": [
    "estimators = [('for', RandomForestClassifier(random_state=41)), \n",
    "              ('svc', SVC(random_state=41))\n",
    "             ]\n",
    "stack_model = StackingClassifier(estimators=estimators, final_estimator=LogisticRegression(random_state=41))\n",
    "stack_model.fit(X_train, y_train)"
   ]
  },
  {
   "cell_type": "markdown",
   "metadata": {
    "id": "DfqpeCWeTP24"
   },
   "source": [
    "Вычислите точность модели на **тренировочных данных**"
   ]
  },
  {
   "cell_type": "code",
   "execution_count": 43,
   "metadata": {
    "id": "6pJ3EYn2OwK8"
   },
   "outputs": [
    {
     "name": "stdout",
     "output_type": "stream",
     "text": [
      "              precision    recall  f1-score   support\n",
      "\n",
      "           0      1.000     1.000     1.000     16685\n",
      "           1      1.000     0.999     1.000     12314\n",
      "\n",
      "    accuracy                          1.000     28999\n",
      "   macro avg      1.000     1.000     1.000     28999\n",
      "weighted avg      1.000     1.000     1.000     28999\n",
      "\n"
     ]
    }
   ],
   "source": [
    "print(classification_report(y_train, stack_model.predict(X_train), digits=3))"
   ]
  },
  {
   "cell_type": "markdown",
   "metadata": {
    "id": "xRNxf9ZGTUMk"
   },
   "source": [
    "Вычислите точность модели на **тестовых данных**"
   ]
  },
  {
   "cell_type": "code",
   "execution_count": 44,
   "metadata": {
    "id": "jUQ8y62VOwK8"
   },
   "outputs": [
    {
     "name": "stdout",
     "output_type": "stream",
     "text": [
      "              precision    recall  f1-score   support\n",
      "\n",
      "           0      0.911     0.921     0.916      4175\n",
      "           1      0.892     0.878     0.885      3075\n",
      "\n",
      "    accuracy                          0.903      7250\n",
      "   macro avg      0.902     0.900     0.901      7250\n",
      "weighted avg      0.903     0.903     0.903      7250\n",
      "\n"
     ]
    }
   ],
   "source": [
    "print(classification_report(y_test, stack_model.predict(X_test), digits=3))"
   ]
  },
  {
   "cell_type": "markdown",
   "metadata": {},
   "source": [
    "### Задание 2"
   ]
  },
  {
   "cell_type": "code",
   "execution_count": 45,
   "metadata": {},
   "outputs": [],
   "source": [
    "X_test = pd.read_csv('electricity_reserved.csv')\n",
    "X_train, y_train = data.drop(columns=['class']), data['class']"
   ]
  },
  {
   "cell_type": "code",
   "execution_count": 49,
   "metadata": {},
   "outputs": [
    {
     "name": "stdout",
     "output_type": "stream",
     "text": [
      "0:\tlearn: 0.4700234\ttotal: 270ms\tremaining: 4m 29s\n",
      "1:\tlearn: 0.4356175\ttotal: 428ms\tremaining: 3m 33s\n",
      "2:\tlearn: 0.4114569\ttotal: 584ms\tremaining: 3m 14s\n",
      "3:\tlearn: 0.3939176\ttotal: 734ms\tremaining: 3m 2s\n",
      "4:\tlearn: 0.3861454\ttotal: 888ms\tremaining: 2m 56s\n",
      "5:\tlearn: 0.3794663\ttotal: 1.02s\tremaining: 2m 48s\n",
      "6:\tlearn: 0.3674636\ttotal: 1.16s\tremaining: 2m 44s\n",
      "7:\tlearn: 0.3560565\ttotal: 1.3s\tremaining: 2m 41s\n",
      "8:\tlearn: 0.3476347\ttotal: 1.45s\tremaining: 2m 39s\n",
      "9:\tlearn: 0.3376793\ttotal: 1.59s\tremaining: 2m 37s\n",
      "10:\tlearn: 0.3286174\ttotal: 1.65s\tremaining: 2m 28s\n",
      "11:\tlearn: 0.3225845\ttotal: 1.73s\tremaining: 2m 22s\n",
      "12:\tlearn: 0.3137317\ttotal: 1.82s\tremaining: 2m 18s\n",
      "13:\tlearn: 0.3063317\ttotal: 1.92s\tremaining: 2m 14s\n",
      "14:\tlearn: 0.2993531\ttotal: 2.02s\tremaining: 2m 12s\n",
      "15:\tlearn: 0.2901069\ttotal: 2.13s\tremaining: 2m 10s\n",
      "16:\tlearn: 0.2860805\ttotal: 2.22s\tremaining: 2m 8s\n",
      "17:\tlearn: 0.2795619\ttotal: 2.35s\tremaining: 2m 8s\n",
      "18:\tlearn: 0.2730956\ttotal: 2.5s\tremaining: 2m 9s\n",
      "19:\tlearn: 0.2672499\ttotal: 2.63s\tremaining: 2m 8s\n",
      "20:\tlearn: 0.2615027\ttotal: 2.74s\tremaining: 2m 7s\n",
      "21:\tlearn: 0.2546614\ttotal: 2.86s\tremaining: 2m 7s\n",
      "22:\tlearn: 0.2498537\ttotal: 2.98s\tremaining: 2m 6s\n",
      "23:\tlearn: 0.2441537\ttotal: 3.1s\tremaining: 2m 6s\n",
      "24:\tlearn: 0.2388933\ttotal: 3.23s\tremaining: 2m 5s\n",
      "25:\tlearn: 0.2353954\ttotal: 3.34s\tremaining: 2m 5s\n",
      "26:\tlearn: 0.2317246\ttotal: 3.47s\tremaining: 2m 5s\n",
      "27:\tlearn: 0.2291485\ttotal: 3.59s\tremaining: 2m 4s\n",
      "28:\tlearn: 0.2230707\ttotal: 3.7s\tremaining: 2m 4s\n",
      "29:\tlearn: 0.2175534\ttotal: 3.81s\tremaining: 2m 3s\n",
      "30:\tlearn: 0.2139453\ttotal: 3.94s\tremaining: 2m 3s\n",
      "31:\tlearn: 0.2096860\ttotal: 4.06s\tremaining: 2m 2s\n",
      "32:\tlearn: 0.2062069\ttotal: 4.2s\tremaining: 2m 2s\n",
      "33:\tlearn: 0.2010853\ttotal: 4.32s\tremaining: 2m 2s\n",
      "34:\tlearn: 0.1968122\ttotal: 4.45s\tremaining: 2m 2s\n",
      "35:\tlearn: 0.1929531\ttotal: 4.57s\tremaining: 2m 2s\n",
      "36:\tlearn: 0.1903418\ttotal: 4.69s\tremaining: 2m 2s\n",
      "37:\tlearn: 0.1874909\ttotal: 4.81s\tremaining: 2m 1s\n",
      "38:\tlearn: 0.1848359\ttotal: 4.94s\tremaining: 2m 1s\n",
      "39:\tlearn: 0.1829402\ttotal: 5.07s\tremaining: 2m 1s\n",
      "40:\tlearn: 0.1797881\ttotal: 5.19s\tremaining: 2m 1s\n",
      "41:\tlearn: 0.1778695\ttotal: 5.31s\tremaining: 2m 1s\n",
      "42:\tlearn: 0.1736824\ttotal: 5.44s\tremaining: 2m 1s\n",
      "43:\tlearn: 0.1698569\ttotal: 5.49s\tremaining: 1m 59s\n",
      "44:\tlearn: 0.1673840\ttotal: 5.55s\tremaining: 1m 57s\n",
      "45:\tlearn: 0.1646963\ttotal: 5.65s\tremaining: 1m 57s\n",
      "46:\tlearn: 0.1621672\ttotal: 5.73s\tremaining: 1m 56s\n",
      "47:\tlearn: 0.1598637\ttotal: 5.81s\tremaining: 1m 55s\n",
      "48:\tlearn: 0.1563658\ttotal: 5.9s\tremaining: 1m 54s\n",
      "49:\tlearn: 0.1545298\ttotal: 5.99s\tremaining: 1m 53s\n",
      "50:\tlearn: 0.1515230\ttotal: 6.07s\tremaining: 1m 52s\n",
      "51:\tlearn: 0.1493494\ttotal: 6.2s\tremaining: 1m 52s\n",
      "52:\tlearn: 0.1470276\ttotal: 6.31s\tremaining: 1m 52s\n",
      "53:\tlearn: 0.1452452\ttotal: 6.41s\tremaining: 1m 52s\n",
      "54:\tlearn: 0.1435994\ttotal: 6.53s\tremaining: 1m 52s\n",
      "55:\tlearn: 0.1413265\ttotal: 6.65s\tremaining: 1m 52s\n",
      "56:\tlearn: 0.1392427\ttotal: 6.77s\tremaining: 1m 51s\n",
      "57:\tlearn: 0.1374780\ttotal: 6.89s\tremaining: 1m 51s\n",
      "58:\tlearn: 0.1356542\ttotal: 7.01s\tremaining: 1m 51s\n",
      "59:\tlearn: 0.1335363\ttotal: 7.18s\tremaining: 1m 52s\n",
      "60:\tlearn: 0.1316269\ttotal: 7.31s\tremaining: 1m 52s\n",
      "61:\tlearn: 0.1296944\ttotal: 7.43s\tremaining: 1m 52s\n",
      "62:\tlearn: 0.1284087\ttotal: 7.55s\tremaining: 1m 52s\n",
      "63:\tlearn: 0.1263309\ttotal: 7.66s\tremaining: 1m 52s\n",
      "64:\tlearn: 0.1238176\ttotal: 7.78s\tremaining: 1m 51s\n",
      "65:\tlearn: 0.1225165\ttotal: 7.89s\tremaining: 1m 51s\n",
      "66:\tlearn: 0.1205996\ttotal: 8.01s\tremaining: 1m 51s\n",
      "67:\tlearn: 0.1195540\ttotal: 8.13s\tremaining: 1m 51s\n",
      "68:\tlearn: 0.1178590\ttotal: 8.24s\tremaining: 1m 51s\n",
      "69:\tlearn: 0.1166020\ttotal: 8.36s\tremaining: 1m 51s\n",
      "70:\tlearn: 0.1150363\ttotal: 8.47s\tremaining: 1m 50s\n",
      "71:\tlearn: 0.1130825\ttotal: 8.6s\tremaining: 1m 50s\n",
      "72:\tlearn: 0.1115677\ttotal: 8.71s\tremaining: 1m 50s\n",
      "73:\tlearn: 0.1101105\ttotal: 8.83s\tremaining: 1m 50s\n",
      "74:\tlearn: 0.1086644\ttotal: 8.95s\tremaining: 1m 50s\n",
      "75:\tlearn: 0.1075491\ttotal: 9.06s\tremaining: 1m 50s\n",
      "76:\tlearn: 0.1066119\ttotal: 9.17s\tremaining: 1m 49s\n",
      "77:\tlearn: 0.1051469\ttotal: 9.23s\tremaining: 1m 49s\n",
      "78:\tlearn: 0.1040840\ttotal: 9.28s\tremaining: 1m 48s\n",
      "79:\tlearn: 0.1033191\ttotal: 9.37s\tremaining: 1m 47s\n",
      "80:\tlearn: 0.1021126\ttotal: 9.45s\tremaining: 1m 47s\n",
      "81:\tlearn: 0.1007756\ttotal: 9.53s\tremaining: 1m 46s\n",
      "82:\tlearn: 0.0995847\ttotal: 9.62s\tremaining: 1m 46s\n",
      "83:\tlearn: 0.0981341\ttotal: 9.7s\tremaining: 1m 45s\n",
      "84:\tlearn: 0.0968070\ttotal: 9.79s\tremaining: 1m 45s\n",
      "85:\tlearn: 0.0959376\ttotal: 9.9s\tremaining: 1m 45s\n",
      "86:\tlearn: 0.0951282\ttotal: 10s\tremaining: 1m 45s\n",
      "87:\tlearn: 0.0940409\ttotal: 10.1s\tremaining: 1m 45s\n",
      "88:\tlearn: 0.0926440\ttotal: 10.3s\tremaining: 1m 44s\n",
      "89:\tlearn: 0.0913815\ttotal: 10.4s\tremaining: 1m 44s\n",
      "90:\tlearn: 0.0900482\ttotal: 10.5s\tremaining: 1m 44s\n",
      "91:\tlearn: 0.0888409\ttotal: 10.6s\tremaining: 1m 44s\n",
      "92:\tlearn: 0.0881197\ttotal: 10.7s\tremaining: 1m 44s\n",
      "93:\tlearn: 0.0877713\ttotal: 10.9s\tremaining: 1m 44s\n",
      "94:\tlearn: 0.0867732\ttotal: 11s\tremaining: 1m 44s\n",
      "95:\tlearn: 0.0856783\ttotal: 11.1s\tremaining: 1m 44s\n",
      "96:\tlearn: 0.0848845\ttotal: 11.2s\tremaining: 1m 44s\n",
      "97:\tlearn: 0.0843627\ttotal: 11.3s\tremaining: 1m 44s\n",
      "98:\tlearn: 0.0829425\ttotal: 11.4s\tremaining: 1m 44s\n",
      "99:\tlearn: 0.0820412\ttotal: 11.5s\tremaining: 1m 43s\n",
      "100:\tlearn: 0.0809237\ttotal: 11.7s\tremaining: 1m 43s\n",
      "101:\tlearn: 0.0801666\ttotal: 11.8s\tremaining: 1m 43s\n",
      "102:\tlearn: 0.0792930\ttotal: 11.9s\tremaining: 1m 43s\n",
      "103:\tlearn: 0.0777256\ttotal: 12s\tremaining: 1m 43s\n",
      "104:\tlearn: 0.0767718\ttotal: 12.1s\tremaining: 1m 43s\n",
      "105:\tlearn: 0.0762028\ttotal: 12.2s\tremaining: 1m 43s\n",
      "106:\tlearn: 0.0748254\ttotal: 12.3s\tremaining: 1m 43s\n",
      "107:\tlearn: 0.0739312\ttotal: 12.4s\tremaining: 1m 42s\n",
      "108:\tlearn: 0.0728641\ttotal: 12.6s\tremaining: 1m 42s\n",
      "109:\tlearn: 0.0714509\ttotal: 12.7s\tremaining: 1m 42s\n",
      "110:\tlearn: 0.0703598\ttotal: 12.8s\tremaining: 1m 42s\n",
      "111:\tlearn: 0.0693749\ttotal: 12.9s\tremaining: 1m 42s\n",
      "112:\tlearn: 0.0687506\ttotal: 13s\tremaining: 1m 42s\n",
      "113:\tlearn: 0.0683506\ttotal: 13.1s\tremaining: 1m 41s\n",
      "114:\tlearn: 0.0675888\ttotal: 13.1s\tremaining: 1m 41s\n",
      "115:\tlearn: 0.0669402\ttotal: 13.2s\tremaining: 1m 40s\n",
      "116:\tlearn: 0.0663226\ttotal: 13.3s\tremaining: 1m 40s\n",
      "117:\tlearn: 0.0657606\ttotal: 13.4s\tremaining: 1m 39s\n",
      "118:\tlearn: 0.0647109\ttotal: 13.4s\tremaining: 1m 39s\n",
      "119:\tlearn: 0.0641077\ttotal: 13.5s\tremaining: 1m 39s\n",
      "120:\tlearn: 0.0633966\ttotal: 13.6s\tremaining: 1m 38s\n",
      "121:\tlearn: 0.0625717\ttotal: 13.7s\tremaining: 1m 38s\n",
      "122:\tlearn: 0.0617610\ttotal: 13.9s\tremaining: 1m 38s\n",
      "123:\tlearn: 0.0609561\ttotal: 14s\tremaining: 1m 38s\n",
      "124:\tlearn: 0.0601649\ttotal: 14.1s\tremaining: 1m 38s\n",
      "125:\tlearn: 0.0594965\ttotal: 14.2s\tremaining: 1m 38s\n",
      "126:\tlearn: 0.0591688\ttotal: 14.3s\tremaining: 1m 38s\n",
      "127:\tlearn: 0.0585102\ttotal: 14.4s\tremaining: 1m 38s\n",
      "128:\tlearn: 0.0580997\ttotal: 14.6s\tremaining: 1m 38s\n",
      "129:\tlearn: 0.0575388\ttotal: 14.7s\tremaining: 1m 38s\n",
      "130:\tlearn: 0.0571835\ttotal: 14.8s\tremaining: 1m 38s\n",
      "131:\tlearn: 0.0566587\ttotal: 14.9s\tremaining: 1m 38s\n",
      "132:\tlearn: 0.0559090\ttotal: 15s\tremaining: 1m 37s\n",
      "133:\tlearn: 0.0555883\ttotal: 15.1s\tremaining: 1m 37s\n",
      "134:\tlearn: 0.0550204\ttotal: 15.3s\tremaining: 1m 37s\n",
      "135:\tlearn: 0.0544025\ttotal: 15.4s\tremaining: 1m 37s\n",
      "136:\tlearn: 0.0540654\ttotal: 15.5s\tremaining: 1m 37s\n",
      "137:\tlearn: 0.0537298\ttotal: 15.6s\tremaining: 1m 37s\n",
      "138:\tlearn: 0.0533262\ttotal: 15.7s\tremaining: 1m 37s\n",
      "139:\tlearn: 0.0529282\ttotal: 15.8s\tremaining: 1m 36s\n",
      "140:\tlearn: 0.0524487\ttotal: 15.9s\tremaining: 1m 36s\n",
      "141:\tlearn: 0.0519721\ttotal: 16s\tremaining: 1m 36s\n",
      "142:\tlearn: 0.0513221\ttotal: 16.1s\tremaining: 1m 36s\n",
      "143:\tlearn: 0.0510190\ttotal: 16.3s\tremaining: 1m 36s\n",
      "144:\tlearn: 0.0504109\ttotal: 16.4s\tremaining: 1m 36s\n",
      "145:\tlearn: 0.0501831\ttotal: 16.5s\tremaining: 1m 36s\n",
      "146:\tlearn: 0.0494288\ttotal: 16.6s\tremaining: 1m 36s\n",
      "147:\tlearn: 0.0491405\ttotal: 16.7s\tremaining: 1m 36s\n",
      "148:\tlearn: 0.0486161\ttotal: 16.7s\tremaining: 1m 35s\n",
      "149:\tlearn: 0.0482641\ttotal: 16.8s\tremaining: 1m 35s\n",
      "150:\tlearn: 0.0479504\ttotal: 16.9s\tremaining: 1m 34s\n",
      "151:\tlearn: 0.0472710\ttotal: 17s\tremaining: 1m 34s\n",
      "152:\tlearn: 0.0468624\ttotal: 17.1s\tremaining: 1m 34s\n",
      "153:\tlearn: 0.0466206\ttotal: 17.1s\tremaining: 1m 34s\n",
      "154:\tlearn: 0.0462894\ttotal: 17.2s\tremaining: 1m 33s\n",
      "155:\tlearn: 0.0459332\ttotal: 17.3s\tremaining: 1m 33s\n",
      "156:\tlearn: 0.0455593\ttotal: 17.4s\tremaining: 1m 33s\n",
      "157:\tlearn: 0.0453620\ttotal: 17.5s\tremaining: 1m 33s\n"
     ]
    },
    {
     "name": "stdout",
     "output_type": "stream",
     "text": [
      "158:\tlearn: 0.0452142\ttotal: 17.7s\tremaining: 1m 33s\n",
      "159:\tlearn: 0.0448140\ttotal: 17.8s\tremaining: 1m 33s\n",
      "160:\tlearn: 0.0444482\ttotal: 17.9s\tremaining: 1m 33s\n",
      "161:\tlearn: 0.0441973\ttotal: 18s\tremaining: 1m 33s\n",
      "162:\tlearn: 0.0439008\ttotal: 18.1s\tremaining: 1m 33s\n",
      "163:\tlearn: 0.0434158\ttotal: 18.3s\tremaining: 1m 33s\n",
      "164:\tlearn: 0.0431618\ttotal: 18.4s\tremaining: 1m 32s\n",
      "165:\tlearn: 0.0428700\ttotal: 18.5s\tremaining: 1m 32s\n",
      "166:\tlearn: 0.0425991\ttotal: 18.6s\tremaining: 1m 32s\n",
      "167:\tlearn: 0.0423061\ttotal: 18.7s\tremaining: 1m 32s\n",
      "168:\tlearn: 0.0419019\ttotal: 18.8s\tremaining: 1m 32s\n",
      "169:\tlearn: 0.0416161\ttotal: 18.9s\tremaining: 1m 32s\n",
      "170:\tlearn: 0.0413257\ttotal: 19.1s\tremaining: 1m 32s\n",
      "171:\tlearn: 0.0410325\ttotal: 19.2s\tremaining: 1m 32s\n",
      "172:\tlearn: 0.0405677\ttotal: 19.3s\tremaining: 1m 32s\n",
      "173:\tlearn: 0.0401248\ttotal: 19.4s\tremaining: 1m 32s\n",
      "174:\tlearn: 0.0398401\ttotal: 19.5s\tremaining: 1m 32s\n",
      "175:\tlearn: 0.0395903\ttotal: 19.7s\tremaining: 1m 32s\n",
      "176:\tlearn: 0.0392407\ttotal: 19.8s\tremaining: 1m 32s\n",
      "177:\tlearn: 0.0391147\ttotal: 19.9s\tremaining: 1m 31s\n",
      "178:\tlearn: 0.0387208\ttotal: 20s\tremaining: 1m 31s\n",
      "179:\tlearn: 0.0383475\ttotal: 20.1s\tremaining: 1m 31s\n",
      "180:\tlearn: 0.0380912\ttotal: 20.2s\tremaining: 1m 31s\n",
      "181:\tlearn: 0.0376854\ttotal: 20.4s\tremaining: 1m 31s\n",
      "182:\tlearn: 0.0373429\ttotal: 20.4s\tremaining: 1m 31s\n",
      "183:\tlearn: 0.0371007\ttotal: 20.4s\tremaining: 1m 30s\n",
      "184:\tlearn: 0.0369396\ttotal: 20.5s\tremaining: 1m 30s\n",
      "185:\tlearn: 0.0365736\ttotal: 20.6s\tremaining: 1m 30s\n",
      "186:\tlearn: 0.0360684\ttotal: 20.7s\tremaining: 1m 29s\n",
      "187:\tlearn: 0.0357139\ttotal: 20.8s\tremaining: 1m 29s\n",
      "188:\tlearn: 0.0353121\ttotal: 20.8s\tremaining: 1m 29s\n",
      "189:\tlearn: 0.0348813\ttotal: 20.9s\tremaining: 1m 29s\n",
      "190:\tlearn: 0.0347743\ttotal: 21s\tremaining: 1m 29s\n",
      "191:\tlearn: 0.0346146\ttotal: 21.2s\tremaining: 1m 29s\n",
      "192:\tlearn: 0.0343787\ttotal: 21.3s\tremaining: 1m 28s\n",
      "193:\tlearn: 0.0341203\ttotal: 21.4s\tremaining: 1m 28s\n",
      "194:\tlearn: 0.0338770\ttotal: 21.5s\tremaining: 1m 28s\n",
      "195:\tlearn: 0.0337493\ttotal: 21.6s\tremaining: 1m 28s\n",
      "196:\tlearn: 0.0334606\ttotal: 21.7s\tremaining: 1m 28s\n",
      "197:\tlearn: 0.0332575\ttotal: 21.8s\tremaining: 1m 28s\n",
      "198:\tlearn: 0.0330532\ttotal: 21.9s\tremaining: 1m 28s\n",
      "199:\tlearn: 0.0327444\ttotal: 22s\tremaining: 1m 28s\n",
      "200:\tlearn: 0.0322686\ttotal: 22.1s\tremaining: 1m 28s\n",
      "201:\tlearn: 0.0320976\ttotal: 22.3s\tremaining: 1m 27s\n",
      "202:\tlearn: 0.0316331\ttotal: 22.4s\tremaining: 1m 27s\n",
      "203:\tlearn: 0.0311502\ttotal: 22.5s\tremaining: 1m 27s\n",
      "204:\tlearn: 0.0309941\ttotal: 22.6s\tremaining: 1m 27s\n",
      "205:\tlearn: 0.0307767\ttotal: 22.7s\tremaining: 1m 27s\n",
      "206:\tlearn: 0.0305775\ttotal: 22.8s\tremaining: 1m 27s\n",
      "207:\tlearn: 0.0301720\ttotal: 22.9s\tremaining: 1m 27s\n",
      "208:\tlearn: 0.0300157\ttotal: 23s\tremaining: 1m 27s\n",
      "209:\tlearn: 0.0297121\ttotal: 23.1s\tremaining: 1m 27s\n",
      "210:\tlearn: 0.0296434\ttotal: 23.3s\tremaining: 1m 27s\n",
      "211:\tlearn: 0.0294273\ttotal: 23.4s\tremaining: 1m 26s\n",
      "212:\tlearn: 0.0291341\ttotal: 23.5s\tremaining: 1m 26s\n",
      "213:\tlearn: 0.0289377\ttotal: 23.6s\tremaining: 1m 26s\n",
      "214:\tlearn: 0.0287027\ttotal: 23.8s\tremaining: 1m 26s\n",
      "215:\tlearn: 0.0284745\ttotal: 23.9s\tremaining: 1m 26s\n",
      "216:\tlearn: 0.0283339\ttotal: 24s\tremaining: 1m 26s\n",
      "217:\tlearn: 0.0281226\ttotal: 24.1s\tremaining: 1m 26s\n",
      "218:\tlearn: 0.0277032\ttotal: 24.1s\tremaining: 1m 26s\n",
      "219:\tlearn: 0.0275059\ttotal: 24.2s\tremaining: 1m 25s\n",
      "220:\tlearn: 0.0273025\ttotal: 24.3s\tremaining: 1m 25s\n",
      "221:\tlearn: 0.0269902\ttotal: 24.4s\tremaining: 1m 25s\n",
      "222:\tlearn: 0.0268613\ttotal: 24.4s\tremaining: 1m 25s\n",
      "223:\tlearn: 0.0265111\ttotal: 24.5s\tremaining: 1m 24s\n",
      "224:\tlearn: 0.0263433\ttotal: 24.6s\tremaining: 1m 24s\n",
      "225:\tlearn: 0.0261143\ttotal: 24.7s\tremaining: 1m 24s\n",
      "226:\tlearn: 0.0259395\ttotal: 24.8s\tremaining: 1m 24s\n",
      "227:\tlearn: 0.0257688\ttotal: 24.9s\tremaining: 1m 24s\n",
      "228:\tlearn: 0.0254926\ttotal: 25.1s\tremaining: 1m 24s\n",
      "229:\tlearn: 0.0252374\ttotal: 25.2s\tremaining: 1m 24s\n",
      "230:\tlearn: 0.0250694\ttotal: 25.3s\tremaining: 1m 24s\n",
      "231:\tlearn: 0.0250691\ttotal: 25.4s\tremaining: 1m 23s\n",
      "232:\tlearn: 0.0250095\ttotal: 25.5s\tremaining: 1m 23s\n",
      "233:\tlearn: 0.0248481\ttotal: 25.6s\tremaining: 1m 23s\n",
      "234:\tlearn: 0.0245607\ttotal: 25.7s\tremaining: 1m 23s\n",
      "235:\tlearn: 0.0243419\ttotal: 25.8s\tremaining: 1m 23s\n",
      "236:\tlearn: 0.0240692\ttotal: 25.9s\tremaining: 1m 23s\n",
      "237:\tlearn: 0.0239040\ttotal: 26s\tremaining: 1m 23s\n",
      "238:\tlearn: 0.0236834\ttotal: 26.1s\tremaining: 1m 23s\n",
      "239:\tlearn: 0.0235164\ttotal: 26.3s\tremaining: 1m 23s\n",
      "240:\tlearn: 0.0233157\ttotal: 26.4s\tremaining: 1m 23s\n",
      "241:\tlearn: 0.0231976\ttotal: 26.5s\tremaining: 1m 22s\n",
      "242:\tlearn: 0.0229626\ttotal: 26.6s\tremaining: 1m 22s\n",
      "243:\tlearn: 0.0228853\ttotal: 26.7s\tremaining: 1m 22s\n",
      "244:\tlearn: 0.0226271\ttotal: 26.8s\tremaining: 1m 22s\n",
      "245:\tlearn: 0.0225374\ttotal: 27s\tremaining: 1m 22s\n",
      "246:\tlearn: 0.0223541\ttotal: 27.1s\tremaining: 1m 22s\n",
      "247:\tlearn: 0.0221720\ttotal: 27.2s\tremaining: 1m 22s\n",
      "248:\tlearn: 0.0220902\ttotal: 27.3s\tremaining: 1m 22s\n",
      "249:\tlearn: 0.0219385\ttotal: 27.4s\tremaining: 1m 22s\n",
      "250:\tlearn: 0.0217341\ttotal: 27.5s\tremaining: 1m 22s\n",
      "251:\tlearn: 0.0216235\ttotal: 27.7s\tremaining: 1m 22s\n",
      "252:\tlearn: 0.0214502\ttotal: 27.7s\tremaining: 1m 21s\n",
      "253:\tlearn: 0.0212710\ttotal: 27.8s\tremaining: 1m 21s\n",
      "254:\tlearn: 0.0211387\ttotal: 27.8s\tremaining: 1m 21s\n",
      "255:\tlearn: 0.0208743\ttotal: 27.9s\tremaining: 1m 21s\n",
      "256:\tlearn: 0.0206126\ttotal: 28s\tremaining: 1m 20s\n",
      "257:\tlearn: 0.0204986\ttotal: 28.1s\tremaining: 1m 20s\n",
      "258:\tlearn: 0.0202476\ttotal: 28.2s\tremaining: 1m 20s\n",
      "259:\tlearn: 0.0201002\ttotal: 28.3s\tremaining: 1m 20s\n",
      "260:\tlearn: 0.0199602\ttotal: 28.4s\tremaining: 1m 20s\n",
      "261:\tlearn: 0.0198796\ttotal: 28.5s\tremaining: 1m 20s\n",
      "262:\tlearn: 0.0196979\ttotal: 28.6s\tremaining: 1m 20s\n",
      "263:\tlearn: 0.0196072\ttotal: 28.7s\tremaining: 1m 20s\n",
      "264:\tlearn: 0.0194676\ttotal: 28.9s\tremaining: 1m 20s\n",
      "265:\tlearn: 0.0192740\ttotal: 29s\tremaining: 1m 19s\n",
      "266:\tlearn: 0.0191509\ttotal: 29.1s\tremaining: 1m 19s\n",
      "267:\tlearn: 0.0189639\ttotal: 29.2s\tremaining: 1m 19s\n",
      "268:\tlearn: 0.0188016\ttotal: 29.4s\tremaining: 1m 19s\n",
      "269:\tlearn: 0.0185992\ttotal: 29.5s\tremaining: 1m 19s\n",
      "270:\tlearn: 0.0184779\ttotal: 29.6s\tremaining: 1m 19s\n",
      "271:\tlearn: 0.0183771\ttotal: 29.7s\tremaining: 1m 19s\n",
      "272:\tlearn: 0.0182537\ttotal: 29.8s\tremaining: 1m 19s\n",
      "273:\tlearn: 0.0181307\ttotal: 29.9s\tremaining: 1m 19s\n",
      "274:\tlearn: 0.0180409\ttotal: 30.1s\tremaining: 1m 19s\n",
      "275:\tlearn: 0.0178383\ttotal: 30.2s\tremaining: 1m 19s\n",
      "276:\tlearn: 0.0176803\ttotal: 30.3s\tremaining: 1m 19s\n",
      "277:\tlearn: 0.0175999\ttotal: 30.4s\tremaining: 1m 19s\n",
      "278:\tlearn: 0.0175036\ttotal: 30.5s\tremaining: 1m 18s\n",
      "279:\tlearn: 0.0173630\ttotal: 30.7s\tremaining: 1m 18s\n",
      "280:\tlearn: 0.0172986\ttotal: 30.8s\tremaining: 1m 18s\n",
      "281:\tlearn: 0.0171765\ttotal: 30.9s\tremaining: 1m 18s\n",
      "282:\tlearn: 0.0171184\ttotal: 31s\tremaining: 1m 18s\n",
      "283:\tlearn: 0.0170355\ttotal: 31.1s\tremaining: 1m 18s\n",
      "284:\tlearn: 0.0169907\ttotal: 31.2s\tremaining: 1m 18s\n",
      "285:\tlearn: 0.0168784\ttotal: 31.4s\tremaining: 1m 18s\n",
      "286:\tlearn: 0.0167581\ttotal: 31.5s\tremaining: 1m 18s\n",
      "287:\tlearn: 0.0166860\ttotal: 31.5s\tremaining: 1m 17s\n",
      "288:\tlearn: 0.0165169\ttotal: 31.6s\tremaining: 1m 17s\n",
      "289:\tlearn: 0.0163627\ttotal: 31.6s\tremaining: 1m 17s\n",
      "290:\tlearn: 0.0162938\ttotal: 31.7s\tremaining: 1m 17s\n",
      "291:\tlearn: 0.0162172\ttotal: 31.8s\tremaining: 1m 17s\n",
      "292:\tlearn: 0.0161140\ttotal: 31.9s\tremaining: 1m 16s\n",
      "293:\tlearn: 0.0160068\ttotal: 31.9s\tremaining: 1m 16s\n",
      "294:\tlearn: 0.0158758\ttotal: 32s\tremaining: 1m 16s\n",
      "295:\tlearn: 0.0157543\ttotal: 32.1s\tremaining: 1m 16s\n",
      "296:\tlearn: 0.0156882\ttotal: 32.2s\tremaining: 1m 16s\n",
      "297:\tlearn: 0.0155674\ttotal: 32.4s\tremaining: 1m 16s\n",
      "298:\tlearn: 0.0154438\ttotal: 32.5s\tremaining: 1m 16s\n",
      "299:\tlearn: 0.0153712\ttotal: 32.6s\tremaining: 1m 15s\n",
      "300:\tlearn: 0.0153709\ttotal: 32.6s\tremaining: 1m 15s\n",
      "301:\tlearn: 0.0153680\ttotal: 32.7s\tremaining: 1m 15s\n",
      "302:\tlearn: 0.0153087\ttotal: 32.8s\tremaining: 1m 15s\n",
      "303:\tlearn: 0.0152075\ttotal: 33s\tremaining: 1m 15s\n",
      "304:\tlearn: 0.0151597\ttotal: 33.1s\tremaining: 1m 15s\n",
      "305:\tlearn: 0.0150806\ttotal: 33.2s\tremaining: 1m 15s\n",
      "306:\tlearn: 0.0150003\ttotal: 33.3s\tremaining: 1m 15s\n",
      "307:\tlearn: 0.0149400\ttotal: 33.4s\tremaining: 1m 14s\n",
      "308:\tlearn: 0.0148444\ttotal: 33.5s\tremaining: 1m 14s\n",
      "309:\tlearn: 0.0147682\ttotal: 33.6s\tremaining: 1m 14s\n",
      "310:\tlearn: 0.0146948\ttotal: 33.8s\tremaining: 1m 14s\n",
      "311:\tlearn: 0.0146240\ttotal: 33.9s\tremaining: 1m 14s\n",
      "312:\tlearn: 0.0146196\ttotal: 34s\tremaining: 1m 14s\n",
      "313:\tlearn: 0.0145058\ttotal: 34.1s\tremaining: 1m 14s\n"
     ]
    },
    {
     "name": "stdout",
     "output_type": "stream",
     "text": [
      "314:\tlearn: 0.0144316\ttotal: 34.2s\tremaining: 1m 14s\n",
      "315:\tlearn: 0.0143453\ttotal: 34.3s\tremaining: 1m 14s\n",
      "316:\tlearn: 0.0142755\ttotal: 34.5s\tremaining: 1m 14s\n",
      "317:\tlearn: 0.0141154\ttotal: 34.6s\tremaining: 1m 14s\n",
      "318:\tlearn: 0.0140332\ttotal: 34.8s\tremaining: 1m 14s\n",
      "319:\tlearn: 0.0139523\ttotal: 34.9s\tremaining: 1m 14s\n",
      "320:\tlearn: 0.0138597\ttotal: 35s\tremaining: 1m 14s\n",
      "321:\tlearn: 0.0137269\ttotal: 35.1s\tremaining: 1m 13s\n",
      "322:\tlearn: 0.0135964\ttotal: 35.2s\tremaining: 1m 13s\n",
      "323:\tlearn: 0.0135456\ttotal: 35.3s\tremaining: 1m 13s\n",
      "324:\tlearn: 0.0134463\ttotal: 35.4s\tremaining: 1m 13s\n",
      "325:\tlearn: 0.0133434\ttotal: 35.5s\tremaining: 1m 13s\n",
      "326:\tlearn: 0.0133431\ttotal: 35.5s\tremaining: 1m 13s\n",
      "327:\tlearn: 0.0133404\ttotal: 35.6s\tremaining: 1m 12s\n",
      "328:\tlearn: 0.0132877\ttotal: 35.6s\tremaining: 1m 12s\n",
      "329:\tlearn: 0.0132135\ttotal: 35.7s\tremaining: 1m 12s\n",
      "330:\tlearn: 0.0131264\ttotal: 35.9s\tremaining: 1m 12s\n",
      "331:\tlearn: 0.0130601\ttotal: 36s\tremaining: 1m 12s\n",
      "332:\tlearn: 0.0129916\ttotal: 36.1s\tremaining: 1m 12s\n",
      "333:\tlearn: 0.0129384\ttotal: 36.2s\tremaining: 1m 12s\n",
      "334:\tlearn: 0.0128347\ttotal: 36.3s\tremaining: 1m 12s\n",
      "335:\tlearn: 0.0127374\ttotal: 36.4s\tremaining: 1m 11s\n",
      "336:\tlearn: 0.0126745\ttotal: 36.5s\tremaining: 1m 11s\n",
      "337:\tlearn: 0.0125831\ttotal: 36.6s\tremaining: 1m 11s\n",
      "338:\tlearn: 0.0125333\ttotal: 36.7s\tremaining: 1m 11s\n",
      "339:\tlearn: 0.0124515\ttotal: 36.9s\tremaining: 1m 11s\n",
      "340:\tlearn: 0.0123550\ttotal: 37s\tremaining: 1m 11s\n",
      "341:\tlearn: 0.0122678\ttotal: 37.1s\tremaining: 1m 11s\n",
      "342:\tlearn: 0.0121915\ttotal: 37.2s\tremaining: 1m 11s\n",
      "343:\tlearn: 0.0121358\ttotal: 37.3s\tremaining: 1m 11s\n",
      "344:\tlearn: 0.0120315\ttotal: 37.4s\tremaining: 1m 11s\n",
      "345:\tlearn: 0.0119936\ttotal: 37.5s\tremaining: 1m 10s\n",
      "346:\tlearn: 0.0119935\ttotal: 37.6s\tremaining: 1m 10s\n",
      "347:\tlearn: 0.0119412\ttotal: 37.7s\tremaining: 1m 10s\n",
      "348:\tlearn: 0.0118921\ttotal: 37.8s\tremaining: 1m 10s\n",
      "349:\tlearn: 0.0118921\ttotal: 37.9s\tremaining: 1m 10s\n",
      "350:\tlearn: 0.0118347\ttotal: 38s\tremaining: 1m 10s\n",
      "351:\tlearn: 0.0117532\ttotal: 38.1s\tremaining: 1m 10s\n",
      "352:\tlearn: 0.0116919\ttotal: 38.3s\tremaining: 1m 10s\n",
      "353:\tlearn: 0.0116052\ttotal: 38.4s\tremaining: 1m 10s\n",
      "354:\tlearn: 0.0115623\ttotal: 38.5s\tremaining: 1m 9s\n",
      "355:\tlearn: 0.0114891\ttotal: 38.6s\tremaining: 1m 9s\n",
      "356:\tlearn: 0.0114504\ttotal: 38.7s\tremaining: 1m 9s\n",
      "357:\tlearn: 0.0113967\ttotal: 38.8s\tremaining: 1m 9s\n",
      "358:\tlearn: 0.0113421\ttotal: 38.9s\tremaining: 1m 9s\n",
      "359:\tlearn: 0.0112898\ttotal: 38.9s\tremaining: 1m 9s\n",
      "360:\tlearn: 0.0112690\ttotal: 39s\tremaining: 1m 9s\n",
      "361:\tlearn: 0.0112110\ttotal: 39.1s\tremaining: 1m 8s\n",
      "362:\tlearn: 0.0111775\ttotal: 39.1s\tremaining: 1m 8s\n",
      "363:\tlearn: 0.0111097\ttotal: 39.2s\tremaining: 1m 8s\n",
      "364:\tlearn: 0.0110582\ttotal: 39.3s\tremaining: 1m 8s\n",
      "365:\tlearn: 0.0109738\ttotal: 39.4s\tremaining: 1m 8s\n",
      "366:\tlearn: 0.0108735\ttotal: 39.5s\tremaining: 1m 8s\n",
      "367:\tlearn: 0.0108303\ttotal: 39.6s\tremaining: 1m 8s\n",
      "368:\tlearn: 0.0107858\ttotal: 39.8s\tremaining: 1m 7s\n",
      "369:\tlearn: 0.0107431\ttotal: 39.9s\tremaining: 1m 7s\n",
      "370:\tlearn: 0.0106841\ttotal: 40s\tremaining: 1m 7s\n",
      "371:\tlearn: 0.0106289\ttotal: 40.1s\tremaining: 1m 7s\n",
      "372:\tlearn: 0.0105859\ttotal: 40.2s\tremaining: 1m 7s\n",
      "373:\tlearn: 0.0105353\ttotal: 40.4s\tremaining: 1m 7s\n",
      "374:\tlearn: 0.0104741\ttotal: 40.5s\tremaining: 1m 7s\n",
      "375:\tlearn: 0.0104402\ttotal: 40.6s\tremaining: 1m 7s\n",
      "376:\tlearn: 0.0103267\ttotal: 40.7s\tremaining: 1m 7s\n",
      "377:\tlearn: 0.0103266\ttotal: 40.8s\tremaining: 1m 7s\n",
      "378:\tlearn: 0.0103266\ttotal: 40.9s\tremaining: 1m 6s\n",
      "379:\tlearn: 0.0103260\ttotal: 40.9s\tremaining: 1m 6s\n",
      "380:\tlearn: 0.0102882\ttotal: 41.1s\tremaining: 1m 6s\n",
      "381:\tlearn: 0.0102335\ttotal: 41.2s\tremaining: 1m 6s\n",
      "382:\tlearn: 0.0101769\ttotal: 41.3s\tremaining: 1m 6s\n",
      "383:\tlearn: 0.0101452\ttotal: 41.4s\tremaining: 1m 6s\n",
      "384:\tlearn: 0.0100853\ttotal: 41.5s\tremaining: 1m 6s\n",
      "385:\tlearn: 0.0100852\ttotal: 41.6s\tremaining: 1m 6s\n",
      "386:\tlearn: 0.0100336\ttotal: 41.8s\tremaining: 1m 6s\n",
      "387:\tlearn: 0.0100131\ttotal: 41.9s\tremaining: 1m 6s\n",
      "388:\tlearn: 0.0099836\ttotal: 42s\tremaining: 1m 5s\n",
      "389:\tlearn: 0.0098956\ttotal: 42.1s\tremaining: 1m 5s\n",
      "390:\tlearn: 0.0098458\ttotal: 42.2s\tremaining: 1m 5s\n",
      "391:\tlearn: 0.0097937\ttotal: 42.3s\tremaining: 1m 5s\n",
      "392:\tlearn: 0.0097393\ttotal: 42.5s\tremaining: 1m 5s\n",
      "393:\tlearn: 0.0096741\ttotal: 42.6s\tremaining: 1m 5s\n",
      "394:\tlearn: 0.0096093\ttotal: 42.6s\tremaining: 1m 5s\n",
      "395:\tlearn: 0.0095533\ttotal: 42.7s\tremaining: 1m 5s\n",
      "396:\tlearn: 0.0095532\ttotal: 42.7s\tremaining: 1m 4s\n",
      "397:\tlearn: 0.0095026\ttotal: 42.8s\tremaining: 1m 4s\n",
      "398:\tlearn: 0.0095021\ttotal: 42.9s\tremaining: 1m 4s\n",
      "399:\tlearn: 0.0095019\ttotal: 42.9s\tremaining: 1m 4s\n",
      "400:\tlearn: 0.0095015\ttotal: 43s\tremaining: 1m 4s\n",
      "401:\tlearn: 0.0095012\ttotal: 43s\tremaining: 1m 4s\n",
      "402:\tlearn: 0.0095010\ttotal: 43.1s\tremaining: 1m 3s\n",
      "403:\tlearn: 0.0095007\ttotal: 43.2s\tremaining: 1m 3s\n",
      "404:\tlearn: 0.0094446\ttotal: 43.3s\tremaining: 1m 3s\n",
      "405:\tlearn: 0.0094099\ttotal: 43.4s\tremaining: 1m 3s\n",
      "406:\tlearn: 0.0093844\ttotal: 43.5s\tremaining: 1m 3s\n",
      "407:\tlearn: 0.0093843\ttotal: 43.6s\tremaining: 1m 3s\n",
      "408:\tlearn: 0.0093086\ttotal: 43.7s\tremaining: 1m 3s\n",
      "409:\tlearn: 0.0092673\ttotal: 43.9s\tremaining: 1m 3s\n",
      "410:\tlearn: 0.0092527\ttotal: 44s\tremaining: 1m 2s\n",
      "411:\tlearn: 0.0091959\ttotal: 44.1s\tremaining: 1m 2s\n",
      "412:\tlearn: 0.0091957\ttotal: 44.2s\tremaining: 1m 2s\n",
      "413:\tlearn: 0.0091461\ttotal: 44.3s\tremaining: 1m 2s\n",
      "414:\tlearn: 0.0090887\ttotal: 44.4s\tremaining: 1m 2s\n",
      "415:\tlearn: 0.0090887\ttotal: 44.5s\tremaining: 1m 2s\n",
      "416:\tlearn: 0.0090885\ttotal: 44.6s\tremaining: 1m 2s\n",
      "417:\tlearn: 0.0090885\ttotal: 44.7s\tremaining: 1m 2s\n",
      "418:\tlearn: 0.0090885\ttotal: 44.8s\tremaining: 1m 2s\n",
      "419:\tlearn: 0.0090884\ttotal: 44.9s\tremaining: 1m 1s\n",
      "420:\tlearn: 0.0090725\ttotal: 45s\tremaining: 1m 1s\n",
      "421:\tlearn: 0.0090725\ttotal: 45.1s\tremaining: 1m 1s\n",
      "422:\tlearn: 0.0090724\ttotal: 45.1s\tremaining: 1m 1s\n",
      "423:\tlearn: 0.0090724\ttotal: 45.2s\tremaining: 1m 1s\n",
      "424:\tlearn: 0.0090724\ttotal: 45.3s\tremaining: 1m 1s\n",
      "425:\tlearn: 0.0090723\ttotal: 45.4s\tremaining: 1m 1s\n",
      "426:\tlearn: 0.0090723\ttotal: 45.5s\tremaining: 1m 1s\n",
      "427:\tlearn: 0.0090723\ttotal: 45.6s\tremaining: 1m\n",
      "428:\tlearn: 0.0090722\ttotal: 45.7s\tremaining: 1m\n",
      "429:\tlearn: 0.0090722\ttotal: 45.8s\tremaining: 1m\n",
      "430:\tlearn: 0.0090722\ttotal: 45.9s\tremaining: 1m\n",
      "431:\tlearn: 0.0090721\ttotal: 46s\tremaining: 1m\n",
      "432:\tlearn: 0.0090721\ttotal: 46.1s\tremaining: 1m\n",
      "433:\tlearn: 0.0090720\ttotal: 46.2s\tremaining: 1m\n",
      "434:\tlearn: 0.0090720\ttotal: 46.3s\tremaining: 1m\n",
      "435:\tlearn: 0.0090719\ttotal: 46.4s\tremaining: 60s\n",
      "436:\tlearn: 0.0090717\ttotal: 46.4s\tremaining: 59.8s\n",
      "437:\tlearn: 0.0090716\ttotal: 46.5s\tremaining: 59.6s\n",
      "438:\tlearn: 0.0090716\ttotal: 46.5s\tremaining: 59.4s\n",
      "439:\tlearn: 0.0090715\ttotal: 46.6s\tremaining: 59.3s\n",
      "440:\tlearn: 0.0090715\ttotal: 46.6s\tremaining: 59.1s\n",
      "441:\tlearn: 0.0090714\ttotal: 46.7s\tremaining: 58.9s\n",
      "442:\tlearn: 0.0090714\ttotal: 46.7s\tremaining: 58.8s\n",
      "443:\tlearn: 0.0090714\ttotal: 46.8s\tremaining: 58.6s\n",
      "444:\tlearn: 0.0090713\ttotal: 46.9s\tremaining: 58.5s\n",
      "445:\tlearn: 0.0090713\ttotal: 47s\tremaining: 58.3s\n",
      "446:\tlearn: 0.0090712\ttotal: 47s\tremaining: 58.2s\n",
      "447:\tlearn: 0.0090712\ttotal: 47.1s\tremaining: 58s\n",
      "448:\tlearn: 0.0090711\ttotal: 47.2s\tremaining: 57.9s\n",
      "449:\tlearn: 0.0090710\ttotal: 47.3s\tremaining: 57.8s\n",
      "450:\tlearn: 0.0090708\ttotal: 47.4s\tremaining: 57.7s\n",
      "451:\tlearn: 0.0090708\ttotal: 47.5s\tremaining: 57.6s\n",
      "452:\tlearn: 0.0090707\ttotal: 47.6s\tremaining: 57.4s\n",
      "453:\tlearn: 0.0090707\ttotal: 47.6s\tremaining: 57.3s\n",
      "454:\tlearn: 0.0090706\ttotal: 47.7s\tremaining: 57.2s\n",
      "455:\tlearn: 0.0090706\ttotal: 47.8s\tremaining: 57.1s\n",
      "456:\tlearn: 0.0090706\ttotal: 47.9s\tremaining: 56.9s\n",
      "457:\tlearn: 0.0090706\ttotal: 48s\tremaining: 56.8s\n",
      "458:\tlearn: 0.0090505\ttotal: 48.1s\tremaining: 56.7s\n",
      "459:\tlearn: 0.0089963\ttotal: 48.2s\tremaining: 56.6s\n",
      "460:\tlearn: 0.0089961\ttotal: 48.3s\tremaining: 56.5s\n",
      "461:\tlearn: 0.0089570\ttotal: 48.4s\tremaining: 56.4s\n",
      "462:\tlearn: 0.0089008\ttotal: 48.5s\tremaining: 56.3s\n",
      "463:\tlearn: 0.0088629\ttotal: 48.7s\tremaining: 56.2s\n",
      "464:\tlearn: 0.0088483\ttotal: 48.8s\tremaining: 56.1s\n",
      "465:\tlearn: 0.0088162\ttotal: 48.9s\tremaining: 56s\n",
      "466:\tlearn: 0.0088162\ttotal: 49s\tremaining: 55.9s\n",
      "467:\tlearn: 0.0088162\ttotal: 49.1s\tremaining: 55.8s\n",
      "468:\tlearn: 0.0087815\ttotal: 49.2s\tremaining: 55.7s\n",
      "469:\tlearn: 0.0087787\ttotal: 49.3s\tremaining: 55.6s\n",
      "470:\tlearn: 0.0087786\ttotal: 49.4s\tremaining: 55.4s\n",
      "471:\tlearn: 0.0087786\ttotal: 49.5s\tremaining: 55.3s\n",
      "472:\tlearn: 0.0087785\ttotal: 49.6s\tremaining: 55.2s\n",
      "473:\tlearn: 0.0087782\ttotal: 49.6s\tremaining: 55.1s\n"
     ]
    },
    {
     "name": "stdout",
     "output_type": "stream",
     "text": [
      "474:\tlearn: 0.0087781\ttotal: 49.7s\tremaining: 55s\n",
      "475:\tlearn: 0.0087779\ttotal: 49.8s\tremaining: 54.8s\n",
      "476:\tlearn: 0.0087779\ttotal: 49.9s\tremaining: 54.7s\n",
      "477:\tlearn: 0.0087776\ttotal: 50s\tremaining: 54.6s\n",
      "478:\tlearn: 0.0087420\ttotal: 50.1s\tremaining: 54.5s\n",
      "479:\tlearn: 0.0087318\ttotal: 50.2s\tremaining: 54.4s\n",
      "480:\tlearn: 0.0086989\ttotal: 50.3s\tremaining: 54.3s\n",
      "481:\tlearn: 0.0086975\ttotal: 50.4s\tremaining: 54.1s\n",
      "482:\tlearn: 0.0086975\ttotal: 50.4s\tremaining: 53.9s\n",
      "483:\tlearn: 0.0086617\ttotal: 50.5s\tremaining: 53.8s\n",
      "484:\tlearn: 0.0086616\ttotal: 50.6s\tremaining: 53.7s\n",
      "485:\tlearn: 0.0086517\ttotal: 50.6s\tremaining: 53.6s\n",
      "486:\tlearn: 0.0086191\ttotal: 50.7s\tremaining: 53.4s\n",
      "487:\tlearn: 0.0086187\ttotal: 50.8s\tremaining: 53.3s\n",
      "488:\tlearn: 0.0086187\ttotal: 50.9s\tremaining: 53.2s\n",
      "489:\tlearn: 0.0086183\ttotal: 50.9s\tremaining: 53s\n",
      "490:\tlearn: 0.0086182\ttotal: 51s\tremaining: 52.9s\n",
      "491:\tlearn: 0.0086180\ttotal: 51.1s\tremaining: 52.8s\n",
      "492:\tlearn: 0.0086030\ttotal: 51.2s\tremaining: 52.7s\n",
      "493:\tlearn: 0.0085655\ttotal: 51.3s\tremaining: 52.6s\n",
      "494:\tlearn: 0.0085654\ttotal: 51.5s\tremaining: 52.5s\n",
      "495:\tlearn: 0.0085651\ttotal: 51.6s\tremaining: 52.4s\n",
      "496:\tlearn: 0.0085651\ttotal: 51.6s\tremaining: 52.3s\n",
      "497:\tlearn: 0.0085649\ttotal: 51.7s\tremaining: 52.2s\n",
      "498:\tlearn: 0.0085648\ttotal: 51.8s\tremaining: 52s\n",
      "499:\tlearn: 0.0085645\ttotal: 51.9s\tremaining: 51.9s\n",
      "500:\tlearn: 0.0085643\ttotal: 52s\tremaining: 51.8s\n",
      "501:\tlearn: 0.0085638\ttotal: 52.1s\tremaining: 51.7s\n",
      "502:\tlearn: 0.0085637\ttotal: 52.2s\tremaining: 51.6s\n",
      "503:\tlearn: 0.0085634\ttotal: 52.3s\tremaining: 51.5s\n",
      "504:\tlearn: 0.0084982\ttotal: 52.4s\tremaining: 51.4s\n",
      "505:\tlearn: 0.0084982\ttotal: 52.5s\tremaining: 51.3s\n",
      "506:\tlearn: 0.0084976\ttotal: 52.6s\tremaining: 51.2s\n",
      "507:\tlearn: 0.0084667\ttotal: 52.7s\tremaining: 51.1s\n",
      "508:\tlearn: 0.0084667\ttotal: 52.8s\tremaining: 51s\n",
      "509:\tlearn: 0.0084663\ttotal: 52.9s\tremaining: 50.9s\n",
      "510:\tlearn: 0.0084663\ttotal: 53s\tremaining: 50.7s\n",
      "511:\tlearn: 0.0084663\ttotal: 53.1s\tremaining: 50.6s\n",
      "512:\tlearn: 0.0084649\ttotal: 53.2s\tremaining: 50.5s\n",
      "513:\tlearn: 0.0084648\ttotal: 53.3s\tremaining: 50.4s\n",
      "514:\tlearn: 0.0084645\ttotal: 53.4s\tremaining: 50.3s\n",
      "515:\tlearn: 0.0084644\ttotal: 53.5s\tremaining: 50.2s\n",
      "516:\tlearn: 0.0084643\ttotal: 53.6s\tremaining: 50s\n",
      "517:\tlearn: 0.0084642\ttotal: 53.7s\tremaining: 49.9s\n",
      "518:\tlearn: 0.0084641\ttotal: 53.7s\tremaining: 49.8s\n",
      "519:\tlearn: 0.0084640\ttotal: 53.8s\tremaining: 49.7s\n",
      "520:\tlearn: 0.0084639\ttotal: 53.9s\tremaining: 49.6s\n",
      "521:\tlearn: 0.0084629\ttotal: 54s\tremaining: 49.5s\n",
      "522:\tlearn: 0.0084628\ttotal: 54.1s\tremaining: 49.3s\n",
      "523:\tlearn: 0.0084627\ttotal: 54.2s\tremaining: 49.2s\n",
      "524:\tlearn: 0.0084625\ttotal: 54.3s\tremaining: 49.1s\n",
      "525:\tlearn: 0.0084624\ttotal: 54.3s\tremaining: 48.9s\n",
      "526:\tlearn: 0.0084619\ttotal: 54.3s\tremaining: 48.7s\n",
      "527:\tlearn: 0.0084269\ttotal: 54.4s\tremaining: 48.6s\n",
      "528:\tlearn: 0.0083758\ttotal: 54.5s\tremaining: 48.5s\n",
      "529:\tlearn: 0.0083756\ttotal: 54.5s\tremaining: 48.4s\n",
      "530:\tlearn: 0.0083328\ttotal: 54.6s\tremaining: 48.2s\n",
      "531:\tlearn: 0.0083324\ttotal: 54.7s\tremaining: 48.1s\n",
      "532:\tlearn: 0.0082906\ttotal: 54.8s\tremaining: 48s\n",
      "533:\tlearn: 0.0082386\ttotal: 54.9s\tremaining: 47.9s\n",
      "534:\tlearn: 0.0082384\ttotal: 54.9s\tremaining: 47.8s\n",
      "535:\tlearn: 0.0082380\ttotal: 55s\tremaining: 47.6s\n",
      "536:\tlearn: 0.0082379\ttotal: 55.1s\tremaining: 47.5s\n",
      "537:\tlearn: 0.0082379\ttotal: 55.2s\tremaining: 47.4s\n",
      "538:\tlearn: 0.0082374\ttotal: 55.3s\tremaining: 47.3s\n",
      "539:\tlearn: 0.0082374\ttotal: 55.3s\tremaining: 47.1s\n",
      "540:\tlearn: 0.0082373\ttotal: 55.4s\tremaining: 47s\n",
      "541:\tlearn: 0.0082373\ttotal: 55.5s\tremaining: 46.9s\n",
      "542:\tlearn: 0.0082352\ttotal: 55.6s\tremaining: 46.8s\n",
      "543:\tlearn: 0.0082342\ttotal: 55.7s\tremaining: 46.7s\n",
      "544:\tlearn: 0.0082341\ttotal: 55.7s\tremaining: 46.5s\n",
      "545:\tlearn: 0.0082338\ttotal: 55.8s\tremaining: 46.4s\n",
      "546:\tlearn: 0.0082077\ttotal: 55.9s\tremaining: 46.3s\n",
      "547:\tlearn: 0.0082073\ttotal: 56s\tremaining: 46.2s\n",
      "548:\tlearn: 0.0081847\ttotal: 56.1s\tremaining: 46.1s\n",
      "549:\tlearn: 0.0081846\ttotal: 56.2s\tremaining: 46s\n",
      "550:\tlearn: 0.0081841\ttotal: 56.3s\tremaining: 45.9s\n",
      "551:\tlearn: 0.0081839\ttotal: 56.4s\tremaining: 45.8s\n",
      "552:\tlearn: 0.0081837\ttotal: 56.5s\tremaining: 45.7s\n",
      "553:\tlearn: 0.0081836\ttotal: 56.6s\tremaining: 45.6s\n",
      "554:\tlearn: 0.0081835\ttotal: 56.7s\tremaining: 45.5s\n",
      "555:\tlearn: 0.0081835\ttotal: 56.8s\tremaining: 45.3s\n",
      "556:\tlearn: 0.0081575\ttotal: 56.9s\tremaining: 45.2s\n",
      "557:\tlearn: 0.0081571\ttotal: 57s\tremaining: 45.1s\n",
      "558:\tlearn: 0.0081569\ttotal: 57.1s\tremaining: 45s\n",
      "559:\tlearn: 0.0081567\ttotal: 57.1s\tremaining: 44.9s\n",
      "560:\tlearn: 0.0081564\ttotal: 57.2s\tremaining: 44.8s\n",
      "561:\tlearn: 0.0081562\ttotal: 57.3s\tremaining: 44.7s\n",
      "562:\tlearn: 0.0081459\ttotal: 57.4s\tremaining: 44.6s\n",
      "563:\tlearn: 0.0081455\ttotal: 57.5s\tremaining: 44.5s\n",
      "564:\tlearn: 0.0081452\ttotal: 57.6s\tremaining: 44.4s\n",
      "565:\tlearn: 0.0081451\ttotal: 57.7s\tremaining: 44.2s\n",
      "566:\tlearn: 0.0081451\ttotal: 57.7s\tremaining: 44.1s\n",
      "567:\tlearn: 0.0081450\ttotal: 57.8s\tremaining: 43.9s\n",
      "568:\tlearn: 0.0081449\ttotal: 57.8s\tremaining: 43.8s\n",
      "569:\tlearn: 0.0081447\ttotal: 57.9s\tremaining: 43.7s\n",
      "570:\tlearn: 0.0081438\ttotal: 57.9s\tremaining: 43.5s\n",
      "571:\tlearn: 0.0081438\ttotal: 58s\tremaining: 43.4s\n",
      "572:\tlearn: 0.0081437\ttotal: 58.1s\tremaining: 43.3s\n",
      "573:\tlearn: 0.0081436\ttotal: 58.1s\tremaining: 43.1s\n",
      "574:\tlearn: 0.0081435\ttotal: 58.2s\tremaining: 43s\n",
      "575:\tlearn: 0.0081435\ttotal: 58.2s\tremaining: 42.9s\n",
      "576:\tlearn: 0.0081433\ttotal: 58.3s\tremaining: 42.8s\n",
      "577:\tlearn: 0.0081430\ttotal: 58.4s\tremaining: 42.7s\n",
      "578:\tlearn: 0.0081427\ttotal: 58.5s\tremaining: 42.6s\n",
      "579:\tlearn: 0.0081426\ttotal: 58.6s\tremaining: 42.4s\n",
      "580:\tlearn: 0.0081425\ttotal: 58.7s\tremaining: 42.3s\n",
      "581:\tlearn: 0.0081425\ttotal: 58.8s\tremaining: 42.2s\n",
      "582:\tlearn: 0.0081424\ttotal: 58.9s\tremaining: 42.1s\n",
      "583:\tlearn: 0.0081108\ttotal: 59s\tremaining: 42s\n",
      "584:\tlearn: 0.0081107\ttotal: 59.1s\tremaining: 41.9s\n",
      "585:\tlearn: 0.0081106\ttotal: 59.2s\tremaining: 41.8s\n",
      "586:\tlearn: 0.0081103\ttotal: 59.3s\tremaining: 41.7s\n",
      "587:\tlearn: 0.0081102\ttotal: 59.4s\tremaining: 41.6s\n",
      "588:\tlearn: 0.0080819\ttotal: 59.5s\tremaining: 41.5s\n",
      "589:\tlearn: 0.0080344\ttotal: 59.6s\tremaining: 41.4s\n",
      "590:\tlearn: 0.0080342\ttotal: 59.7s\tremaining: 41.3s\n",
      "591:\tlearn: 0.0080341\ttotal: 59.8s\tremaining: 41.2s\n",
      "592:\tlearn: 0.0080341\ttotal: 59.9s\tremaining: 41.1s\n",
      "593:\tlearn: 0.0080336\ttotal: 1m\tremaining: 41s\n",
      "594:\tlearn: 0.0080335\ttotal: 1m\tremaining: 40.9s\n",
      "595:\tlearn: 0.0080335\ttotal: 1m\tremaining: 40.7s\n",
      "596:\tlearn: 0.0080334\ttotal: 1m\tremaining: 40.6s\n",
      "597:\tlearn: 0.0079907\ttotal: 1m\tremaining: 40.5s\n",
      "598:\tlearn: 0.0079906\ttotal: 1m\tremaining: 40.4s\n",
      "599:\tlearn: 0.0079903\ttotal: 1m\tremaining: 40.3s\n",
      "600:\tlearn: 0.0079902\ttotal: 1m\tremaining: 40.2s\n",
      "601:\tlearn: 0.0079901\ttotal: 1m\tremaining: 40.1s\n",
      "602:\tlearn: 0.0079899\ttotal: 1m\tremaining: 40s\n",
      "603:\tlearn: 0.0079896\ttotal: 1m\tremaining: 39.9s\n",
      "604:\tlearn: 0.0079891\ttotal: 1m\tremaining: 39.8s\n",
      "605:\tlearn: 0.0079890\ttotal: 1m 1s\tremaining: 39.7s\n",
      "606:\tlearn: 0.0079889\ttotal: 1m 1s\tremaining: 39.6s\n",
      "607:\tlearn: 0.0079887\ttotal: 1m 1s\tremaining: 39.5s\n",
      "608:\tlearn: 0.0079685\ttotal: 1m 1s\tremaining: 39.3s\n",
      "609:\tlearn: 0.0079377\ttotal: 1m 1s\tremaining: 39.2s\n",
      "610:\tlearn: 0.0079376\ttotal: 1m 1s\tremaining: 39.1s\n",
      "611:\tlearn: 0.0079375\ttotal: 1m 1s\tremaining: 38.9s\n",
      "612:\tlearn: 0.0079374\ttotal: 1m 1s\tremaining: 38.8s\n",
      "613:\tlearn: 0.0079372\ttotal: 1m 1s\tremaining: 38.7s\n",
      "614:\tlearn: 0.0079368\ttotal: 1m 1s\tremaining: 38.6s\n",
      "615:\tlearn: 0.0079368\ttotal: 1m 1s\tremaining: 38.4s\n",
      "616:\tlearn: 0.0079364\ttotal: 1m 1s\tremaining: 38.3s\n",
      "617:\tlearn: 0.0079363\ttotal: 1m 1s\tremaining: 38.2s\n",
      "618:\tlearn: 0.0079362\ttotal: 1m 1s\tremaining: 38.1s\n",
      "619:\tlearn: 0.0079359\ttotal: 1m 1s\tremaining: 38s\n",
      "620:\tlearn: 0.0079357\ttotal: 1m 2s\tremaining: 37.9s\n",
      "621:\tlearn: 0.0079357\ttotal: 1m 2s\tremaining: 37.8s\n",
      "622:\tlearn: 0.0079357\ttotal: 1m 2s\tremaining: 37.7s\n",
      "623:\tlearn: 0.0079355\ttotal: 1m 2s\tremaining: 37.6s\n",
      "624:\tlearn: 0.0079353\ttotal: 1m 2s\tremaining: 37.5s\n",
      "625:\tlearn: 0.0079353\ttotal: 1m 2s\tremaining: 37.3s\n",
      "626:\tlearn: 0.0079351\ttotal: 1m 2s\tremaining: 37.2s\n",
      "627:\tlearn: 0.0079349\ttotal: 1m 2s\tremaining: 37.1s\n",
      "628:\tlearn: 0.0079348\ttotal: 1m 2s\tremaining: 37s\n",
      "629:\tlearn: 0.0079347\ttotal: 1m 2s\tremaining: 36.9s\n",
      "630:\tlearn: 0.0079346\ttotal: 1m 2s\tremaining: 36.8s\n",
      "631:\tlearn: 0.0079346\ttotal: 1m 3s\tremaining: 36.7s\n",
      "632:\tlearn: 0.0079345\ttotal: 1m 3s\tremaining: 36.6s\n",
      "633:\tlearn: 0.0079345\ttotal: 1m 3s\tremaining: 36.5s\n"
     ]
    },
    {
     "name": "stdout",
     "output_type": "stream",
     "text": [
      "634:\tlearn: 0.0079344\ttotal: 1m 3s\tremaining: 36.4s\n",
      "635:\tlearn: 0.0079344\ttotal: 1m 3s\tremaining: 36.3s\n",
      "636:\tlearn: 0.0079341\ttotal: 1m 3s\tremaining: 36.2s\n",
      "637:\tlearn: 0.0079133\ttotal: 1m 3s\tremaining: 36.1s\n",
      "638:\tlearn: 0.0079133\ttotal: 1m 3s\tremaining: 36s\n",
      "639:\tlearn: 0.0079132\ttotal: 1m 3s\tremaining: 35.9s\n",
      "640:\tlearn: 0.0079131\ttotal: 1m 3s\tremaining: 35.8s\n",
      "641:\tlearn: 0.0079130\ttotal: 1m 3s\tremaining: 35.7s\n",
      "642:\tlearn: 0.0079129\ttotal: 1m 4s\tremaining: 35.5s\n",
      "643:\tlearn: 0.0079128\ttotal: 1m 4s\tremaining: 35.4s\n",
      "644:\tlearn: 0.0079128\ttotal: 1m 4s\tremaining: 35.3s\n",
      "645:\tlearn: 0.0079127\ttotal: 1m 4s\tremaining: 35.2s\n",
      "646:\tlearn: 0.0079127\ttotal: 1m 4s\tremaining: 35.1s\n",
      "647:\tlearn: 0.0079126\ttotal: 1m 4s\tremaining: 35s\n",
      "648:\tlearn: 0.0079126\ttotal: 1m 4s\tremaining: 34.9s\n",
      "649:\tlearn: 0.0079125\ttotal: 1m 4s\tremaining: 34.8s\n",
      "650:\tlearn: 0.0079124\ttotal: 1m 4s\tremaining: 34.7s\n",
      "651:\tlearn: 0.0079124\ttotal: 1m 4s\tremaining: 34.6s\n",
      "652:\tlearn: 0.0079123\ttotal: 1m 4s\tremaining: 34.5s\n",
      "653:\tlearn: 0.0079122\ttotal: 1m 4s\tremaining: 34.3s\n",
      "654:\tlearn: 0.0079122\ttotal: 1m 4s\tremaining: 34.2s\n",
      "655:\tlearn: 0.0079121\ttotal: 1m 4s\tremaining: 34.1s\n",
      "656:\tlearn: 0.0079120\ttotal: 1m 5s\tremaining: 34s\n",
      "657:\tlearn: 0.0079120\ttotal: 1m 5s\tremaining: 33.8s\n",
      "658:\tlearn: 0.0079120\ttotal: 1m 5s\tremaining: 33.7s\n",
      "659:\tlearn: 0.0079119\ttotal: 1m 5s\tremaining: 33.6s\n",
      "660:\tlearn: 0.0079119\ttotal: 1m 5s\tremaining: 33.5s\n",
      "661:\tlearn: 0.0079116\ttotal: 1m 5s\tremaining: 33.4s\n",
      "662:\tlearn: 0.0079115\ttotal: 1m 5s\tremaining: 33.3s\n",
      "663:\tlearn: 0.0079115\ttotal: 1m 5s\tremaining: 33.2s\n",
      "664:\tlearn: 0.0079114\ttotal: 1m 5s\tremaining: 33.1s\n",
      "665:\tlearn: 0.0079112\ttotal: 1m 5s\tremaining: 33s\n",
      "666:\tlearn: 0.0079110\ttotal: 1m 5s\tremaining: 32.9s\n",
      "667:\tlearn: 0.0079110\ttotal: 1m 5s\tremaining: 32.8s\n",
      "668:\tlearn: 0.0079109\ttotal: 1m 6s\tremaining: 32.7s\n",
      "669:\tlearn: 0.0079109\ttotal: 1m 6s\tremaining: 32.6s\n",
      "670:\tlearn: 0.0079109\ttotal: 1m 6s\tremaining: 32.5s\n",
      "671:\tlearn: 0.0079107\ttotal: 1m 6s\tremaining: 32.4s\n",
      "672:\tlearn: 0.0079105\ttotal: 1m 6s\tremaining: 32.3s\n",
      "673:\tlearn: 0.0079104\ttotal: 1m 6s\tremaining: 32.1s\n",
      "674:\tlearn: 0.0079104\ttotal: 1m 6s\tremaining: 32.1s\n",
      "675:\tlearn: 0.0079104\ttotal: 1m 6s\tremaining: 32s\n",
      "676:\tlearn: 0.0079103\ttotal: 1m 6s\tremaining: 31.9s\n",
      "677:\tlearn: 0.0079103\ttotal: 1m 6s\tremaining: 31.8s\n",
      "678:\tlearn: 0.0079103\ttotal: 1m 6s\tremaining: 31.7s\n",
      "679:\tlearn: 0.0079101\ttotal: 1m 7s\tremaining: 31.6s\n",
      "680:\tlearn: 0.0079101\ttotal: 1m 7s\tremaining: 31.5s\n",
      "681:\tlearn: 0.0079100\ttotal: 1m 7s\tremaining: 31.4s\n",
      "682:\tlearn: 0.0079100\ttotal: 1m 7s\tremaining: 31.3s\n",
      "683:\tlearn: 0.0079098\ttotal: 1m 7s\tremaining: 31.2s\n",
      "684:\tlearn: 0.0079097\ttotal: 1m 7s\tremaining: 31.1s\n",
      "685:\tlearn: 0.0079097\ttotal: 1m 7s\tremaining: 31s\n",
      "686:\tlearn: 0.0079096\ttotal: 1m 7s\tremaining: 30.9s\n",
      "687:\tlearn: 0.0079095\ttotal: 1m 7s\tremaining: 30.8s\n",
      "688:\tlearn: 0.0079095\ttotal: 1m 8s\tremaining: 30.7s\n",
      "689:\tlearn: 0.0079095\ttotal: 1m 8s\tremaining: 30.6s\n",
      "690:\tlearn: 0.0079090\ttotal: 1m 8s\tremaining: 30.5s\n",
      "691:\tlearn: 0.0079090\ttotal: 1m 8s\tremaining: 30.4s\n",
      "692:\tlearn: 0.0079089\ttotal: 1m 8s\tremaining: 30.3s\n",
      "693:\tlearn: 0.0079089\ttotal: 1m 8s\tremaining: 30.1s\n",
      "694:\tlearn: 0.0079074\ttotal: 1m 8s\tremaining: 30s\n",
      "695:\tlearn: 0.0079074\ttotal: 1m 8s\tremaining: 29.9s\n",
      "696:\tlearn: 0.0079073\ttotal: 1m 8s\tremaining: 29.8s\n",
      "697:\tlearn: 0.0079070\ttotal: 1m 8s\tremaining: 29.7s\n",
      "698:\tlearn: 0.0079068\ttotal: 1m 8s\tremaining: 29.6s\n",
      "699:\tlearn: 0.0079068\ttotal: 1m 8s\tremaining: 29.4s\n",
      "700:\tlearn: 0.0079068\ttotal: 1m 8s\tremaining: 29.3s\n",
      "701:\tlearn: 0.0079067\ttotal: 1m 8s\tremaining: 29.2s\n",
      "702:\tlearn: 0.0079055\ttotal: 1m 8s\tremaining: 29.1s\n",
      "703:\tlearn: 0.0079055\ttotal: 1m 9s\tremaining: 29s\n",
      "704:\tlearn: 0.0079055\ttotal: 1m 9s\tremaining: 28.9s\n",
      "705:\tlearn: 0.0079054\ttotal: 1m 9s\tremaining: 28.8s\n",
      "706:\tlearn: 0.0078899\ttotal: 1m 9s\tremaining: 28.7s\n",
      "707:\tlearn: 0.0078325\ttotal: 1m 9s\tremaining: 28.6s\n",
      "708:\tlearn: 0.0078324\ttotal: 1m 9s\tremaining: 28.5s\n",
      "709:\tlearn: 0.0078323\ttotal: 1m 9s\tremaining: 28.4s\n",
      "710:\tlearn: 0.0078323\ttotal: 1m 9s\tremaining: 28.3s\n",
      "711:\tlearn: 0.0078322\ttotal: 1m 9s\tremaining: 28.2s\n",
      "712:\tlearn: 0.0078322\ttotal: 1m 9s\tremaining: 28.1s\n",
      "713:\tlearn: 0.0078321\ttotal: 1m 9s\tremaining: 28s\n",
      "714:\tlearn: 0.0078320\ttotal: 1m 10s\tremaining: 27.9s\n",
      "715:\tlearn: 0.0078319\ttotal: 1m 10s\tremaining: 27.8s\n",
      "716:\tlearn: 0.0078306\ttotal: 1m 10s\tremaining: 27.7s\n",
      "717:\tlearn: 0.0078306\ttotal: 1m 10s\tremaining: 27.6s\n",
      "718:\tlearn: 0.0078305\ttotal: 1m 10s\tremaining: 27.5s\n",
      "719:\tlearn: 0.0078302\ttotal: 1m 10s\tremaining: 27.4s\n",
      "720:\tlearn: 0.0078302\ttotal: 1m 10s\tremaining: 27.3s\n",
      "721:\tlearn: 0.0078300\ttotal: 1m 10s\tremaining: 27.2s\n",
      "722:\tlearn: 0.0078300\ttotal: 1m 10s\tremaining: 27.1s\n",
      "723:\tlearn: 0.0078299\ttotal: 1m 10s\tremaining: 27s\n",
      "724:\tlearn: 0.0077903\ttotal: 1m 10s\tremaining: 26.9s\n",
      "725:\tlearn: 0.0077885\ttotal: 1m 11s\tremaining: 26.8s\n",
      "726:\tlearn: 0.0077884\ttotal: 1m 11s\tremaining: 26.7s\n",
      "727:\tlearn: 0.0077883\ttotal: 1m 11s\tremaining: 26.6s\n",
      "728:\tlearn: 0.0077883\ttotal: 1m 11s\tremaining: 26.5s\n",
      "729:\tlearn: 0.0077882\ttotal: 1m 11s\tremaining: 26.4s\n",
      "730:\tlearn: 0.0077882\ttotal: 1m 11s\tremaining: 26.3s\n",
      "731:\tlearn: 0.0077880\ttotal: 1m 11s\tremaining: 26.2s\n",
      "732:\tlearn: 0.0077866\ttotal: 1m 11s\tremaining: 26.1s\n",
      "733:\tlearn: 0.0077864\ttotal: 1m 11s\tremaining: 26s\n",
      "734:\tlearn: 0.0077863\ttotal: 1m 11s\tremaining: 25.9s\n",
      "735:\tlearn: 0.0077861\ttotal: 1m 11s\tremaining: 25.8s\n",
      "736:\tlearn: 0.0077861\ttotal: 1m 11s\tremaining: 25.7s\n",
      "737:\tlearn: 0.0077858\ttotal: 1m 12s\tremaining: 25.6s\n",
      "738:\tlearn: 0.0077857\ttotal: 1m 12s\tremaining: 25.5s\n",
      "739:\tlearn: 0.0077855\ttotal: 1m 12s\tremaining: 25.3s\n",
      "740:\tlearn: 0.0077855\ttotal: 1m 12s\tremaining: 25.2s\n",
      "741:\tlearn: 0.0077839\ttotal: 1m 12s\tremaining: 25.1s\n",
      "742:\tlearn: 0.0077828\ttotal: 1m 12s\tremaining: 25s\n",
      "743:\tlearn: 0.0077827\ttotal: 1m 12s\tremaining: 24.9s\n",
      "744:\tlearn: 0.0077827\ttotal: 1m 12s\tremaining: 24.8s\n",
      "745:\tlearn: 0.0077827\ttotal: 1m 12s\tremaining: 24.7s\n",
      "746:\tlearn: 0.0077826\ttotal: 1m 12s\tremaining: 24.6s\n",
      "747:\tlearn: 0.0077590\ttotal: 1m 12s\tremaining: 24.5s\n",
      "748:\tlearn: 0.0077578\ttotal: 1m 12s\tremaining: 24.4s\n",
      "749:\tlearn: 0.0077576\ttotal: 1m 12s\tremaining: 24.3s\n",
      "750:\tlearn: 0.0077576\ttotal: 1m 12s\tremaining: 24.2s\n",
      "751:\tlearn: 0.0077576\ttotal: 1m 13s\tremaining: 24.1s\n",
      "752:\tlearn: 0.0077575\ttotal: 1m 13s\tremaining: 24s\n",
      "753:\tlearn: 0.0077574\ttotal: 1m 13s\tremaining: 23.9s\n",
      "754:\tlearn: 0.0077565\ttotal: 1m 13s\tremaining: 23.8s\n",
      "755:\tlearn: 0.0077564\ttotal: 1m 13s\tremaining: 23.7s\n",
      "756:\tlearn: 0.0077563\ttotal: 1m 13s\tremaining: 23.6s\n",
      "757:\tlearn: 0.0077562\ttotal: 1m 13s\tremaining: 23.5s\n",
      "758:\tlearn: 0.0077561\ttotal: 1m 13s\tremaining: 23.4s\n",
      "759:\tlearn: 0.0077560\ttotal: 1m 13s\tremaining: 23.3s\n",
      "760:\tlearn: 0.0077560\ttotal: 1m 13s\tremaining: 23.2s\n",
      "761:\tlearn: 0.0077559\ttotal: 1m 13s\tremaining: 23.1s\n",
      "762:\tlearn: 0.0077559\ttotal: 1m 14s\tremaining: 23s\n",
      "763:\tlearn: 0.0077557\ttotal: 1m 14s\tremaining: 22.9s\n",
      "764:\tlearn: 0.0077553\ttotal: 1m 14s\tremaining: 22.8s\n",
      "765:\tlearn: 0.0077551\ttotal: 1m 14s\tremaining: 22.7s\n",
      "766:\tlearn: 0.0077549\ttotal: 1m 14s\tremaining: 22.6s\n",
      "767:\tlearn: 0.0077360\ttotal: 1m 14s\tremaining: 22.5s\n",
      "768:\tlearn: 0.0077360\ttotal: 1m 14s\tremaining: 22.4s\n",
      "769:\tlearn: 0.0077359\ttotal: 1m 14s\tremaining: 22.3s\n",
      "770:\tlearn: 0.0077358\ttotal: 1m 14s\tremaining: 22.2s\n",
      "771:\tlearn: 0.0077357\ttotal: 1m 14s\tremaining: 22.1s\n",
      "772:\tlearn: 0.0077356\ttotal: 1m 14s\tremaining: 22s\n",
      "773:\tlearn: 0.0077356\ttotal: 1m 15s\tremaining: 21.9s\n",
      "774:\tlearn: 0.0077355\ttotal: 1m 15s\tremaining: 21.8s\n",
      "775:\tlearn: 0.0077354\ttotal: 1m 15s\tremaining: 21.7s\n",
      "776:\tlearn: 0.0077353\ttotal: 1m 15s\tremaining: 21.6s\n",
      "777:\tlearn: 0.0077353\ttotal: 1m 15s\tremaining: 21.5s\n",
      "778:\tlearn: 0.0077351\ttotal: 1m 15s\tremaining: 21.4s\n",
      "779:\tlearn: 0.0077222\ttotal: 1m 15s\tremaining: 21.3s\n",
      "780:\tlearn: 0.0077221\ttotal: 1m 15s\tremaining: 21.2s\n",
      "781:\tlearn: 0.0077220\ttotal: 1m 15s\tremaining: 21.1s\n",
      "782:\tlearn: 0.0076902\ttotal: 1m 15s\tremaining: 21s\n",
      "783:\tlearn: 0.0076685\ttotal: 1m 15s\tremaining: 20.9s\n",
      "784:\tlearn: 0.0076683\ttotal: 1m 15s\tremaining: 20.8s\n",
      "785:\tlearn: 0.0076682\ttotal: 1m 15s\tremaining: 20.7s\n",
      "786:\tlearn: 0.0076505\ttotal: 1m 15s\tremaining: 20.6s\n",
      "787:\tlearn: 0.0076505\ttotal: 1m 16s\tremaining: 20.5s\n",
      "788:\tlearn: 0.0076408\ttotal: 1m 16s\tremaining: 20.4s\n",
      "789:\tlearn: 0.0076406\ttotal: 1m 16s\tremaining: 20.3s\n",
      "790:\tlearn: 0.0076406\ttotal: 1m 16s\tremaining: 20.2s\n"
     ]
    },
    {
     "name": "stdout",
     "output_type": "stream",
     "text": [
      "791:\tlearn: 0.0076405\ttotal: 1m 16s\tremaining: 20.1s\n",
      "792:\tlearn: 0.0076403\ttotal: 1m 16s\tremaining: 20s\n",
      "793:\tlearn: 0.0076402\ttotal: 1m 16s\tremaining: 19.9s\n",
      "794:\tlearn: 0.0076401\ttotal: 1m 16s\tremaining: 19.8s\n",
      "795:\tlearn: 0.0076400\ttotal: 1m 16s\tremaining: 19.7s\n",
      "796:\tlearn: 0.0076400\ttotal: 1m 16s\tremaining: 19.6s\n",
      "797:\tlearn: 0.0076399\ttotal: 1m 16s\tremaining: 19.5s\n",
      "798:\tlearn: 0.0076398\ttotal: 1m 17s\tremaining: 19.4s\n",
      "799:\tlearn: 0.0076397\ttotal: 1m 17s\tremaining: 19.3s\n",
      "800:\tlearn: 0.0076397\ttotal: 1m 17s\tremaining: 19.2s\n",
      "801:\tlearn: 0.0076395\ttotal: 1m 17s\tremaining: 19.1s\n",
      "802:\tlearn: 0.0076394\ttotal: 1m 17s\tremaining: 19s\n",
      "803:\tlearn: 0.0076392\ttotal: 1m 17s\tremaining: 18.9s\n",
      "804:\tlearn: 0.0076389\ttotal: 1m 17s\tremaining: 18.8s\n",
      "805:\tlearn: 0.0076388\ttotal: 1m 17s\tremaining: 18.7s\n",
      "806:\tlearn: 0.0076387\ttotal: 1m 17s\tremaining: 18.6s\n",
      "807:\tlearn: 0.0076385\ttotal: 1m 17s\tremaining: 18.5s\n",
      "808:\tlearn: 0.0076384\ttotal: 1m 18s\tremaining: 18.4s\n",
      "809:\tlearn: 0.0076384\ttotal: 1m 18s\tremaining: 18.3s\n",
      "810:\tlearn: 0.0076383\ttotal: 1m 18s\tremaining: 18.2s\n",
      "811:\tlearn: 0.0076382\ttotal: 1m 18s\tremaining: 18.1s\n",
      "812:\tlearn: 0.0076382\ttotal: 1m 18s\tremaining: 18s\n",
      "813:\tlearn: 0.0076361\ttotal: 1m 18s\tremaining: 17.9s\n",
      "814:\tlearn: 0.0076358\ttotal: 1m 18s\tremaining: 17.9s\n",
      "815:\tlearn: 0.0076358\ttotal: 1m 18s\tremaining: 17.8s\n",
      "816:\tlearn: 0.0076357\ttotal: 1m 18s\tremaining: 17.7s\n",
      "817:\tlearn: 0.0076357\ttotal: 1m 18s\tremaining: 17.6s\n",
      "818:\tlearn: 0.0076356\ttotal: 1m 19s\tremaining: 17.5s\n",
      "819:\tlearn: 0.0076354\ttotal: 1m 19s\tremaining: 17.4s\n",
      "820:\tlearn: 0.0076354\ttotal: 1m 19s\tremaining: 17.3s\n",
      "821:\tlearn: 0.0076354\ttotal: 1m 19s\tremaining: 17.2s\n",
      "822:\tlearn: 0.0076352\ttotal: 1m 19s\tremaining: 17.1s\n",
      "823:\tlearn: 0.0075936\ttotal: 1m 19s\tremaining: 17s\n",
      "824:\tlearn: 0.0075848\ttotal: 1m 19s\tremaining: 16.9s\n",
      "825:\tlearn: 0.0075847\ttotal: 1m 19s\tremaining: 16.8s\n",
      "826:\tlearn: 0.0075846\ttotal: 1m 19s\tremaining: 16.7s\n",
      "827:\tlearn: 0.0075845\ttotal: 1m 19s\tremaining: 16.6s\n",
      "828:\tlearn: 0.0075844\ttotal: 1m 19s\tremaining: 16.5s\n",
      "829:\tlearn: 0.0075843\ttotal: 1m 19s\tremaining: 16.4s\n",
      "830:\tlearn: 0.0075843\ttotal: 1m 19s\tremaining: 16.2s\n",
      "831:\tlearn: 0.0075842\ttotal: 1m 19s\tremaining: 16.1s\n",
      "832:\tlearn: 0.0075841\ttotal: 1m 20s\tremaining: 16s\n",
      "833:\tlearn: 0.0075839\ttotal: 1m 20s\tremaining: 16s\n",
      "834:\tlearn: 0.0075837\ttotal: 1m 20s\tremaining: 15.9s\n",
      "835:\tlearn: 0.0075837\ttotal: 1m 20s\tremaining: 15.8s\n",
      "836:\tlearn: 0.0075837\ttotal: 1m 20s\tremaining: 15.7s\n",
      "837:\tlearn: 0.0075837\ttotal: 1m 20s\tremaining: 15.6s\n",
      "838:\tlearn: 0.0075836\ttotal: 1m 20s\tremaining: 15.5s\n",
      "839:\tlearn: 0.0075835\ttotal: 1m 20s\tremaining: 15.4s\n",
      "840:\tlearn: 0.0075835\ttotal: 1m 20s\tremaining: 15.3s\n",
      "841:\tlearn: 0.0075834\ttotal: 1m 20s\tremaining: 15.2s\n",
      "842:\tlearn: 0.0075833\ttotal: 1m 21s\tremaining: 15.1s\n",
      "843:\tlearn: 0.0075833\ttotal: 1m 21s\tremaining: 15s\n",
      "844:\tlearn: 0.0075832\ttotal: 1m 21s\tremaining: 14.9s\n",
      "845:\tlearn: 0.0075832\ttotal: 1m 21s\tremaining: 14.8s\n",
      "846:\tlearn: 0.0075830\ttotal: 1m 21s\tremaining: 14.7s\n",
      "847:\tlearn: 0.0075829\ttotal: 1m 21s\tremaining: 14.6s\n",
      "848:\tlearn: 0.0075829\ttotal: 1m 21s\tremaining: 14.5s\n",
      "849:\tlearn: 0.0075824\ttotal: 1m 21s\tremaining: 14.4s\n",
      "850:\tlearn: 0.0075822\ttotal: 1m 21s\tremaining: 14.3s\n",
      "851:\tlearn: 0.0075821\ttotal: 1m 21s\tremaining: 14.2s\n",
      "852:\tlearn: 0.0075821\ttotal: 1m 22s\tremaining: 14.1s\n",
      "853:\tlearn: 0.0075820\ttotal: 1m 22s\tremaining: 14s\n",
      "854:\tlearn: 0.0075691\ttotal: 1m 22s\tremaining: 13.9s\n",
      "855:\tlearn: 0.0075690\ttotal: 1m 22s\tremaining: 13.9s\n",
      "856:\tlearn: 0.0075678\ttotal: 1m 22s\tremaining: 13.8s\n",
      "857:\tlearn: 0.0075506\ttotal: 1m 22s\tremaining: 13.7s\n",
      "858:\tlearn: 0.0075504\ttotal: 1m 22s\tremaining: 13.6s\n",
      "859:\tlearn: 0.0075220\ttotal: 1m 22s\tremaining: 13.5s\n",
      "860:\tlearn: 0.0075215\ttotal: 1m 22s\tremaining: 13.4s\n",
      "861:\tlearn: 0.0075214\ttotal: 1m 23s\tremaining: 13.3s\n",
      "862:\tlearn: 0.0075214\ttotal: 1m 23s\tremaining: 13.2s\n",
      "863:\tlearn: 0.0075213\ttotal: 1m 23s\tremaining: 13.1s\n",
      "864:\tlearn: 0.0075213\ttotal: 1m 23s\tremaining: 13s\n",
      "865:\tlearn: 0.0075026\ttotal: 1m 23s\tremaining: 12.9s\n",
      "866:\tlearn: 0.0075024\ttotal: 1m 23s\tremaining: 12.8s\n",
      "867:\tlearn: 0.0075013\ttotal: 1m 23s\tremaining: 12.7s\n",
      "868:\tlearn: 0.0075012\ttotal: 1m 23s\tremaining: 12.6s\n",
      "869:\tlearn: 0.0075011\ttotal: 1m 23s\tremaining: 12.5s\n",
      "870:\tlearn: 0.0075011\ttotal: 1m 23s\tremaining: 12.4s\n",
      "871:\tlearn: 0.0075010\ttotal: 1m 23s\tremaining: 12.3s\n",
      "872:\tlearn: 0.0075007\ttotal: 1m 23s\tremaining: 12.2s\n",
      "873:\tlearn: 0.0075006\ttotal: 1m 23s\tremaining: 12.1s\n",
      "874:\tlearn: 0.0074998\ttotal: 1m 23s\tremaining: 12s\n",
      "875:\tlearn: 0.0074998\ttotal: 1m 23s\tremaining: 11.9s\n",
      "876:\tlearn: 0.0074997\ttotal: 1m 24s\tremaining: 11.8s\n",
      "877:\tlearn: 0.0074974\ttotal: 1m 24s\tremaining: 11.7s\n",
      "878:\tlearn: 0.0074973\ttotal: 1m 24s\tremaining: 11.6s\n",
      "879:\tlearn: 0.0074972\ttotal: 1m 24s\tremaining: 11.5s\n",
      "880:\tlearn: 0.0074971\ttotal: 1m 24s\tremaining: 11.4s\n",
      "881:\tlearn: 0.0074970\ttotal: 1m 24s\tremaining: 11.3s\n",
      "882:\tlearn: 0.0074970\ttotal: 1m 24s\tremaining: 11.2s\n",
      "883:\tlearn: 0.0074970\ttotal: 1m 24s\tremaining: 11.1s\n",
      "884:\tlearn: 0.0074969\ttotal: 1m 24s\tremaining: 11s\n",
      "885:\tlearn: 0.0074968\ttotal: 1m 24s\tremaining: 10.9s\n",
      "886:\tlearn: 0.0074960\ttotal: 1m 25s\tremaining: 10.8s\n",
      "887:\tlearn: 0.0074960\ttotal: 1m 25s\tremaining: 10.7s\n",
      "888:\tlearn: 0.0074960\ttotal: 1m 25s\tremaining: 10.6s\n",
      "889:\tlearn: 0.0074959\ttotal: 1m 25s\tremaining: 10.5s\n",
      "890:\tlearn: 0.0074956\ttotal: 1m 25s\tremaining: 10.4s\n",
      "891:\tlearn: 0.0074955\ttotal: 1m 25s\tremaining: 10.3s\n",
      "892:\tlearn: 0.0074954\ttotal: 1m 25s\tremaining: 10.3s\n",
      "893:\tlearn: 0.0074953\ttotal: 1m 25s\tremaining: 10.2s\n",
      "894:\tlearn: 0.0074951\ttotal: 1m 25s\tremaining: 10.1s\n",
      "895:\tlearn: 0.0074951\ttotal: 1m 25s\tremaining: 9.96s\n",
      "896:\tlearn: 0.0074951\ttotal: 1m 25s\tremaining: 9.87s\n",
      "897:\tlearn: 0.0074948\ttotal: 1m 26s\tremaining: 9.77s\n",
      "898:\tlearn: 0.0074948\ttotal: 1m 26s\tremaining: 9.67s\n",
      "899:\tlearn: 0.0074947\ttotal: 1m 26s\tremaining: 9.58s\n",
      "900:\tlearn: 0.0074945\ttotal: 1m 26s\tremaining: 9.48s\n",
      "901:\tlearn: 0.0074943\ttotal: 1m 26s\tremaining: 9.39s\n",
      "902:\tlearn: 0.0074943\ttotal: 1m 26s\tremaining: 9.29s\n",
      "903:\tlearn: 0.0074942\ttotal: 1m 26s\tremaining: 9.2s\n",
      "904:\tlearn: 0.0074941\ttotal: 1m 26s\tremaining: 9.1s\n",
      "905:\tlearn: 0.0074937\ttotal: 1m 26s\tremaining: 9s\n",
      "906:\tlearn: 0.0074934\ttotal: 1m 26s\tremaining: 8.9s\n",
      "907:\tlearn: 0.0074932\ttotal: 1m 26s\tremaining: 8.8s\n",
      "908:\tlearn: 0.0074931\ttotal: 1m 26s\tremaining: 8.7s\n",
      "909:\tlearn: 0.0074930\ttotal: 1m 26s\tremaining: 8.6s\n",
      "910:\tlearn: 0.0074920\ttotal: 1m 27s\tremaining: 8.5s\n",
      "911:\tlearn: 0.0074919\ttotal: 1m 27s\tremaining: 8.4s\n",
      "912:\tlearn: 0.0074916\ttotal: 1m 27s\tremaining: 8.3s\n",
      "913:\tlearn: 0.0074916\ttotal: 1m 27s\tremaining: 8.21s\n",
      "914:\tlearn: 0.0074916\ttotal: 1m 27s\tremaining: 8.11s\n",
      "915:\tlearn: 0.0074907\ttotal: 1m 27s\tremaining: 8.01s\n",
      "916:\tlearn: 0.0074906\ttotal: 1m 27s\tremaining: 7.92s\n",
      "917:\tlearn: 0.0074906\ttotal: 1m 27s\tremaining: 7.82s\n",
      "918:\tlearn: 0.0074905\ttotal: 1m 27s\tremaining: 7.73s\n",
      "919:\tlearn: 0.0074905\ttotal: 1m 27s\tremaining: 7.63s\n",
      "920:\tlearn: 0.0074904\ttotal: 1m 27s\tremaining: 7.53s\n",
      "921:\tlearn: 0.0074903\ttotal: 1m 27s\tremaining: 7.44s\n",
      "922:\tlearn: 0.0074902\ttotal: 1m 28s\tremaining: 7.34s\n",
      "923:\tlearn: 0.0074901\ttotal: 1m 28s\tremaining: 7.25s\n",
      "924:\tlearn: 0.0074901\ttotal: 1m 28s\tremaining: 7.15s\n",
      "925:\tlearn: 0.0074901\ttotal: 1m 28s\tremaining: 7.06s\n",
      "926:\tlearn: 0.0074900\ttotal: 1m 28s\tremaining: 6.96s\n",
      "927:\tlearn: 0.0074900\ttotal: 1m 28s\tremaining: 6.86s\n",
      "928:\tlearn: 0.0074899\ttotal: 1m 28s\tremaining: 6.77s\n",
      "929:\tlearn: 0.0074899\ttotal: 1m 28s\tremaining: 6.67s\n",
      "930:\tlearn: 0.0074894\ttotal: 1m 28s\tremaining: 6.58s\n",
      "931:\tlearn: 0.0074894\ttotal: 1m 28s\tremaining: 6.48s\n",
      "932:\tlearn: 0.0074894\ttotal: 1m 28s\tremaining: 6.38s\n",
      "933:\tlearn: 0.0074893\ttotal: 1m 28s\tremaining: 6.29s\n",
      "934:\tlearn: 0.0074893\ttotal: 1m 29s\tremaining: 6.19s\n",
      "935:\tlearn: 0.0074891\ttotal: 1m 29s\tremaining: 6.09s\n",
      "936:\tlearn: 0.0074889\ttotal: 1m 29s\tremaining: 6s\n",
      "937:\tlearn: 0.0074889\ttotal: 1m 29s\tremaining: 5.9s\n",
      "938:\tlearn: 0.0074888\ttotal: 1m 29s\tremaining: 5.81s\n",
      "939:\tlearn: 0.0074883\ttotal: 1m 29s\tremaining: 5.71s\n",
      "940:\tlearn: 0.0074883\ttotal: 1m 29s\tremaining: 5.62s\n",
      "941:\tlearn: 0.0074613\ttotal: 1m 29s\tremaining: 5.52s\n",
      "942:\tlearn: 0.0074366\ttotal: 1m 29s\tremaining: 5.43s\n",
      "943:\tlearn: 0.0074365\ttotal: 1m 29s\tremaining: 5.33s\n",
      "944:\tlearn: 0.0074363\ttotal: 1m 29s\tremaining: 5.24s\n",
      "945:\tlearn: 0.0074362\ttotal: 1m 30s\tremaining: 5.14s\n",
      "946:\tlearn: 0.0074362\ttotal: 1m 30s\tremaining: 5.04s\n"
     ]
    },
    {
     "name": "stdout",
     "output_type": "stream",
     "text": [
      "947:\tlearn: 0.0074360\ttotal: 1m 30s\tremaining: 4.95s\n",
      "948:\tlearn: 0.0074359\ttotal: 1m 30s\tremaining: 4.85s\n",
      "949:\tlearn: 0.0074359\ttotal: 1m 30s\tremaining: 4.75s\n",
      "950:\tlearn: 0.0074357\ttotal: 1m 30s\tremaining: 4.66s\n",
      "951:\tlearn: 0.0074351\ttotal: 1m 30s\tremaining: 4.56s\n",
      "952:\tlearn: 0.0074350\ttotal: 1m 30s\tremaining: 4.46s\n",
      "953:\tlearn: 0.0074349\ttotal: 1m 30s\tremaining: 4.37s\n",
      "954:\tlearn: 0.0074348\ttotal: 1m 30s\tremaining: 4.27s\n",
      "955:\tlearn: 0.0074347\ttotal: 1m 30s\tremaining: 4.17s\n",
      "956:\tlearn: 0.0074346\ttotal: 1m 30s\tremaining: 4.08s\n",
      "957:\tlearn: 0.0074345\ttotal: 1m 30s\tremaining: 3.98s\n",
      "958:\tlearn: 0.0074344\ttotal: 1m 30s\tremaining: 3.88s\n",
      "959:\tlearn: 0.0074342\ttotal: 1m 30s\tremaining: 3.79s\n",
      "960:\tlearn: 0.0074342\ttotal: 1m 31s\tremaining: 3.69s\n",
      "961:\tlearn: 0.0074341\ttotal: 1m 31s\tremaining: 3.6s\n",
      "962:\tlearn: 0.0074339\ttotal: 1m 31s\tremaining: 3.5s\n",
      "963:\tlearn: 0.0074338\ttotal: 1m 31s\tremaining: 3.41s\n",
      "964:\tlearn: 0.0074337\ttotal: 1m 31s\tremaining: 3.31s\n",
      "965:\tlearn: 0.0074334\ttotal: 1m 31s\tremaining: 3.22s\n",
      "966:\tlearn: 0.0074333\ttotal: 1m 31s\tremaining: 3.12s\n",
      "967:\tlearn: 0.0074225\ttotal: 1m 31s\tremaining: 3.03s\n",
      "968:\tlearn: 0.0074220\ttotal: 1m 31s\tremaining: 2.94s\n",
      "969:\tlearn: 0.0074219\ttotal: 1m 31s\tremaining: 2.84s\n",
      "970:\tlearn: 0.0074216\ttotal: 1m 31s\tremaining: 2.75s\n",
      "971:\tlearn: 0.0074050\ttotal: 1m 32s\tremaining: 2.65s\n",
      "972:\tlearn: 0.0074050\ttotal: 1m 32s\tremaining: 2.56s\n",
      "973:\tlearn: 0.0074049\ttotal: 1m 32s\tremaining: 2.46s\n",
      "974:\tlearn: 0.0074048\ttotal: 1m 32s\tremaining: 2.37s\n",
      "975:\tlearn: 0.0074047\ttotal: 1m 32s\tremaining: 2.27s\n",
      "976:\tlearn: 0.0074046\ttotal: 1m 32s\tremaining: 2.18s\n",
      "977:\tlearn: 0.0074045\ttotal: 1m 32s\tremaining: 2.08s\n",
      "978:\tlearn: 0.0074044\ttotal: 1m 32s\tremaining: 1.99s\n",
      "979:\tlearn: 0.0074044\ttotal: 1m 32s\tremaining: 1.89s\n",
      "980:\tlearn: 0.0074043\ttotal: 1m 32s\tremaining: 1.8s\n",
      "981:\tlearn: 0.0074043\ttotal: 1m 32s\tremaining: 1.7s\n",
      "982:\tlearn: 0.0074042\ttotal: 1m 32s\tremaining: 1.61s\n",
      "983:\tlearn: 0.0074041\ttotal: 1m 33s\tremaining: 1.51s\n",
      "984:\tlearn: 0.0074040\ttotal: 1m 33s\tremaining: 1.42s\n",
      "985:\tlearn: 0.0074039\ttotal: 1m 33s\tremaining: 1.32s\n",
      "986:\tlearn: 0.0074038\ttotal: 1m 33s\tremaining: 1.23s\n",
      "987:\tlearn: 0.0074038\ttotal: 1m 33s\tremaining: 1.13s\n",
      "988:\tlearn: 0.0074037\ttotal: 1m 33s\tremaining: 1.04s\n",
      "989:\tlearn: 0.0074036\ttotal: 1m 33s\tremaining: 946ms\n",
      "990:\tlearn: 0.0074036\ttotal: 1m 33s\tremaining: 851ms\n",
      "991:\tlearn: 0.0074035\ttotal: 1m 33s\tremaining: 756ms\n",
      "992:\tlearn: 0.0074035\ttotal: 1m 33s\tremaining: 661ms\n",
      "993:\tlearn: 0.0074035\ttotal: 1m 33s\tremaining: 566ms\n",
      "994:\tlearn: 0.0074033\ttotal: 1m 33s\tremaining: 472ms\n",
      "995:\tlearn: 0.0074033\ttotal: 1m 33s\tremaining: 377ms\n",
      "996:\tlearn: 0.0074032\ttotal: 1m 33s\tremaining: 283ms\n",
      "997:\tlearn: 0.0074029\ttotal: 1m 34s\tremaining: 188ms\n",
      "998:\tlearn: 0.0074029\ttotal: 1m 34s\tremaining: 94.2ms\n",
      "999:\tlearn: 0.0074029\ttotal: 1m 34s\tremaining: 0us\n",
      "1.0\n"
     ]
    }
   ],
   "source": [
    "best_model = CatBoostClassifier(iterations=1000, learning_rate=1, depth=9)\n",
    "best_model.fit(X_train, y_train)\n",
    "print(round(accuracy_score(y_train, best_model.predict(X_train)), 3))"
   ]
  },
  {
   "cell_type": "code",
   "execution_count": 54,
   "metadata": {
    "scrolled": false
   },
   "outputs": [],
   "source": [
    "result = best_model.predict(X_test)\n",
    "# res_str = '['\n",
    "# for elem in result:\n",
    "#     res_str+= str(elem) + ','\n",
    "# res_str = res_str[:-1]   \n",
    "# res_str += ']'\n",
    "# print(res_str)\n",
    "# print('')"
   ]
  },
  {
   "cell_type": "code",
   "execution_count": null,
   "metadata": {},
   "outputs": [],
   "source": []
  }
 ],
 "metadata": {
  "colab": {
   "provenance": []
  },
  "kernelspec": {
   "display_name": "Python 3 (ipykernel)",
   "language": "python",
   "name": "python3"
  },
  "language_info": {
   "codemirror_mode": {
    "name": "ipython",
    "version": 3
   },
   "file_extension": ".py",
   "mimetype": "text/x-python",
   "name": "python",
   "nbconvert_exporter": "python",
   "pygments_lexer": "ipython3",
   "version": "3.11.5"
  },
  "varInspector": {
   "cols": {
    "lenName": 16,
    "lenType": 16,
    "lenVar": 40
   },
   "kernels_config": {
    "python": {
     "delete_cmd_postfix": "",
     "delete_cmd_prefix": "del ",
     "library": "var_list.py",
     "varRefreshCmd": "print(var_dic_list())"
    },
    "r": {
     "delete_cmd_postfix": ") ",
     "delete_cmd_prefix": "rm(",
     "library": "var_list.r",
     "varRefreshCmd": "cat(var_dic_list()) "
    }
   },
   "types_to_exclude": [
    "module",
    "function",
    "builtin_function_or_method",
    "instance",
    "_Feature"
   ],
   "window_display": false
  }
 },
 "nbformat": 4,
 "nbformat_minor": 1
}
